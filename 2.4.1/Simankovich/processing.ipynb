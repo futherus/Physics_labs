{
 "cells": [
  {
   "cell_type": "code",
   "execution_count": 2,
   "id": "7cd15581",
   "metadata": {},
   "outputs": [],
   "source": [
    "import numpy as np\n",
    "import pandas as pd\n",
    "import matplotlib.pyplot as plt\n",
    "import scipy as sp\n",
    "import scipy.optimize as op\n",
    "from scipy.interpolate import UnivariateSpline\n",
    "import copy "
   ]
  },
  {
   "cell_type": "code",
   "execution_count": 3,
   "id": "41868543",
   "metadata": {
    "scrolled": true
   },
   "outputs": [
    {
     "data": {
      "text/html": [
       "<div>\n",
       "<style scoped>\n",
       "    .dataframe tbody tr th:only-of-type {\n",
       "        vertical-align: middle;\n",
       "    }\n",
       "\n",
       "    .dataframe tbody tr th {\n",
       "        vertical-align: top;\n",
       "    }\n",
       "\n",
       "    .dataframe thead th {\n",
       "        text-align: right;\n",
       "    }\n",
       "</style>\n",
       "<table border=\"1\" class=\"dataframe\">\n",
       "  <thead>\n",
       "    <tr style=\"text-align: right;\">\n",
       "      <th></th>\n",
       "      <th>Tup</th>\n",
       "      <th>pup</th>\n",
       "      <th>dhup</th>\n",
       "      <th>Tdown</th>\n",
       "      <th>pdown</th>\n",
       "      <th>dhdown</th>\n",
       "    </tr>\n",
       "  </thead>\n",
       "  <tbody>\n",
       "    <tr>\n",
       "      <th>0</th>\n",
       "      <td>22.0</td>\n",
       "      <td>6460.96</td>\n",
       "      <td>47.6</td>\n",
       "      <td>15</td>\n",
       "      <td>4883.36</td>\n",
       "      <td>36.0</td>\n",
       "    </tr>\n",
       "    <tr>\n",
       "      <th>1</th>\n",
       "      <td>23.0</td>\n",
       "      <td>6569.76</td>\n",
       "      <td>48.4</td>\n",
       "      <td>16</td>\n",
       "      <td>4992.16</td>\n",
       "      <td>36.8</td>\n",
       "    </tr>\n",
       "    <tr>\n",
       "      <th>2</th>\n",
       "      <td>24.0</td>\n",
       "      <td>7032.16</td>\n",
       "      <td>51.8</td>\n",
       "      <td>17</td>\n",
       "      <td>5372.96</td>\n",
       "      <td>39.6</td>\n",
       "    </tr>\n",
       "    <tr>\n",
       "      <th>3</th>\n",
       "      <td>25.0</td>\n",
       "      <td>7521.76</td>\n",
       "      <td>55.4</td>\n",
       "      <td>18</td>\n",
       "      <td>5563.36</td>\n",
       "      <td>41.0</td>\n",
       "    </tr>\n",
       "    <tr>\n",
       "      <th>4</th>\n",
       "      <td>26.0</td>\n",
       "      <td>7848.16</td>\n",
       "      <td>57.8</td>\n",
       "      <td>19</td>\n",
       "      <td>5835.36</td>\n",
       "      <td>43.0</td>\n",
       "    </tr>\n",
       "    <tr>\n",
       "      <th>5</th>\n",
       "      <td>27.0</td>\n",
       "      <td>8310.56</td>\n",
       "      <td>61.2</td>\n",
       "      <td>20</td>\n",
       "      <td>6161.76</td>\n",
       "      <td>45.4</td>\n",
       "    </tr>\n",
       "    <tr>\n",
       "      <th>6</th>\n",
       "      <td>28.0</td>\n",
       "      <td>8800.16</td>\n",
       "      <td>64.8</td>\n",
       "      <td>21</td>\n",
       "      <td>6569.76</td>\n",
       "      <td>48.4</td>\n",
       "    </tr>\n",
       "    <tr>\n",
       "      <th>7</th>\n",
       "      <td>29.0</td>\n",
       "      <td>9316.96</td>\n",
       "      <td>68.6</td>\n",
       "      <td>22</td>\n",
       "      <td>6732.96</td>\n",
       "      <td>49.6</td>\n",
       "    </tr>\n",
       "    <tr>\n",
       "      <th>8</th>\n",
       "      <td>30.0</td>\n",
       "      <td>9833.76</td>\n",
       "      <td>72.4</td>\n",
       "      <td>23</td>\n",
       "      <td>7140.96</td>\n",
       "      <td>52.6</td>\n",
       "    </tr>\n",
       "    <tr>\n",
       "      <th>9</th>\n",
       "      <td>31.0</td>\n",
       "      <td>10377.76</td>\n",
       "      <td>76.4</td>\n",
       "      <td>24</td>\n",
       "      <td>7467.36</td>\n",
       "      <td>55.0</td>\n",
       "    </tr>\n",
       "    <tr>\n",
       "      <th>10</th>\n",
       "      <td>32.0</td>\n",
       "      <td>10921.76</td>\n",
       "      <td>80.4</td>\n",
       "      <td>25</td>\n",
       "      <td>7848.16</td>\n",
       "      <td>57.8</td>\n",
       "    </tr>\n",
       "    <tr>\n",
       "      <th>11</th>\n",
       "      <td>33.0</td>\n",
       "      <td>11547.36</td>\n",
       "      <td>85.0</td>\n",
       "      <td>26</td>\n",
       "      <td>8337.76</td>\n",
       "      <td>61.4</td>\n",
       "    </tr>\n",
       "    <tr>\n",
       "      <th>12</th>\n",
       "      <td>34.0</td>\n",
       "      <td>12200.16</td>\n",
       "      <td>89.8</td>\n",
       "      <td>27</td>\n",
       "      <td>8745.76</td>\n",
       "      <td>64.4</td>\n",
       "    </tr>\n",
       "    <tr>\n",
       "      <th>13</th>\n",
       "      <td>35.0</td>\n",
       "      <td>12798.56</td>\n",
       "      <td>94.2</td>\n",
       "      <td>28</td>\n",
       "      <td>9099.36</td>\n",
       "      <td>67.0</td>\n",
       "    </tr>\n",
       "    <tr>\n",
       "      <th>14</th>\n",
       "      <td>36.0</td>\n",
       "      <td>13614.56</td>\n",
       "      <td>100.2</td>\n",
       "      <td>29</td>\n",
       "      <td>9724.96</td>\n",
       "      <td>71.6</td>\n",
       "    </tr>\n",
       "    <tr>\n",
       "      <th>15</th>\n",
       "      <td>37.0</td>\n",
       "      <td>14348.96</td>\n",
       "      <td>105.6</td>\n",
       "      <td>30</td>\n",
       "      <td>10241.76</td>\n",
       "      <td>75.4</td>\n",
       "    </tr>\n",
       "    <tr>\n",
       "      <th>16</th>\n",
       "      <td>38.0</td>\n",
       "      <td>15273.76</td>\n",
       "      <td>112.4</td>\n",
       "      <td>31</td>\n",
       "      <td>10894.56</td>\n",
       "      <td>80.2</td>\n",
       "    </tr>\n",
       "    <tr>\n",
       "      <th>17</th>\n",
       "      <td>39.0</td>\n",
       "      <td>15980.96</td>\n",
       "      <td>117.6</td>\n",
       "      <td>32</td>\n",
       "      <td>11356.96</td>\n",
       "      <td>83.6</td>\n",
       "    </tr>\n",
       "    <tr>\n",
       "      <th>18</th>\n",
       "      <td>NaN</td>\n",
       "      <td>NaN</td>\n",
       "      <td>NaN</td>\n",
       "      <td>33</td>\n",
       "      <td>11764.96</td>\n",
       "      <td>86.6</td>\n",
       "    </tr>\n",
       "    <tr>\n",
       "      <th>19</th>\n",
       "      <td>NaN</td>\n",
       "      <td>NaN</td>\n",
       "      <td>NaN</td>\n",
       "      <td>34</td>\n",
       "      <td>12662.56</td>\n",
       "      <td>93.2</td>\n",
       "    </tr>\n",
       "    <tr>\n",
       "      <th>20</th>\n",
       "      <td>NaN</td>\n",
       "      <td>NaN</td>\n",
       "      <td>NaN</td>\n",
       "      <td>35</td>\n",
       "      <td>13424.16</td>\n",
       "      <td>98.8</td>\n",
       "    </tr>\n",
       "    <tr>\n",
       "      <th>21</th>\n",
       "      <td>NaN</td>\n",
       "      <td>NaN</td>\n",
       "      <td>NaN</td>\n",
       "      <td>36</td>\n",
       "      <td>14648.16</td>\n",
       "      <td>107.8</td>\n",
       "    </tr>\n",
       "    <tr>\n",
       "      <th>22</th>\n",
       "      <td>NaN</td>\n",
       "      <td>NaN</td>\n",
       "      <td>NaN</td>\n",
       "      <td>38</td>\n",
       "      <td>15491.36</td>\n",
       "      <td>114.0</td>\n",
       "    </tr>\n",
       "  </tbody>\n",
       "</table>\n",
       "</div>"
      ],
      "text/plain": [
       "     Tup       pup   dhup  Tdown     pdown  dhdown\n",
       "0   22.0   6460.96   47.6     15   4883.36    36.0\n",
       "1   23.0   6569.76   48.4     16   4992.16    36.8\n",
       "2   24.0   7032.16   51.8     17   5372.96    39.6\n",
       "3   25.0   7521.76   55.4     18   5563.36    41.0\n",
       "4   26.0   7848.16   57.8     19   5835.36    43.0\n",
       "5   27.0   8310.56   61.2     20   6161.76    45.4\n",
       "6   28.0   8800.16   64.8     21   6569.76    48.4\n",
       "7   29.0   9316.96   68.6     22   6732.96    49.6\n",
       "8   30.0   9833.76   72.4     23   7140.96    52.6\n",
       "9   31.0  10377.76   76.4     24   7467.36    55.0\n",
       "10  32.0  10921.76   80.4     25   7848.16    57.8\n",
       "11  33.0  11547.36   85.0     26   8337.76    61.4\n",
       "12  34.0  12200.16   89.8     27   8745.76    64.4\n",
       "13  35.0  12798.56   94.2     28   9099.36    67.0\n",
       "14  36.0  13614.56  100.2     29   9724.96    71.6\n",
       "15  37.0  14348.96  105.6     30  10241.76    75.4\n",
       "16  38.0  15273.76  112.4     31  10894.56    80.2\n",
       "17  39.0  15980.96  117.6     32  11356.96    83.6\n",
       "18   NaN       NaN    NaN     33  11764.96    86.6\n",
       "19   NaN       NaN    NaN     34  12662.56    93.2\n",
       "20   NaN       NaN    NaN     35  13424.16    98.8\n",
       "21   NaN       NaN    NaN     36  14648.16   107.8\n",
       "22   NaN       NaN    NaN     38  15491.36   114.0"
      ]
     },
     "execution_count": 3,
     "metadata": {},
     "output_type": "execute_result"
    }
   ],
   "source": [
    "data = pd.read_excel(\"241.ods\", engine='odf', nrows=24, usecols=\"A:F\")\n",
    "data.head(24)"
   ]
  },
  {
   "cell_type": "code",
   "execution_count": 4,
   "id": "1381ddbf",
   "metadata": {},
   "outputs": [],
   "source": [
    "def lin_plot(x, y, color, marker = '.'):\n",
    "    coeffs = np.polyfit(x, y, 1)\n",
    "    equ = lambda x: coeffs[0] * x + coeffs[1]\n",
    "    \n",
    "    # plt.scatter(x, y, marker=marker, color = color)\n",
    "    x_space = np.linspace(min(x)/1.01, max(x)*1.01, 100)\n",
    "    plt.plot(x_space, equ(x_space), color = color)"
   ]
  },
  {
   "cell_type": "code",
   "execution_count": 5,
   "id": "1f31a2a4",
   "metadata": {},
   "outputs": [
    {
     "name": "stdout",
     "output_type": "stream",
     "text": [
      "18\n",
      "17\n"
     ]
    }
   ],
   "source": [
    "T_up   = np.array(273 + data['Tup'].dropna())\n",
    "T_dw   = np.array(273 + data['Tdown'].dropna())\n",
    "p_up   = np.array(data['pup'].dropna())\n",
    "p_dw   = np.array(data['pdown'].dropna())\n",
    "\n",
    "inv_T_up   = 1/T_up\n",
    "inv_T_dw   = 1/T_dw\n",
    "ln_p_up    = np.log(p_up)\n",
    "ln_p_dw    = np.log(p_dw)\n",
    "\n",
    "dpdT_up = (np.delete(np.roll(p_up, -1), p_up.size - 1) - np.delete(np.roll(p_up, 0), p_up.size - 1)) \\\n",
    "        / (np.delete(np.roll(T_up, -1), T_up.size - 1) - np.delete(np.roll(T_up, 0), T_up.size - 1)) \n",
    "dpdT_dw = (np.delete(np.roll(p_dw, -1), p_dw.size - 1) - np.delete(np.roll(p_dw, 0), p_dw.size - 1)) \\\n",
    "        / (np.delete(np.roll(T_dw, -1), T_dw.size - 1) - np.delete(np.roll(T_dw, 0), T_dw.size - 1)) \n",
    "P_T2_up = p_up[:p_up.size - 1]/((T_up[:T_up.size - 1])**2)\n",
    "P_T2_dw = p_dw[:p_dw.size - 1]/((T_dw[:T_dw.size - 1])**2)\n",
    "\n",
    "print(p_up.size)\n",
    "print(dpdT_up.size)"
   ]
  },
  {
   "cell_type": "markdown",
   "id": "f1c9dc5a",
   "metadata": {},
   "source": [
    "## График P(T)"
   ]
  },
  {
   "cell_type": "code",
   "execution_count": 6,
   "id": "db163f6d",
   "metadata": {},
   "outputs": [
    {
     "data": {
      "image/png": "[encoded data removed]",
      "text/plain": [
       "<Figure size 432x288 with 1 Axes>"
      ]
     },
     "metadata": {
      "needs_background": "light"
     },
     "output_type": "display_data"
    }
   ],
   "source": [
    "x_spc = np.linspace(T_dw.min(), T_dw.max(), 100)\n",
    "spline = UnivariateSpline(T_dw, p_dw, s=1000000)\n",
    "plt.plot(x_spc, spline(x_spc), c='blue')\n",
    "\n",
    "x_spc = np.linspace(T_up.min(), T_up.max(), 100)\n",
    "spline = UnivariateSpline(T_up, p_up, s=1000000)\n",
    "plt.plot(x_spc, spline(x_spc), c='orange')\n",
    "\n",
    "plt.errorbar(T_up, p_up, yerr=100, xerr=0.2, fmt='none', c='orange', label='Нагрев', )\n",
    "plt.errorbar(T_dw, p_dw, yerr=100, xerr=0.2, fmt='none', c='blue',   label='Остывание')\n",
    "\n",
    "plt.title(\"$P \\; (T)$\")\n",
    "plt.ylabel(r\"$ P, Па$\")\n",
    "plt.xlabel(r\"$ T, K$\")\n",
    "plt.grid(True)\n",
    "plt.legend()\n",
    "\n",
    "plt.savefig(\"pic1.pdf\")"
   ]
  },
  {
   "cell_type": "markdown",
   "id": "6ab01c12",
   "metadata": {},
   "source": [
    "## ln P (1/T)"
   ]
  },
  {
   "cell_type": "code",
   "execution_count": 7,
   "id": "8a4d251b",
   "metadata": {
    "scrolled": true
   },
   "outputs": [
    {
     "data": {
      "image/png": "[encoded data removed]",
      "text/plain": [
       "<Figure size 432x288 with 1 Axes>"
      ]
     },
     "metadata": {
      "needs_background": "light"
     },
     "output_type": "display_data"
    }
   ],
   "source": [
    "lin_plot(inv_T_up, ln_p_up, color = 'orange')\n",
    "lin_plot(inv_T_dw, ln_p_dw, color = 'blue')\n",
    "\n",
    "plt.errorbar(inv_T_up, ln_p_up, xerr=0.2/(T_up**2), yerr=100/(p_up), c='orange', label='Нагрев', fmt='none')\n",
    "plt.errorbar(inv_T_dw, ln_p_dw, xerr=0.2/(T_dw**2), yerr=100/(p_dw), c='blue',   label='Остывание', fmt='none')\n",
    "\n",
    "plt.title(\"$\\ln P \\; (T^{-1})$\")\n",
    "plt.ylabel(r\"$\\ln P$\")\n",
    "plt.xlabel(r\"$T^{-1}, \\; K^{-1}$\")\n",
    "plt.grid(True)\n",
    "plt.legend()\n",
    "plt.savefig(\"pic2.pdf\")"
   ]
  },
  {
   "cell_type": "code",
   "execution_count": 8,
   "id": "1c54ebdf",
   "metadata": {},
   "outputs": [],
   "source": [
    "def least_sq(x, y):\n",
    "    sx = (x**2).mean() - (x.mean())**2\n",
    "    sy = (y**2).mean() - (y.mean())**2\n",
    "    rxy = (y*x).mean() - (y.mean() * x.mean())\n",
    "    a = rxy / sx\n",
    "    da = (1/(len(x) - 2) * (sy/sx - a**2))**(0.5)\n",
    "    b = y.mean() - a * x.mean()\n",
    "    db = da*(sx + (x.mean())**2)**(1/2)\n",
    "    dat = pd.DataFrame({\n",
    "        '$\\overline{x}$' : [x.mean()],\n",
    "        '$\\sigma_x^2$'   : [sx],\n",
    "        '$\\overline{y}$' : [y.mean()],\n",
    "        '$\\sigma_y^2$'   : [sy],\n",
    "        '$r_{xy}$'       : [rxy],\n",
    "        '$a$'            : [a],\n",
    "        '$\\Delta a$'     : [da],\n",
    "        '$b$'            : [b],\n",
    "        '$\\Delta b$'     : [db],\n",
    "    })\n",
    "    return dat, [x.mean(), sx, y.mean(), sy, rxy, a, da, b, db]"
   ]
  },
  {
   "cell_type": "code",
   "execution_count": 9,
   "id": "45d02ba5",
   "metadata": {},
   "outputs": [],
   "source": [
    "\n",
    "pt2_up = np.append(P_T2_up, 0)\n",
    "dpdt_up = np.append(dpdT_up, 0)\n",
    "pt2_dw = np.append(P_T2_dw, 0)\n",
    "dpdt_dw = np.append(dpdT_dw, 0)\n",
    "\n",
    "out = pd.DataFrame({'T' : T_up, 'p' : p_up, '1/T' : inv_T_up, 'lnp' : ln_p_up, 'P_T2' : pt2_up, 'dpdT' : dpdt_up})\n",
    "\n",
    "names = {\n",
    "    'T' : r\"$T, \\text{K}$\",\n",
    "    'p' : r\"$p, \\text{Па}$\",\n",
    "    '1/T' : r\"$\\frac{1}{T}, \\text{K}$\",\n",
    "    'lnp' : r\"$\\ln p$\",\n",
    "    'P_T2' : r\"$\\frac{p}{T^2}$\",\n",
    "    'dpdT' : r\"$\\frac{dp}{dt}$\"\n",
    "}\n",
    "\n",
    "out_fmt = {\n",
    "    names['T'] : \"{:.1f}\",\n",
    "    names['p'] : \"{:.1f}\",\n",
    "    names['1/T'] : \"{:.5f}\",\n",
    "    names['lnp'] : \"{:.3f}\",\n",
    "    names['P_T2'] : \"{:.4f}\",\n",
    "    names['dpdT'] : \"{:.2f}\",\n",
    "}\n",
    "\n",
    "latex = out.rename(\n",
    "            columns=(names)\n",
    "        ).style.hide(level=0, axis=0).format(out_fmt).to_latex(\n",
    "            buf = 'heating.tex',\n",
    "            label = 'tab:linear',\n",
    "            caption = r'Нагрев',\n",
    "            column_format=\"c\" * 6 ,\n",
    "            # position_float = 'centering',\n",
    "            hrules=True,\n",
    "            multicol_align = 'c',\n",
    "            environment = r'subtable',\n",
    "        )\n",
    "\n",
    "a_file = open(\"heating.tex\", \"r\")\n",
    "list_of_lines = a_file.readlines()\n",
    "list_of_lines[0] = r'\\begin{subtable}{0.40\\textwidth}'\n",
    "\n",
    "a_file = open(\"heating.tex\", \"w\")\n",
    "a_file.writelines(list_of_lines)\n",
    "a_file.close()\n",
    "\n",
    "out = pd.DataFrame({'T' : T_dw, 'p' : p_dw, '1/T' : inv_T_dw, 'lnp' : ln_p_dw, 'P_T2' : pt2_dw, 'dpdT' : dpdt_dw})\n",
    "\n",
    "latex = out.rename(\n",
    "            columns=(names)\n",
    "        ).style.hide(level=0, axis=0).format(out_fmt).to_latex(\n",
    "            buf = 'freezing.tex',\n",
    "            label = 'tab:linear',\n",
    "            caption = r'Охлаждение',\n",
    "            column_format=\"c\" * 6 ,\n",
    "            # position_float = 'centering',\n",
    "            hrules=True,\n",
    "            multicol_align = 'c',\n",
    "            environment = r'subtable'\n",
    "        )\n",
    "\n",
    "a_file = open(\"freezing.tex\", \"r\")\n",
    "list_of_lines = a_file.readlines()\n",
    "list_of_lines[0] = r'\\begin{subtable}{0.40\\textwidth}'\n",
    "\n",
    "a_file = open(\"freezing.tex\", \"w\")\n",
    "a_file.writelines(list_of_lines)\n",
    "a_file.close()\n"
   ]
  },
  {
   "cell_type": "code",
   "execution_count": 10,
   "id": "6c92600d",
   "metadata": {},
   "outputs": [
    {
     "name": "stdout",
     "output_type": "stream",
     "text": [
      "\\begin{tabular}{rrrrrrrrr}\n",
      "$\\overline{x}$ & $\\sigma_x^2$ & $\\overline{y}$ & $\\sigma_y^2$ & $r_{xy}$ & $a$ & $\\Delta a$ & $b$ & $\\Delta b$ \\\\\n",
      "3.30e-03 & 3.18e-09 & 9.22 & 8.01e-02 & -1.59e-05 & -5017.70 & 38.63 & 25.76 & 0.13 \\\\\n",
      "\\end{tabular}\n",
      "\n"
     ]
    },
    {
     "data": {
      "text/html": [
       "<div>\n",
       "<style scoped>\n",
       "    .dataframe tbody tr th:only-of-type {\n",
       "        vertical-align: middle;\n",
       "    }\n",
       "\n",
       "    .dataframe tbody tr th {\n",
       "        vertical-align: top;\n",
       "    }\n",
       "\n",
       "    .dataframe thead th {\n",
       "        text-align: right;\n",
       "    }\n",
       "</style>\n",
       "<table border=\"1\" class=\"dataframe\">\n",
       "  <thead>\n",
       "    <tr style=\"text-align: right;\">\n",
       "      <th></th>\n",
       "      <th>$\\overline{x}$</th>\n",
       "      <th>$\\sigma_x^2$</th>\n",
       "      <th>$\\overline{y}$</th>\n",
       "      <th>$\\sigma_y^2$</th>\n",
       "      <th>$r_{xy}$</th>\n",
       "      <th>$a$</th>\n",
       "      <th>$\\Delta a$</th>\n",
       "      <th>$b$</th>\n",
       "      <th>$\\Delta b$</th>\n",
       "    </tr>\n",
       "  </thead>\n",
       "  <tbody>\n",
       "    <tr>\n",
       "      <th>0</th>\n",
       "      <td>0.003296</td>\n",
       "      <td>3.176452e-09</td>\n",
       "      <td>9.218133</td>\n",
       "      <td>0.08005</td>\n",
       "      <td>-0.000016</td>\n",
       "      <td>-5017.696962</td>\n",
       "      <td>38.6324</td>\n",
       "      <td>25.755741</td>\n",
       "      <td>0.127345</td>\n",
       "    </tr>\n",
       "  </tbody>\n",
       "</table>\n",
       "</div>"
      ],
      "text/plain": [
       "   $\\overline{x}$  $\\sigma_x^2$  $\\overline{y}$  $\\sigma_y^2$  $r_{xy}$  \\\n",
       "0        0.003296  3.176452e-09        9.218133       0.08005 -0.000016   \n",
       "\n",
       "           $a$  $\\Delta a$        $b$  $\\Delta b$  \n",
       "0 -5017.696962     38.6324  25.755741    0.127345  "
      ]
     },
     "execution_count": 10,
     "metadata": {},
     "output_type": "execute_result"
    }
   ],
   "source": [
    "mnk_fmt = {\n",
    "        '$\\overline{x}$' : \"{:.2e}\",\n",
    "        '$\\sigma_x^2$'   : \"{:.2e}\",\n",
    "        '$\\overline{y}$' : \"{:.2f}\",\n",
    "        '$\\sigma_y^2$'   : \"{:.2e}\",\n",
    "        '$r_{xy}$'       : \"{:.2e}\",\n",
    "        '$a$'            : \"{:.2f}\",\n",
    "        '$\\Delta a$'     : \"{:.2f}\",\n",
    "        '$b$'            : \"{:.2f}\",\n",
    "        '$\\Delta b$'     : \"{:.2f}\",\n",
    "}\n",
    "\n",
    "df, dat = least_sq(inv_T_up, ln_p_up)\n",
    "\n",
    "latex = df.style.hide(level=0, axis=0).format(mnk_fmt).to_latex()\n",
    "print(latex)\n",
    "df"
   ]
  },
  {
   "cell_type": "code",
   "execution_count": 11,
   "id": "6efa8776",
   "metadata": {
    "scrolled": true
   },
   "outputs": [
    {
     "name": "stdout",
     "output_type": "stream",
     "text": [
      "\\begin{tabular}{rrrrrrrrr}\n",
      "$\\overline{x}$ & $\\sigma_x^2$ & $\\overline{y}$ & $\\sigma_y^2$ & $r_{xy}$ & $a$ & $\\Delta a$ & $b$ & $\\Delta b$ \\\\\n",
      "3.35e-03 & 5.63e-09 & 9.04 & 1.19e-01 & -2.58e-05 & -4584.45 & 56.75 & 24.37 & 0.19 \\\\\n",
      "\\end{tabular}\n",
      "\n"
     ]
    },
    {
     "data": {
      "text/html": [
       "<div>\n",
       "<style scoped>\n",
       "    .dataframe tbody tr th:only-of-type {\n",
       "        vertical-align: middle;\n",
       "    }\n",
       "\n",
       "    .dataframe tbody tr th {\n",
       "        vertical-align: top;\n",
       "    }\n",
       "\n",
       "    .dataframe thead th {\n",
       "        text-align: right;\n",
       "    }\n",
       "</style>\n",
       "<table border=\"1\" class=\"dataframe\">\n",
       "  <thead>\n",
       "    <tr style=\"text-align: right;\">\n",
       "      <th></th>\n",
       "      <th>$\\overline{x}$</th>\n",
       "      <th>$\\sigma_x^2$</th>\n",
       "      <th>$\\overline{y}$</th>\n",
       "      <th>$\\sigma_y^2$</th>\n",
       "      <th>$r_{xy}$</th>\n",
       "      <th>$a$</th>\n",
       "      <th>$\\Delta a$</th>\n",
       "      <th>$b$</th>\n",
       "      <th>$\\Delta b$</th>\n",
       "    </tr>\n",
       "  </thead>\n",
       "  <tbody>\n",
       "    <tr>\n",
       "      <th>0</th>\n",
       "      <td>0.003346</td>\n",
       "      <td>5.630038e-09</td>\n",
       "      <td>9.035668</td>\n",
       "      <td>0.118709</td>\n",
       "      <td>-0.000026</td>\n",
       "      <td>-4584.453586</td>\n",
       "      <td>56.751002</td>\n",
       "      <td>24.373774</td>\n",
       "      <td>0.189918</td>\n",
       "    </tr>\n",
       "  </tbody>\n",
       "</table>\n",
       "</div>"
      ],
      "text/plain": [
       "   $\\overline{x}$  $\\sigma_x^2$  $\\overline{y}$  $\\sigma_y^2$  $r_{xy}$  \\\n",
       "0        0.003346  5.630038e-09        9.035668      0.118709 -0.000026   \n",
       "\n",
       "           $a$  $\\Delta a$        $b$  $\\Delta b$  \n",
       "0 -4584.453586   56.751002  24.373774    0.189918  "
      ]
     },
     "execution_count": 11,
     "metadata": {},
     "output_type": "execute_result"
    }
   ],
   "source": [
    "df, dat = least_sq(inv_T_dw, ln_p_dw)\n",
    "\n",
    "latex = df.style.hide(level=0, axis=0).format(mnk_fmt).to_latex()\n",
    "print(latex)\n",
    "df"
   ]
  },
  {
   "cell_type": "code",
   "execution_count": 12,
   "id": "0f9a8745",
   "metadata": {},
   "outputs": [
    {
     "data": {
      "text/plain": [
       "906512.6086956522"
      ]
     },
     "execution_count": 12,
     "metadata": {},
     "output_type": "execute_result"
    }
   ],
   "source": [
    "8.31 / 0.046 * 5018"
   ]
  },
  {
   "cell_type": "code",
   "execution_count": 13,
   "id": "c01d6e87",
   "metadata": {},
   "outputs": [
    {
     "data": {
      "text/plain": [
       "7046.834363165239"
      ]
     },
     "execution_count": 13,
     "metadata": {},
     "output_type": "execute_result"
    }
   ],
   "source": [
    "39 / 5017 * 906512"
   ]
  },
  {
   "cell_type": "code",
   "execution_count": 14,
   "id": "b8ac297f",
   "metadata": {},
   "outputs": [
    {
     "data": {
      "text/plain": [
       "828109.5652173914"
      ]
     },
     "execution_count": 14,
     "metadata": {},
     "output_type": "execute_result"
    }
   ],
   "source": [
    "8.31 / 0.046 * 4584"
   ]
  },
  {
   "cell_type": "code",
   "execution_count": 15,
   "id": "bc1b66e4",
   "metadata": {},
   "outputs": [
    {
     "data": {
      "text/plain": [
       "10297.166884816754"
      ]
     },
     "execution_count": 15,
     "metadata": {},
     "output_type": "execute_result"
    }
   ],
   "source": [
    "57 / 4584 * 828109"
   ]
  },
  {
   "cell_type": "markdown",
   "id": "a7f50601",
   "metadata": {},
   "source": [
    "\n",
    "## dp/dT (P/T^2)"
   ]
  },
  {
   "cell_type": "code",
   "execution_count": 16,
   "id": "8598b6b2",
   "metadata": {},
   "outputs": [
    {
     "data": {
      "image/png": "[encoded data removed]",
      "text/plain": [
       "<Figure size 432x288 with 1 Axes>"
      ]
     },
     "metadata": {
      "needs_background": "light"
     },
     "output_type": "display_data"
    }
   ],
   "source": [
    "lin_plot(P_T2_up, dpdT_up, color = 'orange')\n",
    "lin_plot(P_T2_dw, dpdT_dw, color = 'blue')\n",
    "\n",
    "plt.scatter(P_T2_up, dpdT_up, c='orange', label='Нагрев',    marker='.')\n",
    "plt.scatter(P_T2_dw, dpdT_dw, c='blue',   label='Остывание', marker='.')\n",
    "\n",
    "plt.title(\"$dp/dT\\; (P/T^2)$\")\n",
    "plt.ylabel(r\"$dp/dT, Па/К$\")\n",
    "plt.xlabel(r\"$P/T^{2}, \\; Па/K^{2}$\")\n",
    "plt.grid(True)\n",
    "plt.legend()\n",
    "plt.savefig(\"pic3.pdf\")"
   ]
  },
  {
   "cell_type": "code",
   "execution_count": 17,
   "id": "03ca9d7b",
   "metadata": {},
   "outputs": [
    {
     "name": "stdout",
     "output_type": "stream",
     "text": [
      "\\begin{tabular}{rrrrrrrrr}\n",
      "$\\overline{x}$ & $\\sigma_x^2$ & $\\overline{y}$ & $\\sigma_y^2$ & $r_{xy}$ & $a$ & $\\Delta a$ & $b$ & $\\Delta b$ \\\\\n",
      "1.10e-01 & 6.61e-04 & 560.00 & 3.27e+04 & 3.99e+00 & 6033.97 & 934.11 & -102.80 & 105.38 \\\\\n",
      "\\end{tabular}\n",
      "\n"
     ]
    },
    {
     "data": {
      "text/html": [
       "<div>\n",
       "<style scoped>\n",
       "    .dataframe tbody tr th:only-of-type {\n",
       "        vertical-align: middle;\n",
       "    }\n",
       "\n",
       "    .dataframe tbody tr th {\n",
       "        vertical-align: top;\n",
       "    }\n",
       "\n",
       "    .dataframe thead th {\n",
       "        text-align: right;\n",
       "    }\n",
       "</style>\n",
       "<table border=\"1\" class=\"dataframe\">\n",
       "  <thead>\n",
       "    <tr style=\"text-align: right;\">\n",
       "      <th></th>\n",
       "      <th>$\\overline{x}$</th>\n",
       "      <th>$\\sigma_x^2$</th>\n",
       "      <th>$\\overline{y}$</th>\n",
       "      <th>$\\sigma_y^2$</th>\n",
       "      <th>$r_{xy}$</th>\n",
       "      <th>$a$</th>\n",
       "      <th>$\\Delta a$</th>\n",
       "      <th>$b$</th>\n",
       "      <th>$\\Delta b$</th>\n",
       "    </tr>\n",
       "  </thead>\n",
       "  <tbody>\n",
       "    <tr>\n",
       "      <th>0</th>\n",
       "      <td>0.109845</td>\n",
       "      <td>0.000661</td>\n",
       "      <td>560.0</td>\n",
       "      <td>32732.16</td>\n",
       "      <td>3.990219</td>\n",
       "      <td>6033.96675</td>\n",
       "      <td>934.111495</td>\n",
       "      <td>-102.803629</td>\n",
       "      <td>105.382143</td>\n",
       "    </tr>\n",
       "  </tbody>\n",
       "</table>\n",
       "</div>"
      ],
      "text/plain": [
       "   $\\overline{x}$  $\\sigma_x^2$  $\\overline{y}$  $\\sigma_y^2$  $r_{xy}$  \\\n",
       "0        0.109845      0.000661           560.0      32732.16  3.990219   \n",
       "\n",
       "          $a$  $\\Delta a$         $b$  $\\Delta b$  \n",
       "0  6033.96675  934.111495 -102.803629  105.382143  "
      ]
     },
     "execution_count": 17,
     "metadata": {},
     "output_type": "execute_result"
    }
   ],
   "source": [
    "mnk_fmt = {\n",
    "        '$\\overline{x}$' : \"{:.2e}\",\n",
    "        '$\\sigma_x^2$'   : \"{:.2e}\",\n",
    "        '$\\overline{y}$' : \"{:.2f}\",\n",
    "        '$\\sigma_y^2$'   : \"{:.2e}\",\n",
    "        '$r_{xy}$'       : \"{:.2e}\",\n",
    "        '$a$'            : \"{:.2f}\",\n",
    "        '$\\Delta a$'     : \"{:.2f}\",\n",
    "        '$b$'            : \"{:.2f}\",\n",
    "        '$\\Delta b$'     : \"{:.2f}\",\n",
    "}\n",
    "\n",
    "df, dat = least_sq(P_T2_up, dpdT_up)\n",
    "\n",
    "latex = df.style.hide(level=0, axis=0).format(mnk_fmt).to_latex()\n",
    "print(latex)\n",
    "df"
   ]
  },
  {
   "cell_type": "code",
   "execution_count": 18,
   "id": "95c93e2b",
   "metadata": {},
   "outputs": [
    {
     "name": "stdout",
     "output_type": "stream",
     "text": [
      "\\begin{tabular}{rrrrrrrrr}\n",
      "$\\overline{x}$ & $\\sigma_x^2$ & $\\overline{y}$ & $\\sigma_y^2$ & $r_{xy}$ & $a$ & $\\Delta a$ & $b$ & $\\Delta b$ \\\\\n",
      "9.55e-02 & 7.45e-04 & 463.02 & 6.03e+04 & 4.77e+00 & 6402.78 & 1413.03 & -148.24 & 140.30 \\\\\n",
      "\\end{tabular}\n",
      "\n"
     ]
    },
    {
     "data": {
      "text/html": [
       "<div>\n",
       "<style scoped>\n",
       "    .dataframe tbody tr th:only-of-type {\n",
       "        vertical-align: middle;\n",
       "    }\n",
       "\n",
       "    .dataframe tbody tr th {\n",
       "        vertical-align: top;\n",
       "    }\n",
       "\n",
       "    .dataframe thead th {\n",
       "        text-align: right;\n",
       "    }\n",
       "</style>\n",
       "<table border=\"1\" class=\"dataframe\">\n",
       "  <thead>\n",
       "    <tr style=\"text-align: right;\">\n",
       "      <th></th>\n",
       "      <th>$\\overline{x}$</th>\n",
       "      <th>$\\sigma_x^2$</th>\n",
       "      <th>$\\overline{y}$</th>\n",
       "      <th>$\\sigma_y^2$</th>\n",
       "      <th>$r_{xy}$</th>\n",
       "      <th>$a$</th>\n",
       "      <th>$\\Delta a$</th>\n",
       "      <th>$b$</th>\n",
       "      <th>$\\Delta b$</th>\n",
       "    </tr>\n",
       "  </thead>\n",
       "  <tbody>\n",
       "    <tr>\n",
       "      <th>0</th>\n",
       "      <td>0.095468</td>\n",
       "      <td>0.000745</td>\n",
       "      <td>463.018182</td>\n",
       "      <td>60271.356033</td>\n",
       "      <td>4.768463</td>\n",
       "      <td>6402.777769</td>\n",
       "      <td>1413.025966</td>\n",
       "      <td>-148.24418</td>\n",
       "      <td>140.302499</td>\n",
       "    </tr>\n",
       "  </tbody>\n",
       "</table>\n",
       "</div>"
      ],
      "text/plain": [
       "   $\\overline{x}$  $\\sigma_x^2$  $\\overline{y}$  $\\sigma_y^2$  $r_{xy}$  \\\n",
       "0        0.095468      0.000745      463.018182  60271.356033  4.768463   \n",
       "\n",
       "           $a$   $\\Delta a$        $b$  $\\Delta b$  \n",
       "0  6402.777769  1413.025966 -148.24418  140.302499  "
      ]
     },
     "execution_count": 18,
     "metadata": {},
     "output_type": "execute_result"
    }
   ],
   "source": [
    "df, dat = least_sq(P_T2_dw, dpdT_dw)\n",
    "\n",
    "latex = df.style.hide(level=0, axis=0).format(mnk_fmt).to_latex()\n",
    "print(latex)\n",
    "df"
   ]
  },
  {
   "cell_type": "code",
   "execution_count": 19,
   "id": "fb62d784",
   "metadata": {},
   "outputs": [
    {
     "data": {
      "text/plain": [
       "1090055.2173913044"
      ]
     },
     "execution_count": 19,
     "metadata": {},
     "output_type": "execute_result"
    }
   ],
   "source": [
    "8.31 * 6034 / 0.046"
   ]
  },
  {
   "cell_type": "code",
   "execution_count": 20,
   "id": "42ecc52a",
   "metadata": {},
   "outputs": [
    {
     "data": {
      "text/plain": [
       "168729.09678488562"
      ]
     },
     "execution_count": 20,
     "metadata": {},
     "output_type": "execute_result"
    }
   ],
   "source": [
    "934 / 6034 * 1090055"
   ]
  },
  {
   "cell_type": "code",
   "execution_count": 21,
   "id": "05b09609",
   "metadata": {},
   "outputs": [
    {
     "data": {
      "text/plain": [
       "1156715.8695652175"
      ]
     },
     "execution_count": 21,
     "metadata": {},
     "output_type": "execute_result"
    }
   ],
   "source": [
    "8.31 * 6403 / 0.046"
   ]
  },
  {
   "cell_type": "code",
   "execution_count": 23,
   "id": "08513fde",
   "metadata": {},
   "outputs": [
    {
     "data": {
      "text/plain": [
       "255261.32984538496"
      ]
     },
     "execution_count": 23,
     "metadata": {},
     "output_type": "execute_result"
    }
   ],
   "source": [
    "1413 / 6403 * 1156715"
   ]
  },
  {
   "cell_type": "code",
   "execution_count": null,
   "id": "0c2f9977",
   "metadata": {},
   "outputs": [],
   "source": []
  }
 ],
 "metadata": {
  "kernelspec": {
   "display_name": "Python 3 (ipykernel)",
   "language": "python",
   "name": "python3"
  },
  "language_info": {
   "codemirror_mode": {
    "name": "ipython",
    "version": 3
   },
   "file_extension": ".py",
   "mimetype": "text/x-python",
   "name": "python",
   "nbconvert_exporter": "python",
   "pygments_lexer": "ipython3",
   "version": "3.10.5"
  }
 },
 "nbformat": 4,
 "nbformat_minor": 5
}
