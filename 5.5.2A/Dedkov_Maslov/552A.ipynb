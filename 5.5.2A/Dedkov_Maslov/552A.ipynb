{
 "cells": [
  {
   "cell_type": "code",
   "execution_count": 2,
   "id": "8ca882d1",
   "metadata": {},
   "outputs": [],
   "source": [
    "import numpy as np\n",
    "import pandas as pd\n",
    "import matplotlib.pyplot as plt\n",
    "import math\n",
    "import scipy as sp\n",
    "import scipy.optimize as op\n",
    "from scipy.interpolate import UnivariateSpline\n",
    "import copy\n",
    "\n",
    "# Adding library directory to python search path\n",
    "import os\n",
    "import sys\n",
    "import git\n",
    "repo = git.Repo('.', search_parent_directories=True)\n",
    "library_dir = repo.working_tree_dir + '/lib'\n",
    "sys.path.insert(0, library_dir)\n",
    "\n",
    "import miptlib as mipt\n",
    "\n",
    "# Create directory for generated .tex and .pdf\n",
    "if not os.path.exists('gen'):\n",
    "    os.mkdir('gen')"
   ]
  },
  {
   "cell_type": "code",
   "execution_count": 62,
   "id": "49570a02",
   "metadata": {
    "scrolled": false
   },
   "outputs": [
    {
     "data": {
      "text/html": [
       "<div>\n",
       "<style scoped>\n",
       "    .dataframe tbody tr th:only-of-type {\n",
       "        vertical-align: middle;\n",
       "    }\n",
       "\n",
       "    .dataframe tbody tr th {\n",
       "        vertical-align: top;\n",
       "    }\n",
       "\n",
       "    .dataframe thead tr th {\n",
       "        text-align: left;\n",
       "    }\n",
       "</style>\n",
       "<table border=\"1\" class=\"dataframe\">\n",
       "  <thead>\n",
       "    <tr>\n",
       "      <th></th>\n",
       "      <th colspan=\"4\" halign=\"left\">Ra</th>\n",
       "      <th colspan=\"4\" halign=\"left\">Th_Am</th>\n",
       "      <th colspan=\"4\" halign=\"left\">Pu</th>\n",
       "      <th colspan=\"4\" halign=\"left\">U</th>\n",
       "    </tr>\n",
       "    <tr>\n",
       "      <th></th>\n",
       "      <th>elem</th>\n",
       "      <th>channel</th>\n",
       "      <th>resolution</th>\n",
       "      <th>square</th>\n",
       "      <th>elem</th>\n",
       "      <th>channel</th>\n",
       "      <th>resolution</th>\n",
       "      <th>square</th>\n",
       "      <th>elem</th>\n",
       "      <th>channel</th>\n",
       "      <th>resolution</th>\n",
       "      <th>square</th>\n",
       "      <th>elem</th>\n",
       "      <th>channel</th>\n",
       "      <th>resolution</th>\n",
       "      <th>square</th>\n",
       "    </tr>\n",
       "  </thead>\n",
       "  <tbody>\n",
       "    <tr>\n",
       "      <th>0</th>\n",
       "      <td>Ra^{226}_{88}</td>\n",
       "      <td>1640</td>\n",
       "      <td>24.331704</td>\n",
       "      <td>2.203331</td>\n",
       "      <td>Th^{x}_{x}</td>\n",
       "      <td>1622.0</td>\n",
       "      <td>15.7952</td>\n",
       "      <td>2.1286</td>\n",
       "      <td>Pu^{x}_{x}</td>\n",
       "      <td>1788.0</td>\n",
       "      <td>16.8127</td>\n",
       "      <td>6.2065</td>\n",
       "      <td>U^{238}_{92}</td>\n",
       "      <td>1400.0</td>\n",
       "      <td>87.9598</td>\n",
       "      <td>0.9578</td>\n",
       "    </tr>\n",
       "    <tr>\n",
       "      <th>1</th>\n",
       "      <td>Po^{210}_{84}</td>\n",
       "      <td>1815</td>\n",
       "      <td>22.576647</td>\n",
       "      <td>0.472037</td>\n",
       "      <td>Th^{x}_{x}</td>\n",
       "      <td>1894.0</td>\n",
       "      <td>17.1208</td>\n",
       "      <td>2.5141</td>\n",
       "      <td>Pu^{238}_{94}</td>\n",
       "      <td>1894.0</td>\n",
       "      <td>20.8960</td>\n",
       "      <td>0.1610</td>\n",
       "      <td>U^{234}_{92}</td>\n",
       "      <td>1629.0</td>\n",
       "      <td>43.1976</td>\n",
       "      <td>1.0393</td>\n",
       "    </tr>\n",
       "    <tr>\n",
       "      <th>2</th>\n",
       "      <td>Rn^{222}_{86}</td>\n",
       "      <td>1881</td>\n",
       "      <td>23.968700</td>\n",
       "      <td>2.536300</td>\n",
       "      <td>NaN</td>\n",
       "      <td>NaN</td>\n",
       "      <td>NaN</td>\n",
       "      <td>NaN</td>\n",
       "      <td>NaN</td>\n",
       "      <td>NaN</td>\n",
       "      <td>NaN</td>\n",
       "      <td>NaN</td>\n",
       "      <td>NaN</td>\n",
       "      <td>NaN</td>\n",
       "      <td>NaN</td>\n",
       "      <td>NaN</td>\n",
       "    </tr>\n",
       "    <tr>\n",
       "      <th>3</th>\n",
       "      <td>Po^{218}_{84}</td>\n",
       "      <td>2055</td>\n",
       "      <td>21.054200</td>\n",
       "      <td>2.040600</td>\n",
       "      <td>NaN</td>\n",
       "      <td>NaN</td>\n",
       "      <td>NaN</td>\n",
       "      <td>NaN</td>\n",
       "      <td>NaN</td>\n",
       "      <td>NaN</td>\n",
       "      <td>NaN</td>\n",
       "      <td>NaN</td>\n",
       "      <td>NaN</td>\n",
       "      <td>NaN</td>\n",
       "      <td>NaN</td>\n",
       "      <td>NaN</td>\n",
       "    </tr>\n",
       "    <tr>\n",
       "      <th>4</th>\n",
       "      <td>Po^{214}_{84}</td>\n",
       "      <td>2617</td>\n",
       "      <td>22.499200</td>\n",
       "      <td>2.033200</td>\n",
       "      <td>NaN</td>\n",
       "      <td>NaN</td>\n",
       "      <td>NaN</td>\n",
       "      <td>NaN</td>\n",
       "      <td>NaN</td>\n",
       "      <td>NaN</td>\n",
       "      <td>NaN</td>\n",
       "      <td>NaN</td>\n",
       "      <td>NaN</td>\n",
       "      <td>NaN</td>\n",
       "      <td>NaN</td>\n",
       "      <td>NaN</td>\n",
       "    </tr>\n",
       "  </tbody>\n",
       "</table>\n",
       "</div>"
      ],
      "text/plain": [
       "              Ra                                    Th_Am                     \\\n",
       "            elem channel resolution    square        elem channel resolution   \n",
       "0  Ra^{226}_{88}    1640  24.331704  2.203331  Th^{x}_{x}  1622.0    15.7952   \n",
       "1  Po^{210}_{84}    1815  22.576647  0.472037  Th^{x}_{x}  1894.0    17.1208   \n",
       "2  Rn^{222}_{86}    1881  23.968700  2.536300         NaN     NaN        NaN   \n",
       "3  Po^{218}_{84}    2055  21.054200  2.040600         NaN     NaN        NaN   \n",
       "4  Po^{214}_{84}    2617  22.499200  2.033200         NaN     NaN        NaN   \n",
       "\n",
       "                      Pu                                        U          \\\n",
       "   square           elem channel resolution  square          elem channel   \n",
       "0  2.1286     Pu^{x}_{x}  1788.0    16.8127  6.2065  U^{238}_{92}  1400.0   \n",
       "1  2.5141  Pu^{238}_{94}  1894.0    20.8960  0.1610  U^{234}_{92}  1629.0   \n",
       "2     NaN            NaN     NaN        NaN     NaN           NaN     NaN   \n",
       "3     NaN            NaN     NaN        NaN     NaN           NaN     NaN   \n",
       "4     NaN            NaN     NaN        NaN     NaN           NaN     NaN   \n",
       "\n",
       "                      \n",
       "  resolution  square  \n",
       "0    87.9598  0.9578  \n",
       "1    43.1976  1.0393  \n",
       "2        NaN     NaN  \n",
       "3        NaN     NaN  \n",
       "4        NaN     NaN  "
      ]
     },
     "execution_count": 62,
     "metadata": {},
     "output_type": "execute_result"
    }
   ],
   "source": [
    "data = mipt.read_excel('data/data.xlsx', usecols=(0, 1, 2, 3, 4, 5, 6 ,7 ,8, 9, 10, 11, 12, 13, 14, 15), header=(0,1))\n",
    "#data['Ra']\n",
    "data"
   ]
  },
  {
   "cell_type": "code",
   "execution_count": 4,
   "id": "943beb0c",
   "metadata": {
    "scrolled": true
   },
   "outputs": [
    {
     "data": {
      "text/html": [
       "<div>\n",
       "<style scoped>\n",
       "    .dataframe tbody tr th:only-of-type {\n",
       "        vertical-align: middle;\n",
       "    }\n",
       "\n",
       "    .dataframe tbody tr th {\n",
       "        vertical-align: top;\n",
       "    }\n",
       "\n",
       "    .dataframe thead th {\n",
       "        text-align: right;\n",
       "    }\n",
       "</style>\n",
       "<table border=\"1\" class=\"dataframe\">\n",
       "  <thead>\n",
       "    <tr style=\"text-align: right;\">\n",
       "      <th></th>\n",
       "      <th>Channel</th>\n",
       "      <th>Counts</th>\n",
       "    </tr>\n",
       "  </thead>\n",
       "  <tbody>\n",
       "    <tr>\n",
       "      <th>0</th>\n",
       "      <td>1.0</td>\n",
       "      <td>0.0</td>\n",
       "    </tr>\n",
       "    <tr>\n",
       "      <th>1</th>\n",
       "      <td>2.0</td>\n",
       "      <td>0.0</td>\n",
       "    </tr>\n",
       "    <tr>\n",
       "      <th>2</th>\n",
       "      <td>3.0</td>\n",
       "      <td>0.0</td>\n",
       "    </tr>\n",
       "    <tr>\n",
       "      <th>3</th>\n",
       "      <td>4.0</td>\n",
       "      <td>0.0</td>\n",
       "    </tr>\n",
       "    <tr>\n",
       "      <th>4</th>\n",
       "      <td>5.0</td>\n",
       "      <td>0.0</td>\n",
       "    </tr>\n",
       "    <tr>\n",
       "      <th>...</th>\n",
       "      <td>...</td>\n",
       "      <td>...</td>\n",
       "    </tr>\n",
       "    <tr>\n",
       "      <th>4091</th>\n",
       "      <td>4092.0</td>\n",
       "      <td>0.0</td>\n",
       "    </tr>\n",
       "    <tr>\n",
       "      <th>4092</th>\n",
       "      <td>4093.0</td>\n",
       "      <td>0.0</td>\n",
       "    </tr>\n",
       "    <tr>\n",
       "      <th>4093</th>\n",
       "      <td>4094.0</td>\n",
       "      <td>0.0</td>\n",
       "    </tr>\n",
       "    <tr>\n",
       "      <th>4094</th>\n",
       "      <td>4095.0</td>\n",
       "      <td>0.0</td>\n",
       "    </tr>\n",
       "    <tr>\n",
       "      <th>4095</th>\n",
       "      <td>4096.0</td>\n",
       "      <td>0.0</td>\n",
       "    </tr>\n",
       "  </tbody>\n",
       "</table>\n",
       "<p>4096 rows × 2 columns</p>\n",
       "</div>"
      ],
      "text/plain": [
       "      Channel  Counts\n",
       "0         1.0     0.0\n",
       "1         2.0     0.0\n",
       "2         3.0     0.0\n",
       "3         4.0     0.0\n",
       "4         5.0     0.0\n",
       "...       ...     ...\n",
       "4091   4092.0     0.0\n",
       "4092   4093.0     0.0\n",
       "4093   4094.0     0.0\n",
       "4094   4095.0     0.0\n",
       "4095   4096.0     0.0\n",
       "\n",
       "[4096 rows x 2 columns]"
      ]
     },
     "execution_count": 4,
     "metadata": {},
     "output_type": "execute_result"
    }
   ],
   "source": [
    "Ra = mipt.read_excel('data/ra.xlsx', usecols=(0,1), header=(0))\n",
    "Ra"
   ]
  },
  {
   "cell_type": "code",
   "execution_count": 133,
   "id": "c3591f71",
   "metadata": {
    "scrolled": false
   },
   "outputs": [
    {
     "name": "stdout",
     "output_type": "stream",
     "text": [
      "$$ a = (2.97 \\pm 0.01) \\cdot 10^{-3} \\; \\frac{ \\text{МэВ} }{ \\text{кан.} }$$\n",
      "$$ b = (-0.10 \\pm 0.02) \\; \\text{МэВ}$$\n"
     ]
    },
    {
     "data": {
      "image/png": "[encoded data removed]",
      "text/plain": [
       "<Figure size 432x288 with 1 Axes>"
      ]
     },
     "metadata": {
      "needs_background": "light"
     },
     "output_type": "display_data"
    }
   ],
   "source": [
    "data = mipt.read_excel('data/data.xlsx', usecols=(0, 1, 2, 3, 4, 5, 6 ,7 ,8, 9, 10, 11, 12, 13, 14, 15), header=(0,1))\n",
    "\n",
    "energy = np.array([4.784, 5.304, 5.490, 6.002, 7.687])\n",
    "channels = data['Ra']['channel'].dropna()\n",
    "elems = data['Ra']['elem']\n",
    "\n",
    "\n",
    "X, Y, equ = mipt.plot(channels, energy)\n",
    "\n",
    "\n",
    "for i in range(X.size):\n",
    "    label = \"${}$\".format(elems[i])\n",
    "\n",
    "    plt.annotate(label, # this is the text\n",
    "                 (X[i], Y[i]), # these are the coordinates to position the label\n",
    "                 textcoords=\"offset points\", # how to position the text\n",
    "                 xytext=(0,10), # distance from text to points (x,y)\n",
    "                 ha='center',\n",
    "                 zorder=-1) # horizontal alignment can be left, right or center\n",
    "\n",
    "\n",
    "energy_coeff = mipt.mnk(X, Y).data['a'][0]\n",
    "energy_coeff_err = mipt.mnk(X, Y).data['da'][0]\n",
    "\n",
    "#print('\\$\\\\alpha = {:.2f} \\\\pm {:.2f} \\\\frac\\{\\\\text\\{МэВ\\}\\}\\{кан.\\}\\$'.format(energy_coeff, energy_coeff_err))\n",
    "\n",
    "\n",
    "mnk_tab = mipt.mnk(X, Y).data\n",
    "\n",
    "A = mnk_tab['a'][0]\n",
    "B = mnk_tab['b'][0]\n",
    "dA = mnk_tab['da'][0]\n",
    "dB = mnk_tab['db'][0]\n",
    "\n",
    "print('$$ a = ({:.2f} \\\\pm {:.2f}) \\\\cdot 10^{{-3}} \\\\; \\\\frac{{ \\\\text{{МэВ}} }}{{ \\\\text{{кан.}} }}$$'\n",
    "      .format(A * 1000, dA * 1000))\n",
    "\n",
    "print('$$ b = ({:.2f} \\\\pm {:.2f}) \\\\; \\\\text{{МэВ}}$$'\n",
    "      .format(B, dB))\n",
    "\n",
    "#(energy_coeff * 2055 - 6.002) / 6.002\n",
    "\n",
    "\n",
    "def calc_energy(x, dx):\n",
    "    return A*x + B, np.linalg.norm([x*dA, dB, A*dx])\n",
    "\n",
    "mnk_tab\n",
    "\n",
    "#mnk_tab.to_latex('gen/')\n",
    "\n",
    "plt.xlabel(r\"$N_i$\")\n",
    "plt.ylabel(r\"$E_i,$ МэВ\")\n",
    "\n",
    "# plt.legend()\n",
    "plt.savefig('gen/fig-w-channel.pdf')"
   ]
  },
  {
   "cell_type": "code",
   "execution_count": 127,
   "id": "a44066c3",
   "metadata": {},
   "outputs": [],
   "source": [
    "\n",
    "\n",
    "def process_data_for_single_elem(file, name, export_name, fr, to):\n",
    "    El = mipt.read_excel(file, usecols=(0,1), header=(0))\n",
    "    \n",
    "    x = El['Channel'][fr:to]\n",
    "    y = El['Counts'][fr:to]\n",
    "    \n",
    "    elems = data[name]['elem'].dropna()\n",
    "    x_pikes = data[name]['channel'].dropna()\n",
    "    print(elems)\n",
    "    y_pikes = np.array(list(y[x_pikes])) # Awesome!!!\n",
    "\n",
    "    resolution = data[name]['resolution'].dropna()\n",
    "    energy_resolution = resolution * A\n",
    "    energy_resolution_err = energy_resolution * dA / A\n",
    "\n",
    "    arr_energy = []\n",
    "    arr_energy_err = []\n",
    "    arr_denergy_err = []\n",
    "\n",
    "    for i in range(x_pikes.size):\n",
    "\n",
    "        energ, energ_err = calc_energy(x_pikes[i], 0)\n",
    "        label = \"${}$\\n${:.2f} \\\\pm {:.2f}$ МэВ\".format(elems[i], energ, energ_err)\n",
    "        arr_energy.append(energ)\n",
    "        arr_energy_err.append(energ_err)\n",
    "        arr_denergy_err.append(dA * resolution[i])\n",
    "        plt.annotate(label, # this is the text\n",
    "                     (x_pikes[i], y_pikes[i]), # these are the coordinates to position the label\n",
    "                     textcoords=\"offset points\", # how to position the text\n",
    "                     xytext=(0,10), # distance from text to points (x,y)\n",
    "                     ha='center') # horizontal alignment can be left, right or center\n",
    "\n",
    "        plt.axvline(x = x_pikes[i], color = 'purple', zorder=14, lw=1, ls='-.')\n",
    "\n",
    "\n",
    "    plt.errorbar(x_pikes, y_pikes, color='purple', zorder=16, xerr = 0, fmt='o', ms=0.2)\n",
    "    plt.plot(x, y)\n",
    "\n",
    "    arr_energy = np.array(arr_energy)\n",
    "    arr_energy_err = np.array(arr_energy_err)\n",
    "    arr_denergy_err = np.array(arr_denergy_err)\n",
    "    arr_denergy = np.array(resolution * A)\n",
    "    R = arr_denergy / arr_energy\n",
    "    dR = R * np.sqrt((arr_denergy_err/arr_denergy)**2 + (arr_energy_err/arr_energy)**2)\n",
    "    R_f = 1 / np.sqrt(arr_energy / 3.6e-6)\n",
    "    arr_epsilon = arr_energy_err / arr_energy\n",
    "    \n",
    "    energy_df = pd.DataFrame(arr_energy, columns = ['E_i']) \n",
    "    energy_err_df = pd.DataFrame(arr_energy_err, columns = ['E_i_err'])\n",
    "    denergy_df = pd.DataFrame(arr_denergy, columns = ['dE_i'])\n",
    "    denergy_err_df = pd.DataFrame(arr_denergy_err, columns = ['dE_i_err'])\n",
    "    R_df = pd.DataFrame(R, columns = ['R_i'])\n",
    "    R_f_df = pd.DataFrame(R_f, columns = ['R_{f,i}'])\n",
    "    epsilon_df = pd.DataFrame(arr_epsilon, columns = ['epsilon'])\n",
    "    #R_err_df = pd.DataFrame(dR, columns = ['R_i_err'])\n",
    "\n",
    "    \n",
    "    \n",
    "    export = pd.concat([\n",
    "        x_pikes.rename('N_i'),\n",
    "        resolution.rename('dN_i'),\n",
    "        energy_df,\n",
    "        epsilon_df,\n",
    "        #energy_err_df,\n",
    "        denergy_df,\n",
    "        #denergy_err_df,\n",
    "        R_df,\n",
    "        R_f_df,\n",
    "    ], axis=1)\n",
    "\n",
    "    fmt = {\n",
    "        'N_i' : [r'$N_i$', '{:.0f}', 0],\n",
    "        'dN_i' : [r'$\\Delta N_i$', '{:.2f}', 0],\n",
    "        'E_i' : [r'$E_i$, МэВ', '{:.2f}', 0],\n",
    "        'E_i_err' : [r'$\\sigma_{E_i}$, МэВ', '{:.2f}', 0],\n",
    "        'dE_i' : [r'$\\Delta E_i$, МэВ', '{:.4f}', 0],\n",
    "        'dE_i_err' : [r'$\\sigma_{\\Delta E_i}$, МэВ', '{:.4f}', 0],\n",
    "        'R_i' : [r'$R_i \\cdot 10^2$', '{:.2f}', 2],\n",
    "        'R_i_err' : [r'$\\sigma_{R_i}$', '{:.3f}', 0],\n",
    "        'R_{f,i}' : [r'$R_{f,i} \\cdot 10^2$', '{:.3f}', 2],\n",
    "        'epsilon' : [r'$\\varepsilon_{E_i}, \\%$', '{:.1f}', 2],\n",
    "    }\n",
    "\n",
    "    tab = mipt.table(export, fmt)\n",
    "    tab.to_latex('gen/tab-{}.tex'.format(export_name))\n",
    "    tab.rename().data\n",
    "\n",
    "    plt.xlabel(r\"N\")\n",
    "    plt.ylabel(r\"Particles\")\n",
    "\n",
    "    plt.savefig('gen/fig-{}.pdf'.format(export_name))\n",
    "\n",
    "    return tab.rename().data    "
   ]
  },
  {
   "cell_type": "code",
   "execution_count": 128,
   "id": "c358635c",
   "metadata": {
    "scrolled": true
   },
   "outputs": [
    {
     "name": "stdout",
     "output_type": "stream",
     "text": [
      "0    Ra^{226}_{88}\n",
      "1    Po^{210}_{84}\n",
      "2    Rn^{222}_{86}\n",
      "3    Po^{218}_{84}\n",
      "4    Po^{214}_{84}\n",
      "Name: elem, dtype: object\n"
     ]
    },
    {
     "data": {
      "text/html": [
       "<div>\n",
       "<style scoped>\n",
       "    .dataframe tbody tr th:only-of-type {\n",
       "        vertical-align: middle;\n",
       "    }\n",
       "\n",
       "    .dataframe tbody tr th {\n",
       "        vertical-align: top;\n",
       "    }\n",
       "\n",
       "    .dataframe thead th {\n",
       "        text-align: right;\n",
       "    }\n",
       "</style>\n",
       "<table border=\"1\" class=\"dataframe\">\n",
       "  <thead>\n",
       "    <tr style=\"text-align: right;\">\n",
       "      <th></th>\n",
       "      <th>$N_i$</th>\n",
       "      <th>$\\Delta N_i$</th>\n",
       "      <th>$E_i$, МэВ</th>\n",
       "      <th>$\\varepsilon_{E_i}, \\%$</th>\n",
       "      <th>$\\Delta E_i$, МэВ</th>\n",
       "      <th>$R_i \\cdot 10^2$</th>\n",
       "      <th>$R_{f,i} \\cdot 10^2$</th>\n",
       "    </tr>\n",
       "  </thead>\n",
       "  <tbody>\n",
       "    <tr>\n",
       "      <th>0</th>\n",
       "      <td>1640</td>\n",
       "      <td>24.331704</td>\n",
       "      <td>4.778701</td>\n",
       "      <td>0.005992</td>\n",
       "      <td>0.072315</td>\n",
       "      <td>0.015133</td>\n",
       "      <td>0.000868</td>\n",
       "    </tr>\n",
       "    <tr>\n",
       "      <th>1</th>\n",
       "      <td>1815</td>\n",
       "      <td>22.576647</td>\n",
       "      <td>5.298812</td>\n",
       "      <td>0.005639</td>\n",
       "      <td>0.067099</td>\n",
       "      <td>0.012663</td>\n",
       "      <td>0.000824</td>\n",
       "    </tr>\n",
       "    <tr>\n",
       "      <th>2</th>\n",
       "      <td>1881</td>\n",
       "      <td>23.968700</td>\n",
       "      <td>5.494969</td>\n",
       "      <td>0.005526</td>\n",
       "      <td>0.071237</td>\n",
       "      <td>0.012964</td>\n",
       "      <td>0.000809</td>\n",
       "    </tr>\n",
       "    <tr>\n",
       "      <th>3</th>\n",
       "      <td>2055</td>\n",
       "      <td>21.054200</td>\n",
       "      <td>6.012108</td>\n",
       "      <td>0.005272</td>\n",
       "      <td>0.062574</td>\n",
       "      <td>0.010408</td>\n",
       "      <td>0.000774</td>\n",
       "    </tr>\n",
       "    <tr>\n",
       "      <th>4</th>\n",
       "      <td>2617</td>\n",
       "      <td>22.499200</td>\n",
       "      <td>7.682410</td>\n",
       "      <td>0.004731</td>\n",
       "      <td>0.066869</td>\n",
       "      <td>0.008704</td>\n",
       "      <td>0.000685</td>\n",
       "    </tr>\n",
       "  </tbody>\n",
       "</table>\n",
       "</div>"
      ],
      "text/plain": [
       "   $N_i$  $\\Delta N_i$  $E_i$, МэВ  $\\varepsilon_{E_i}, \\%$  \\\n",
       "0   1640     24.331704    4.778701                 0.005992   \n",
       "1   1815     22.576647    5.298812                 0.005639   \n",
       "2   1881     23.968700    5.494969                 0.005526   \n",
       "3   2055     21.054200    6.012108                 0.005272   \n",
       "4   2617     22.499200    7.682410                 0.004731   \n",
       "\n",
       "   $\\Delta E_i$, МэВ  $R_i \\cdot 10^2$  $R_{f,i} \\cdot 10^2$  \n",
       "0           0.072315          0.015133              0.000868  \n",
       "1           0.067099          0.012663              0.000824  \n",
       "2           0.071237          0.012964              0.000809  \n",
       "3           0.062574          0.010408              0.000774  \n",
       "4           0.066869          0.008704              0.000685  "
      ]
     },
     "execution_count": 128,
     "metadata": {},
     "output_type": "execute_result"
    },
    {
     "data": {
      "image/png": "[encoded data removed]",
      "text/plain": [
       "<Figure size 432x288 with 1 Axes>"
      ]
     },
     "metadata": {
      "needs_background": "light"
     },
     "output_type": "display_data"
    }
   ],
   "source": [
    "tab = process_data_for_single_elem(\n",
    "    file = 'data/ra.xlsx',\n",
    "    name = 'Ra',\n",
    "    fr = 1300,\n",
    "    to = 2700,\n",
    "    export_name = 'ra'\n",
    ")\n",
    "\n",
    "tab"
   ]
  },
  {
   "cell_type": "code",
   "execution_count": 129,
   "id": "0efe81f3",
   "metadata": {
    "scrolled": true
   },
   "outputs": [
    {
     "name": "stdout",
     "output_type": "stream",
     "text": [
      "0    Th^{x}_{x}\n",
      "1    Th^{x}_{x}\n",
      "Name: elem, dtype: object\n"
     ]
    },
    {
     "data": {
      "text/html": [
       "<div>\n",
       "<style scoped>\n",
       "    .dataframe tbody tr th:only-of-type {\n",
       "        vertical-align: middle;\n",
       "    }\n",
       "\n",
       "    .dataframe tbody tr th {\n",
       "        vertical-align: top;\n",
       "    }\n",
       "\n",
       "    .dataframe thead th {\n",
       "        text-align: right;\n",
       "    }\n",
       "</style>\n",
       "<table border=\"1\" class=\"dataframe\">\n",
       "  <thead>\n",
       "    <tr style=\"text-align: right;\">\n",
       "      <th></th>\n",
       "      <th>$N_i$</th>\n",
       "      <th>$\\Delta N_i$</th>\n",
       "      <th>$E_i$, МэВ</th>\n",
       "      <th>$\\varepsilon_{E_i}, \\%$</th>\n",
       "      <th>$\\Delta E_i$, МэВ</th>\n",
       "      <th>$R_i \\cdot 10^2$</th>\n",
       "      <th>$R_{f,i} \\cdot 10^2$</th>\n",
       "    </tr>\n",
       "  </thead>\n",
       "  <tbody>\n",
       "    <tr>\n",
       "      <th>0</th>\n",
       "      <td>1622.0</td>\n",
       "      <td>15.7952</td>\n",
       "      <td>4.725203</td>\n",
       "      <td>0.006034</td>\n",
       "      <td>0.046944</td>\n",
       "      <td>0.009935</td>\n",
       "      <td>0.000873</td>\n",
       "    </tr>\n",
       "    <tr>\n",
       "      <th>1</th>\n",
       "      <td>1894.0</td>\n",
       "      <td>17.1208</td>\n",
       "      <td>5.533606</td>\n",
       "      <td>0.005505</td>\n",
       "      <td>0.050884</td>\n",
       "      <td>0.009195</td>\n",
       "      <td>0.000807</td>\n",
       "    </tr>\n",
       "  </tbody>\n",
       "</table>\n",
       "</div>"
      ],
      "text/plain": [
       "    $N_i$  $\\Delta N_i$  $E_i$, МэВ  $\\varepsilon_{E_i}, \\%$  \\\n",
       "0  1622.0       15.7952    4.725203                 0.006034   \n",
       "1  1894.0       17.1208    5.533606                 0.005505   \n",
       "\n",
       "   $\\Delta E_i$, МэВ  $R_i \\cdot 10^2$  $R_{f,i} \\cdot 10^2$  \n",
       "0           0.046944          0.009935              0.000873  \n",
       "1           0.050884          0.009195              0.000807  "
      ]
     },
     "execution_count": 129,
     "metadata": {},
     "output_type": "execute_result"
    },
    {
     "data": {
      "image/png": "[encoded data removed]",
      "text/plain": [
       "<Figure size 432x288 with 1 Axes>"
      ]
     },
     "metadata": {
      "needs_background": "light"
     },
     "output_type": "display_data"
    }
   ],
   "source": [
    "tab = process_data_for_single_elem(\n",
    "    file = 'data/th_am.xlsx',\n",
    "    name = 'Th_Am',\n",
    "    fr = 1300,\n",
    "    to = 2200,\n",
    "    export_name = 'th_am'\n",
    ")\n",
    "\n",
    "tab"
   ]
  },
  {
   "cell_type": "code",
   "execution_count": 130,
   "id": "fc336485",
   "metadata": {},
   "outputs": [
    {
     "name": "stdout",
     "output_type": "stream",
     "text": [
      "0       Pu^{x}_{x}\n",
      "1    Pu^{238}_{94}\n",
      "Name: elem, dtype: object\n"
     ]
    },
    {
     "data": {
      "text/html": [
       "<div>\n",
       "<style scoped>\n",
       "    .dataframe tbody tr th:only-of-type {\n",
       "        vertical-align: middle;\n",
       "    }\n",
       "\n",
       "    .dataframe tbody tr th {\n",
       "        vertical-align: top;\n",
       "    }\n",
       "\n",
       "    .dataframe thead th {\n",
       "        text-align: right;\n",
       "    }\n",
       "</style>\n",
       "<table border=\"1\" class=\"dataframe\">\n",
       "  <thead>\n",
       "    <tr style=\"text-align: right;\">\n",
       "      <th></th>\n",
       "      <th>$N_i$</th>\n",
       "      <th>$\\Delta N_i$</th>\n",
       "      <th>$E_i$, МэВ</th>\n",
       "      <th>$\\varepsilon_{E_i}, \\%$</th>\n",
       "      <th>$\\Delta E_i$, МэВ</th>\n",
       "      <th>$R_i \\cdot 10^2$</th>\n",
       "      <th>$R_{f,i} \\cdot 10^2$</th>\n",
       "    </tr>\n",
       "  </thead>\n",
       "  <tbody>\n",
       "    <tr>\n",
       "      <th>0</th>\n",
       "      <td>1788.0</td>\n",
       "      <td>16.8127</td>\n",
       "      <td>5.218567</td>\n",
       "      <td>0.005688</td>\n",
       "      <td>0.049968</td>\n",
       "      <td>0.009575</td>\n",
       "      <td>0.000831</td>\n",
       "    </tr>\n",
       "    <tr>\n",
       "      <th>1</th>\n",
       "      <td>1894.0</td>\n",
       "      <td>20.8960</td>\n",
       "      <td>5.533606</td>\n",
       "      <td>0.005505</td>\n",
       "      <td>0.062104</td>\n",
       "      <td>0.011223</td>\n",
       "      <td>0.000807</td>\n",
       "    </tr>\n",
       "  </tbody>\n",
       "</table>\n",
       "</div>"
      ],
      "text/plain": [
       "    $N_i$  $\\Delta N_i$  $E_i$, МэВ  $\\varepsilon_{E_i}, \\%$  \\\n",
       "0  1788.0       16.8127    5.218567                 0.005688   \n",
       "1  1894.0       20.8960    5.533606                 0.005505   \n",
       "\n",
       "   $\\Delta E_i$, МэВ  $R_i \\cdot 10^2$  $R_{f,i} \\cdot 10^2$  \n",
       "0           0.049968          0.009575              0.000831  \n",
       "1           0.062104          0.011223              0.000807  "
      ]
     },
     "execution_count": 130,
     "metadata": {},
     "output_type": "execute_result"
    },
    {
     "data": {
      "image/png": "[encoded data removed]",
      "text/plain": [
       "<Figure size 432x288 with 1 Axes>"
      ]
     },
     "metadata": {
      "needs_background": "light"
     },
     "output_type": "display_data"
    }
   ],
   "source": [
    "tab = process_data_for_single_elem(\n",
    "    file = 'data/pu.xlsx',\n",
    "    name = 'Pu',\n",
    "    fr = 1500,\n",
    "    to = 2200,\n",
    "    export_name = 'pu'\n",
    ")\n",
    "\n",
    "tab"
   ]
  },
  {
   "cell_type": "code",
   "execution_count": 131,
   "id": "c1a90080",
   "metadata": {
    "scrolled": true
   },
   "outputs": [
    {
     "name": "stdout",
     "output_type": "stream",
     "text": [
      "0    U^{238}_{92}\n",
      "1    U^{234}_{92}\n",
      "Name: elem, dtype: object\n"
     ]
    },
    {
     "data": {
      "text/html": [
       "<div>\n",
       "<style scoped>\n",
       "    .dataframe tbody tr th:only-of-type {\n",
       "        vertical-align: middle;\n",
       "    }\n",
       "\n",
       "    .dataframe tbody tr th {\n",
       "        vertical-align: top;\n",
       "    }\n",
       "\n",
       "    .dataframe thead th {\n",
       "        text-align: right;\n",
       "    }\n",
       "</style>\n",
       "<table border=\"1\" class=\"dataframe\">\n",
       "  <thead>\n",
       "    <tr style=\"text-align: right;\">\n",
       "      <th></th>\n",
       "      <th>$N_i$</th>\n",
       "      <th>$\\Delta N_i$</th>\n",
       "      <th>$E_i$, МэВ</th>\n",
       "      <th>$\\varepsilon_{E_i}, \\%$</th>\n",
       "      <th>$\\Delta E_i$, МэВ</th>\n",
       "      <th>$R_i \\cdot 10^2$</th>\n",
       "      <th>$R_{f,i} \\cdot 10^2$</th>\n",
       "    </tr>\n",
       "  </thead>\n",
       "  <tbody>\n",
       "    <tr>\n",
       "      <th>0</th>\n",
       "      <td>1400.0</td>\n",
       "      <td>87.9598</td>\n",
       "      <td>4.065405</td>\n",
       "      <td>0.006655</td>\n",
       "      <td>0.261422</td>\n",
       "      <td>0.064304</td>\n",
       "      <td>0.000941</td>\n",
       "    </tr>\n",
       "    <tr>\n",
       "      <th>1</th>\n",
       "      <td>1629.0</td>\n",
       "      <td>43.1976</td>\n",
       "      <td>4.746008</td>\n",
       "      <td>0.006017</td>\n",
       "      <td>0.128386</td>\n",
       "      <td>0.027051</td>\n",
       "      <td>0.000871</td>\n",
       "    </tr>\n",
       "  </tbody>\n",
       "</table>\n",
       "</div>"
      ],
      "text/plain": [
       "    $N_i$  $\\Delta N_i$  $E_i$, МэВ  $\\varepsilon_{E_i}, \\%$  \\\n",
       "0  1400.0       87.9598    4.065405                 0.006655   \n",
       "1  1629.0       43.1976    4.746008                 0.006017   \n",
       "\n",
       "   $\\Delta E_i$, МэВ  $R_i \\cdot 10^2$  $R_{f,i} \\cdot 10^2$  \n",
       "0           0.261422          0.064304              0.000941  \n",
       "1           0.128386          0.027051              0.000871  "
      ]
     },
     "execution_count": 131,
     "metadata": {},
     "output_type": "execute_result"
    },
    {
     "data": {
      "image/png": "[encoded data removed]",
      "text/plain": [
       "<Figure size 432x288 with 1 Axes>"
      ]
     },
     "metadata": {
      "needs_background": "light"
     },
     "output_type": "display_data"
    }
   ],
   "source": [
    "tab = process_data_for_single_elem(\n",
    "    file = 'data/u.xlsx',\n",
    "    name = 'U',\n",
    "    fr = 1200,\n",
    "    to = 1800,\n",
    "    export_name = 'u'\n",
    ")\n",
    "\n",
    "tab"
   ]
  },
  {
   "cell_type": "code",
   "execution_count": 125,
   "id": "e3884c6b",
   "metadata": {
    "scrolled": true
   },
   "outputs": [
    {
     "data": {
      "text/html": [
       "<div>\n",
       "<style scoped>\n",
       "    .dataframe tbody tr th:only-of-type {\n",
       "        vertical-align: middle;\n",
       "    }\n",
       "\n",
       "    .dataframe tbody tr th {\n",
       "        vertical-align: top;\n",
       "    }\n",
       "\n",
       "    .dataframe thead th {\n",
       "        text-align: right;\n",
       "    }\n",
       "</style>\n",
       "<table border=\"1\" class=\"dataframe\">\n",
       "  <thead>\n",
       "    <tr style=\"text-align: right;\">\n",
       "      <th></th>\n",
       "      <th>$N_i$</th>\n",
       "      <th>$dN_i$</th>\n",
       "      <th>$E_i$, МэВ</th>\n",
       "      <th>$\\sigma_{E_i}$, МэВ</th>\n",
       "      <th>$\\Delta E_i$, МэВ</th>\n",
       "      <th>$\\sigma_{\\Delta E_i}$, МэВ</th>\n",
       "    </tr>\n",
       "  </thead>\n",
       "  <tbody>\n",
       "    <tr>\n",
       "      <th>0</th>\n",
       "      <td>1640</td>\n",
       "      <td>24.331704</td>\n",
       "      <td>4.778701</td>\n",
       "      <td>0.028634</td>\n",
       "      <td>0.072315</td>\n",
       "      <td>0.000267</td>\n",
       "    </tr>\n",
       "    <tr>\n",
       "      <th>1</th>\n",
       "      <td>1815</td>\n",
       "      <td>22.576647</td>\n",
       "      <td>5.298812</td>\n",
       "      <td>0.029879</td>\n",
       "      <td>0.067099</td>\n",
       "      <td>0.000248</td>\n",
       "    </tr>\n",
       "    <tr>\n",
       "      <th>2</th>\n",
       "      <td>1881</td>\n",
       "      <td>23.968700</td>\n",
       "      <td>5.494969</td>\n",
       "      <td>0.030366</td>\n",
       "      <td>0.071237</td>\n",
       "      <td>0.000263</td>\n",
       "    </tr>\n",
       "    <tr>\n",
       "      <th>3</th>\n",
       "      <td>2055</td>\n",
       "      <td>21.054200</td>\n",
       "      <td>6.012108</td>\n",
       "      <td>0.031695</td>\n",
       "      <td>0.062574</td>\n",
       "      <td>0.000231</td>\n",
       "    </tr>\n",
       "    <tr>\n",
       "      <th>4</th>\n",
       "      <td>2617</td>\n",
       "      <td>22.499200</td>\n",
       "      <td>7.682410</td>\n",
       "      <td>0.036343</td>\n",
       "      <td>0.066869</td>\n",
       "      <td>0.000247</td>\n",
       "    </tr>\n",
       "  </tbody>\n",
       "</table>\n",
       "</div>"
      ],
      "text/plain": [
       "   $N_i$     $dN_i$  $E_i$, МэВ  $\\sigma_{E_i}$, МэВ  $\\Delta E_i$, МэВ  \\\n",
       "0   1640  24.331704    4.778701             0.028634           0.072315   \n",
       "1   1815  22.576647    5.298812             0.029879           0.067099   \n",
       "2   1881  23.968700    5.494969             0.030366           0.071237   \n",
       "3   2055  21.054200    6.012108             0.031695           0.062574   \n",
       "4   2617  22.499200    7.682410             0.036343           0.066869   \n",
       "\n",
       "   $\\sigma_{\\Delta E_i}$, МэВ  \n",
       "0                    0.000267  \n",
       "1                    0.000248  \n",
       "2                    0.000263  \n",
       "3                    0.000231  \n",
       "4                    0.000247  "
      ]
     },
     "execution_count": 125,
     "metadata": {},
     "output_type": "execute_result"
    },
    {
     "data": {
      "image/png": "[encoded data removed]",
      "text/plain": [
       "<Figure size 432x288 with 1 Axes>"
      ]
     },
     "metadata": {
      "needs_background": "light"
     },
     "output_type": "display_data"
    }
   ],
   "source": [
    "name = 'Ra'\n",
    "tabfile = 'ra'\n",
    "file = 'data/ra.xlsx'\n",
    "fr = 1300\n",
    "to = 2700\n",
    "\n",
    "x = Ra['Channel'][fr:to]\n",
    "y = Ra['Counts'][fr:to]\n",
    "\n",
    "elem_data = mipt.read_excel(file, usecols=(0,1), header=(0))\n",
    "elems = data[name]['elem']\n",
    "x_pikes = data[name]['channel'].dropna()\n",
    "y_pikes = np.array(list(y[x_pikes])) # Awesome!!!\n",
    "\n",
    "resolution = data['Ra']['resolution']\n",
    "energy_resolution = resolution * A\n",
    "energy_resolution_err = energy_resolution * dA / A\n",
    "\n",
    "arr_energy = []\n",
    "arr_energy_err = []\n",
    "arr_denergy_err = []\n",
    "\n",
    "for i in range(x_pikes.size):\n",
    "    \n",
    "    energ, energ_err = calc_energy(x_pikes[i], 0)\n",
    "    label = \"${}$\\n${:.2f} \\\\pm {:.2f}$ МэВ\".format(elems[i], energ, energ_err)\n",
    "    arr_energy.append(energ)\n",
    "    arr_energy_err.append(energ_err)\n",
    "    arr_denergy_err.append(dA * resolution[i])\n",
    "    plt.annotate(label, # this is the text\n",
    "                 (x_pikes[i], y_pikes[i]), # these are the coordinates to position the label\n",
    "                 textcoords=\"offset points\", # how to position the text\n",
    "                 xytext=(0,10), # distance from text to points (x,y)\n",
    "                 ha='center') # horizontal alignment can be left, right or center\n",
    "    \n",
    "    plt.axvline(x = x_pikes[i], color = 'purple', zorder=14, lw=1, ls='-.')\n",
    "\n",
    "\n",
    "plt.errorbar(x_pikes, y_pikes, color='purple', zorder=16, xerr = 0, fmt='o', ms=0.2)\n",
    "plt.plot(x, y)\n",
    "\n",
    "arr_energy = np.array(arr_energy)\n",
    "arr_energy_err = np.array(arr_energy_err)\n",
    "arr_denergy_err = np.array(arr_denergy_err)\n",
    "arr_denergy = np.array(resolution * A)\n",
    "\n",
    "energy_df = pd.DataFrame(arr_energy, columns = ['E_i']) \n",
    "energy_err_df = pd.DataFrame(arr_energy_err, columns = ['E_i_err'])\n",
    "denergy_df = pd.DataFrame(arr_denergy, columns = ['dE_i'])\n",
    "denergy_err_df = pd.DataFrame(arr_denergy_err, columns = ['dE_i_err'])\n",
    "\n",
    "\n",
    "\n",
    "export = pd.concat([\n",
    "    x_pikes.rename('N_i'),\n",
    "    resolution.rename('dN_i'),\n",
    "    energy_df,\n",
    "    energy_err_df,\n",
    "    denergy_df,\n",
    "    denergy_err_df,\n",
    "], axis=1)\n",
    "\n",
    "fmt = {\n",
    "    'N_i' : [r'$N_i$', '{:.1f}', 0],\n",
    "    'dN_i' : [r'$dN_i$', '{:.2f}', 0],\n",
    "    'E_i' : [r'$E_i$, МэВ', '{:.2f}', 0],\n",
    "    'E_i_err' : [r'$\\sigma_{E_i}$, МэВ', '{:.2f}', 0],\n",
    "    'dE_i' : [r'$\\Delta E_i$, МэВ', '{:.4f}', 0],\n",
    "    'dE_i_err' : [r'$\\sigma_{\\Delta E_i}$, МэВ', '{:.4f}', 0],\n",
    "}\n",
    "\n",
    "tab = mipt.table(export, fmt)\n",
    "tab.to_latex('gen/tab-{}.tex'.format(tabfile))\n",
    "tab.rename().data\n",
    "\n",
    "\n",
    "plt.xlabel(r\"N\")\n",
    "plt.ylabel(r\"Particles\")\n",
    "\n",
    "plt.savefig('gen/fig-{}.pdf'.format(tabfile))\n",
    "\n",
    "tab.rename().data"
   ]
  },
  {
   "cell_type": "markdown",
   "id": "24831a3a",
   "metadata": {},
   "source": [
    "# Проверка"
   ]
  },
  {
   "cell_type": "code",
   "execution_count": 155,
   "id": "1d2aa3b9",
   "metadata": {
    "scrolled": true
   },
   "outputs": [
    {
     "name": "stdout",
     "output_type": "stream",
     "text": [
      "$$ \\rho = \\frac{ \\cov_{ xy } }{ \\sigma_x \\cdot \\sigma_y} = 0.9964 $$\n"
     ]
    },
    {
     "data": {
      "image/png": "[encoded data removed]",
      "text/plain": [
       "<Figure size 432x288 with 1 Axes>"
      ]
     },
     "metadata": {
      "needs_background": "light"
     },
     "output_type": "display_data"
    }
   ],
   "source": [
    "te_data = mipt.read_excel('data/te.xlsx', usecols=(0,1), header=(0))\n",
    "\n",
    "y = np.log(te_data['T'])\n",
    "x = 1/np.sqrt(te_data['E'])\n",
    "\n",
    "mipt.plot(x, y)\n",
    "\n",
    "plt.xlabel(r\"$\\frac{1}{\\sqrt{E_i}}$\")\n",
    "plt.ylabel(r\"$\\log{T_{1/2}}$\")\n",
    "\n",
    "plt.savefig('gen/fig-te.pdf')\n",
    "\n",
    "mnk = mipt.mnk(x, y)\n",
    "mnkd = mnk.data\n",
    "\n",
    "r = mnkd['rxy'] / (mnkd['sx'] * mnkd['sy'])**0.5\n",
    "\n",
    "\n",
    "print('$$ \\\\rho = \\\\frac{{ \\\\cov_{{ xy }} }}{{ \\\\sigma_x \\\\cdot \\\\sigma_y}} = {:.4f} $$'.format(r[0]))"
   ]
  },
  {
   "cell_type": "code",
   "execution_count": 86,
   "id": "86f53fc2",
   "metadata": {},
   "outputs": [
    {
     "data": {
      "text/plain": [
       "array([42., 11., 39., 54., 41.])"
      ]
     },
     "execution_count": 86,
     "metadata": {},
     "output_type": "execute_result"
    }
   ],
   "source": [
    "y_pikes = np.array(list(y[x_pikes]))\n",
    "y_pikes\n"
   ]
  },
  {
   "cell_type": "code",
   "execution_count": 87,
   "id": "5c20785f",
   "metadata": {},
   "outputs": [
    {
     "data": {
      "text/plain": [
       "1640"
      ]
     },
     "execution_count": 87,
     "metadata": {},
     "output_type": "execute_result"
    }
   ],
   "source": [
    "y_pikes = data['Ra']['channel'].dropna()\n",
    "y_pikes[0]"
   ]
  },
  {
   "cell_type": "markdown",
   "id": "0aaf749c",
   "metadata": {},
   "source": [
    "## Опробование работы"
   ]
  },
  {
   "cell_type": "code",
   "execution_count": 225,
   "id": "ef43d2aa",
   "metadata": {
    "scrolled": true
   },
   "outputs": [
    {
     "name": "stdout",
     "output_type": "stream",
     "text": [
      "$$T_t = (934 \\pm 5) \\;\\;^oC$$\n",
      "\n",
      "$$T_p = (939 \\pm 12) \\;\\;^oC$$\n",
      "\n"
     ]
    }
   ],
   "source": [
    "data = mipt.read_excel('data/5.8.1-raw.xlsx', usecols=(0,1), header=(0)).dropna()\n",
    "data\n",
    "\n",
    "termo_coeff = (47000-29000)/(1168-716)\n",
    "\n",
    "t_out = 22\n",
    "t_termo = 1e3 * data['v'] / termo_coeff + t_out\n",
    "\n",
    "t_termo_error = np.std(t_termo) / math.sqrt(t_termo.size)\n",
    "\n",
    "\n",
    "t_termo.mean()\n",
    "data['tp'].mean()\n",
    "\n",
    "export = pd.concat([\n",
    "    data['tp'],\n",
    "    data['v'],\n",
    "    t_termo.rename('tr'),  \n",
    "], axis=1)\n",
    "\n",
    "\n",
    "fmt = {\n",
    "    'tp' : [r'$T_{p}, ^oC$', '{:.1f}', 0],\n",
    "    'v' : [r'$V$, мВ', '{:.1f}', 0],\n",
    "    'tr' : [r'$T_{t}, ^oC$', '{:.1f}', 0],\n",
    "}\n",
    "\n",
    "tab = mipt.table(export, fmt)\n",
    "tab.to_latex('gen/tab-try.tex')\n",
    "\n",
    "print(\"$$T_t = ({:.0f} \\pm {:.0f}) \\;\\;^oC$$\\n\".format(t_termo.mean(), 5))\n",
    "print(\"$$T_p = ({:.0f} \\pm {:.0f}) \\;\\;^oC$$\\n\".format(data['tp'].mean(), 12))\n"
   ]
  },
  {
   "cell_type": "code",
   "execution_count": null,
   "id": "7bf48d0d",
   "metadata": {},
   "outputs": [],
   "source": []
  },
  {
   "cell_type": "code",
   "execution_count": 226,
   "id": "abe6f63b",
   "metadata": {},
   "outputs": [
    {
     "data": {
      "text/plain": [
       "0.5244100871534852"
      ]
     },
     "execution_count": 226,
     "metadata": {},
     "output_type": "execute_result"
    }
   ],
   "source": [
    "v_error = np.std(data['v']) / math.sqrt(data['v'].size) + 0.005\n",
    "#v_error / data['v'].mean() * t_termo.mean()\n",
    "v_error / data['v'].mean() * t_termo.mean()\n",
    "\n"
   ]
  },
  {
   "cell_type": "code",
   "execution_count": 227,
   "id": "982670d1",
   "metadata": {},
   "outputs": [
    {
     "data": {
      "text/plain": [
       "0.38649907606936607"
      ]
     },
     "execution_count": 227,
     "metadata": {},
     "output_type": "execute_result"
    }
   ],
   "source": [
    "t_termo_error"
   ]
  },
  {
   "cell_type": "markdown",
   "id": "400dae7f",
   "metadata": {},
   "source": [
    "## Стефан-Больцман"
   ]
  },
  {
   "cell_type": "code",
   "execution_count": 228,
   "id": "3a489ae6",
   "metadata": {
    "scrolled": false
   },
   "outputs": [
    {
     "name": "stdout",
     "output_type": "stream",
     "text": [
      "$$ f_1(T) = (1.09 \\pm 0.03) \\cdot T + (-15 \\pm 20)$$\n"
     ]
    }
   ],
   "source": [
    "from scipy.interpolate import interp1d\n",
    "\n",
    "data = mipt.read_excel('data/5.8.1-raw.xlsx', usecols=(2,3,4,5), header=(0)).dropna()\n",
    "data\n",
    "\n",
    "At = 1.09\n",
    "At_error = 0.03\n",
    "Bt = -15\n",
    "Bt_error = 20\n",
    "\n",
    "print('$$ f_1(T) = ({} \\pm {}) \\cdot T + ({} \\pm {})$$'.format(At, At_error, Bt, Bt_error))\n",
    "\n",
    "def br2real(x):\n",
    "    return At * x + Bt\n",
    "\n",
    "T = br2real(data['Tp'] + 273)\n",
    "W = data['I'] * data['V']\n"
   ]
  },
  {
   "cell_type": "code",
   "execution_count": 229,
   "id": "877c2cdd",
   "metadata": {
    "scrolled": true
   },
   "outputs": [
    {
     "data": {
      "image/png": "[encoded data removed]",
      "text/plain": [
       "<Figure size 432x288 with 1 Axes>"
      ]
     },
     "metadata": {
      "needs_background": "light"
     },
     "output_type": "display_data"
    }
   ],
   "source": [
    "def interp(x, y):\n",
    "    return interp1d(x, y, kind='cubic')\n",
    "T = T - 273\n",
    "\n",
    "mipt.plot(T, W, func=None, marker_size=6, exclude=[], linestyle='dashed', xerr=15)\n",
    "\n",
    "z = np.polyfit(T, W, 4)\n",
    "p = np.poly1d(z)\n",
    "t = np.linspace(T.min(), T.max(), 100)\n",
    "plt.plot(t, p(t), ms=10, linestyle=':', color=\"red\")\n",
    "\n",
    "\n",
    "plt.ylabel(r\"$W$, Вт\")\n",
    "plt.xlabel(r\"$T, ^\\circ C$\")\n",
    "plt.grid(True)\n",
    "# plt.legend()\n",
    "plt.savefig('gen/fig-wt.pdf')\n",
    "\n",
    "T = T + 273\n",
    "\n"
   ]
  },
  {
   "cell_type": "code",
   "execution_count": 230,
   "id": "bffcfec3",
   "metadata": {},
   "outputs": [
    {
     "data": {
      "text/html": [
       "<div>\n",
       "<style scoped>\n",
       "    .dataframe tbody tr th:only-of-type {\n",
       "        vertical-align: middle;\n",
       "    }\n",
       "\n",
       "    .dataframe tbody tr th {\n",
       "        vertical-align: top;\n",
       "    }\n",
       "\n",
       "    .dataframe thead th {\n",
       "        text-align: right;\n",
       "    }\n",
       "</style>\n",
       "<table border=\"1\" class=\"dataframe\">\n",
       "  <thead>\n",
       "    <tr style=\"text-align: right;\">\n",
       "      <th></th>\n",
       "      <th>$T, ^oC$</th>\n",
       "      <th>$I$, А</th>\n",
       "      <th>$V$, В</th>\n",
       "      <th>$W$, Вт</th>\n",
       "    </tr>\n",
       "  </thead>\n",
       "  <tbody>\n",
       "    <tr>\n",
       "      <th>0</th>\n",
       "      <td>963.0</td>\n",
       "      <td>0.563</td>\n",
       "      <td>2.115</td>\n",
       "      <td>1.190745</td>\n",
       "    </tr>\n",
       "    <tr>\n",
       "      <th>1</th>\n",
       "      <td>1102.0</td>\n",
       "      <td>0.590</td>\n",
       "      <td>2.389</td>\n",
       "      <td>1.409510</td>\n",
       "    </tr>\n",
       "    <tr>\n",
       "      <th>2</th>\n",
       "      <td>1057.0</td>\n",
       "      <td>0.571</td>\n",
       "      <td>2.194</td>\n",
       "      <td>1.252774</td>\n",
       "    </tr>\n",
       "    <tr>\n",
       "      <th>3</th>\n",
       "      <td>1198.0</td>\n",
       "      <td>0.638</td>\n",
       "      <td>2.881</td>\n",
       "      <td>1.838078</td>\n",
       "    </tr>\n",
       "    <tr>\n",
       "      <th>4</th>\n",
       "      <td>1288.0</td>\n",
       "      <td>0.686</td>\n",
       "      <td>3.402</td>\n",
       "      <td>2.333772</td>\n",
       "    </tr>\n",
       "    <tr>\n",
       "      <th>5</th>\n",
       "      <td>1424.0</td>\n",
       "      <td>0.752</td>\n",
       "      <td>4.166</td>\n",
       "      <td>3.132832</td>\n",
       "    </tr>\n",
       "    <tr>\n",
       "      <th>6</th>\n",
       "      <td>1556.0</td>\n",
       "      <td>0.837</td>\n",
       "      <td>5.218</td>\n",
       "      <td>4.367466</td>\n",
       "    </tr>\n",
       "    <tr>\n",
       "      <th>7</th>\n",
       "      <td>1750.0</td>\n",
       "      <td>0.992</td>\n",
       "      <td>7.357</td>\n",
       "      <td>7.298144</td>\n",
       "    </tr>\n",
       "    <tr>\n",
       "      <th>8</th>\n",
       "      <td>1897.0</td>\n",
       "      <td>1.098</td>\n",
       "      <td>8.950</td>\n",
       "      <td>9.827100</td>\n",
       "    </tr>\n",
       "  </tbody>\n",
       "</table>\n",
       "</div>"
      ],
      "text/plain": [
       "   $T, ^oC$  $I$, А  $V$, В   $W$, Вт\n",
       "0     963.0   0.563   2.115  1.190745\n",
       "1    1102.0   0.590   2.389  1.409510\n",
       "2    1057.0   0.571   2.194  1.252774\n",
       "3    1198.0   0.638   2.881  1.838078\n",
       "4    1288.0   0.686   3.402  2.333772\n",
       "5    1424.0   0.752   4.166  3.132832\n",
       "6    1556.0   0.837   5.218  4.367466\n",
       "7    1750.0   0.992   7.357  7.298144\n",
       "8    1897.0   1.098   8.950  9.827100"
      ]
     },
     "execution_count": 230,
     "metadata": {},
     "output_type": "execute_result"
    }
   ],
   "source": [
    "\n",
    "export = pd.concat([\n",
    "    data['Tp'],\n",
    "    data['I'],\n",
    "    data['V'],\n",
    "    W.rename('W'),  \n",
    "], axis=1)\n",
    "\n",
    "\n",
    "fmt = {\n",
    "    'Tp' : [r'$T, ^oC$', '{:.1f}', 0],\n",
    "    'I' : [r'$I$, А', '{:.2f}', 0],\n",
    "    'V' : [r'$V$, В', '{:.2f}', 0],\n",
    "    'W' : [r'$W$, Вт', '{:.2f}', 0],\n",
    "}\n",
    "\n",
    "tab = mipt.table(export, fmt)\n",
    "tab.to_latex('gen/tab-sb.tex')\n",
    "tab.rename().data"
   ]
  },
  {
   "cell_type": "code",
   "execution_count": null,
   "id": "25b3122f",
   "metadata": {},
   "outputs": [],
   "source": []
  },
  {
   "cell_type": "code",
   "execution_count": 231,
   "id": "2982e6b6",
   "metadata": {
    "scrolled": true
   },
   "outputs": [
    {
     "data": {
      "image/png": "[encoded data removed]",
      "text/plain": [
       "<Figure size 432x288 with 1 Axes>"
      ]
     },
     "metadata": {
      "needs_background": "light"
     },
     "output_type": "display_data"
    }
   ],
   "source": [
    "x, y, equ = mipt.plot(np.log(T), np.log(W), exclude=[], yerr = 0)\n",
    "\n",
    "mnk = mipt.mnk(x, y)\n",
    "mnk.to_latex('gen/tab-mnk.tex')\n",
    "\n",
    "plt.ylabel(r\"$\\lnW$\")\n",
    "plt.xlabel(r\"$\\lnT$\")\n",
    "plt.savefig('gen/fig-linwt.pdf')"
   ]
  },
  {
   "cell_type": "code",
   "execution_count": 232,
   "id": "3cbb7f4f",
   "metadata": {
    "scrolled": false
   },
   "outputs": [
    {
     "data": {
      "image/png": "[encoded data removed]",
      "text/plain": [
       "<Figure size 432x288 with 1 Axes>"
      ]
     },
     "metadata": {
      "needs_background": "light"
     },
     "output_type": "display_data"
    }
   ],
   "source": [
    "data_eps = mipt.read_excel('data/5.8.1-raw.xlsx', usecols=(5,6), header=(0)).dropna()\n",
    "\n",
    "x, y, equ = mipt.plot(data_eps['Teps'], data_eps['Eps'], exclude=[], func=None)\n",
    "\n",
    "z = np.polyfit(data_eps['Teps'], data_eps['Eps'], 2)\n",
    "epsilon = np.poly1d(z)\n",
    "t = np.linspace(data_eps['Teps'].min(), data_eps['Teps'].max(), 100)\n",
    "plt.plot(t, epsilon(t), ms=10, linestyle=':')\n",
    "\n",
    "plt.xlabel(r\"$T ^\\circ C$\")\n",
    "plt.ylabel(r\"$\\varepsilon_T$\")\n",
    "plt.savefig('gen/fig-epsilon.pdf')"
   ]
  },
  {
   "cell_type": "code",
   "execution_count": 233,
   "id": "2d94b85c",
   "metadata": {},
   "outputs": [
    {
     "data": {
      "image/png": "[encoded data removed]",
      "text/plain": [
       "<Figure size 432x288 with 1 Axes>"
      ]
     },
     "metadata": {
      "needs_background": "light"
     },
     "output_type": "display_data"
    }
   ],
   "source": [
    "S = 0.36e-4\n",
    "sigmas = W / (epsilon(T - 273) * T**4 * S)\n",
    "sigmas\n",
    "\n",
    "def interp(x, y):\n",
    "    return interp1d(x, y, kind='cubic', bounds_error=True)\n",
    "\n",
    "x, y, equ = mipt.plot(T, sigmas, exclude=[], func=None, linestyle='--', yerr=sigmas*0.10)\n",
    "\n",
    "\n",
    "z = np.polyfit(T[1:], sigmas[1:], 2)\n",
    "ff = np.poly1d(z)\n",
    "t = np.linspace(T.min(), T.max(), 100)\n",
    "\n",
    "plt.plot(t, ff(t), ms=10, linestyle=':', c ='purple')\n",
    "\n",
    "plt.xlabel(r\"$T \\;K$\")\n",
    "plt.ylabel(r\"$\\sigma, \\frac{W}{m^2 K^4}$\")\n",
    "plt.savefig('gen/fig-sigma.pdf')"
   ]
  },
  {
   "cell_type": "code",
   "execution_count": 234,
   "id": "363d07bb",
   "metadata": {
    "scrolled": true
   },
   "outputs": [
    {
     "ename": "KeyError",
     "evalue": "'u'",
     "output_type": "error",
     "traceback": [
      "\u001b[1;31m---------------------------------------------------------------------------\u001b[0m",
      "\u001b[1;31mKeyError\u001b[0m                                  Traceback (most recent call last)",
      "File \u001b[1;32m~\\AppData\\Roaming\\Python\\Python310\\site-packages\\pandas\\core\\indexes\\base.py:3621\u001b[0m, in \u001b[0;36mIndex.get_loc\u001b[1;34m(self, key, method, tolerance)\u001b[0m\n\u001b[0;32m   3620\u001b[0m \u001b[38;5;28;01mtry\u001b[39;00m:\n\u001b[1;32m-> 3621\u001b[0m     \u001b[38;5;28;01mreturn\u001b[39;00m \u001b[38;5;28;43mself\u001b[39;49m\u001b[38;5;241;43m.\u001b[39;49m\u001b[43m_engine\u001b[49m\u001b[38;5;241;43m.\u001b[39;49m\u001b[43mget_loc\u001b[49m\u001b[43m(\u001b[49m\u001b[43mcasted_key\u001b[49m\u001b[43m)\u001b[49m\n\u001b[0;32m   3622\u001b[0m \u001b[38;5;28;01mexcept\u001b[39;00m \u001b[38;5;167;01mKeyError\u001b[39;00m \u001b[38;5;28;01mas\u001b[39;00m err:\n",
      "File \u001b[1;32m~\\AppData\\Roaming\\Python\\Python310\\site-packages\\pandas\\_libs\\index.pyx:136\u001b[0m, in \u001b[0;36mpandas._libs.index.IndexEngine.get_loc\u001b[1;34m()\u001b[0m\n",
      "File \u001b[1;32m~\\AppData\\Roaming\\Python\\Python310\\site-packages\\pandas\\_libs\\index.pyx:163\u001b[0m, in \u001b[0;36mpandas._libs.index.IndexEngine.get_loc\u001b[1;34m()\u001b[0m\n",
      "File \u001b[1;32mpandas\\_libs\\hashtable_class_helper.pxi:5198\u001b[0m, in \u001b[0;36mpandas._libs.hashtable.PyObjectHashTable.get_item\u001b[1;34m()\u001b[0m\n",
      "File \u001b[1;32mpandas\\_libs\\hashtable_class_helper.pxi:5206\u001b[0m, in \u001b[0;36mpandas._libs.hashtable.PyObjectHashTable.get_item\u001b[1;34m()\u001b[0m\n",
      "\u001b[1;31mKeyError\u001b[0m: 'u'",
      "\nThe above exception was the direct cause of the following exception:\n",
      "\u001b[1;31mKeyError\u001b[0m                                  Traceback (most recent call last)",
      "Input \u001b[1;32mIn [234]\u001b[0m, in \u001b[0;36m<module>\u001b[1;34m\u001b[0m\n\u001b[0;32m      9\u001b[0m y \u001b[38;5;241m=\u001b[39m \u001b[38;5;241m10\u001b[39m \u001b[38;5;241m*\u001b[39m np\u001b[38;5;241m.\u001b[39msin(n \u001b[38;5;241m*\u001b[39m consts\u001b[38;5;241m.\u001b[39mpi \u001b[38;5;241m*\u001b[39m setup\u001b[38;5;241m.\u001b[39mtau_impulse \u001b[38;5;241m*\u001b[39m \u001b[38;5;241m1e-6\u001b[39m\u001b[38;5;241m/\u001b[39m(setup\u001b[38;5;241m.\u001b[39mT_impulse\u001b[38;5;241m*\u001b[39m\u001b[38;5;241m1e-3\u001b[39m)) \u001b[38;5;241m/\u001b[39m (n \u001b[38;5;241m*\u001b[39m consts\u001b[38;5;241m.\u001b[39mpi)\n\u001b[0;32m     10\u001b[0m \u001b[38;5;66;03m#mipt.plot(n, data['u'], func=None, yerr=setup.v_error)\u001b[39;00m\n\u001b[1;32m---> 11\u001b[0m plt\u001b[38;5;241m.\u001b[39mbar(n, \u001b[43mdata\u001b[49m\u001b[43m[\u001b[49m\u001b[38;5;124;43m'\u001b[39;49m\u001b[38;5;124;43mu\u001b[39;49m\u001b[38;5;124;43m'\u001b[39;49m\u001b[43m]\u001b[49m \u001b[38;5;241m/\u001b[39m data[\u001b[38;5;124m'\u001b[39m\u001b[38;5;124mu\u001b[39m\u001b[38;5;124m'\u001b[39m][\u001b[38;5;241m0\u001b[39m], width \u001b[38;5;241m=\u001b[39m \u001b[38;5;241m0.3\u001b[39m)\n\u001b[0;32m     12\u001b[0m mipt\u001b[38;5;241m.\u001b[39mplot(n, y, func\u001b[38;5;241m=\u001b[39minterp, marker_size\u001b[38;5;241m=\u001b[39m\u001b[38;5;241m0\u001b[39m, linestyle\u001b[38;5;241m=\u001b[39m\u001b[38;5;124m'\u001b[39m\u001b[38;5;124mdashed\u001b[39m\u001b[38;5;124m'\u001b[39m)\n\u001b[0;32m     14\u001b[0m plt\u001b[38;5;241m.\u001b[39mxlabel(\u001b[38;5;124mr\u001b[39m\u001b[38;5;124m\"\u001b[39m\u001b[38;5;124m$\u001b[39m\u001b[38;5;124m\\\u001b[39m\u001b[38;5;124mnu_n$, кГц\u001b[39m\u001b[38;5;124m\"\u001b[39m)\n",
      "File \u001b[1;32m~\\AppData\\Roaming\\Python\\Python310\\site-packages\\pandas\\core\\frame.py:3506\u001b[0m, in \u001b[0;36mDataFrame.__getitem__\u001b[1;34m(self, key)\u001b[0m\n\u001b[0;32m   3504\u001b[0m \u001b[38;5;28;01mif\u001b[39;00m \u001b[38;5;28mself\u001b[39m\u001b[38;5;241m.\u001b[39mcolumns\u001b[38;5;241m.\u001b[39mnlevels \u001b[38;5;241m>\u001b[39m \u001b[38;5;241m1\u001b[39m:\n\u001b[0;32m   3505\u001b[0m     \u001b[38;5;28;01mreturn\u001b[39;00m \u001b[38;5;28mself\u001b[39m\u001b[38;5;241m.\u001b[39m_getitem_multilevel(key)\n\u001b[1;32m-> 3506\u001b[0m indexer \u001b[38;5;241m=\u001b[39m \u001b[38;5;28;43mself\u001b[39;49m\u001b[38;5;241;43m.\u001b[39;49m\u001b[43mcolumns\u001b[49m\u001b[38;5;241;43m.\u001b[39;49m\u001b[43mget_loc\u001b[49m\u001b[43m(\u001b[49m\u001b[43mkey\u001b[49m\u001b[43m)\u001b[49m\n\u001b[0;32m   3507\u001b[0m \u001b[38;5;28;01mif\u001b[39;00m is_integer(indexer):\n\u001b[0;32m   3508\u001b[0m     indexer \u001b[38;5;241m=\u001b[39m [indexer]\n",
      "File \u001b[1;32m~\\AppData\\Roaming\\Python\\Python310\\site-packages\\pandas\\core\\indexes\\base.py:3623\u001b[0m, in \u001b[0;36mIndex.get_loc\u001b[1;34m(self, key, method, tolerance)\u001b[0m\n\u001b[0;32m   3621\u001b[0m     \u001b[38;5;28;01mreturn\u001b[39;00m \u001b[38;5;28mself\u001b[39m\u001b[38;5;241m.\u001b[39m_engine\u001b[38;5;241m.\u001b[39mget_loc(casted_key)\n\u001b[0;32m   3622\u001b[0m \u001b[38;5;28;01mexcept\u001b[39;00m \u001b[38;5;167;01mKeyError\u001b[39;00m \u001b[38;5;28;01mas\u001b[39;00m err:\n\u001b[1;32m-> 3623\u001b[0m     \u001b[38;5;28;01mraise\u001b[39;00m \u001b[38;5;167;01mKeyError\u001b[39;00m(key) \u001b[38;5;28;01mfrom\u001b[39;00m \u001b[38;5;21;01merr\u001b[39;00m\n\u001b[0;32m   3624\u001b[0m \u001b[38;5;28;01mexcept\u001b[39;00m \u001b[38;5;167;01mTypeError\u001b[39;00m:\n\u001b[0;32m   3625\u001b[0m     \u001b[38;5;66;03m# If we have a listlike key, _check_indexing_error will raise\u001b[39;00m\n\u001b[0;32m   3626\u001b[0m     \u001b[38;5;66;03m#  InvalidIndexError. Otherwise we fall through and re-raise\u001b[39;00m\n\u001b[0;32m   3627\u001b[0m     \u001b[38;5;66;03m#  the TypeError.\u001b[39;00m\n\u001b[0;32m   3628\u001b[0m     \u001b[38;5;28mself\u001b[39m\u001b[38;5;241m.\u001b[39m_check_indexing_error(key)\n",
      "\u001b[1;31mKeyError\u001b[0m: 'u'"
     ]
    }
   ],
   "source": [
    "from scipy.interpolate import interp1d\n",
    "n = np.arange(1, 11, 1)\n",
    "\n",
    "# x = data['u'][3] * 10 * np.sin(n * consts.pi * setup.tau_impulse * 1e-6/(setup.T_impulse*1e-3)) / (n * consts.pi)\n",
    "\n",
    "def interp(x, y):\n",
    "    return interp1d(x, y, kind='cubic')\n",
    "\n",
    "y = 10 * np.sin(n * consts.pi * setup.tau_impulse * 1e-6/(setup.T_impulse*1e-3)) / (n * consts.pi)\n",
    "#mipt.plot(n, data['u'], func=None, yerr=setup.v_error)\n",
    "plt.bar(n, data['u'] / data['u'][0], width = 0.3)\n",
    "mipt.plot(n, y, func=interp, marker_size=0, linestyle='dashed')\n",
    "\n",
    "plt.xlabel(r\"$\\nu_n$, кГц\")\n",
    "plt.ylabel(r\"$a_n$\")\n",
    "plt.grid(True)\n",
    "# plt.legend()\n",
    "plt.savefig('gen/fig-a9.pdf')\n",
    "\n",
    "\n"
   ]
  },
  {
   "cell_type": "markdown",
   "id": "83a56e7a",
   "metadata": {},
   "source": [
    "#### A11 Постройте график зависимости Δ𝜈(1/𝜏). Проведите наилучшую прямую и по её наклону убедитесь в справедливости соотношения неопределённостей для длительности импульса и ширины спектра. Оцените погрешность данного опыта"
   ]
  },
  {
   "cell_type": "code",
   "execution_count": null,
   "id": "02bbd095",
   "metadata": {
    "scrolled": false
   },
   "outputs": [],
   "source": [
    "dv = data['dv']\n",
    "tau = data['t']\n",
    "\n",
    "x, y, equ = mipt.plot(1/tau, dv, yerr = setup.nu_error)\n",
    "mnk = mipt.mnk(x,y)\n",
    "mnk.to_latex('gen/tab-a11-mnk.tex')\n",
    "\n",
    "plt.xlabel(r\"$1/\\tau$, 1/мс\")\n",
    "plt.ylabel(r\"$\\nu$, кГц\")\n",
    "plt.grid(True)\n",
    "# plt.legend()\n",
    "plt.savefig('gen/fig-a11.pdf')\n",
    "\n",
    "\n",
    "fmt = {\n",
    "    'dv' : [r'$\\Delta\\nu$, кГц', '{:.1f}', 0],\n",
    "    't' :  [r'$\\tau$, мс', '{:.0f}', 0],\n",
    "    '1/tau' :  [r'$\\frac{1}{\\tau}$, 1/мс', '{:.4f}', 0],\n",
    "}\n",
    "\n",
    "dat = pd.concat([dv, tau, (1/tau).rename('1/tau')],axis=1)\n",
    "tab = mipt.table(dat, fmt)\n",
    "tab.to_latex('gen/tab-a11.tex')\n"
   ]
  },
  {
   "cell_type": "markdown",
   "id": "75071278",
   "metadata": {},
   "source": [
    "#### В21 Постройте график зависимости 𝑎бок/𝑎осн от 𝑚. Проведите наилучшую прямую и сравните результат теоретическим. Оцените погрешность данного опыта.\n"
   ]
  },
  {
   "cell_type": "code",
   "execution_count": 14,
   "id": "d7bd9755",
   "metadata": {
    "scrolled": true
   },
   "outputs": [
    {
     "data": {
      "text/html": [
       "<div>\n",
       "<style scoped>\n",
       "    .dataframe tbody tr th:only-of-type {\n",
       "        vertical-align: middle;\n",
       "    }\n",
       "\n",
       "    .dataframe tbody tr th {\n",
       "        vertical-align: top;\n",
       "    }\n",
       "\n",
       "    .dataframe thead th {\n",
       "        text-align: right;\n",
       "    }\n",
       "</style>\n",
       "<table border=\"1\" class=\"dataframe\">\n",
       "  <thead>\n",
       "    <tr style=\"text-align: right;\">\n",
       "      <th></th>\n",
       "      <th>$\\overline{x}$</th>\n",
       "      <th>$\\sigma_x^2$</th>\n",
       "      <th>$\\overline{y}$</th>\n",
       "      <th>$\\sigma_y^2$</th>\n",
       "      <th>$r_{xy}$</th>\n",
       "      <th>$a\\cdot10^3$</th>\n",
       "      <th>$\\Delta a \\cdot10^3$</th>\n",
       "      <th>$b$</th>\n",
       "      <th>$\\Delta b$</th>\n",
       "    </tr>\n",
       "  </thead>\n",
       "  <tbody>\n",
       "    <tr>\n",
       "      <th>0</th>\n",
       "      <td>55.0</td>\n",
       "      <td>825.0</td>\n",
       "      <td>0.216197</td>\n",
       "      <td>0.013571</td>\n",
       "      <td>3.342053</td>\n",
       "      <td>0.004051</td>\n",
       "      <td>0.00007</td>\n",
       "      <td>-0.006607</td>\n",
       "      <td>0.00433</td>\n",
       "    </tr>\n",
       "  </tbody>\n",
       "</table>\n",
       "</div>"
      ],
      "text/plain": [
       "   $\\overline{x}$  $\\sigma_x^2$  $\\overline{y}$  $\\sigma_y^2$  $r_{xy}$  \\\n",
       "0            55.0         825.0        0.216197      0.013571  3.342053   \n",
       "\n",
       "   $a\\cdot10^3$  $\\Delta a \\cdot10^3$       $b$  $\\Delta b$  \n",
       "0      0.004051               0.00007 -0.006607     0.00433  "
      ]
     },
     "execution_count": 14,
     "metadata": {},
     "output_type": "execute_result"
    },
    {
     "data": {
      "image/png": "[encoded data removed]",
      "text/plain": [
       "<Figure size 640x480 with 1 Axes>"
      ]
     },
     "metadata": {},
     "output_type": "display_data"
    }
   ],
   "source": [
    "dat = dat = pd.concat([\n",
    "    data['m'], \n",
    "    data['ao'],  \n",
    "    data['ab'],\n",
    "    (data['ab']/data['ao']).rename('bo'),\n",
    "],axis=1)\n",
    "\n",
    "x, y, equ = mipt.plot(dat['m'], dat['bo'], yerr = 1.5 * dat['bo'] * setup.v_error / dat['ab'])\n",
    "\n",
    "mnk_fmt = {\n",
    "    '<x>':    ['$\\overline{x}$', '{:.2e}'],\n",
    "    'sx':     ['$\\sigma_x^2$',   '{:.2e}'],\n",
    "    '<y>':    ['$\\overline{y}$', '{:.2e}'],\n",
    "    'sy':     ['$\\sigma_y^2$',   '{:.2e}'],\n",
    "    'rxy':    ['$r_{xy}$',       '{:.2e}'],\n",
    "    'a':      ['$a\\cdot10^3$', '{:.2f}', 3],\n",
    "    'da':     ['$\\Delta a \\cdot10^3$', '{:.2f}', 3],\n",
    "    'b':      ['$b$',            '{:.2e}'],\n",
    "    'db':     ['$\\Delta b$',     '{:.2e}'],\n",
    "}\n",
    "\n",
    "\n",
    "mnk = mipt.mnk(x,y,fmt=mnk_fmt)\n",
    "mnk.to_latex('gen/tab-v21-mnk.tex')\n",
    "\n",
    "plt.xlabel(r\"$m$, %\")\n",
    "plt.ylabel(r\"$a_1/a_2$\")\n",
    "plt.grid(True)\n",
    "# plt.legend()\n",
    "plt.savefig('gen/fig-v21.pdf')\n",
    "\n",
    "fmt = {\n",
    "    'm'  : [r'$m$, \\%', '{:.0f}', 0],\n",
    "    'ao' : [r'$a_{\\text{осн}}$, мВ', '{:.1f}', 0],\n",
    "    'ab' : [r'$a_{\\text{бок}}$, мВ', '{:.1f}', 0],\n",
    "    'bo' : [r'$\\frac{a_{\\text{бок}}}{a_{\\text{осн}}}$', '{:.4f}', 0],\n",
    "}\n",
    "\n",
    "tab = mipt.table(dat, fmt)\n",
    "tab.to_latex('gen/tab-v21.tex')\n",
    "mnk.rename().data"
   ]
  },
  {
   "cell_type": "code",
   "execution_count": 15,
   "id": "af0ee8d9",
   "metadata": {},
   "outputs": [
    {
     "data": {
      "image/png": "[encoded data removed]",
      "text/plain": [
       "<Figure size 640x480 with 1 Axes>"
      ]
     },
     "metadata": {},
     "output_type": "display_data"
    }
   ],
   "source": [
    "x, y, equ = mipt.plot(dat['m'], dat['bo'])\n",
    "mnk = mipt.mnk(x,y)\n",
    "mnk.to_latex('gen/tab-v21-mnk.tex')\n",
    "\n",
    "plt.xlabel(r\"$m$, %\")\n",
    "plt.ylabel(r\"$\\frac{a_{бок}}{a_{осн}}$\")\n",
    "plt.grid(True)\n",
    "# plt.legend()\n",
    "plt.savefig('gen/fig-v21.pdf')\n",
    "\n",
    "\n",
    "fmt = {\n",
    "    'm'  : [r'$m$, %', '{:.0f}', 0],\n",
    "    'ao' : [r'$\\tau$, мВ', '{:.1f}', 0],\n",
    "    'ab' : [r'$\\frac{1}{\\tau}$, мВ', '{:.1f}', 0],\n",
    "    'bo' : [r'$\\frac{a_{\\text{бок}}}{a_{\\text{осн}}}$', '{:.4f}', 0],\n",
    "}\n",
    "\n",
    "tab = mipt.table(dat, fmt)\n",
    "tab.to_latex('gen/tab-v21.tex')"
   ]
  },
  {
   "cell_type": "code",
   "execution_count": null,
   "id": "5342d786",
   "metadata": {},
   "outputs": [],
   "source": []
  }
 ],
 "metadata": {
  "kernelspec": {
   "display_name": "Python 3 (ipykernel)",
   "language": "python",
   "name": "python3"
  },
  "language_info": {
   "codemirror_mode": {
    "name": "ipython",
    "version": 3
   },
   "file_extension": ".py",
   "mimetype": "text/x-python",
   "name": "python",
   "nbconvert_exporter": "python",
   "pygments_lexer": "ipython3",
   "version": "3.10.2"
  }
 },
 "nbformat": 4,
 "nbformat_minor": 5
}
