{
 "cells": [
  {
   "cell_type": "code",
   "execution_count": 259,
   "id": "2537a706",
   "metadata": {},
   "outputs": [],
   "source": [
    "import numpy as np\n",
    "import pandas as pd\n",
    "import matplotlib.pyplot as plt\n",
    "import math\n",
    "import scipy as sp\n",
    "import scipy.optimize as op\n",
    "from scipy.interpolate import UnivariateSpline\n",
    "import copy\n",
    "import re\n",
    "\n",
    "# Adding library directory to python search path\n",
    "import os\n",
    "import sys\n",
    "import git\n",
    "repo = git.Repo('.', search_parent_directories=True)\n",
    "library_dir = repo.working_tree_dir + '/lib'\n",
    "sys.path.insert(0, library_dir)\n",
    "\n",
    "import miptlib as mipt\n",
    "\n",
    "# Create directory for generated .tex and .pdf\n",
    "if not os.path.exists('gen'):\n",
    "    os.mkdir('gen')"
   ]
  },
  {
   "cell_type": "markdown",
   "id": "17234854",
   "metadata": {},
   "source": [
    "## Динамический метод (первичные экпериментальные данные + обработка)"
   ]
  },
  {
   "cell_type": "code",
   "execution_count": 260,
   "id": "90f1fada",
   "metadata": {
    "scrolled": false
   },
   "outputs": [
    {
     "name": "stdout",
     "output_type": "stream",
     "text": [
      "<dV> = 16.24903666666667 \\pm 2.4027809329837724\n"
     ]
    }
   ],
   "source": [
    "dynamic = mipt.read_excel('data/5.2.1.xlsx', usecols=('N', 'O', 'P'), header=(0)).dropna()\n",
    "dynamic\n",
    "\n",
    "dVs_tab = pd.DataFrame(columns=['dVmax1', 'dVmin1', 'dVmax2', 'dVmin2']) # to export\n",
    "dVs = np.array([]) # to use later, linear\n",
    "dVs_err = np.array([]) # to use later, linear\n",
    "\n",
    "\n",
    "kostil_do_not_use_i = 0\n",
    "\n",
    "def do_dyn_shit(x):\n",
    "    x_err = 0.02 * x + 1 # Artem, for you\n",
    "    \n",
    "    __export = pd.concat([\n",
    "        x.rename('x_i'),\n",
    "        x_err.rename('dx_i'),\n",
    "    ], axis=1)\n",
    "    \n",
    "    dV_row = [x[i+2] - x[i] for i in range(len(x) - 2) if i < len(x)//4 or i >= len(x)//2] # Do not know why, sorry\n",
    "    dV_row_err = [math.sqrt(x_err[i+2]**2 + x_err[i]**2) for i in range(len(x) - 2) if i < len(x)//4 or i >= len(x)//2]\n",
    "    \n",
    "    global dVs, dVs_err, dVs_tab, kostil_do_not_use_i\n",
    "    dVs_tab.loc[kostil_do_not_use_i] = dV_row\n",
    "    kostil_do_not_use_i += 1\n",
    "    dVs = np.append(dVs, dV_row)\n",
    "    dVs_err = np.append(dVs_err, dV_row_err)\n",
    "\n",
    "    \n",
    "    tab = mipt.table(__export, fmt)\n",
    "    \n",
    "    return __export #tab.rename().data\n",
    "\n",
    "d = { r'$U = 4$ В' : do_dyn_shit(dynamic['Udyn=4']), \n",
    "      r'$U = 6$ В' : do_dyn_shit(dynamic['Udyn=6']),\n",
    "      r'$U = 8$ В' : do_dyn_shit(dynamic['Udyn=8']) }\n",
    "\n",
    "export = pd.concat(d.values(), axis=1, keys=d.keys())\n",
    "\n",
    "# Похер уже\n",
    "fmt = {\n",
    "    (r'$U = 4$ В', 'x_i') : [r'$x_i$, В', '{:.1f}', 0],\n",
    "    (r'$U = 4$ В', 'dx_i') : [r'$\\sigma_{x_i}$, В', '{:.1f}', 0],\n",
    "    (r'$U = 6$ В', 'x_i') : [r'$x_i$, В', '{:.1f}', 0],\n",
    "    (r'$U = 6$ В', 'dx_i') : [r'$\\sigma_{x_i}$, В', '{:.1f}', 0],\n",
    "    (r'$U = 8$ В', 'x_i') : [r'$x_i$, В', '{:.1f}', 0],\n",
    "    (r'$U = 8$ В', 'dx_i') : [r'$\\sigma_{x_i}$, В', '{:.1f}', 0],\n",
    "}\n",
    "\n",
    "tab = mipt.table(export, fmt)\n",
    "tab.to_latex('gen/tab-dynamic-xi.tex')\n",
    "\n",
    "fmt = {\n",
    "    ('dVmax1') : [r'$\\Delta V_{max}^{(1)}$, В', '{:.1f}', 0],\n",
    "    ('dVmax2') : [r'$\\Delta V_{max}^{(2)}$, В', '{:.1f}', 0],\n",
    "    ('dVmin1') : [r'$\\Delta V_{max}^{(1)}$, В', '{:.1f}', 0],\n",
    "    ('dVmin2') : [r'$\\Delta V_{max}^{(2)}$, В', '{:.1f}', 0],\n",
    "}\n",
    "\n",
    "tab = mipt.table(dVs_tab, fmt)\n",
    "tab.to_latex('gen/tab-dynamic-dvs.tex')\n",
    "tab.data\n",
    "\n",
    "\n",
    "print(\"<dV> = {} \\pm {}\".format(dVs.mean(), math.sqrt(dVs.std()**2 + dVs_err.mean()**2)))"
   ]
  },
  {
   "cell_type": "markdown",
   "id": "15fb1b14",
   "metadata": {},
   "source": [
    "## Статический метод (первичные данные + обработка)"
   ]
  },
  {
   "cell_type": "code",
   "execution_count": 261,
   "id": "17cc0467",
   "metadata": {},
   "outputs": [
    {
     "name": "stdout",
     "output_type": "stream",
     "text": [
      "<dV> = 18.166666666666668 \\pm 3.39934634239519\n"
     ]
    },
    {
     "data": {
      "image/png": "[encoded data removed]",
      "text/plain": [
       "<Figure size 432x288 with 1 Axes>"
      ]
     },
     "metadata": {
      "needs_background": "light"
     },
     "output_type": "display_data"
    }
   ],
   "source": [
    "static = mipt.read_excel('data/5.2.1.xlsx', usecols=('E', 'F', 'H', 'I', 'K', 'L'), header=(0,1)).dropna()\n",
    "static\n",
    "\n",
    "from scipy.interpolate import interp1d\n",
    "#    return interp1d(x, y, kind='cubic')\n",
    "\n",
    "dVs_tab = pd.DataFrame(columns=['dVmax', 'dVmin']) # to export\n",
    "dVs = np.array([]) # to use later, linear\n",
    "dVs_err = np.array([]) # to use later, linear\n",
    "\n",
    "from scipy.interpolate import UnivariateSpline\n",
    "def interp(x, y):\n",
    "    return UnivariateSpline(x, y, s = 0.0002)\n",
    "\n",
    "kostil_do_not_use_i = 0\n",
    "\n",
    "def do_static_shit(data, mins, maxs):\n",
    "    data = data.sort_values(by=['U']).reset_index(drop=True)\n",
    "    #print(data)\n",
    "    u = data['U']\n",
    "    u_err = 0.01 * u # Artem, for you\n",
    "\n",
    "    i = data['I']\n",
    "    i_err = 0.01 * i # Artem, for you\n",
    "\n",
    "    mipt.plot(u, i, func=interp, marker_size=6, exclude=[], linestyle='dashed', xerr = u_err, yerr = i_err, linewidth=0.5)\n",
    "\n",
    "    for m in mins:\n",
    "        plt.axvline(m, linewidth=0.5, ls = ':',color=plt.gca().lines[-1].get_color())\n",
    "    for m in maxs:\n",
    "        plt.axvline(m, linewidth=0.5, ls = ':', color=plt.gca().lines[-1].get_color())\n",
    "            \n",
    "    dV_row = []\n",
    "    dV_row.extend([mins[i+1] - mins[i] for i in range(len(mins) - 1)])\n",
    "    dV_row.extend([maxs[i+1] - maxs[i] for i in range(len(maxs) - 1)])\n",
    "    \n",
    "    global dVs, dVs_tab, kostil_do_not_use_i\n",
    "    dVs_tab.loc[kostil_do_not_use_i] = dV_row\n",
    "    kostil_do_not_use_i += 1\n",
    "    \n",
    "    dVs = np.append(dVs, dV_row)\n",
    "    \n",
    "    __export = pd.concat([\n",
    "        u.rename('u'),\n",
    "        u_err.rename('du'),\n",
    "        i.rename('i'),\n",
    "        i_err.rename('di'),\n",
    "    ], axis=1)\n",
    "    \n",
    "    plt.xlabel(r\"$V$, В\")\n",
    "    plt.ylabel(r\"$I$, А\")\n",
    "\n",
    "    plt.savefig('gen/fig-vi.pdf')\n",
    "    \n",
    "    return __export\n",
    "    \n",
    "# Чего только не придумаешь...\n",
    "def get_fmt(label):\n",
    "    return {\n",
    "        (label, 'u') : [r'$U$, В', '{:.1f}', 0],\n",
    "        (label, 'du') : [r'$\\sigma_{U}$, В', '{:.1f}', 0],\n",
    "        (label, 'i') : [r'$I$, А', '{:.3f}', 0],\n",
    "        (label, 'di') : [r'$\\sigma_{I}$, А', '{:.3f}', 0],\n",
    "    }\n",
    "\n",
    "def export_this(number, mins, maxs):\n",
    "    d = { r'$U = {}$ В'.format(number) : do_static_shit(static['U={}'.format(number)], mins, maxs) }\n",
    "    export = pd.concat(d.values(), axis=1, keys=d.keys())\n",
    "    tab = mipt.table(export, get_fmt(r'$U = {}$ В'.format(number)))\n",
    "    tab.to_latex('gen/tab-dynamic-{}.tex'.format(number))\n",
    "\n",
    "export_this(8, (27, 50), (23.5, 38))\n",
    "export_this(6, (26, 47.5), (22, 37))\n",
    "export_this(4, (20, 36), (25, 44))\n",
    "\n",
    "experimenter_hands_err = 1\n",
    "\n",
    "print(\"<dV> = {} \\pm {}\".format(dVs.mean(), math.sqrt(dVs.std()**2 + experimenter_hands_err**2)))"
   ]
  },
  {
   "cell_type": "code",
   "execution_count": null,
   "id": "f5450737",
   "metadata": {},
   "outputs": [],
   "source": []
  }
 ],
 "metadata": {
  "kernelspec": {
   "display_name": "Python 3 (ipykernel)",
   "language": "python",
   "name": "python3"
  },
  "language_info": {
   "codemirror_mode": {
    "name": "ipython",
    "version": 3
   },
   "file_extension": ".py",
   "mimetype": "text/x-python",
   "name": "python",
   "nbconvert_exporter": "python",
   "pygments_lexer": "ipython3",
   "version": "3.10.2"
  }
 },
 "nbformat": 4,
 "nbformat_minor": 5
}
