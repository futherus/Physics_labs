{
 "cells": [
  {
   "cell_type": "code",
   "execution_count": 1,
   "id": "2537a706",
   "metadata": {},
   "outputs": [],
   "source": [
    "import numpy as np\n",
    "import pandas as pd\n",
    "import matplotlib.pyplot as plt\n",
    "import math\n",
    "import scipy as sp\n",
    "import scipy.optimize as op\n",
    "from scipy.interpolate import UnivariateSpline\n",
    "import copy\n",
    "import re\n",
    "\n",
    "# Adding library directory to python search path\n",
    "import os\n",
    "import sys\n",
    "import git\n",
    "repo = git.Repo('.', search_parent_directories=True)\n",
    "library_dir = repo.working_tree_dir + '/lib'\n",
    "sys.path.insert(0, library_dir)\n",
    "\n",
    "import miptlib as mipt\n",
    "\n",
    "# Create directory for generated .tex and .pdf\n",
    "if not os.path.exists('gen'):\n",
    "    os.mkdir('gen')"
   ]
  },
  {
   "cell_type": "markdown",
   "id": "17234854",
   "metadata": {},
   "source": [
    "## Первичные экпериментальные данные"
   ]
  },
  {
   "cell_type": "markdown",
   "id": "02615915",
   "metadata": {},
   "source": [
    "### Шум"
   ]
  },
  {
   "cell_type": "code",
   "execution_count": 2,
   "id": "315994bb",
   "metadata": {},
   "outputs": [],
   "source": [
    "noise = mipt.read_excel('data/5.4.3.xlsx', usecols=('A', 'B', 'C', 'D', 'E', 'F', 'G', 'H'), header=(0, 1)).dropna()\n",
    "\n",
    "fmt = {\n",
    "    ('Noise', 't1') : [r'$t_1$, мин', '{:.0f}', 0],\n",
    "    ('Noise', 't2') : [r'$t_2$, мин', '{:.0f}', 0],\n",
    "    ('Noise', 'n1') : [r'$n_1$', '{:.1f}', 0],\n",
    "    ('Noise', 'n2') : [r'$n_2$', '{:.1f}', 0],\n",
    "    ('Noise', 'dn1') : [r'$\\sigma_{n_1}$', '{:.0f}', 0],\n",
    "    ('Noise', 'dn2') : [r'$\\sigma_{n_2}$', '{:.0f}', 0],\n",
    "    ('Noise', 'N1') : [r'$N_1$', '{:.0f}', 0],\n",
    "    ('Noise', 'N2') : [r'$N_2$', '{:.0f}', 0],\n",
    "    ('Noise') : [r'$Шум$', '{:.0f}', 0],\n",
    "}\n",
    "\n",
    "tab = mipt.table(noise, fmt)\n",
    "tab.to_latex('gen/tab-noise.tex')\n",
    "\n",
    "noise = noise['Noise']"
   ]
  },
  {
   "cell_type": "markdown",
   "id": "1c6e049a",
   "metadata": {},
   "source": [
    "### Отдельный"
   ]
  },
  {
   "cell_type": "code",
   "execution_count": 3,
   "id": "9e228093",
   "metadata": {},
   "outputs": [],
   "source": [
    "separate = mipt.read_excel('data/5.4.3.xlsx', usecols=('J', 'K', 'L', 'M', 'N', 'O', 'P', 'Q'), header=(0, 1)).dropna()\n",
    "\n",
    "fmt = {\n",
    "    ('Separate', 't1') : [r'$t_1$, мин', '{:.0f}', 0],\n",
    "    ('Separate', 't2') : [r'$t_2$, мин', '{:.0f}', 0],\n",
    "    ('Separate', 'n1') : [r'$n_1$', '{:.0f}', 0],\n",
    "    ('Separate', 'n2') : [r'$n_2$', '{:.0f}', 0],\n",
    "    ('Separate', 'dn1') : [r'$\\sigma_{n_1}$', '{:.0f}', 0],\n",
    "    ('Separate', 'dn2') : [r'$\\sigma_{n_2}$', '{:.0f}', 0],\n",
    "    ('Separate', 'N1') : [r'$N_1$', '{:.0f}', 0],\n",
    "    ('Separate', 'N2') : [r'$N_2$', '{:.0f}', 0],\n",
    "    ('Separate') : [r'ФЭУ', '{:.0f}', 0],\n",
    "}\n",
    "\n",
    "tab = mipt.table(separate, fmt)\n",
    "tab.to_latex('gen/tab-separate.tex')\n",
    "\n",
    "separate = separate['Separate']"
   ]
  },
  {
   "cell_type": "markdown",
   "id": "6144af98",
   "metadata": {},
   "source": [
    "### Режим совпадений"
   ]
  },
  {
   "cell_type": "code",
   "execution_count": 4,
   "id": "e68eeffb",
   "metadata": {},
   "outputs": [],
   "source": [
    "overlap = mipt.read_excel('data/5.4.3.xlsx', usecols=('S', 'T', 'U', 'V', 'W'), header=(0, 1)).dropna()\n",
    "\n",
    "fmt = {\n",
    "    ('Overlap', 'tau, us') : [r'$\\tau$, мкс', '{:.1f}', 0],\n",
    "    ('Overlap', 't') : [r'$t$, мин', '{:.0f}', 0],\n",
    "    ('Overlap', 'n') : [r'$n$', '{:.1f}', 0],\n",
    "    ('Overlap', 'dn') : [r'$\\sigma_{n}$', '{:.1f}', 0],\n",
    "    ('Overlap', 'N') : [r'$N$', '{:.0f}', 0],\n",
    "    ('Overlap') : [r'СС в режиме совпадений', '{:.0f}', 0],\n",
    "}\n",
    "\n",
    "tab = mipt.table(overlap, fmt)\n",
    "tab.to_latex('gen/tab-overlap.tex')\n",
    "\n",
    "overlap = overlap['Overlap']"
   ]
  },
  {
   "cell_type": "markdown",
   "id": "262d8d6c",
   "metadata": {},
   "source": [
    "## Обработка"
   ]
  },
  {
   "cell_type": "markdown",
   "id": "ed91b455",
   "metadata": {},
   "source": [
    "### Шум отдельного ФЭУ"
   ]
  },
  {
   "cell_type": "code",
   "execution_count": 5,
   "id": "04e98d88",
   "metadata": {},
   "outputs": [
    {
     "name": "stdout",
     "output_type": "stream",
     "text": [
      "n1_noise = 33.85277777777778 +- 0.3066497394348123\n",
      "n2_noise = 27.08055555555556 +- 0.2742677045504243\n"
     ]
    }
   ],
   "source": [
    "# Результаты повторяются каждый раз.\n",
    "# Погрешность совпадает с погрешностью одного измерения / корень n.\n",
    "n1_noise = noise['n1'].mean()\n",
    "dn1_noise = noise['dn1'].mean() / math.sqrt(len(noise['dn1']))\n",
    "\n",
    "n2_noise = noise['n2'].mean()\n",
    "dn2_noise = noise['dn2'].mean() / math.sqrt(len(noise['dn1']))\n",
    "\n",
    "print('n1_noise = {} +- {}'.format(n1_noise, dn1_noise))\n",
    "print('n2_noise = {} +- {}'.format(n2_noise, dn2_noise))"
   ]
  },
  {
   "cell_type": "markdown",
   "id": "87d2c7f3",
   "metadata": {},
   "source": [
    "### Истинная скорость счета"
   ]
  },
  {
   "cell_type": "code",
   "execution_count": 6,
   "id": "08d5425e",
   "metadata": {},
   "outputs": [
    {
     "name": "stdout",
     "output_type": "stream",
     "text": [
      "n1_orig = 2738.8125 +- 3.3781148810433357\n",
      "n2_orig = 1013.7083333333334 +- 2.055044507222718\n",
      "n1 = 2704.9597222222224 +- 3.3781148810433357, 0.124885958681414%\n",
      "n2 = 986.6277777777779 +- 2.055044507222718, 0.2082897475126211%\n"
     ]
    }
   ],
   "source": [
    "# Погрешность шума здесь погоды не сделает (под корнем сумма). \n",
    "\n",
    "n1_orig = separate['n1'].mean()\n",
    "dn1_orig = separate['dn1'].mean() / math.sqrt(len(separate['dn1']))\n",
    "\n",
    "n2_orig = separate['n2'].mean()\n",
    "dn2_orig = separate['dn2'].mean() / math.sqrt(len(separate['dn2']))\n",
    "\n",
    "print('n1_orig = {} +- {}'.format(n1_orig, dn1_orig))\n",
    "print('n2_orig = {} +- {}'.format(n2_orig, dn2_orig))\n",
    "\n",
    "n1 = n1_orig - n1_noise\n",
    "dn1 = dn1_orig\n",
    "\n",
    "n2 = n2_orig - n2_noise\n",
    "dn2 = dn2_orig\n",
    "\n",
    "print('n1 = {} +- {}, {}%'.format(n1, dn1, dn1/n1 * 100))\n",
    "print('n2 = {} +- {}, {}%'.format(n2, dn2, dn2/n2 * 100))"
   ]
  },
  {
   "cell_type": "markdown",
   "id": "ea576882",
   "metadata": {},
   "source": [
    "### Режим совпадений"
   ]
  },
  {
   "cell_type": "code",
   "execution_count": 7,
   "id": "c8f819ab",
   "metadata": {},
   "outputs": [
    {
     "name": "stdout",
     "output_type": "stream",
     "text": [
      "1.9733333333333334\n",
      "3.4833333333333334\n",
      "5.220833333333333\n"
     ]
    },
    {
     "data": {
      "text/html": [
       "<div>\n",
       "<style scoped>\n",
       "    .dataframe tbody tr th:only-of-type {\n",
       "        vertical-align: middle;\n",
       "    }\n",
       "\n",
       "    .dataframe tbody tr th {\n",
       "        vertical-align: top;\n",
       "    }\n",
       "\n",
       "    .dataframe thead th {\n",
       "        text-align: right;\n",
       "    }\n",
       "</style>\n",
       "<table border=\"1\" class=\"dataframe\">\n",
       "  <thead>\n",
       "    <tr style=\"text-align: right;\">\n",
       "      <th></th>\n",
       "      <th>tau</th>\n",
       "      <th>n_lucky</th>\n",
       "      <th>dn_lucky</th>\n",
       "      <th>n_overlaps</th>\n",
       "      <th>dn_overlaps</th>\n",
       "      <th>n0</th>\n",
       "      <th>dn0</th>\n",
       "    </tr>\n",
       "  </thead>\n",
       "  <tbody>\n",
       "    <tr>\n",
       "      <th>0</th>\n",
       "      <td>0.2</td>\n",
       "      <td>1.110543</td>\n",
       "      <td>0.002635</td>\n",
       "      <td>0.862791</td>\n",
       "      <td>0.057408</td>\n",
       "      <td>45.144081</td>\n",
       "      <td>3.005781</td>\n",
       "    </tr>\n",
       "    <tr>\n",
       "      <th>1</th>\n",
       "      <td>0.5</td>\n",
       "      <td>2.776357</td>\n",
       "      <td>0.006588</td>\n",
       "      <td>0.706976</td>\n",
       "      <td>0.087361</td>\n",
       "      <td>55.093623</td>\n",
       "      <td>6.809220</td>\n",
       "    </tr>\n",
       "    <tr>\n",
       "      <th>2</th>\n",
       "      <td>1.0</td>\n",
       "      <td>5.552714</td>\n",
       "      <td>0.013177</td>\n",
       "      <td>-0.331881</td>\n",
       "      <td>0.148062</td>\n",
       "      <td>-117.361075</td>\n",
       "      <td>-52.359076</td>\n",
       "    </tr>\n",
       "  </tbody>\n",
       "</table>\n",
       "</div>"
      ],
      "text/plain": [
       "   tau   n_lucky  dn_lucky  n_overlaps  dn_overlaps          n0        dn0\n",
       "0  0.2  1.110543  0.002635    0.862791     0.057408   45.144081   3.005781\n",
       "1  0.5  2.776357  0.006588    0.706976     0.087361   55.093623   6.809220\n",
       "2  1.0  5.552714  0.013177   -0.331881     0.148062 -117.361075 -52.359076"
      ]
     },
     "execution_count": 7,
     "metadata": {},
     "output_type": "execute_result"
    }
   ],
   "source": [
    "tab = pd.DataFrame(columns=['tau', 'n_lucky', 'dn_lucky', 'n_overlaps', 'dn_overlaps', 'n0', 'dn0']) # to export\n",
    "\n",
    "tau = [0.2, 0.5, 1.0]\n",
    "for i, t in enumerate(tau):\n",
    "    s = overlap.loc[overlap['tau, us'] == t]\n",
    "    s_n = s['n'].mean()\n",
    "    s_dn = s['dn'].mean() / math.sqrt(len(s['dn']))\n",
    "\n",
    "    s_n_lucky = 2 * t * 1e-6 * n1_orig * n2_orig # n_сл (формула 10)\n",
    "    s_dn_lucky = s_n_lucky * math.sqrt( (dn1_orig/n1_orig)**2 + (dn2_orig/n2_orig)**2 )\n",
    "\n",
    "    print(s_n)\n",
    "    s_n_overlaps = s_n - s_n_lucky # N_совп\n",
    "    s_dn_overlaps = math.sqrt(s_dn**2 + s_dn_lucky**2)\n",
    "\n",
    "    s_n0 = ( 1.08 * n1 * n2 ) / ( 2 * s_n_overlaps ) / 3.7e4 # формула (8), ответ в мкКи\n",
    "    s_dn0 = s_n0 * math.sqrt( (dn1/n1)**2 + (dn2/n2)**2 + (s_dn_overlaps/s_n_overlaps)**2 ) # ответ в мкКи\n",
    "\n",
    "    row = [t, s_n_lucky, s_dn_lucky, s_n_overlaps, s_dn_overlaps, s_n0, s_dn0]\n",
    "    tab.loc[i] = row\n",
    "\n",
    "tab"
   ]
  },
  {
   "cell_type": "code",
   "execution_count": 13,
   "id": "3858b4a6",
   "metadata": {},
   "outputs": [
    {
     "name": "stdout",
     "output_type": "stream",
     "text": [
      "n0 = 50.11885214222255 +- 3.47012675134197, 0%\n"
     ]
    },
    {
     "data": {
      "image/png": "[encoded data removed]",
      "text/plain": [
       "<Figure size 640x480 with 1 Axes>"
      ]
     },
     "metadata": {},
     "output_type": "display_data"
    }
   ],
   "source": [
    "tau = list(tab['tau'])[0:3]\n",
    "n0 = list(tab['n0'])[0:3]\n",
    "dn0 = list(np.abs(tab['dn0']))[0:3]\n",
    "\n",
    "mipt.plot(tau, n0, yerr=dn0, exclude=(2,), func=None)\n",
    "plt.xlabel(\"$\\\\tau$, мкс\")\n",
    "plt.ylabel(\"$n_0$, мкКи\")\n",
    "plt.savefig(\"gen/n0_tau.png\")\n",
    "\n",
    "n0 = tab['n0'][0:2]\n",
    "dn0 = tab['dn0'][0:2]\n",
    "print('n0 = {} +- {}, {}%'.format(n0.mean(), dn0.mean() / math.sqrt(2), 0))"
   ]
  },
  {
   "cell_type": "code",
   "execution_count": null,
   "id": "f17d4f79",
   "metadata": {},
   "outputs": [],
   "source": []
  }
 ],
 "metadata": {
  "kernelspec": {
   "display_name": "Python 3 (ipykernel)",
   "language": "python",
   "name": "python3"
  },
  "language_info": {
   "codemirror_mode": {
    "name": "ipython",
    "version": 3
   },
   "file_extension": ".py",
   "mimetype": "text/x-python",
   "name": "python",
   "nbconvert_exporter": "python",
   "pygments_lexer": "ipython3",
   "version": "3.10.12"
  }
 },
 "nbformat": 4,
 "nbformat_minor": 5
}
