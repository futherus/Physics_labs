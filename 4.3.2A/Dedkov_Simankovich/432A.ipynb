{
 "cells": [
  {
   "cell_type": "code",
   "execution_count": 3,
   "id": "d9d2f00a",
   "metadata": {},
   "outputs": [],
   "source": [
    "import numpy as np\n",
    "import pandas as pd\n",
    "import matplotlib.pyplot as plt\n",
    "import matplotlib.ticker as ticker\n",
    "import math\n",
    "import scipy as sp\n",
    "import scipy.optimize as op\n",
    "from scipy.interpolate import UnivariateSpline\n",
    "import copy\n",
    "\n",
    "# Adding library directory to python search path|\n",
    "import sys\n",
    "import git\n",
    "repo = git.Repo('.', search_parent_directories=True)\n",
    "library_dir = repo.working_tree_dir + '/lib'\n",
    "sys.path.insert(0, library_dir)\n",
    "\n",
    "import miptlib as mipt"
   ]
  },
  {
   "cell_type": "code",
   "execution_count": 4,
   "id": "ca6f4957",
   "metadata": {},
   "outputs": [],
   "source": [
    "class setup:\n",
    "    wlen = 0.640 # mkm (light wavelength)\n",
    "    wlen_err = 0.020 # mkm\n",
    "    focal = 0.3 # m (focal distance)\n",
    "    focal_err = 0.01 # m\n",
    "    mkm_in_del = 4 # (string tuning coeff)\n",
    "    x_err = 10 # del (string tuning err)\n",
    "    nu_err = 0.001 # MHz (frequency err)\n",
    "    \n",
    "def t_coeff(n):\n",
    "    '''\n",
    "    Returns t-test coefficient\n",
    "    n -- number of points\n",
    "    '''\n",
    "    assert n > 0, 'n must be positive'\n",
    "    __students = [12.7062, 4.3027, 3.1824, 2.7764, 2.5706, 2.4469, 2.3646, 2.3060, 2.2622]\n",
    "    if n < len(__students):\n",
    "        return __students[n-1]\n",
    "    else:\n",
    "        return 2"
   ]
  },
  {
   "cell_type": "code",
   "execution_count": 5,
   "id": "fd28e51d",
   "metadata": {
    "scrolled": false
   },
   "outputs": [
    {
     "data": {
      "text/html": [
       "<div>\n",
       "<style scoped>\n",
       "    .dataframe tbody tr th:only-of-type {\n",
       "        vertical-align: middle;\n",
       "    }\n",
       "\n",
       "    .dataframe tbody tr th {\n",
       "        vertical-align: top;\n",
       "    }\n",
       "\n",
       "    .dataframe thead tr th {\n",
       "        text-align: left;\n",
       "    }\n",
       "</style>\n",
       "<table border=\"1\" class=\"dataframe\">\n",
       "  <thead>\n",
       "    <tr>\n",
       "      <th></th>\n",
       "      <th colspan=\"2\" halign=\"left\">1.16</th>\n",
       "      <th colspan=\"2\" halign=\"left\">1.81</th>\n",
       "      <th colspan=\"2\" halign=\"left\">4.10</th>\n",
       "      <th colspan=\"2\" halign=\"left\">4.60</th>\n",
       "      <th colspan=\"2\" halign=\"left\">3.46</th>\n",
       "    </tr>\n",
       "    <tr>\n",
       "      <th></th>\n",
       "      <th>N</th>\n",
       "      <th>x</th>\n",
       "      <th>N</th>\n",
       "      <th>x</th>\n",
       "      <th>N</th>\n",
       "      <th>x</th>\n",
       "      <th>N</th>\n",
       "      <th>x</th>\n",
       "      <th>N</th>\n",
       "      <th>x</th>\n",
       "    </tr>\n",
       "  </thead>\n",
       "  <tbody>\n",
       "    <tr>\n",
       "      <th>0</th>\n",
       "      <td>-3</td>\n",
       "      <td>0</td>\n",
       "      <td>-3</td>\n",
       "      <td>-56</td>\n",
       "      <td>-2.0</td>\n",
       "      <td>-137.0</td>\n",
       "      <td>-1.0</td>\n",
       "      <td>-155.0</td>\n",
       "      <td>-1.0</td>\n",
       "      <td>-100.0</td>\n",
       "    </tr>\n",
       "    <tr>\n",
       "      <th>1</th>\n",
       "      <td>-2</td>\n",
       "      <td>32</td>\n",
       "      <td>-2</td>\n",
       "      <td>0</td>\n",
       "      <td>-1.0</td>\n",
       "      <td>0.0</td>\n",
       "      <td>0.0</td>\n",
       "      <td>0.0</td>\n",
       "      <td>0.0</td>\n",
       "      <td>0.0</td>\n",
       "    </tr>\n",
       "    <tr>\n",
       "      <th>2</th>\n",
       "      <td>-1</td>\n",
       "      <td>65</td>\n",
       "      <td>-1</td>\n",
       "      <td>60</td>\n",
       "      <td>0.0</td>\n",
       "      <td>136.0</td>\n",
       "      <td>1.0</td>\n",
       "      <td>170.0</td>\n",
       "      <td>1.0</td>\n",
       "      <td>110.0</td>\n",
       "    </tr>\n",
       "    <tr>\n",
       "      <th>3</th>\n",
       "      <td>0</td>\n",
       "      <td>96</td>\n",
       "      <td>0</td>\n",
       "      <td>110</td>\n",
       "      <td>1.0</td>\n",
       "      <td>268.0</td>\n",
       "      <td>NaN</td>\n",
       "      <td>NaN</td>\n",
       "      <td>NaN</td>\n",
       "      <td>NaN</td>\n",
       "    </tr>\n",
       "    <tr>\n",
       "      <th>4</th>\n",
       "      <td>1</td>\n",
       "      <td>143</td>\n",
       "      <td>1</td>\n",
       "      <td>175</td>\n",
       "      <td>2.0</td>\n",
       "      <td>407.0</td>\n",
       "      <td>NaN</td>\n",
       "      <td>NaN</td>\n",
       "      <td>NaN</td>\n",
       "      <td>NaN</td>\n",
       "    </tr>\n",
       "    <tr>\n",
       "      <th>5</th>\n",
       "      <td>2</td>\n",
       "      <td>180</td>\n",
       "      <td>2</td>\n",
       "      <td>235</td>\n",
       "      <td>NaN</td>\n",
       "      <td>NaN</td>\n",
       "      <td>NaN</td>\n",
       "      <td>NaN</td>\n",
       "      <td>NaN</td>\n",
       "      <td>NaN</td>\n",
       "    </tr>\n",
       "    <tr>\n",
       "      <th>6</th>\n",
       "      <td>3</td>\n",
       "      <td>223</td>\n",
       "      <td>3</td>\n",
       "      <td>290</td>\n",
       "      <td>NaN</td>\n",
       "      <td>NaN</td>\n",
       "      <td>NaN</td>\n",
       "      <td>NaN</td>\n",
       "      <td>NaN</td>\n",
       "      <td>NaN</td>\n",
       "    </tr>\n",
       "  </tbody>\n",
       "</table>\n",
       "</div>"
      ],
      "text/plain": [
       "  1.16      1.81      4.10        4.60        3.46       \n",
       "     N    x    N    x    N      x    N      x    N      x\n",
       "0   -3    0   -3  -56 -2.0 -137.0 -1.0 -155.0 -1.0 -100.0\n",
       "1   -2   32   -2    0 -1.0    0.0  0.0    0.0  0.0    0.0\n",
       "2   -1   65   -1   60  0.0  136.0  1.0  170.0  1.0  110.0\n",
       "3    0   96    0  110  1.0  268.0  NaN    NaN  NaN    NaN\n",
       "4    1  143    1  175  2.0  407.0  NaN    NaN  NaN    NaN\n",
       "5    2  180    2  235  NaN    NaN  NaN    NaN  NaN    NaN\n",
       "6    3  223    3  290  NaN    NaN  NaN    NaN  NaN    NaN"
      ]
     },
     "execution_count": 5,
     "metadata": {},
     "output_type": "execute_result"
    }
   ],
   "source": [
    "data = mipt.read_excel('data/432A.ods', usecols=['D', 'E', 'G', 'H', 'J', 'K', 'M', 'N', 'P', 'Q'], header=(0,1)).dropna(how='all')\n",
    "data\n",
    "\n",
    "xsl = {\n",
    "    \"F = 1.16 MHz\" : \"1.16\",\n",
    "    \"F = 1.81 MHz\" : \"1.81\",\n",
    "    \"F = 4.10 MHz\" : \"4.10\",\n",
    "    \"F = 4.60 MHz\" : \"4.60\",\n",
    "    \"F = 3.46 MHz\" : \"3.46\",\n",
    "\n",
    "    \"x, del\" : \"x\"\n",
    "}\n",
    "\n",
    "data = mipt.map_excel(data, xsl)\n",
    "data"
   ]
  },
  {
   "cell_type": "code",
   "execution_count": 20,
   "id": "a9b34309",
   "metadata": {},
   "outputs": [
    {
     "name": "stdout",
     "output_type": "stream",
     "text": [
      "[1.16, 1.81, 3.46, 4.1, 4.6]\n",
      "[149.0, 231.85714285714286, 420.0, 542.4, 650.0]\n",
      "[1494.765100671141, 1498.8539741219963, 1581.7142857142858, 1451.3274336283184, 1358.7692307692307]\n",
      "[81.67426566378461, 70.32667939936412, 84.36275922204904, 66.57800334244844, 71.8837657929281]\n",
      "v = (1477 +- 34) m/s\n"
     ]
    },
    {
     "data": {
      "image/png": "[encoded data removed]",
      "text/plain": [
       "<Figure size 640x480 with 1 Axes>"
      ]
     },
     "metadata": {},
     "output_type": "display_data"
    }
   ],
   "source": [
    "k_arr = []\n",
    "nu_arr = []\n",
    "v_arr = []\n",
    "verr_arr = []\n",
    "\n",
    "def veloc(x):\n",
    "    return x[0] * x[1] * x[2] / x[3] * 1e6\n",
    "\n",
    "def plot(d, nu):\n",
    "    d = d[nu]\n",
    "    dx = d[\"x\"].dropna() * setup.mkm_in_del\n",
    "    dN = d[\"N\"].dropna()\n",
    "\n",
    "    av = np.mean(dx)\n",
    "    dx -= av\n",
    "    mipt.plot(dN, dx, label=nu + \" MHz\", yerr=setup.x_err * setup.mkm_in_del)\n",
    "    mnk_dat = mipt.mnk(dN, dx)\n",
    "    k = mnk_dat.get_data()[\"a\"][0]\n",
    "    k_err = mnk_dat.get_data()[\"da\"][0]\n",
    "\n",
    "    k_arr.append(k)\n",
    "    nu_arr.append(float(nu))\n",
    "    # v_arr.append(setup.focal * setup.wlen * float(nu) / k * 1e6)\n",
    "\n",
    "    v_arr.append(veloc([setup.focal, setup.wlen, float(nu), k]))\n",
    "    err, grad = mipt.errcalc(veloc,\n",
    "                             [setup.focal, setup.wlen, float(nu), k],\n",
    "                             [setup.focal_err, setup.wlen_err, setup.nu_err, k_err]\n",
    "    )\n",
    "    verr_arr.append(err[0])\n",
    "\n",
    "plot(data, \"1.16\")\n",
    "plot(data, \"1.81\")\n",
    "plot(data, \"3.46\")\n",
    "plot(data, \"4.10\")\n",
    "plot(data, \"4.60\")\n",
    "\n",
    "plt.xlabel(r\"$N$\")\n",
    "plt.ylabel(r\"$x, \\; mkm$\")\n",
    "plt.grid(True)\n",
    "plt.legend()\n",
    "\n",
    "print(nu_arr)\n",
    "print(k_arr)\n",
    "print(v_arr)\n",
    "print(verr_arr)\n",
    "\n",
    "v = np.mean(v_arr)\n",
    "verr = np.linalg.norm(verr_arr) / len(v_arr)\n",
    "\n",
    "print(\"v = ({:.0f} +- {:.0f}) m/s\".format(v, verr))"
   ]
  },
  {
   "cell_type": "code",
   "execution_count": null,
   "id": "f807b0f8",
   "metadata": {},
   "outputs": [],
   "source": []
  },
  {
   "cell_type": "code",
   "execution_count": null,
   "id": "be94a6db",
   "metadata": {},
   "outputs": [],
   "source": []
  },
  {
   "cell_type": "code",
   "execution_count": 89,
   "id": "4316b865",
   "metadata": {},
   "outputs": [
    {
     "data": {
      "text/plain": [
       "(0    1.16\n",
       " 1    1.81\n",
       " 2    3.46\n",
       " 3    4.10\n",
       " 4    4.60\n",
       " dtype: float64,\n",
       " 0    1494.765101\n",
       " 1    1498.853974\n",
       " 2    1581.714286\n",
       " 3    1451.327434\n",
       " 4    1358.769231\n",
       " dtype: float64,\n",
       " None)"
      ]
     },
     "execution_count": 89,
     "metadata": {},
     "output_type": "execute_result"
    },
    {
     "data": {
      "image/png": "[encoded data removed]",
      "text/plain": [
       "<Figure size 640x480 with 1 Axes>"
      ]
     },
     "metadata": {},
     "output_type": "display_data"
    }
   ],
   "source": [
    "mipt.plot(nu_arr, v_arr, func=None)"
   ]
  },
  {
   "cell_type": "markdown",
   "id": "f13d2d4f",
   "metadata": {},
   "source": [
    "## Запускать все ячейки последовательно и равномерно..."
   ]
  },
  {
   "cell_type": "markdown",
   "id": "a0f761c1",
   "metadata": {},
   "source": [
    "# Таблица результатов"
   ]
  },
  {
   "cell_type": "code",
   "execution_count": 50,
   "id": "c3ab599b",
   "metadata": {},
   "outputs": [
    {
     "data": {
      "text/html": [
       "<div>\n",
       "<style scoped>\n",
       "    .dataframe tbody tr th:only-of-type {\n",
       "        vertical-align: middle;\n",
       "    }\n",
       "\n",
       "    .dataframe tbody tr th {\n",
       "        vertical-align: top;\n",
       "    }\n",
       "\n",
       "    .dataframe thead th {\n",
       "        text-align: right;\n",
       "    }\n",
       "</style>\n",
       "<table border=\"1\" class=\"dataframe\">\n",
       "  <thead>\n",
       "    <tr style=\"text-align: right;\">\n",
       "      <th></th>\n",
       "      <th>$C$, нФ</th>\n",
       "      <th>$f_0$, Гц</th>\n",
       "      <th>$U_C$, В</th>\n",
       "      <th>$\\mathscr{E}$, В</th>\n",
       "      <th>$L$, мкГн</th>\n",
       "      <th>$\\mathcal{Q}$</th>\n",
       "      <th>$\\rho$, Ом</th>\n",
       "      <th>$R_{\\Sigma}, Ом$</th>\n",
       "      <th>$R_L$, Ом</th>\n",
       "      <th>$I$, А</th>\n",
       "    </tr>\n",
       "  </thead>\n",
       "  <tbody>\n",
       "    <tr>\n",
       "      <th>0</th>\n",
       "      <td>33.2</td>\n",
       "      <td>27850.0</td>\n",
       "      <td>4.56</td>\n",
       "      <td>0.2</td>\n",
       "      <td>983.675332</td>\n",
       "      <td>22.80</td>\n",
       "      <td>172.130111</td>\n",
       "      <td>7.549566</td>\n",
       "      <td>3.877436</td>\n",
       "      <td>0.026492</td>\n",
       "    </tr>\n",
       "    <tr>\n",
       "      <th>1</th>\n",
       "      <td>47.6</td>\n",
       "      <td>23270.0</td>\n",
       "      <td>3.94</td>\n",
       "      <td>0.2</td>\n",
       "      <td>982.744324</td>\n",
       "      <td>19.70</td>\n",
       "      <td>143.686774</td>\n",
       "      <td>7.293745</td>\n",
       "      <td>3.650058</td>\n",
       "      <td>0.027421</td>\n",
       "    </tr>\n",
       "    <tr>\n",
       "      <th>2</th>\n",
       "      <td>57.5</td>\n",
       "      <td>21160.0</td>\n",
       "      <td>3.65</td>\n",
       "      <td>0.2</td>\n",
       "      <td>983.877643</td>\n",
       "      <td>18.25</td>\n",
       "      <td>130.808698</td>\n",
       "      <td>7.167600</td>\n",
       "      <td>3.536791</td>\n",
       "      <td>0.027903</td>\n",
       "    </tr>\n",
       "    <tr>\n",
       "      <th>3</th>\n",
       "      <td>68.0</td>\n",
       "      <td>19460.0</td>\n",
       "      <td>3.39</td>\n",
       "      <td>0.2</td>\n",
       "      <td>983.661511</td>\n",
       "      <td>16.95</td>\n",
       "      <td>120.273066</td>\n",
       "      <td>7.095756</td>\n",
       "      <td>3.475483</td>\n",
       "      <td>0.028186</td>\n",
       "    </tr>\n",
       "    <tr>\n",
       "      <th>4</th>\n",
       "      <td>102.8</td>\n",
       "      <td>15840.0</td>\n",
       "      <td>2.83</td>\n",
       "      <td>0.2</td>\n",
       "      <td>982.057223</td>\n",
       "      <td>14.15</td>\n",
       "      <td>97.739889</td>\n",
       "      <td>6.907413</td>\n",
       "      <td>3.309673</td>\n",
       "      <td>0.028954</td>\n",
       "    </tr>\n",
       "  </tbody>\n",
       "</table>\n",
       "</div>"
      ],
      "text/plain": [
       "   $C$, нФ  $f_0$, Гц  $U_C$, В  $\\mathscr{E}$, В   $L$, мкГн  $\\mathcal{Q}$  \\\n",
       "0     33.2    27850.0      4.56               0.2  983.675332          22.80   \n",
       "1     47.6    23270.0      3.94               0.2  982.744324          19.70   \n",
       "2     57.5    21160.0      3.65               0.2  983.877643          18.25   \n",
       "3     68.0    19460.0      3.39               0.2  983.661511          16.95   \n",
       "4    102.8    15840.0      2.83               0.2  982.057223          14.15   \n",
       "\n",
       "   $\\rho$, Ом  $R_{\\Sigma}, Ом$  $R_L$, Ом    $I$, А  \n",
       "0  172.130111          7.549566   3.877436  0.026492  \n",
       "1  143.686774          7.293745   3.650058  0.027421  \n",
       "2  130.808698          7.167600   3.536791  0.027903  \n",
       "3  120.273066          7.095756   3.475483  0.028186  \n",
       "4   97.739889          6.907413   3.309673  0.028954  "
      ]
     },
     "execution_count": 50,
     "metadata": {},
     "output_type": "execute_result"
    }
   ],
   "source": [
    "U = data['Uc'].to_numpy().flatten()\n",
    "E = data['E'].to_numpy().flatten()\n",
    "C = data['C'].to_numpy().flatten() # нФ\n",
    "f = data['f0'].to_numpy().flatten() # Гц\n",
    "\n",
    "serror = 0.05 / C[0] # -- Погрешность емкости будет влиять \n",
    "                     # на полную погрешность индуктивности, берем макс, для оценки\n",
    "\n",
    "#\n",
    "# Все значение посчитаны при резонансе...\n",
    "#\n",
    "L = 1/((2 * math.pi * f)**2 * C * 1e-9) * 1e6 # мкГн -- индуктивность\n",
    "rho = 2 * math.pi * f * L * 1e-6 # Ом -- волновое сопротивление контура \n",
    "Q = U / E # -- добротность контура\n",
    "Rsum = rho / Q # Ом -- суммарное сопротивление Rsum = Rs + RL + R (R -- на установке)\n",
    "Rs = rho * 1e-3 # Ом -- эквивалентное последовательное сопротивление (ЭПС) конденсатора \n",
    "RL = Rsum - Rs - setup.R # Ом -- сопротивление катушки\n",
    "I = E / Rsum # А -- ток через установку (тут другого тока нет)\n",
    "\n",
    "results_list = {\n",
    "    'C' : C,\n",
    "    'f' : f,\n",
    "    'U' : U,\n",
    "    'E' : E,\n",
    "    'L' : L,\n",
    "    'Q' : Q,\n",
    "    'rho' : rho,\n",
    "    'Rsum' : Rsum,\n",
    "    'RL' : RL,\n",
    "    'I' : I\n",
    "}\n",
    "\n",
    "results_fmt = {\n",
    "    'C': [r'$C$, нФ', '{:.1f}'],\n",
    "    'f' :  [r'$f_0$, Гц', '{:.0f}'],\n",
    "    'U' :  [r'$U_C$, В', '{:.2f}'],\n",
    "    'E' :  [r'$\\mathscr{E}$, В', '{:.1f}'],\n",
    "    'L' :  [r'$L$, мкГн', '{:.1f}'],\n",
    "    'Q' :  [r'$\\mathcal{Q}$', '{:.1f}'],\n",
    "    'rho' :  [r'$\\rho$, Ом', '{:.1f}'],\n",
    "    'Rsum' :  [r'$R_{\\Sigma}, Ом$', '{:.1f}'],\n",
    "    'RL' :  [r'$R_L$, Ом', '{:.1f}'],\n",
    "    'I' :  [r'$I$, А', '{:.3f}'],\n",
    "}\n",
    "\n",
    "L_error = t_coeff(L.size) * L.std() / (L.size)**0.5\n",
    "RL_error = t_coeff(RL.size) * RL.std() / (RL.size)**0.5\n",
    "mean_list = {\n",
    "    'names' : ['$L$, мкГн', '$R_L$, Ом'],\n",
    "    'mean' : [L.mean(), RL.mean()],\n",
    "    'std' : [L.std(), RL.std()],\n",
    "    'error' : [L_error, RL_error],\n",
    "    'serror' : [(L_error**2 + (L.mean()*serror)**2)**0.5, (RL_error**2 + (RL.mean()*serror)**2)**0.5],\n",
    "}\n",
    "\n",
    "RL_full_error = (RL_error**2 + (RL.mean()*serror)**2)**0.5\n",
    "\n",
    "mean_fmt = {\n",
    "    'names' :  [r''],\n",
    "    'mean' :  [r'Среднее значение', '{:.1f}'],\n",
    "    'std' :  [r'Среднеквадратичное', '{:.1f}'],\n",
    "    'error' :  [r'Случайная погрешность', '{:.1f}'],\n",
    "    'serror' :  [r'Погрешность', '{:.1f}'],\n",
    "}\n",
    "\n",
    "results = pd.DataFrame(results_list)\n",
    "tab = mipt.table(results, results_fmt)\n",
    "tab.to_latex('gen/setup.tex')\n",
    "tab.rename().data\n",
    "\n",
    "mean = pd.DataFrame(mean_list)\n",
    "mean_tab = mipt.table(mean, mean_fmt)\n",
    "mean_tab.to_latex('gen/setup-mean.tex')\n",
    "mean_tab.rename().data\n",
    "tab.rename().data"
   ]
  },
  {
   "cell_type": "markdown",
   "id": "c2180d48",
   "metadata": {},
   "source": [
    "# Амплитудно-частотные характеристики\n",
    "\n",
    "Я считал для двух значений. Меньшее -- low, большее -- high"
   ]
  },
  {
   "cell_type": "code",
   "execution_count": 30,
   "id": "e1bd7b3d",
   "metadata": {
    "scrolled": true
   },
   "outputs": [
    {
     "name": "stdout",
     "output_type": "stream",
     "text": [
      "C = 33.2 нФ резонанс = 27805 Гц\n",
      "C =   68 нФ резонанс = 19427 Гц\n"
     ]
    },
    {
     "data": {
      "image/png": "[encoded data removed]",
      "text/plain": [
       "<Figure size 432x288 with 1 Axes>"
      ]
     },
     "metadata": {
      "needs_background": "light"
     },
     "output_type": "display_data"
    }
   ],
   "source": [
    "data = mipt.read_excel('data/322.xlsx', usecols=range(4,14), header=(0,1)).dropna()\n",
    "data\n",
    "\n",
    "fmt = {\n",
    "    'low' : [r'$C={0}$ нФ'.format(setup.C_low), '{:.1f}'],\n",
    "    'high' : [r'$C={0}$ нФ'.format(setup.C_high), '{:.1f}'],\n",
    "    ('high', 'f') :  [r'$f_0$, Гц', '{:.0f}'],\n",
    "    ('high', 'Uc') :  [r'$U_C$, В', '{:.2f}'],\n",
    "    ('high', 'x') :  [r'$x$, дел.', '{:.1f}'],\n",
    "    ('high', 'x0') :  [r'$x_0$, дел.', '{:.1f}'],\n",
    "    ('high', 'dF/pi') :  [r'$\\frac{\\varphi}{\\pi}$, дел.', '{:.2f}'],\n",
    "    ('low', 'f') :  [r'$f_0$, Гц', '{:.0f}'],\n",
    "    ('low', 'Uc') :  [r'$U_C$, В', '{:.2f}'],\n",
    "    ('low', 'x') :  [r'$x$, дел.', '{:.1f}'],\n",
    "    ('low', 'x0') :  [r'$x_0$, дел.', '{:.1f}'],\n",
    "    ('low', 'dF/pi') :  [r'$\\frac{\\varphi}{\\pi}$, дел.', '{:.2f}'],\n",
    "}\n",
    "\n",
    "tab = mipt.table(data, fmt)\n",
    "tab.to_latex('gen/measure.tex')\n",
    "\n",
    "tab.rename().data\n",
    "\n",
    "low = data['low']\n",
    "high = data['high']\n",
    "\n",
    "from scipy.interpolate import interp1d\n",
    "def interp(x, y):\n",
    "    return interp1d(x, y, kind='cubic')\n",
    "    \n",
    "x, y, equ_low = mipt.plot(low['f'], low['Uc'], func=interp, color='blue', label=r'$C={0}$ нФ'.format(setup.C_low))\n",
    "x, y, equ_high = mipt.plot(high['f'], high['Uc'], func=interp, color='orange', label=r'$C={0}$ нФ'.format(setup.C_high))\n",
    "\n",
    "low_resonance = op.fmin(lambda x: -equ_low(x), low['f'][0], disp=0)[0]\n",
    "high_resonance = op.fmin(lambda x: -equ_high(x), high['f'][0], disp=0)[0]\n",
    "\n",
    "plt.axvline(x=low_resonance, c='blue', ls=':')\n",
    "plt.axvline(x=high_resonance, c='orange', ls=':')\n",
    "\n",
    "plt.ylabel(r\"$U_C$, В\")\n",
    "plt.xlabel(r\"$f$, Гц\")\n",
    "plt.legend()\n",
    "plt.savefig('gen/fig-resonance.pdf')\n",
    "\n",
    "print('C = {:4} нФ резонанс = {:.0f} Гц'.format(setup.C_low, low_resonance))\n",
    "print('C = {:4} нФ резонанс = {:.0f} Гц'.format(setup.C_high, high_resonance))"
   ]
  },
  {
   "cell_type": "markdown",
   "id": "db65a5c1",
   "metadata": {},
   "source": [
    "# Амплитудно-частотные характеристики в безразмерных координатах"
   ]
  },
  {
   "cell_type": "code",
   "execution_count": 31,
   "id": "2aa26acc",
   "metadata": {
    "scrolled": false
   },
   "outputs": [
    {
     "name": "stdout",
     "output_type": "stream",
     "text": [
      "C = 33.2 нФ \n",
      "ширина = 1.0224 - 0.9781 = 0.0443\n",
      "Q = 22.57870818478546 +- 0.4515741636957092\n",
      "C =   68 нФ \n",
      "ширина = 1.0300 - 0.9697 = 0.0603\n",
      "Q = 16.5711552304821 +- 0.33142310460964197\n"
     ]
    },
    {
     "data": {
      "image/png": "[encoded data removed]",
      "text/plain": [
       "<Figure size 432x288 with 1 Axes>"
      ]
     },
     "metadata": {
      "needs_background": "light"
     },
     "output_type": "display_data"
    }
   ],
   "source": [
    "# Warning! Нужно запустить предыдущую ячейку чтоб тут была функции интерполяции equ_low и equ_high\n",
    "\n",
    "data = mipt.read_excel('data/322.xlsx', usecols=range(4,14), header=(0,1)).dropna()\n",
    "settings = mipt.read_excel('data/322.xlsx', usecols=range(0,4), header=(0)).dropna()\n",
    "low = data['low']\n",
    "high = data['high']\n",
    "\n",
    "# Вычленим резонансные частоты\n",
    "f0_low  = settings['f0'].tolist()[settings.index[settings['C'] == setup.C_low ].tolist()[0]]\n",
    "f0_high = settings['f0'].tolist()[settings.index[settings['C'] == setup.C_high].tolist()[0]]\n",
    "\n",
    "x_low = low['f']/f0_low\n",
    "x_high = high['f']/f0_high\n",
    "\n",
    "y_low = equ_low(low['f']) / equ_low(f0_low)\n",
    "y_high = equ_high(high['f']) / equ_high(f0_high)\n",
    "\n",
    "x, y, norm_low = mipt.plot(x_low, y_low, func=interp, color='blue', label=r'$C={0}$ нФ'.format(setup.C_low))\n",
    "x, y, norm_high = mipt.plot(x_high, y_high, func=interp, color='orange',label=r'$C={0}$ нФ'.format(setup.C_high))\n",
    "\n",
    "low_right = op.fsolve(lambda x: norm_low(x) - 0.707, 1.01)[0]\n",
    "low_left = op.fsolve(lambda x: norm_low(x) - 0.707, 0.99)[0]\n",
    "\n",
    "high_right = op.fsolve(lambda x: norm_high(x) - 0.707, 1.01)[0]\n",
    "high_left = op.fsolve(lambda x: norm_high(x) - 0.707, 0.99)[0]\n",
    "\n",
    "plt.axvline(x=low_right, c='blue', ls=':')\n",
    "plt.axvline(x=low_left, c='blue', ls=':')\n",
    "\n",
    "plt.axvline(x=high_right, c='orange', ls=':')\n",
    "plt.axvline(x=high_left, c='orange', ls=':')\n",
    "\n",
    "plt.ylabel(r\"$U_C/U_C(f_0)$\")\n",
    "plt.xlabel(r\"$f/f_0$\")\n",
    "plt.legend()\n",
    "plt.savefig('gen/fig-resonance-norm.pdf')\n",
    "\n",
    "\n",
    "Q_low = 1 / (low_right - low_left)\n",
    "Q_high = 1 / (high_right - high_left)\n",
    "\n",
    "print('C = {:4} нФ \\nширина = {:.4f} - {:.4f} = {:.4f}'.format(setup.C_low, low_right, low_left, low_right - low_left))\n",
    "print('Q = {} +- {}'.format(Q_low, 2e-2 * Q_low))\n",
    "\n",
    "print('C = {:4} нФ \\nширина = {:.4f} - {:.4f} = {:.4f}'.format(setup.C_high, high_right, high_left, high_right - high_left))\n",
    "print('Q = {} +- {}'.format(Q_high, 2e-2 * Q_high))"
   ]
  },
  {
   "cell_type": "markdown",
   "id": "6bf4ae85",
   "metadata": {},
   "source": [
    "# Фазово-частотные характеристики "
   ]
  },
  {
   "cell_type": "code",
   "execution_count": 32,
   "id": "549c1ce8",
   "metadata": {},
   "outputs": [],
   "source": [
    "# Warning! Нужно запустить предыдущую ячейку"
   ]
  },
  {
   "cell_type": "code",
   "execution_count": 42,
   "id": "bee67f81",
   "metadata": {
    "scrolled": true
   },
   "outputs": [
    {
     "name": "stdout",
     "output_type": "stream",
     "text": [
      "C = 33.2 нФ \n",
      "ширина = 1.0253 - 0.9770 = 0.0484\n",
      "Q = 20.6724631979196 +- 0.40298119769026586\n",
      "C =   68 нФ \n",
      "ширина = 1.0388 - 0.9697 = 0.0692\n",
      "Q = 14.455377725814989 +- 0.1953429422407431\n"
     ]
    },
    {
     "data": {
      "image/png": "[encoded data removed]",
      "text/plain": [
       "<Figure size 432x288 with 1 Axes>"
      ]
     },
     "metadata": {
      "needs_background": "light"
     },
     "output_type": "display_data"
    }
   ],
   "source": [
    "phi_low  = low['dF/pi']\n",
    "phi_high = high['dF/pi']\n",
    "\n",
    "from scipy.interpolate import UnivariateSpline\n",
    "def interp(x, y):\n",
    "    return UnivariateSpline(x, y, s=0.1)\n",
    "\n",
    "x, y, fphi_low = mipt.plot(x_low, phi_low, yerr = phi_low * 0.5 / low['x'], func=interp, color='blue', label=r'$C={0}$ нФ'.format(setup.C_low))\n",
    "x, y, fphi_high = mipt.plot(x_high, phi_high, yerr = phi_high * 0.5 / high['x'], func=interp, color='orange',label=r'$C={0}$ нФ'.format(setup.C_high))\n",
    "\n",
    "low_right = op.fsolve(lambda x: fphi_low(x) - 3/4, 1)[0]\n",
    "low_left = op.fsolve(lambda x: fphi_low(x) - 1/4, 1)[0]\n",
    "\n",
    "high_right = op.fsolve(lambda x: fphi_high(x) - 3/4, 1)[0]\n",
    "high_left = op.fsolve(lambda x: fphi_high(x) - 1/4, 1)[0]\n",
    "\n",
    "plt.axvline(x=low_right, c='blue', ls=':')\n",
    "plt.axvline(x=low_left, c='blue', ls=':')\n",
    "\n",
    "plt.axvline(x=high_right, c='orange', ls=':')\n",
    "plt.axvline(x=high_left, c='orange', ls=':')\n",
    "\n",
    "Q_low = 1 / (low_right - low_left)\n",
    "Q_high = 1 / (high_right - high_left)\n",
    "\n",
    "plt.ylabel(r\"$\\varphi/\\pi$\")\n",
    "plt.xlabel(r\"$f/f_0$\")\n",
    "plt.legend()\n",
    "plt.savefig('gen/fig-phase.pdf')\n",
    "\n",
    "print('C = {:4} нФ \\nширина = {:.4f} - {:.4f} = {:.4f}'.format(setup.C_low, low_right, low_left, low_right - low_left))\n",
    "print('Q = {} +- {}'.format(Q_low, (phi_low * 0.5 / low['x']).mean() * Q_low))\n",
    "\n",
    "print('C = {:4} нФ \\nширина = {:.4f} - {:.4f} = {:.4f}'.format(setup.C_high, high_right, high_left, high_right - high_left))\n",
    "print('Q = {} +- {}'.format(Q_high, (phi_high * 0.5 / high['x']).mean() * Q_high))"
   ]
  },
  {
   "cell_type": "markdown",
   "id": "313c5843",
   "metadata": {},
   "source": [
    "# Постройте зависимость 𝑅𝐿(𝜈0𝑛) в системе координат с началом в точке (0,6𝜈07; 0);"
   ]
  },
  {
   "cell_type": "code",
   "execution_count": 90,
   "id": "878eb428",
   "metadata": {},
   "outputs": [
    {
     "data": {
      "text/plain": [
       "Text(0.5, 0, '$f$, Гц')"
      ]
     },
     "execution_count": 90,
     "metadata": {},
     "output_type": "execute_result"
    },
    {
     "data": {
      "image/png": "[encoded data removed]",
      "text/plain": [
       "<Figure size 432x288 with 1 Axes>"
      ]
     },
     "metadata": {
      "needs_background": "light"
     },
     "output_type": "display_data"
    }
   ],
   "source": [
    "# Я на эту фигню подзабил, но при желании -- сохраняй\n",
    "\n",
    "mipt.plot(f, RL, color='blue')\n",
    "plt.axhline(y=RL.mean(), color='orange')\n",
    "\n",
    "plt.ylabel(r\"$R_L$, Ом\")\n",
    "plt.xlabel(r\"$f$, Гц\")\n",
    "# plt.savefig('gen/fig-rl.pdf') <-- Delete comment here"
   ]
  },
  {
   "cell_type": "code",
   "execution_count": null,
   "id": "46a7982d",
   "metadata": {},
   "outputs": [],
   "source": []
  }
 ],
 "metadata": {
  "kernelspec": {
   "display_name": "Python 3 (ipykernel)",
   "language": "python",
   "name": "python3"
  },
  "language_info": {
   "codemirror_mode": {
    "name": "ipython",
    "version": 3
   },
   "file_extension": ".py",
   "mimetype": "text/x-python",
   "name": "python",
   "nbconvert_exporter": "python",
   "pygments_lexer": "ipython3",
   "version": "3.10.9"
  }
 },
 "nbformat": 4,
 "nbformat_minor": 5
}
