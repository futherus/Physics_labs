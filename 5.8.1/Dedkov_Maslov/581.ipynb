{
 "cells": [
  {
   "cell_type": "code",
   "execution_count": 42,
   "id": "8ca882d1",
   "metadata": {},
   "outputs": [],
   "source": [
    "import numpy as np\n",
    "import pandas as pd\n",
    "import matplotlib.pyplot as plt\n",
    "import math\n",
    "import scipy as sp\n",
    "import scipy.optimize as op\n",
    "from scipy.interpolate import UnivariateSpline\n",
    "import copy\n",
    "\n",
    "# Adding library directory to python search path\n",
    "import os\n",
    "import sys\n",
    "import git\n",
    "repo = git.Repo('.', search_parent_directories=True)\n",
    "library_dir = repo.working_tree_dir + '/lib'\n",
    "sys.path.insert(0, library_dir)\n",
    "\n",
    "import miptlib as mipt\n",
    "\n",
    "# Create directory for generated .tex and .pdf\n",
    "if not os.path.exists('gen'):\n",
    "    os.mkdir('gen')"
   ]
  },
  {
   "cell_type": "code",
   "execution_count": 43,
   "id": "39f29360",
   "metadata": {},
   "outputs": [],
   "source": [
    "class consts:\n",
    "    pi = 3.141592\n",
    "\n",
    "class setup:\n",
    "    dummy = 0"
   ]
  },
  {
   "cell_type": "code",
   "execution_count": 44,
   "id": "943beb0c",
   "metadata": {
    "scrolled": true
   },
   "outputs": [
    {
     "data": {
      "text/html": [
       "<div>\n",
       "<style scoped>\n",
       "    .dataframe tbody tr th:only-of-type {\n",
       "        vertical-align: middle;\n",
       "    }\n",
       "\n",
       "    .dataframe tbody tr th {\n",
       "        vertical-align: top;\n",
       "    }\n",
       "\n",
       "    .dataframe thead th {\n",
       "        text-align: right;\n",
       "    }\n",
       "</style>\n",
       "<table border=\"1\" class=\"dataframe\">\n",
       "  <thead>\n",
       "    <tr style=\"text-align: right;\">\n",
       "      <th></th>\n",
       "      <th>tp</th>\n",
       "      <th>v</th>\n",
       "    </tr>\n",
       "  </thead>\n",
       "  <tbody>\n",
       "    <tr>\n",
       "      <th>0</th>\n",
       "      <td>947.0</td>\n",
       "      <td>36.42</td>\n",
       "    </tr>\n",
       "    <tr>\n",
       "      <th>1</th>\n",
       "      <td>937.0</td>\n",
       "      <td>36.36</td>\n",
       "    </tr>\n",
       "    <tr>\n",
       "      <th>2</th>\n",
       "      <td>939.0</td>\n",
       "      <td>36.34</td>\n",
       "    </tr>\n",
       "    <tr>\n",
       "      <th>3</th>\n",
       "      <td>939.0</td>\n",
       "      <td>36.30</td>\n",
       "    </tr>\n",
       "    <tr>\n",
       "      <th>4</th>\n",
       "      <td>938.0</td>\n",
       "      <td>36.30</td>\n",
       "    </tr>\n",
       "    <tr>\n",
       "      <th>5</th>\n",
       "      <td>938.0</td>\n",
       "      <td>36.30</td>\n",
       "    </tr>\n",
       "    <tr>\n",
       "      <th>6</th>\n",
       "      <td>938.0</td>\n",
       "      <td>36.29</td>\n",
       "    </tr>\n",
       "    <tr>\n",
       "      <th>7</th>\n",
       "      <td>937.0</td>\n",
       "      <td>36.26</td>\n",
       "    </tr>\n",
       "    <tr>\n",
       "      <th>8</th>\n",
       "      <td>939.0</td>\n",
       "      <td>36.26</td>\n",
       "    </tr>\n",
       "    <tr>\n",
       "      <th>9</th>\n",
       "      <td>938.0</td>\n",
       "      <td>36.26</td>\n",
       "    </tr>\n",
       "    <tr>\n",
       "      <th>10</th>\n",
       "      <td>NaN</td>\n",
       "      <td>NaN</td>\n",
       "    </tr>\n",
       "    <tr>\n",
       "      <th>11</th>\n",
       "      <td>NaN</td>\n",
       "      <td>NaN</td>\n",
       "    </tr>\n",
       "    <tr>\n",
       "      <th>12</th>\n",
       "      <td>NaN</td>\n",
       "      <td>NaN</td>\n",
       "    </tr>\n",
       "  </tbody>\n",
       "</table>\n",
       "</div>"
      ],
      "text/plain": [
       "       tp      v\n",
       "0   947.0  36.42\n",
       "1   937.0  36.36\n",
       "2   939.0  36.34\n",
       "3   939.0  36.30\n",
       "4   938.0  36.30\n",
       "5   938.0  36.30\n",
       "6   938.0  36.29\n",
       "7   937.0  36.26\n",
       "8   939.0  36.26\n",
       "9   938.0  36.26\n",
       "10    NaN    NaN\n",
       "11    NaN    NaN\n",
       "12    NaN    NaN"
      ]
     },
     "execution_count": 44,
     "metadata": {},
     "output_type": "execute_result"
    }
   ],
   "source": [
    "data = mipt.read_excel('data/5.8.1-raw.xlsx', usecols=(0,1), header=(0))\n",
    "data"
   ]
  },
  {
   "cell_type": "markdown",
   "id": "0aaf749c",
   "metadata": {},
   "source": [
    "## Опробование работы"
   ]
  },
  {
   "cell_type": "code",
   "execution_count": 45,
   "id": "ef43d2aa",
   "metadata": {
    "scrolled": true
   },
   "outputs": [
    {
     "name": "stdout",
     "output_type": "stream",
     "text": [
      "39.823008849557525\n",
      "$$T_t = (934 \\pm 5) \\;\\;^oC$$\n",
      "\n",
      "$$T_p = (939 \\pm 12) \\;\\;^oC$$\n",
      "\n"
     ]
    }
   ],
   "source": [
    "data = mipt.read_excel('data/5.8.1-raw.xlsx', usecols=(0,1), header=(0)).dropna()\n",
    "data\n",
    "\n",
    "termo_coeff = (47000-29000)/(1168-716)\n",
    "print(termo_coeff)\n",
    "t_out = 22\n",
    "t_termo = 1e3 * data['v'] / termo_coeff + t_out\n",
    "\n",
    "t_termo_error = np.std(t_termo) / math.sqrt(t_termo.size)\n",
    "\n",
    "\n",
    "t_termo.mean()\n",
    "data['tp'].mean()\n",
    "\n",
    "export = pd.concat([\n",
    "    data['tp'],\n",
    "    data['v'],\n",
    "    t_termo.rename('tr'),  \n",
    "], axis=1)\n",
    "\n",
    "\n",
    "fmt = {\n",
    "    'tp' : [r'$T_{p}, ^oC$', '{:.1f}', 0],\n",
    "    'v' : [r'$V$, мВ', '{:.1f}', 0],\n",
    "    'tr' : [r'$T_{t}, ^oC$', '{:.1f}', 0],\n",
    "}\n",
    "\n",
    "tab = mipt.table(export, fmt)\n",
    "tab.to_latex('gen/tab-try.tex')\n",
    "\n",
    "print(\"$$T_t = ({:.0f} \\pm {:.0f}) \\;\\;^oC$$\\n\".format(t_termo.mean(), 5))\n",
    "print(\"$$T_p = ({:.0f} \\pm {:.0f}) \\;\\;^oC$$\\n\".format(data['tp'].mean(), 12))\n"
   ]
  },
  {
   "cell_type": "code",
   "execution_count": 46,
   "id": "abe6f63b",
   "metadata": {},
   "outputs": [
    {
     "data": {
      "text/plain": [
       "0.5244100871534852"
      ]
     },
     "execution_count": 46,
     "metadata": {},
     "output_type": "execute_result"
    }
   ],
   "source": [
    "v_error = np.std(data['v']) / math.sqrt(data['v'].size) + 0.005\n",
    "#v_error / data['v'].mean() * t_termo.mean()\n",
    "v_error / data['v'].mean() * t_termo.mean()\n",
    "\n"
   ]
  },
  {
   "cell_type": "code",
   "execution_count": 47,
   "id": "982670d1",
   "metadata": {},
   "outputs": [
    {
     "data": {
      "text/plain": [
       "0.38649907606936607"
      ]
     },
     "execution_count": 47,
     "metadata": {},
     "output_type": "execute_result"
    }
   ],
   "source": [
    "t_termo_error"
   ]
  },
  {
   "cell_type": "markdown",
   "id": "400dae7f",
   "metadata": {},
   "source": [
    "## Стефан-Больцман"
   ]
  },
  {
   "cell_type": "code",
   "execution_count": 48,
   "id": "3a489ae6",
   "metadata": {
    "scrolled": false
   },
   "outputs": [
    {
     "name": "stdout",
     "output_type": "stream",
     "text": [
      "$$ f_1(T) = (1.09 \\pm 0.03) \\cdot T + (-15 \\pm 20)$$\n"
     ]
    }
   ],
   "source": [
    "from scipy.interpolate import interp1d\n",
    "\n",
    "data = mipt.read_excel('data/5.8.1-raw.xlsx', usecols=(2,3,4,5), header=(0)).dropna()\n",
    "data\n",
    "\n",
    "At = 1.09\n",
    "At_error = 0.03\n",
    "Bt = -15\n",
    "Bt_error = 20\n",
    "\n",
    "print('$$ f_1(T) = ({} \\pm {}) \\cdot T + ({} \\pm {})$$'.format(At, At_error, Bt, Bt_error))\n",
    "\n",
    "def br2real(x):\n",
    "    return At * x + Bt\n",
    "\n",
    "T = br2real(data['Tp'] + 273)\n",
    "W = data['I'] * data['V']"
   ]
  },
  {
   "cell_type": "code",
   "execution_count": 49,
   "id": "877c2cdd",
   "metadata": {
    "scrolled": true
   },
   "outputs": [
    {
     "name": "stdout",
     "output_type": "stream",
     "text": [
      "0    1059.24\n",
      "1    1210.75\n",
      "2    1161.70\n",
      "3    1315.39\n",
      "4    1413.49\n",
      "5    1561.73\n",
      "6    1705.61\n",
      "7    1917.07\n",
      "8    2077.30\n",
      "Name: Tp, dtype: float64\n"
     ]
    },
    {
     "data": {
      "image/png": "[encoded data removed]",
      "text/plain": [
       "<Figure size 640x480 with 1 Axes>"
      ]
     },
     "metadata": {},
     "output_type": "display_data"
    }
   ],
   "source": [
    "def interp(x, y):\n",
    "    return interp1d(x, y, kind='cubic')\n",
    "T = T - 273\n",
    "\n",
    "mipt.plot(T, W, func=None, marker_size=6, exclude=[], linestyle='dashed', xerr=15)\n",
    "\n",
    "z = np.polyfit(T, W, 4)\n",
    "p = np.poly1d(z)\n",
    "t = np.linspace(T.min(), T.max(), 100)\n",
    "plt.plot(t, p(t), ms=10, linestyle=':', color=\"red\")\n",
    "\n",
    "\n",
    "plt.ylabel(r\"$W$, Вт\")\n",
    "plt.xlabel(r\"$T, ^\\circ C$\")\n",
    "# plt.legend()\n",
    "plt.savefig('gen/fig-wt.pdf')\n",
    "print(T)\n",
    "T = T + 273\n",
    "\n"
   ]
  },
  {
   "cell_type": "code",
   "execution_count": 50,
   "id": "bffcfec3",
   "metadata": {},
   "outputs": [
    {
     "data": {
      "text/html": [
       "<div>\n",
       "<style scoped>\n",
       "    .dataframe tbody tr th:only-of-type {\n",
       "        vertical-align: middle;\n",
       "    }\n",
       "\n",
       "    .dataframe tbody tr th {\n",
       "        vertical-align: top;\n",
       "    }\n",
       "\n",
       "    .dataframe thead th {\n",
       "        text-align: right;\n",
       "    }\n",
       "</style>\n",
       "<table border=\"1\" class=\"dataframe\">\n",
       "  <thead>\n",
       "    <tr style=\"text-align: right;\">\n",
       "      <th></th>\n",
       "      <th>$T, ^oC$</th>\n",
       "      <th>$I$, А</th>\n",
       "      <th>$V$, В</th>\n",
       "      <th>$W$, Вт</th>\n",
       "    </tr>\n",
       "  </thead>\n",
       "  <tbody>\n",
       "    <tr>\n",
       "      <th>0</th>\n",
       "      <td>963.0</td>\n",
       "      <td>0.563</td>\n",
       "      <td>2.115</td>\n",
       "      <td>1.190745</td>\n",
       "    </tr>\n",
       "    <tr>\n",
       "      <th>1</th>\n",
       "      <td>1102.0</td>\n",
       "      <td>0.590</td>\n",
       "      <td>2.389</td>\n",
       "      <td>1.409510</td>\n",
       "    </tr>\n",
       "    <tr>\n",
       "      <th>2</th>\n",
       "      <td>1057.0</td>\n",
       "      <td>0.571</td>\n",
       "      <td>2.194</td>\n",
       "      <td>1.252774</td>\n",
       "    </tr>\n",
       "    <tr>\n",
       "      <th>3</th>\n",
       "      <td>1198.0</td>\n",
       "      <td>0.638</td>\n",
       "      <td>2.881</td>\n",
       "      <td>1.838078</td>\n",
       "    </tr>\n",
       "    <tr>\n",
       "      <th>4</th>\n",
       "      <td>1288.0</td>\n",
       "      <td>0.686</td>\n",
       "      <td>3.402</td>\n",
       "      <td>2.333772</td>\n",
       "    </tr>\n",
       "    <tr>\n",
       "      <th>5</th>\n",
       "      <td>1424.0</td>\n",
       "      <td>0.752</td>\n",
       "      <td>4.166</td>\n",
       "      <td>3.132832</td>\n",
       "    </tr>\n",
       "    <tr>\n",
       "      <th>6</th>\n",
       "      <td>1556.0</td>\n",
       "      <td>0.837</td>\n",
       "      <td>5.218</td>\n",
       "      <td>4.367466</td>\n",
       "    </tr>\n",
       "    <tr>\n",
       "      <th>7</th>\n",
       "      <td>1750.0</td>\n",
       "      <td>0.992</td>\n",
       "      <td>7.357</td>\n",
       "      <td>7.298144</td>\n",
       "    </tr>\n",
       "    <tr>\n",
       "      <th>8</th>\n",
       "      <td>1897.0</td>\n",
       "      <td>1.098</td>\n",
       "      <td>8.950</td>\n",
       "      <td>9.827100</td>\n",
       "    </tr>\n",
       "  </tbody>\n",
       "</table>\n",
       "</div>"
      ],
      "text/plain": [
       "   $T, ^oC$  $I$, А  $V$, В   $W$, Вт\n",
       "0     963.0   0.563   2.115  1.190745\n",
       "1    1102.0   0.590   2.389  1.409510\n",
       "2    1057.0   0.571   2.194  1.252774\n",
       "3    1198.0   0.638   2.881  1.838078\n",
       "4    1288.0   0.686   3.402  2.333772\n",
       "5    1424.0   0.752   4.166  3.132832\n",
       "6    1556.0   0.837   5.218  4.367466\n",
       "7    1750.0   0.992   7.357  7.298144\n",
       "8    1897.0   1.098   8.950  9.827100"
      ]
     },
     "execution_count": 50,
     "metadata": {},
     "output_type": "execute_result"
    }
   ],
   "source": [
    "\n",
    "export = pd.concat([\n",
    "    data['Tp'],\n",
    "    data['I'],\n",
    "    data['V'],\n",
    "    W.rename('W'),  \n",
    "], axis=1)\n",
    "\n",
    "\n",
    "fmt = {\n",
    "    'Tp' : [r'$T, ^oC$', '{:.1f}', 0],\n",
    "    'I' : [r'$I$, А', '{:.2f}', 0],\n",
    "    'V' : [r'$V$, В', '{:.2f}', 0],\n",
    "    'W' : [r'$W$, Вт', '{:.2f}', 0],\n",
    "}\n",
    "\n",
    "tab = mipt.table(export, fmt)\n",
    "tab.to_latex('gen/tab-sb.tex')\n",
    "tab.rename().data"
   ]
  },
  {
   "cell_type": "code",
   "execution_count": 51,
   "id": "2982e6b6",
   "metadata": {
    "scrolled": false
   },
   "outputs": [
    {
     "data": {
      "text/html": [
       "<div>\n",
       "<style scoped>\n",
       "    .dataframe tbody tr th:only-of-type {\n",
       "        vertical-align: middle;\n",
       "    }\n",
       "\n",
       "    .dataframe tbody tr th {\n",
       "        vertical-align: top;\n",
       "    }\n",
       "\n",
       "    .dataframe thead th {\n",
       "        text-align: right;\n",
       "    }\n",
       "</style>\n",
       "<table border=\"1\" class=\"dataframe\">\n",
       "  <thead>\n",
       "    <tr style=\"text-align: right;\">\n",
       "      <th></th>\n",
       "      <th>&lt;x&gt;</th>\n",
       "      <th>sx</th>\n",
       "      <th>&lt;y&gt;</th>\n",
       "      <th>sy</th>\n",
       "      <th>rxy</th>\n",
       "      <th>a</th>\n",
       "      <th>da</th>\n",
       "      <th>b</th>\n",
       "      <th>db</th>\n",
       "    </tr>\n",
       "  </thead>\n",
       "  <tbody>\n",
       "    <tr>\n",
       "      <th>0</th>\n",
       "      <td>7.491339</td>\n",
       "      <td>0.028434</td>\n",
       "      <td>1.114212</td>\n",
       "      <td>0.496923</td>\n",
       "      <td>0.118679</td>\n",
       "      <td>4.173774</td>\n",
       "      <td>0.096385</td>\n",
       "      <td>-30.152944</td>\n",
       "      <td>0.722238</td>\n",
       "    </tr>\n",
       "  </tbody>\n",
       "</table>\n",
       "</div>"
      ],
      "text/plain": [
       "        <x>        sx       <y>        sy       rxy         a        da  \\\n",
       "0  7.491339  0.028434  1.114212  0.496923  0.118679  4.173774  0.096385   \n",
       "\n",
       "           b        db  \n",
       "0 -30.152944  0.722238  "
      ]
     },
     "execution_count": 51,
     "metadata": {},
     "output_type": "execute_result"
    },
    {
     "data": {
      "image/png": "[encoded data removed]",
      "text/plain": [
       "<Figure size 640x480 with 1 Axes>"
      ]
     },
     "metadata": {},
     "output_type": "display_data"
    }
   ],
   "source": [
    "x, y, equ = mipt.plot(np.log(T), np.log(W), exclude=[0], yerr = 0)\n",
    "\n",
    "mnk = mipt.mnk(x, y)\n",
    "mnk.to_latex('gen/tab-mnk.tex')\n",
    "\n",
    "plt.ylabel(r\"$\\ln W$\")\n",
    "plt.xlabel(r\"$\\ln T$\")\n",
    "plt.savefig('gen/fig-linwt.pdf')\n",
    "\n",
    "mnk.data"
   ]
  },
  {
   "cell_type": "code",
   "execution_count": 52,
   "id": "3cbb7f4f",
   "metadata": {
    "scrolled": false
   },
   "outputs": [
    {
     "name": "stdout",
     "output_type": "stream",
     "text": [
      "$$ \\varepsion_T = -0.08 \\cdot T^2 + 0.0002 \\cdot T + -1.6e-08 $$\n"
     ]
    },
    {
     "data": {
      "image/png": "[encoded data removed]",
      "text/plain": [
       "<Figure size 640x480 with 1 Axes>"
      ]
     },
     "metadata": {},
     "output_type": "display_data"
    }
   ],
   "source": [
    "data_eps = mipt.read_excel('data/5.8.1-raw.xlsx', usecols=(5,6), header=(0)).dropna()\n",
    "\n",
    "x, y, equ = mipt.plot(data_eps['Teps'], data_eps['Eps'], exclude=[], func=None)\n",
    "\n",
    "mnk = mipt.mnk(x, y)\n",
    "\n",
    "\n",
    "z = np.polyfit(data_eps['Teps'], data_eps['Eps'], 2)\n",
    "epsilon = np.poly1d(z)\n",
    "t = np.linspace(data_eps['Teps'].min(), data_eps['Teps'].max(), 100)\n",
    "plt.plot(t, epsilon(t), ms=10, linestyle=':')\n",
    "\n",
    "plt.xlabel(r\"$T, К$\")\n",
    "plt.ylabel(r\"$\\varepsilon_T$\")\n",
    "plt.savefig('gen/fig-epsilon.pdf')\n",
    "\n",
    "\n",
    "epsilon\n",
    "print('$$ \\\\varepsion_T = {:.2g} \\\\cdot T^2 + {:.2g} \\\\cdot T + {:.2g} $$'.format(epsilon[0], epsilon[1], epsilon[2]))"
   ]
  },
  {
   "cell_type": "code",
   "execution_count": 53,
   "id": "2d94b85c",
   "metadata": {
    "scrolled": true
   },
   "outputs": [
    {
     "name": "stdout",
     "output_type": "stream",
     "text": [
      "0    6.831220e-08\n",
      "1    4.571552e-08\n",
      "2    4.850213e-08\n",
      "3    4.173983e-08\n",
      "4    3.883557e-08\n",
      "5    3.380456e-08\n",
      "6    3.208192e-08\n",
      "7    3.212958e-08\n",
      "8    3.041018e-08\n",
      "dtype: float64\n"
     ]
    },
    {
     "data": {
      "image/png": "[encoded data removed]",
      "text/plain": [
       "<Figure size 640x480 with 1 Axes>"
      ]
     },
     "metadata": {},
     "output_type": "display_data"
    }
   ],
   "source": [
    "S = 0.36e-4\n",
    "sigmas = W / (epsilon(T) * T**4 * S)\n",
    "print(sigmas)\n",
    "\n",
    "def interp(x, y):\n",
    "    return interp1d(x, y, kind='cubic', bounds_error=True)\n",
    "\n",
    "x, y, equ = mipt.plot(T, sigmas, exclude=[], func=None, linestyle='--', yerr=sigmas*0.10)\n",
    "\n",
    "\n",
    "z = np.polyfit(T[1:], sigmas[1:], 2)\n",
    "ff = np.poly1d(z)\n",
    "t = np.linspace(T[1:].min(), T.max(), 100)\n",
    "\n",
    "plt.plot(t, ff(t), ms=10, linestyle=':', c ='purple')\n",
    "\n",
    "plt.xlabel(r\"$T \\;K$\")\n",
    "plt.ylabel(r\"$\\sigma, \\frac{W}{m^2 K^4}$\")\n",
    "plt.savefig('gen/fig-sigma.pdf')"
   ]
  },
  {
   "cell_type": "code",
   "execution_count": 54,
   "id": "5f01492c",
   "metadata": {},
   "outputs": [
    {
     "data": {
      "text/plain": [
       "8.000600286182812e-35"
      ]
     },
     "execution_count": 54,
     "metadata": {},
     "output_type": "execute_result"
    }
   ],
   "source": [
    "sigma = sigmas[5:].mean()\n",
    "\n",
    "h = ((2 * 3.141592**5 * (1.380e-23)**4)/(15 * (3e8)**2 * sigma))**(1/3)\n",
    "h\n",
    "\n",
    "h*0.1"
   ]
  },
  {
   "cell_type": "markdown",
   "id": "ebf7ab02",
   "metadata": {},
   "source": [
    "### Построение графика lnW от lnT при известной E_t"
   ]
  },
  {
   "cell_type": "code",
   "execution_count": 55,
   "id": "314ba382",
   "metadata": {},
   "outputs": [
    {
     "name": "stdout",
     "output_type": "stream",
     "text": [
      "        <x>        sx        <y>        sy       rxy         a        da  \\\n",
      "0  7.491339  0.028434  12.863124  0.267187  0.086815  3.053154  0.111687   \n",
      "\n",
      "           b        db  \n",
      "0 -10.009089  0.836898  \n"
     ]
    },
    {
     "data": {
      "image/png": "[encoded data removed]",
      "text/plain": [
       "<Figure size 640x480 with 1 Axes>"
      ]
     },
     "metadata": {},
     "output_type": "display_data"
    }
   ],
   "source": [
    "# lnW - ln(E_t S) = ln(sigma) + n ln(T)\n",
    "corr = np.log(epsilon(T) * S)\n",
    "lnW = np.log(W) - corr\n",
    "lnT = np.log(T)\n",
    "x, y, equ = mipt.plot(lnT, lnW, exclude=[0], yerr = 0)\n",
    "\n",
    "mnk = mipt.mnk(x, y)\n",
    "print(mnk.data)\n",
    "#mnk.to_latex('gen/tab-mnk.tex')\n",
    "\n",
    "plt.ylabel(r\"$\\ln W$\")\n",
    "plt.xlabel(r\"$\\ln T$\")\n",
    "plt.savefig('gen/test.pdf')"
   ]
  },
  {
   "cell_type": "code",
   "execution_count": null,
   "id": "e6e1cf31",
   "metadata": {},
   "outputs": [],
   "source": []
  },
  {
   "cell_type": "code",
   "execution_count": null,
   "id": "751acf14",
   "metadata": {},
   "outputs": [],
   "source": []
  }
 ],
 "metadata": {
  "kernelspec": {
   "display_name": "Python 3 (ipykernel)",
   "language": "python",
   "name": "python3"
  },
  "language_info": {
   "codemirror_mode": {
    "name": "ipython",
    "version": 3
   },
   "file_extension": ".py",
   "mimetype": "text/x-python",
   "name": "python",
   "nbconvert_exporter": "python",
   "pygments_lexer": "ipython3",
   "version": "3.10.2"
  }
 },
 "nbformat": 4,
 "nbformat_minor": 5
}
