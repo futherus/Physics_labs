{
 "cells": [
  {
   "cell_type": "code",
   "execution_count": 222,
   "id": "8ca882d1",
   "metadata": {},
   "outputs": [],
   "source": [
    "import numpy as np\n",
    "import pandas as pd\n",
    "import matplotlib.pyplot as plt\n",
    "import math\n",
    "import scipy as sp\n",
    "import scipy.optimize as op\n",
    "from scipy.interpolate import UnivariateSpline\n",
    "import copy\n",
    "\n",
    "# Adding library directory to python search path\n",
    "import os\n",
    "import sys\n",
    "import git\n",
    "repo = git.Repo('.', search_parent_directories=True)\n",
    "library_dir = repo.working_tree_dir + '/lib'\n",
    "sys.path.insert(0, library_dir)\n",
    "\n",
    "import miptlib as mipt\n",
    "\n",
    "# Create directory for generated .tex and .pdf\n",
    "if not os.path.exists('gen'):\n",
    "    os.mkdir('gen')"
   ]
  },
  {
   "cell_type": "code",
   "execution_count": 223,
   "id": "39f29360",
   "metadata": {},
   "outputs": [],
   "source": [
    "class consts:\n",
    "    pi = 3.141592\n",
    "\n",
    "class setup:\n",
    "    dummy = 0\n",
    "    tau_impulse = 100 #мкс для зависимости a_n от nu_n\n",
    "    T_impulse = 1 #мс для зависимости a_n от nu_n\n",
    "    nu_error = 1 #кГц погрешность определения частоты меньше не видно :)\n",
    "    v_error = 5 #мВ погрешность определения амплитуды"
   ]
  },
  {
   "cell_type": "code",
   "execution_count": 224,
   "id": "943beb0c",
   "metadata": {
    "scrolled": true
   },
   "outputs": [
    {
     "data": {
      "text/html": [
       "<div>\n",
       "<style scoped>\n",
       "    .dataframe tbody tr th:only-of-type {\n",
       "        vertical-align: middle;\n",
       "    }\n",
       "\n",
       "    .dataframe tbody tr th {\n",
       "        vertical-align: top;\n",
       "    }\n",
       "\n",
       "    .dataframe thead th {\n",
       "        text-align: right;\n",
       "    }\n",
       "</style>\n",
       "<table border=\"1\" class=\"dataframe\">\n",
       "  <thead>\n",
       "    <tr style=\"text-align: right;\">\n",
       "      <th></th>\n",
       "      <th>tp</th>\n",
       "      <th>v</th>\n",
       "    </tr>\n",
       "  </thead>\n",
       "  <tbody>\n",
       "    <tr>\n",
       "      <th>0</th>\n",
       "      <td>947.0</td>\n",
       "      <td>36.42</td>\n",
       "    </tr>\n",
       "    <tr>\n",
       "      <th>1</th>\n",
       "      <td>937.0</td>\n",
       "      <td>36.36</td>\n",
       "    </tr>\n",
       "    <tr>\n",
       "      <th>2</th>\n",
       "      <td>939.0</td>\n",
       "      <td>36.34</td>\n",
       "    </tr>\n",
       "    <tr>\n",
       "      <th>3</th>\n",
       "      <td>939.0</td>\n",
       "      <td>36.30</td>\n",
       "    </tr>\n",
       "    <tr>\n",
       "      <th>4</th>\n",
       "      <td>938.0</td>\n",
       "      <td>36.30</td>\n",
       "    </tr>\n",
       "    <tr>\n",
       "      <th>5</th>\n",
       "      <td>938.0</td>\n",
       "      <td>36.30</td>\n",
       "    </tr>\n",
       "    <tr>\n",
       "      <th>6</th>\n",
       "      <td>938.0</td>\n",
       "      <td>36.29</td>\n",
       "    </tr>\n",
       "    <tr>\n",
       "      <th>7</th>\n",
       "      <td>937.0</td>\n",
       "      <td>36.26</td>\n",
       "    </tr>\n",
       "    <tr>\n",
       "      <th>8</th>\n",
       "      <td>939.0</td>\n",
       "      <td>36.26</td>\n",
       "    </tr>\n",
       "    <tr>\n",
       "      <th>9</th>\n",
       "      <td>938.0</td>\n",
       "      <td>36.26</td>\n",
       "    </tr>\n",
       "    <tr>\n",
       "      <th>10</th>\n",
       "      <td>NaN</td>\n",
       "      <td>NaN</td>\n",
       "    </tr>\n",
       "    <tr>\n",
       "      <th>11</th>\n",
       "      <td>NaN</td>\n",
       "      <td>NaN</td>\n",
       "    </tr>\n",
       "    <tr>\n",
       "      <th>12</th>\n",
       "      <td>NaN</td>\n",
       "      <td>NaN</td>\n",
       "    </tr>\n",
       "  </tbody>\n",
       "</table>\n",
       "</div>"
      ],
      "text/plain": [
       "       tp      v\n",
       "0   947.0  36.42\n",
       "1   937.0  36.36\n",
       "2   939.0  36.34\n",
       "3   939.0  36.30\n",
       "4   938.0  36.30\n",
       "5   938.0  36.30\n",
       "6   938.0  36.29\n",
       "7   937.0  36.26\n",
       "8   939.0  36.26\n",
       "9   938.0  36.26\n",
       "10    NaN    NaN\n",
       "11    NaN    NaN\n",
       "12    NaN    NaN"
      ]
     },
     "execution_count": 224,
     "metadata": {},
     "output_type": "execute_result"
    }
   ],
   "source": [
    "data = mipt.read_excel('data/5.8.1-raw.xlsx', usecols=(0,1), header=(0))\n",
    "data"
   ]
  },
  {
   "cell_type": "markdown",
   "id": "0aaf749c",
   "metadata": {},
   "source": [
    "## Опробование работы"
   ]
  },
  {
   "cell_type": "code",
   "execution_count": 225,
   "id": "ef43d2aa",
   "metadata": {
    "scrolled": true
   },
   "outputs": [
    {
     "name": "stdout",
     "output_type": "stream",
     "text": [
      "$$T_t = (934 \\pm 5) \\;\\;^oC$$\n",
      "\n",
      "$$T_p = (939 \\pm 12) \\;\\;^oC$$\n",
      "\n"
     ]
    }
   ],
   "source": [
    "data = mipt.read_excel('data/5.8.1-raw.xlsx', usecols=(0,1), header=(0)).dropna()\n",
    "data\n",
    "\n",
    "termo_coeff = (47000-29000)/(1168-716)\n",
    "\n",
    "t_out = 22\n",
    "t_termo = 1e3 * data['v'] / termo_coeff + t_out\n",
    "\n",
    "t_termo_error = np.std(t_termo) / math.sqrt(t_termo.size)\n",
    "\n",
    "\n",
    "t_termo.mean()\n",
    "data['tp'].mean()\n",
    "\n",
    "export = pd.concat([\n",
    "    data['tp'],\n",
    "    data['v'],\n",
    "    t_termo.rename('tr'),  \n",
    "], axis=1)\n",
    "\n",
    "\n",
    "fmt = {\n",
    "    'tp' : [r'$T_{p}, ^oC$', '{:.1f}', 0],\n",
    "    'v' : [r'$V$, мВ', '{:.1f}', 0],\n",
    "    'tr' : [r'$T_{t}, ^oC$', '{:.1f}', 0],\n",
    "}\n",
    "\n",
    "tab = mipt.table(export, fmt)\n",
    "tab.to_latex('gen/tab-try.tex')\n",
    "\n",
    "print(\"$$T_t = ({:.0f} \\pm {:.0f}) \\;\\;^oC$$\\n\".format(t_termo.mean(), 5))\n",
    "print(\"$$T_p = ({:.0f} \\pm {:.0f}) \\;\\;^oC$$\\n\".format(data['tp'].mean(), 12))\n"
   ]
  },
  {
   "cell_type": "code",
   "execution_count": null,
   "id": "7bf48d0d",
   "metadata": {},
   "outputs": [],
   "source": []
  },
  {
   "cell_type": "code",
   "execution_count": 226,
   "id": "abe6f63b",
   "metadata": {},
   "outputs": [
    {
     "data": {
      "text/plain": [
       "0.5244100871534852"
      ]
     },
     "execution_count": 226,
     "metadata": {},
     "output_type": "execute_result"
    }
   ],
   "source": [
    "v_error = np.std(data['v']) / math.sqrt(data['v'].size) + 0.005\n",
    "#v_error / data['v'].mean() * t_termo.mean()\n",
    "v_error / data['v'].mean() * t_termo.mean()\n",
    "\n"
   ]
  },
  {
   "cell_type": "code",
   "execution_count": 227,
   "id": "982670d1",
   "metadata": {},
   "outputs": [
    {
     "data": {
      "text/plain": [
       "0.38649907606936607"
      ]
     },
     "execution_count": 227,
     "metadata": {},
     "output_type": "execute_result"
    }
   ],
   "source": [
    "t_termo_error"
   ]
  },
  {
   "cell_type": "markdown",
   "id": "400dae7f",
   "metadata": {},
   "source": [
    "## Стефан-Больцман"
   ]
  },
  {
   "cell_type": "code",
   "execution_count": 228,
   "id": "3a489ae6",
   "metadata": {
    "scrolled": false
   },
   "outputs": [
    {
     "name": "stdout",
     "output_type": "stream",
     "text": [
      "$$ f_1(T) = (1.09 \\pm 0.03) \\cdot T + (-15 \\pm 20)$$\n"
     ]
    }
   ],
   "source": [
    "from scipy.interpolate import interp1d\n",
    "\n",
    "data = mipt.read_excel('data/5.8.1-raw.xlsx', usecols=(2,3,4,5), header=(0)).dropna()\n",
    "data\n",
    "\n",
    "At = 1.09\n",
    "At_error = 0.03\n",
    "Bt = -15\n",
    "Bt_error = 20\n",
    "\n",
    "print('$$ f_1(T) = ({} \\pm {}) \\cdot T + ({} \\pm {})$$'.format(At, At_error, Bt, Bt_error))\n",
    "\n",
    "def br2real(x):\n",
    "    return At * x + Bt\n",
    "\n",
    "T = br2real(data['Tp'] + 273)\n",
    "W = data['I'] * data['V']\n"
   ]
  },
  {
   "cell_type": "code",
   "execution_count": 229,
   "id": "877c2cdd",
   "metadata": {
    "scrolled": true
   },
   "outputs": [
    {
     "data": {
      "image/png": "[encoded data removed]",
      "text/plain": [
       "<Figure size 432x288 with 1 Axes>"
      ]
     },
     "metadata": {
      "needs_background": "light"
     },
     "output_type": "display_data"
    }
   ],
   "source": [
    "def interp(x, y):\n",
    "    return interp1d(x, y, kind='cubic')\n",
    "T = T - 273\n",
    "\n",
    "mipt.plot(T, W, func=None, marker_size=6, exclude=[], linestyle='dashed', xerr=15)\n",
    "\n",
    "z = np.polyfit(T, W, 4)\n",
    "p = np.poly1d(z)\n",
    "t = np.linspace(T.min(), T.max(), 100)\n",
    "plt.plot(t, p(t), ms=10, linestyle=':', color=\"red\")\n",
    "\n",
    "\n",
    "plt.ylabel(r\"$W$, Вт\")\n",
    "plt.xlabel(r\"$T, ^\\circ C$\")\n",
    "plt.grid(True)\n",
    "# plt.legend()\n",
    "plt.savefig('gen/fig-wt.pdf')\n",
    "\n",
    "T = T + 273\n",
    "\n"
   ]
  },
  {
   "cell_type": "code",
   "execution_count": 230,
   "id": "bffcfec3",
   "metadata": {},
   "outputs": [
    {
     "data": {
      "text/html": [
       "<div>\n",
       "<style scoped>\n",
       "    .dataframe tbody tr th:only-of-type {\n",
       "        vertical-align: middle;\n",
       "    }\n",
       "\n",
       "    .dataframe tbody tr th {\n",
       "        vertical-align: top;\n",
       "    }\n",
       "\n",
       "    .dataframe thead th {\n",
       "        text-align: right;\n",
       "    }\n",
       "</style>\n",
       "<table border=\"1\" class=\"dataframe\">\n",
       "  <thead>\n",
       "    <tr style=\"text-align: right;\">\n",
       "      <th></th>\n",
       "      <th>$T, ^oC$</th>\n",
       "      <th>$I$, А</th>\n",
       "      <th>$V$, В</th>\n",
       "      <th>$W$, Вт</th>\n",
       "    </tr>\n",
       "  </thead>\n",
       "  <tbody>\n",
       "    <tr>\n",
       "      <th>0</th>\n",
       "      <td>963.0</td>\n",
       "      <td>0.563</td>\n",
       "      <td>2.115</td>\n",
       "      <td>1.190745</td>\n",
       "    </tr>\n",
       "    <tr>\n",
       "      <th>1</th>\n",
       "      <td>1102.0</td>\n",
       "      <td>0.590</td>\n",
       "      <td>2.389</td>\n",
       "      <td>1.409510</td>\n",
       "    </tr>\n",
       "    <tr>\n",
       "      <th>2</th>\n",
       "      <td>1057.0</td>\n",
       "      <td>0.571</td>\n",
       "      <td>2.194</td>\n",
       "      <td>1.252774</td>\n",
       "    </tr>\n",
       "    <tr>\n",
       "      <th>3</th>\n",
       "      <td>1198.0</td>\n",
       "      <td>0.638</td>\n",
       "      <td>2.881</td>\n",
       "      <td>1.838078</td>\n",
       "    </tr>\n",
       "    <tr>\n",
       "      <th>4</th>\n",
       "      <td>1288.0</td>\n",
       "      <td>0.686</td>\n",
       "      <td>3.402</td>\n",
       "      <td>2.333772</td>\n",
       "    </tr>\n",
       "    <tr>\n",
       "      <th>5</th>\n",
       "      <td>1424.0</td>\n",
       "      <td>0.752</td>\n",
       "      <td>4.166</td>\n",
       "      <td>3.132832</td>\n",
       "    </tr>\n",
       "    <tr>\n",
       "      <th>6</th>\n",
       "      <td>1556.0</td>\n",
       "      <td>0.837</td>\n",
       "      <td>5.218</td>\n",
       "      <td>4.367466</td>\n",
       "    </tr>\n",
       "    <tr>\n",
       "      <th>7</th>\n",
       "      <td>1750.0</td>\n",
       "      <td>0.992</td>\n",
       "      <td>7.357</td>\n",
       "      <td>7.298144</td>\n",
       "    </tr>\n",
       "    <tr>\n",
       "      <th>8</th>\n",
       "      <td>1897.0</td>\n",
       "      <td>1.098</td>\n",
       "      <td>8.950</td>\n",
       "      <td>9.827100</td>\n",
       "    </tr>\n",
       "  </tbody>\n",
       "</table>\n",
       "</div>"
      ],
      "text/plain": [
       "   $T, ^oC$  $I$, А  $V$, В   $W$, Вт\n",
       "0     963.0   0.563   2.115  1.190745\n",
       "1    1102.0   0.590   2.389  1.409510\n",
       "2    1057.0   0.571   2.194  1.252774\n",
       "3    1198.0   0.638   2.881  1.838078\n",
       "4    1288.0   0.686   3.402  2.333772\n",
       "5    1424.0   0.752   4.166  3.132832\n",
       "6    1556.0   0.837   5.218  4.367466\n",
       "7    1750.0   0.992   7.357  7.298144\n",
       "8    1897.0   1.098   8.950  9.827100"
      ]
     },
     "execution_count": 230,
     "metadata": {},
     "output_type": "execute_result"
    }
   ],
   "source": [
    "\n",
    "export = pd.concat([\n",
    "    data['Tp'],\n",
    "    data['I'],\n",
    "    data['V'],\n",
    "    W.rename('W'),  \n",
    "], axis=1)\n",
    "\n",
    "\n",
    "fmt = {\n",
    "    'Tp' : [r'$T, ^oC$', '{:.1f}', 0],\n",
    "    'I' : [r'$I$, А', '{:.2f}', 0],\n",
    "    'V' : [r'$V$, В', '{:.2f}', 0],\n",
    "    'W' : [r'$W$, Вт', '{:.2f}', 0],\n",
    "}\n",
    "\n",
    "tab = mipt.table(export, fmt)\n",
    "tab.to_latex('gen/tab-sb.tex')\n",
    "tab.rename().data"
   ]
  },
  {
   "cell_type": "code",
   "execution_count": null,
   "id": "25b3122f",
   "metadata": {},
   "outputs": [],
   "source": []
  },
  {
   "cell_type": "code",
   "execution_count": 231,
   "id": "2982e6b6",
   "metadata": {
    "scrolled": true
   },
   "outputs": [
    {
     "data": {
      "image/png": "[encoded data removed]",
      "text/plain": [
       "<Figure size 432x288 with 1 Axes>"
      ]
     },
     "metadata": {
      "needs_background": "light"
     },
     "output_type": "display_data"
    }
   ],
   "source": [
    "x, y, equ = mipt.plot(np.log(T), np.log(W), exclude=[], yerr = 0)\n",
    "\n",
    "mnk = mipt.mnk(x, y)\n",
    "mnk.to_latex('gen/tab-mnk.tex')\n",
    "\n",
    "plt.ylabel(r\"$\\lnW$\")\n",
    "plt.xlabel(r\"$\\lnT$\")\n",
    "plt.savefig('gen/fig-linwt.pdf')"
   ]
  },
  {
   "cell_type": "code",
   "execution_count": 232,
   "id": "3cbb7f4f",
   "metadata": {
    "scrolled": false
   },
   "outputs": [
    {
     "data": {
      "image/png": "[encoded data removed]",
      "text/plain": [
       "<Figure size 432x288 with 1 Axes>"
      ]
     },
     "metadata": {
      "needs_background": "light"
     },
     "output_type": "display_data"
    }
   ],
   "source": [
    "data_eps = mipt.read_excel('data/5.8.1-raw.xlsx', usecols=(5,6), header=(0)).dropna()\n",
    "\n",
    "x, y, equ = mipt.plot(data_eps['Teps'], data_eps['Eps'], exclude=[], func=None)\n",
    "\n",
    "z = np.polyfit(data_eps['Teps'], data_eps['Eps'], 2)\n",
    "epsilon = np.poly1d(z)\n",
    "t = np.linspace(data_eps['Teps'].min(), data_eps['Teps'].max(), 100)\n",
    "plt.plot(t, epsilon(t), ms=10, linestyle=':')\n",
    "\n",
    "plt.xlabel(r\"$T ^\\circ C$\")\n",
    "plt.ylabel(r\"$\\varepsilon_T$\")\n",
    "plt.savefig('gen/fig-epsilon.pdf')"
   ]
  },
  {
   "cell_type": "code",
   "execution_count": 233,
   "id": "2d94b85c",
   "metadata": {},
   "outputs": [
    {
     "data": {
      "image/png": "[encoded data removed]",
      "text/plain": [
       "<Figure size 432x288 with 1 Axes>"
      ]
     },
     "metadata": {
      "needs_background": "light"
     },
     "output_type": "display_data"
    }
   ],
   "source": [
    "S = 0.36e-4\n",
    "sigmas = W / (epsilon(T - 273) * T**4 * S)\n",
    "sigmas\n",
    "\n",
    "def interp(x, y):\n",
    "    return interp1d(x, y, kind='cubic', bounds_error=True)\n",
    "\n",
    "x, y, equ = mipt.plot(T, sigmas, exclude=[], func=None, linestyle='--', yerr=sigmas*0.10)\n",
    "\n",
    "\n",
    "z = np.polyfit(T[1:], sigmas[1:], 2)\n",
    "ff = np.poly1d(z)\n",
    "t = np.linspace(T.min(), T.max(), 100)\n",
    "\n",
    "plt.plot(t, ff(t), ms=10, linestyle=':', c ='purple')\n",
    "\n",
    "plt.xlabel(r\"$T \\;K$\")\n",
    "plt.ylabel(r\"$\\sigma, \\frac{W}{m^2 K^4}$\")\n",
    "plt.savefig('gen/fig-sigma.pdf')"
   ]
  },
  {
   "cell_type": "code",
   "execution_count": 234,
   "id": "363d07bb",
   "metadata": {
    "scrolled": true
   },
   "outputs": [
    {
     "ename": "KeyError",
     "evalue": "'u'",
     "output_type": "error",
     "traceback": [
      "\u001b[1;31m---------------------------------------------------------------------------\u001b[0m",
      "\u001b[1;31mKeyError\u001b[0m                                  Traceback (most recent call last)",
      "File \u001b[1;32m~\\AppData\\Roaming\\Python\\Python310\\site-packages\\pandas\\core\\indexes\\base.py:3621\u001b[0m, in \u001b[0;36mIndex.get_loc\u001b[1;34m(self, key, method, tolerance)\u001b[0m\n\u001b[0;32m   3620\u001b[0m \u001b[38;5;28;01mtry\u001b[39;00m:\n\u001b[1;32m-> 3621\u001b[0m     \u001b[38;5;28;01mreturn\u001b[39;00m \u001b[38;5;28;43mself\u001b[39;49m\u001b[38;5;241;43m.\u001b[39;49m\u001b[43m_engine\u001b[49m\u001b[38;5;241;43m.\u001b[39;49m\u001b[43mget_loc\u001b[49m\u001b[43m(\u001b[49m\u001b[43mcasted_key\u001b[49m\u001b[43m)\u001b[49m\n\u001b[0;32m   3622\u001b[0m \u001b[38;5;28;01mexcept\u001b[39;00m \u001b[38;5;167;01mKeyError\u001b[39;00m \u001b[38;5;28;01mas\u001b[39;00m err:\n",
      "File \u001b[1;32m~\\AppData\\Roaming\\Python\\Python310\\site-packages\\pandas\\_libs\\index.pyx:136\u001b[0m, in \u001b[0;36mpandas._libs.index.IndexEngine.get_loc\u001b[1;34m()\u001b[0m\n",
      "File \u001b[1;32m~\\AppData\\Roaming\\Python\\Python310\\site-packages\\pandas\\_libs\\index.pyx:163\u001b[0m, in \u001b[0;36mpandas._libs.index.IndexEngine.get_loc\u001b[1;34m()\u001b[0m\n",
      "File \u001b[1;32mpandas\\_libs\\hashtable_class_helper.pxi:5198\u001b[0m, in \u001b[0;36mpandas._libs.hashtable.PyObjectHashTable.get_item\u001b[1;34m()\u001b[0m\n",
      "File \u001b[1;32mpandas\\_libs\\hashtable_class_helper.pxi:5206\u001b[0m, in \u001b[0;36mpandas._libs.hashtable.PyObjectHashTable.get_item\u001b[1;34m()\u001b[0m\n",
      "\u001b[1;31mKeyError\u001b[0m: 'u'",
      "\nThe above exception was the direct cause of the following exception:\n",
      "\u001b[1;31mKeyError\u001b[0m                                  Traceback (most recent call last)",
      "Input \u001b[1;32mIn [234]\u001b[0m, in \u001b[0;36m<module>\u001b[1;34m\u001b[0m\n\u001b[0;32m      9\u001b[0m y \u001b[38;5;241m=\u001b[39m \u001b[38;5;241m10\u001b[39m \u001b[38;5;241m*\u001b[39m np\u001b[38;5;241m.\u001b[39msin(n \u001b[38;5;241m*\u001b[39m consts\u001b[38;5;241m.\u001b[39mpi \u001b[38;5;241m*\u001b[39m setup\u001b[38;5;241m.\u001b[39mtau_impulse \u001b[38;5;241m*\u001b[39m \u001b[38;5;241m1e-6\u001b[39m\u001b[38;5;241m/\u001b[39m(setup\u001b[38;5;241m.\u001b[39mT_impulse\u001b[38;5;241m*\u001b[39m\u001b[38;5;241m1e-3\u001b[39m)) \u001b[38;5;241m/\u001b[39m (n \u001b[38;5;241m*\u001b[39m consts\u001b[38;5;241m.\u001b[39mpi)\n\u001b[0;32m     10\u001b[0m \u001b[38;5;66;03m#mipt.plot(n, data['u'], func=None, yerr=setup.v_error)\u001b[39;00m\n\u001b[1;32m---> 11\u001b[0m plt\u001b[38;5;241m.\u001b[39mbar(n, \u001b[43mdata\u001b[49m\u001b[43m[\u001b[49m\u001b[38;5;124;43m'\u001b[39;49m\u001b[38;5;124;43mu\u001b[39;49m\u001b[38;5;124;43m'\u001b[39;49m\u001b[43m]\u001b[49m \u001b[38;5;241m/\u001b[39m data[\u001b[38;5;124m'\u001b[39m\u001b[38;5;124mu\u001b[39m\u001b[38;5;124m'\u001b[39m][\u001b[38;5;241m0\u001b[39m], width \u001b[38;5;241m=\u001b[39m \u001b[38;5;241m0.3\u001b[39m)\n\u001b[0;32m     12\u001b[0m mipt\u001b[38;5;241m.\u001b[39mplot(n, y, func\u001b[38;5;241m=\u001b[39minterp, marker_size\u001b[38;5;241m=\u001b[39m\u001b[38;5;241m0\u001b[39m, linestyle\u001b[38;5;241m=\u001b[39m\u001b[38;5;124m'\u001b[39m\u001b[38;5;124mdashed\u001b[39m\u001b[38;5;124m'\u001b[39m)\n\u001b[0;32m     14\u001b[0m plt\u001b[38;5;241m.\u001b[39mxlabel(\u001b[38;5;124mr\u001b[39m\u001b[38;5;124m\"\u001b[39m\u001b[38;5;124m$\u001b[39m\u001b[38;5;124m\\\u001b[39m\u001b[38;5;124mnu_n$, кГц\u001b[39m\u001b[38;5;124m\"\u001b[39m)\n",
      "File \u001b[1;32m~\\AppData\\Roaming\\Python\\Python310\\site-packages\\pandas\\core\\frame.py:3506\u001b[0m, in \u001b[0;36mDataFrame.__getitem__\u001b[1;34m(self, key)\u001b[0m\n\u001b[0;32m   3504\u001b[0m \u001b[38;5;28;01mif\u001b[39;00m \u001b[38;5;28mself\u001b[39m\u001b[38;5;241m.\u001b[39mcolumns\u001b[38;5;241m.\u001b[39mnlevels \u001b[38;5;241m>\u001b[39m \u001b[38;5;241m1\u001b[39m:\n\u001b[0;32m   3505\u001b[0m     \u001b[38;5;28;01mreturn\u001b[39;00m \u001b[38;5;28mself\u001b[39m\u001b[38;5;241m.\u001b[39m_getitem_multilevel(key)\n\u001b[1;32m-> 3506\u001b[0m indexer \u001b[38;5;241m=\u001b[39m \u001b[38;5;28;43mself\u001b[39;49m\u001b[38;5;241;43m.\u001b[39;49m\u001b[43mcolumns\u001b[49m\u001b[38;5;241;43m.\u001b[39;49m\u001b[43mget_loc\u001b[49m\u001b[43m(\u001b[49m\u001b[43mkey\u001b[49m\u001b[43m)\u001b[49m\n\u001b[0;32m   3507\u001b[0m \u001b[38;5;28;01mif\u001b[39;00m is_integer(indexer):\n\u001b[0;32m   3508\u001b[0m     indexer \u001b[38;5;241m=\u001b[39m [indexer]\n",
      "File \u001b[1;32m~\\AppData\\Roaming\\Python\\Python310\\site-packages\\pandas\\core\\indexes\\base.py:3623\u001b[0m, in \u001b[0;36mIndex.get_loc\u001b[1;34m(self, key, method, tolerance)\u001b[0m\n\u001b[0;32m   3621\u001b[0m     \u001b[38;5;28;01mreturn\u001b[39;00m \u001b[38;5;28mself\u001b[39m\u001b[38;5;241m.\u001b[39m_engine\u001b[38;5;241m.\u001b[39mget_loc(casted_key)\n\u001b[0;32m   3622\u001b[0m \u001b[38;5;28;01mexcept\u001b[39;00m \u001b[38;5;167;01mKeyError\u001b[39;00m \u001b[38;5;28;01mas\u001b[39;00m err:\n\u001b[1;32m-> 3623\u001b[0m     \u001b[38;5;28;01mraise\u001b[39;00m \u001b[38;5;167;01mKeyError\u001b[39;00m(key) \u001b[38;5;28;01mfrom\u001b[39;00m \u001b[38;5;21;01merr\u001b[39;00m\n\u001b[0;32m   3624\u001b[0m \u001b[38;5;28;01mexcept\u001b[39;00m \u001b[38;5;167;01mTypeError\u001b[39;00m:\n\u001b[0;32m   3625\u001b[0m     \u001b[38;5;66;03m# If we have a listlike key, _check_indexing_error will raise\u001b[39;00m\n\u001b[0;32m   3626\u001b[0m     \u001b[38;5;66;03m#  InvalidIndexError. Otherwise we fall through and re-raise\u001b[39;00m\n\u001b[0;32m   3627\u001b[0m     \u001b[38;5;66;03m#  the TypeError.\u001b[39;00m\n\u001b[0;32m   3628\u001b[0m     \u001b[38;5;28mself\u001b[39m\u001b[38;5;241m.\u001b[39m_check_indexing_error(key)\n",
      "\u001b[1;31mKeyError\u001b[0m: 'u'"
     ]
    }
   ],
   "source": [
    "from scipy.interpolate import interp1d\n",
    "n = np.arange(1, 11, 1)\n",
    "\n",
    "# x = data['u'][3] * 10 * np.sin(n * consts.pi * setup.tau_impulse * 1e-6/(setup.T_impulse*1e-3)) / (n * consts.pi)\n",
    "\n",
    "def interp(x, y):\n",
    "    return interp1d(x, y, kind='cubic')\n",
    "\n",
    "y = 10 * np.sin(n * consts.pi * setup.tau_impulse * 1e-6/(setup.T_impulse*1e-3)) / (n * consts.pi)\n",
    "#mipt.plot(n, data['u'], func=None, yerr=setup.v_error)\n",
    "plt.bar(n, data['u'] / data['u'][0], width = 0.3)\n",
    "mipt.plot(n, y, func=interp, marker_size=0, linestyle='dashed')\n",
    "\n",
    "plt.xlabel(r\"$\\nu_n$, кГц\")\n",
    "plt.ylabel(r\"$a_n$\")\n",
    "plt.grid(True)\n",
    "# plt.legend()\n",
    "plt.savefig('gen/fig-a9.pdf')\n",
    "\n",
    "\n"
   ]
  },
  {
   "cell_type": "markdown",
   "id": "83a56e7a",
   "metadata": {},
   "source": [
    "#### A11 Постройте график зависимости Δ𝜈(1/𝜏). Проведите наилучшую прямую и по её наклону убедитесь в справедливости соотношения неопределённостей для длительности импульса и ширины спектра. Оцените погрешность данного опыта"
   ]
  },
  {
   "cell_type": "code",
   "execution_count": null,
   "id": "02bbd095",
   "metadata": {
    "scrolled": false
   },
   "outputs": [],
   "source": [
    "dv = data['dv']\n",
    "tau = data['t']\n",
    "\n",
    "x, y, equ = mipt.plot(1/tau, dv, yerr = setup.nu_error)\n",
    "mnk = mipt.mnk(x,y)\n",
    "mnk.to_latex('gen/tab-a11-mnk.tex')\n",
    "\n",
    "plt.xlabel(r\"$1/\\tau$, 1/мс\")\n",
    "plt.ylabel(r\"$\\nu$, кГц\")\n",
    "plt.grid(True)\n",
    "# plt.legend()\n",
    "plt.savefig('gen/fig-a11.pdf')\n",
    "\n",
    "\n",
    "fmt = {\n",
    "    'dv' : [r'$\\Delta\\nu$, кГц', '{:.1f}', 0],\n",
    "    't' :  [r'$\\tau$, мс', '{:.0f}', 0],\n",
    "    '1/tau' :  [r'$\\frac{1}{\\tau}$, 1/мс', '{:.4f}', 0],\n",
    "}\n",
    "\n",
    "dat = pd.concat([dv, tau, (1/tau).rename('1/tau')],axis=1)\n",
    "tab = mipt.table(dat, fmt)\n",
    "tab.to_latex('gen/tab-a11.tex')\n"
   ]
  },
  {
   "cell_type": "markdown",
   "id": "75071278",
   "metadata": {},
   "source": [
    "#### В21 Постройте график зависимости 𝑎бок/𝑎осн от 𝑚. Проведите наилучшую прямую и сравните результат теоретическим. Оцените погрешность данного опыта.\n"
   ]
  },
  {
   "cell_type": "code",
   "execution_count": 14,
   "id": "d7bd9755",
   "metadata": {
    "scrolled": true
   },
   "outputs": [
    {
     "data": {
      "text/html": [
       "<div>\n",
       "<style scoped>\n",
       "    .dataframe tbody tr th:only-of-type {\n",
       "        vertical-align: middle;\n",
       "    }\n",
       "\n",
       "    .dataframe tbody tr th {\n",
       "        vertical-align: top;\n",
       "    }\n",
       "\n",
       "    .dataframe thead th {\n",
       "        text-align: right;\n",
       "    }\n",
       "</style>\n",
       "<table border=\"1\" class=\"dataframe\">\n",
       "  <thead>\n",
       "    <tr style=\"text-align: right;\">\n",
       "      <th></th>\n",
       "      <th>$\\overline{x}$</th>\n",
       "      <th>$\\sigma_x^2$</th>\n",
       "      <th>$\\overline{y}$</th>\n",
       "      <th>$\\sigma_y^2$</th>\n",
       "      <th>$r_{xy}$</th>\n",
       "      <th>$a\\cdot10^3$</th>\n",
       "      <th>$\\Delta a \\cdot10^3$</th>\n",
       "      <th>$b$</th>\n",
       "      <th>$\\Delta b$</th>\n",
       "    </tr>\n",
       "  </thead>\n",
       "  <tbody>\n",
       "    <tr>\n",
       "      <th>0</th>\n",
       "      <td>55.0</td>\n",
       "      <td>825.0</td>\n",
       "      <td>0.216197</td>\n",
       "      <td>0.013571</td>\n",
       "      <td>3.342053</td>\n",
       "      <td>0.004051</td>\n",
       "      <td>0.00007</td>\n",
       "      <td>-0.006607</td>\n",
       "      <td>0.00433</td>\n",
       "    </tr>\n",
       "  </tbody>\n",
       "</table>\n",
       "</div>"
      ],
      "text/plain": [
       "   $\\overline{x}$  $\\sigma_x^2$  $\\overline{y}$  $\\sigma_y^2$  $r_{xy}$  \\\n",
       "0            55.0         825.0        0.216197      0.013571  3.342053   \n",
       "\n",
       "   $a\\cdot10^3$  $\\Delta a \\cdot10^3$       $b$  $\\Delta b$  \n",
       "0      0.004051               0.00007 -0.006607     0.00433  "
      ]
     },
     "execution_count": 14,
     "metadata": {},
     "output_type": "execute_result"
    },
    {
     "data": {
      "image/png": "[encoded data removed]",
      "text/plain": [
       "<Figure size 640x480 with 1 Axes>"
      ]
     },
     "metadata": {},
     "output_type": "display_data"
    }
   ],
   "source": [
    "dat = dat = pd.concat([\n",
    "    data['m'], \n",
    "    data['ao'],  \n",
    "    data['ab'],\n",
    "    (data['ab']/data['ao']).rename('bo'),\n",
    "],axis=1)\n",
    "\n",
    "x, y, equ = mipt.plot(dat['m'], dat['bo'], yerr = 1.5 * dat['bo'] * setup.v_error / dat['ab'])\n",
    "\n",
    "mnk_fmt = {\n",
    "    '<x>':    ['$\\overline{x}$', '{:.2e}'],\n",
    "    'sx':     ['$\\sigma_x^2$',   '{:.2e}'],\n",
    "    '<y>':    ['$\\overline{y}$', '{:.2e}'],\n",
    "    'sy':     ['$\\sigma_y^2$',   '{:.2e}'],\n",
    "    'rxy':    ['$r_{xy}$',       '{:.2e}'],\n",
    "    'a':      ['$a\\cdot10^3$', '{:.2f}', 3],\n",
    "    'da':     ['$\\Delta a \\cdot10^3$', '{:.2f}', 3],\n",
    "    'b':      ['$b$',            '{:.2e}'],\n",
    "    'db':     ['$\\Delta b$',     '{:.2e}'],\n",
    "}\n",
    "\n",
    "\n",
    "mnk = mipt.mnk(x,y,fmt=mnk_fmt)\n",
    "mnk.to_latex('gen/tab-v21-mnk.tex')\n",
    "\n",
    "plt.xlabel(r\"$m$, %\")\n",
    "plt.ylabel(r\"$a_1/a_2$\")\n",
    "plt.grid(True)\n",
    "# plt.legend()\n",
    "plt.savefig('gen/fig-v21.pdf')\n",
    "\n",
    "fmt = {\n",
    "    'm'  : [r'$m$, \\%', '{:.0f}', 0],\n",
    "    'ao' : [r'$a_{\\text{осн}}$, мВ', '{:.1f}', 0],\n",
    "    'ab' : [r'$a_{\\text{бок}}$, мВ', '{:.1f}', 0],\n",
    "    'bo' : [r'$\\frac{a_{\\text{бок}}}{a_{\\text{осн}}}$', '{:.4f}', 0],\n",
    "}\n",
    "\n",
    "tab = mipt.table(dat, fmt)\n",
    "tab.to_latex('gen/tab-v21.tex')\n",
    "mnk.rename().data"
   ]
  },
  {
   "cell_type": "code",
   "execution_count": 15,
   "id": "af0ee8d9",
   "metadata": {},
   "outputs": [
    {
     "data": {
      "image/png": "[encoded data removed]",
      "text/plain": [
       "<Figure size 640x480 with 1 Axes>"
      ]
     },
     "metadata": {},
     "output_type": "display_data"
    }
   ],
   "source": [
    "x, y, equ = mipt.plot(dat['m'], dat['bo'])\n",
    "mnk = mipt.mnk(x,y)\n",
    "mnk.to_latex('gen/tab-v21-mnk.tex')\n",
    "\n",
    "plt.xlabel(r\"$m$, %\")\n",
    "plt.ylabel(r\"$\\frac{a_{бок}}{a_{осн}}$\")\n",
    "plt.grid(True)\n",
    "# plt.legend()\n",
    "plt.savefig('gen/fig-v21.pdf')\n",
    "\n",
    "\n",
    "fmt = {\n",
    "    'm'  : [r'$m$, %', '{:.0f}', 0],\n",
    "    'ao' : [r'$\\tau$, мВ', '{:.1f}', 0],\n",
    "    'ab' : [r'$\\frac{1}{\\tau}$, мВ', '{:.1f}', 0],\n",
    "    'bo' : [r'$\\frac{a_{\\text{бок}}}{a_{\\text{осн}}}$', '{:.4f}', 0],\n",
    "}\n",
    "\n",
    "tab = mipt.table(dat, fmt)\n",
    "tab.to_latex('gen/tab-v21.tex')"
   ]
  },
  {
   "cell_type": "code",
   "execution_count": null,
   "id": "5342d786",
   "metadata": {},
   "outputs": [],
   "source": []
  }
 ],
 "metadata": {
  "kernelspec": {
   "display_name": "Python 3 (ipykernel)",
   "language": "python",
   "name": "python3"
  },
  "language_info": {
   "codemirror_mode": {
    "name": "ipython",
    "version": 3
   },
   "file_extension": ".py",
   "mimetype": "text/x-python",
   "name": "python",
   "nbconvert_exporter": "python",
   "pygments_lexer": "ipython3",
   "version": "3.10.2"
  }
 },
 "nbformat": 4,
 "nbformat_minor": 5
}
