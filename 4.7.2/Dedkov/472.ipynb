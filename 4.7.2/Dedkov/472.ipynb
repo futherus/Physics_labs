{
 "cells": [
  {
   "cell_type": "code",
   "execution_count": 1,
   "id": "dd000654",
   "metadata": {},
   "outputs": [],
   "source": [
    "import numpy as np\n",
    "import pandas as pd\n",
    "import matplotlib.pyplot as plt\n",
    "import matplotlib.ticker as ticker\n",
    "import math\n",
    "import scipy as sp\n",
    "import scipy.optimize as op\n",
    "from scipy.interpolate import UnivariateSpline\n",
    "import copy\n",
    "\n",
    "# Adding library directory to python search path|\n",
    "import sys\n",
    "import git\n",
    "repo = git.Repo('.', search_parent_directories=True)\n",
    "library_dir = repo.working_tree_dir + '/lib'\n",
    "sys.path.insert(0, library_dir)\n",
    "\n",
    "import miptlib as mipt"
   ]
  },
  {
   "cell_type": "code",
   "execution_count": 2,
   "id": "c24a7ea9",
   "metadata": {},
   "outputs": [],
   "source": [
    "class setup:\n",
    "    div2V = 1500 / 100 # В/дел., 1кВ на 100 делений\n",
    "    L = 0.75 # м, Расстояние от центра кристалла до экрана\n",
    "    wavelen = 0.63e-6 # м, длина волны\n",
    "    n0 = 2.29 # м, длина волны\n",
    "    l = 26e-3 # мм, длина кристалла"
   ]
  },
  {
   "cell_type": "code",
   "execution_count": 3,
   "id": "2d138e6f",
   "metadata": {},
   "outputs": [
    {
     "data": {
      "text/html": [
       "<div>\n",
       "<style scoped>\n",
       "    .dataframe tbody tr th:only-of-type {\n",
       "        vertical-align: middle;\n",
       "    }\n",
       "\n",
       "    .dataframe tbody tr th {\n",
       "        vertical-align: top;\n",
       "    }\n",
       "\n",
       "    .dataframe thead th {\n",
       "        text-align: right;\n",
       "    }\n",
       "</style>\n",
       "<table border=\"1\" class=\"dataframe\">\n",
       "  <thead>\n",
       "    <tr style=\"text-align: right;\">\n",
       "      <th></th>\n",
       "      <th>m</th>\n",
       "      <th>r1</th>\n",
       "      <th>r2</th>\n",
       "    </tr>\n",
       "  </thead>\n",
       "  <tbody>\n",
       "    <tr>\n",
       "      <th>0</th>\n",
       "      <td>0</td>\n",
       "      <td>0.0</td>\n",
       "      <td>0.0</td>\n",
       "    </tr>\n",
       "    <tr>\n",
       "      <th>1</th>\n",
       "      <td>1</td>\n",
       "      <td>2.5</td>\n",
       "      <td>2.7</td>\n",
       "    </tr>\n",
       "    <tr>\n",
       "      <th>2</th>\n",
       "      <td>2</td>\n",
       "      <td>3.8</td>\n",
       "      <td>3.9</td>\n",
       "    </tr>\n",
       "    <tr>\n",
       "      <th>3</th>\n",
       "      <td>3</td>\n",
       "      <td>4.6</td>\n",
       "      <td>4.7</td>\n",
       "    </tr>\n",
       "    <tr>\n",
       "      <th>4</th>\n",
       "      <td>4</td>\n",
       "      <td>5.4</td>\n",
       "      <td>5.5</td>\n",
       "    </tr>\n",
       "    <tr>\n",
       "      <th>5</th>\n",
       "      <td>5</td>\n",
       "      <td>6.1</td>\n",
       "      <td>6.1</td>\n",
       "    </tr>\n",
       "    <tr>\n",
       "      <th>6</th>\n",
       "      <td>6</td>\n",
       "      <td>6.7</td>\n",
       "      <td>6.6</td>\n",
       "    </tr>\n",
       "    <tr>\n",
       "      <th>7</th>\n",
       "      <td>7</td>\n",
       "      <td>7.1</td>\n",
       "      <td>7.2</td>\n",
       "    </tr>\n",
       "    <tr>\n",
       "      <th>8</th>\n",
       "      <td>8</td>\n",
       "      <td>7.6</td>\n",
       "      <td>7.6</td>\n",
       "    </tr>\n",
       "    <tr>\n",
       "      <th>9</th>\n",
       "      <td>9</td>\n",
       "      <td>8.1</td>\n",
       "      <td>8.0</td>\n",
       "    </tr>\n",
       "    <tr>\n",
       "      <th>10</th>\n",
       "      <td>10</td>\n",
       "      <td>8.5</td>\n",
       "      <td>8.6</td>\n",
       "    </tr>\n",
       "    <tr>\n",
       "      <th>11</th>\n",
       "      <td>11</td>\n",
       "      <td>8.9</td>\n",
       "      <td>9.0</td>\n",
       "    </tr>\n",
       "  </tbody>\n",
       "</table>\n",
       "</div>"
      ],
      "text/plain": [
       "     m   r1   r2\n",
       "0    0  0.0  0.0\n",
       "1    1  2.5  2.7\n",
       "2    2  3.8  3.9\n",
       "3    3  4.6  4.7\n",
       "4    4  5.4  5.5\n",
       "5    5  6.1  6.1\n",
       "6    6  6.7  6.6\n",
       "7    7  7.1  7.2\n",
       "8    8  7.6  7.6\n",
       "9    9  8.1  8.0\n",
       "10  10  8.5  8.6\n",
       "11  11  8.9  9.0"
      ]
     },
     "execution_count": 3,
     "metadata": {},
     "output_type": "execute_result"
    }
   ],
   "source": [
    "data = mipt.read_excel('data/data.xlsx', usecols=['A', 'B', 'C']).dropna(how='all')\n",
    "data"
   ]
  },
  {
   "cell_type": "code",
   "execution_count": 10,
   "id": "add12645",
   "metadata": {},
   "outputs": [
    {
     "name": "stdout",
     "output_type": "stream",
     "text": [
      "n - n_0 = 0.098 \\pm 0.004\n"
     ]
    },
    {
     "data": {
      "image/png": "[encoded data removed]",
      "text/plain": [
       "<Figure size 432x288 with 1 Axes>"
      ]
     },
     "metadata": {
      "needs_background": "light"
     },
     "output_type": "display_data"
    }
   ],
   "source": [
    "def interp_linear(x, y):\n",
    "    coeffs = np.polyfit(x, y, 1)\n",
    "    return lambda x: coeffs[0] * x + coeffs[1]\n",
    "\n",
    "\n",
    "clean = (data['r1'] + data['r2']) / 2 # в см !!!\n",
    "r = clean**2\n",
    "\n",
    "# Погрешность порядка определения центра\n",
    "line = interp_linear(data['m'], r)\n",
    "x, y, interp = mipt.plot(data['m'], r, yerr = 2*2 * clean * 0.1, color='blue')\n",
    "\n",
    "plt.xlabel(r\"$m$\")\n",
    "plt.ylabel(r\"$r_m^2, \\; cm^2$\")\n",
    "plt.savefig('gen/plot.pdf')\n",
    "\n",
    "mnk_dat = mipt.mnk(x, y)\n",
    "\n",
    "tangent = mnk_dat.data['a']\n",
    "tangent_err = 2 * mnk_dat.data['da']\n",
    "\n",
    "delta_n = (setup.wavelen / setup.l * (setup.n0 * setup.L)**2 / tangent)[0] * 1e4\n",
    "# Погрешность длины + остальное по мелочи\n",
    "ddelta_n = delta_n * np.linalg.norm([0.02, 3e-2 / setup.L])\n",
    "\n",
    "\n",
    "print('n - n_0 = {:.2} \\pm {:.1}'.format(delta_n, ddelta_n))"
   ]
  },
  {
   "cell_type": "code",
   "execution_count": null,
   "id": "77120ff5",
   "metadata": {},
   "outputs": [],
   "source": []
  },
  {
   "cell_type": "code",
   "execution_count": null,
   "id": "3c9f6972",
   "metadata": {},
   "outputs": [],
   "source": []
  }
 ],
 "metadata": {
  "kernelspec": {
   "display_name": "Python 3 (ipykernel)",
   "language": "python",
   "name": "python3"
  },
  "language_info": {
   "codemirror_mode": {
    "name": "ipython",
    "version": 3
   },
   "file_extension": ".py",
   "mimetype": "text/x-python",
   "name": "python",
   "nbconvert_exporter": "python",
   "pygments_lexer": "ipython3",
   "version": "3.10.2"
  }
 },
 "nbformat": 4,
 "nbformat_minor": 5
}
