{
 "cells": [
  {
   "cell_type": "code",
   "execution_count": 6,
   "id": "7cd15581",
   "metadata": {},
   "outputs": [],
   "source": [
    "import numpy as np\n",
    "import pandas as pd\n",
    "import matplotlib.pyplot as plt\n",
    "import scipy as sp\n",
    "import scipy.optimize as op\n",
    "from scipy.interpolate import UnivariateSpline\n",
    "import copy "
   ]
  },
  {
   "cell_type": "markdown",
   "id": "0923ad5d",
   "metadata": {},
   "source": [
    "## Resistance precalculation\n",
    "Precalculate resistance of variable resistor for equal distribution of points and limited voltage on string."
   ]
  },
  {
   "cell_type": "code",
   "execution_count": 7,
   "id": "d9f3c24b",
   "metadata": {},
   "outputs": [
    {
     "data": {
      "text/plain": [
       "0.10049875621120889"
      ]
     },
     "execution_count": 7,
     "metadata": {},
     "output_type": "execute_result"
    }
   ],
   "source": [
    "E       = 4      # Source voltage\n",
    "R_n     = 13     # Approx resistance of string\n",
    "R_e     = 10     # Resistance of etalon resistor\n",
    "L       = 0.365  # String length\n",
    "pi      = 3.14\n",
    "kappa   = 0.025  # Approx thermal conductivity\n",
    "ln_r0r1 = 5.3    # ln(r0/r1), r0 -- radius of outer tube, r1 -- string radius\n",
    "dT      = 10     # Max temperature difference\n",
    "\n",
    "err_ln_r0r1 = ((0.005/0.05)**2 + (0.1/10)**2)**0.5\n",
    "err_ln_r0r1"
   ]
  },
  {
   "cell_type": "code",
   "execution_count": 8,
   "id": "095f73d4",
   "metadata": {},
   "outputs": [
    {
     "name": "stdout",
     "output_type": "stream",
     "text": [
      "Q_n 0.10812264150943399\n",
      "Q_max 0.3931947069943289\n",
      "a_max 0.27498498730043547\n"
     ]
    }
   ],
   "source": [
    "Q_n = 2 * pi * L / ln_r0r1 * kappa * dT\n",
    "print(\"Q_n\", Q_n)\n",
    "\n",
    "Q_max = 4**2 * R_n / (R_n + R_e)**2\n",
    "print(\"Q_max\", Q_max)\n",
    "\n",
    "a_max = Q_n / Q_max\n",
    "print(\"a_max\", a_max)"
   ]
  },
  {
   "cell_type": "code",
   "execution_count": 9,
   "id": "d4f536ba",
   "metadata": {},
   "outputs": [
    {
     "name": "stdout",
     "output_type": "stream",
     "text": [
      "a    | R_m    | U_n    | Q_n    \n",
      "0.02 | 139.63 | 0.3197 | 0.0079\n",
      "0.04 |  92.00 | 0.4522 | 0.0157\n",
      "0.06 |  70.90 | 0.5538 | 0.0236\n",
      "0.08 |  58.32 | 0.6395 | 0.0315\n",
      "0.10 |  49.73 | 0.7149 | 0.0393\n",
      "0.12 |  43.40 | 0.7832 | 0.0472\n",
      "0.14 |  38.47 | 0.8459 | 0.0550\n",
      "0.16 |  34.50 | 0.9043 | 0.0629\n",
      "0.18 |  31.21 | 0.9592 | 0.0708\n",
      "0.20 |  28.43 | 1.0111 | 0.0786\n",
      "0.22 |  26.04 | 1.0604 | 0.0865\n",
      "0.24 |  23.95 | 1.1076 | 0.0944\n",
      "0.26 |  22.11 | 1.1528 | 0.1022\n",
      "0.28 |  20.47 | 1.1963 | 0.1101\n",
      "0.30 |  18.99 | 1.2383 | 0.1180\n"
     ]
    }
   ],
   "source": [
    "print(\"a    | R_m    | U_n    | Q_n    \")\n",
    "for i in range(1, 16):\n",
    "    a = i / 50                                       # Q_n / Q_max\n",
    "    R_m = (R_n + R_e) * (1 - a**0.5) / a**0.5\n",
    "    I = E / (R_m + R_n + R_e)\n",
    "    U_n = I * R_n\n",
    "    Q_n = U_n**2 / R_n\n",
    "    print(\"{:.2f} | {:6.2f} | {:6.4f} | {:6.4f}\".format(a, R_m, U_n, Q_n))\n",
    "    # print(R_m)"
   ]
  },
  {
   "cell_type": "markdown",
   "id": "3ae5f349",
   "metadata": {},
   "source": [
    "## Data"
   ]
  },
  {
   "cell_type": "code",
   "execution_count": 10,
   "id": "6d8d0be1",
   "metadata": {
    "scrolled": true
   },
   "outputs": [
    {
     "name": "stdout",
     "output_type": "stream",
     "text": [
      "9.549999999999999e-05 0.00041521739130434776\n"
     ]
    }
   ],
   "source": [
    "d_U   = 0.000035 * 1.3 + 0.000005 * 10\n",
    "eps_U = d_U / 0.23\n",
    "print(d_U, eps_U)"
   ]
  },
  {
   "cell_type": "code",
   "execution_count": 11,
   "id": "a2c0ada5",
   "metadata": {},
   "outputs": [
    {
     "name": "stdout",
     "output_type": "stream",
     "text": [
      "0.001 0.0001\n"
     ]
    }
   ],
   "source": [
    "dR_e    = 0.0001*10\n",
    "eps_R_e = 0.0001\n",
    "print(dR_e, eps_R_e)"
   ]
  },
  {
   "cell_type": "code",
   "execution_count": 12,
   "id": "73114d1b",
   "metadata": {},
   "outputs": [
    {
     "name": "stdout",
     "output_type": "stream",
     "text": [
      "0.0005956601078494142\n"
     ]
    }
   ],
   "source": [
    "eps_R = (eps_U**2 + eps_U**2 + eps_R_e**2)**0.5\n",
    "print(eps_R)\n",
    "\n",
    "eps_Q = eps_R"
   ]
  },
  {
   "cell_type": "code",
   "execution_count": 13,
   "id": "41868543",
   "metadata": {
    "scrolled": true
   },
   "outputs": [],
   "source": [
    "def read_data(columns):\n",
    "    return pd.read_excel(\"223.ods\", engine='odf', nrows=17, usecols=columns)"
   ]
  },
  {
   "cell_type": "code",
   "execution_count": 14,
   "id": "0a4aee92",
   "metadata": {
    "scrolled": true
   },
   "outputs": [
    {
     "data": {
      "text/plain": [
       "[          R.0       Q.0    U_e.0  U_str.0\n",
       " 0   14.545186  0.008171  0.23702  0.34475\n",
       " 1   14.575093  0.016232  0.33372  0.48640\n",
       " 2   14.608187  0.024223  0.40721  0.59486\n",
       " 3   14.626133  0.032137  0.46875  0.68560\n",
       " 4   14.659102  0.040034  0.52259  0.76607\n",
       " 5   14.682081  0.047853  0.57090  0.83820\n",
       " 6   14.711717  0.055647  0.61502  0.90480\n",
       " 7   14.737003  0.063399  0.65590  0.96660\n",
       " 8   14.765816  0.071097  0.69390  1.02460\n",
       " 9   14.793751  0.078771  0.72970  1.07950\n",
       " 10  14.820879  0.086384  0.76345  1.13150\n",
       " 11  14.843249  0.094014  0.79585  1.18130\n",
       " 12  14.876213  0.101600  0.82642  1.22940\n",
       " 13  14.898341  0.109115  0.85580  1.27500,\n",
       "           R.1       Q.1    U_e.1  U_str.1\n",
       " 0   14.913319  0.008341  0.23650  0.35270\n",
       " 1   14.937173  0.016530  0.33266  0.49690\n",
       " 2   14.963021  0.024621  0.40564  0.60696\n",
       " 3   14.996786  0.032664  0.46670  0.69990\n",
       " 4   15.017787  0.040616  0.52005  0.78100\n",
       " 5   15.044902  0.048521  0.56790  0.85440\n",
       " 6   15.072032  0.056365  0.61153  0.92170\n",
       " 7   15.099693  0.064189  0.65200  0.98450\n",
       " 8   15.131255  0.071936  0.68950  1.04330\n",
       " 9   15.146333  0.079626  0.72506  1.09820\n",
       " 10  15.174733  0.087258  0.75830  1.15070\n",
       " 11  15.198684  0.094903  0.79020  1.20100\n",
       " 12  15.231013  0.102488  0.82030  1.24940\n",
       " 13  15.249647  0.109971  0.84920  1.29500,\n",
       "           R.2       Q.2    U_e.2  U_str.2\n",
       " 0   15.353176  0.008541  0.23586  0.36212\n",
       " 1   15.379602  0.016891  0.33140  0.50968\n",
       " 2   15.409763  0.025123  0.40377  0.62220\n",
       " 3   15.435335  0.033266  0.46424  0.71657\n",
       " 4   15.462881  0.041327  0.51698  0.79940\n",
       " 5   15.489188  0.049305  0.56420  0.87390\n",
       " 6   15.513772  0.057230  0.60737  0.94226\n",
       " 7   15.541407  0.065080  0.64711  1.00570\n",
       " 8   15.566403  0.072877  0.68423  1.06510\n",
       " 9   15.591450  0.080620  0.71908  1.12115\n",
       " 10  15.617685  0.088281  0.75184  1.17420\n",
       " 11  15.642158  0.095935  0.78314  1.22500\n",
       " 12  15.667409  0.103498  0.81277  1.27340\n",
       " 13  15.692172  0.111019  0.84112  1.31990,\n",
       "           R.3       Q.3    U_e.3  U_str.3\n",
       " 0   15.804353  0.008744  0.23522  0.37175\n",
       " 1   15.833636  0.017255  0.33012  0.52270\n",
       " 2   15.860516  0.025620  0.40191  0.63745\n",
       " 3   15.886124  0.033868  0.46173  0.73351\n",
       " 4   15.912045  0.042023  0.51390  0.81772\n",
       " 5   15.938771  0.050077  0.56052  0.89340\n",
       " 6   15.965578  0.058073  0.60311  0.96290\n",
       " 7   15.990814  0.065970  0.64230  1.02709\n",
       " 8   16.015849  0.073816  0.67889  1.08730\n",
       " 9   16.040554  0.081575  0.71313  1.14390\n",
       " 10  16.064241  0.089237  0.74532  1.19730\n",
       " 11  16.091332  0.096916  0.77607  1.24880\n",
       " 12  16.114009  0.104475  0.80520  1.29750\n",
       " 13  16.138713  0.112009  0.83309  1.34450,\n",
       "           R.4       Q.4    U_e.4  U_str.4\n",
       " 0   16.266894  0.008949  0.23455  0.38154\n",
       " 1   16.295046  0.017620  0.32883  0.53583\n",
       " 2   16.319184  0.026113  0.40002  0.65280\n",
       " 3   16.345187  0.034471  0.45923  0.75062\n",
       " 4   16.372998  0.042717  0.51078  0.83630\n",
       " 5   16.396401  0.050844  0.55686  0.91305\n",
       " 6   16.422584  0.058893  0.59884  0.98345\n",
       " 7   16.446710  0.066851  0.63755  1.04856\n",
       " 8   16.472903  0.074721  0.67350  1.10945\n",
       " 9   16.495991  0.082499  0.70719  1.16658\n",
       " 10  16.522292  0.090188  0.73882  1.22070\n",
       " 11  16.543582  0.097863  0.76912  1.27240\n",
       " 12  16.569724  0.105443  0.79772  1.32180\n",
       " 13  16.594538  0.112922  0.82491  1.36890,\n",
       "           R.5       Q.5    U_e.5  U_str.5\n",
       " 0   16.724529  0.009149  0.23389  0.39117\n",
       " 1   16.748077  0.017970  0.32756  0.54860\n",
       " 2   16.773335  0.026586  0.39812  0.66778\n",
       " 3   16.798756  0.035047  0.45676  0.76730\n",
       " 4   16.822899  0.043378  0.50779  0.85425\n",
       " 5   16.848612  0.051577  0.55328  0.93220\n",
       " 6   16.874065  0.059672  0.59467  1.00345\n",
       " 7   16.895838  0.067670  0.63286  1.06927\n",
       " 8   16.921028  0.075583  0.66834  1.13090\n",
       " 9   16.943474  0.083367  0.70145  1.18850\n",
       " 10  16.969697  0.091077  0.73260  1.24320\n",
       " 11  16.992864  0.098751  0.76232  1.29540\n",
       " 12  17.013766  0.106280  0.79036  1.34470\n",
       " 13  17.038850  0.113802  0.81725  1.39250]"
      ]
     },
     "execution_count": 14,
     "metadata": {},
     "output_type": "execute_result"
    }
   ],
   "source": [
    "data = [\n",
    "    read_data(\"F:I\"),\n",
    "    read_data(\"M:P\"),\n",
    "    read_data(\"T:W\"),\n",
    "    read_data(\"AA:AD\"),\n",
    "    read_data(\"AH:AK\"),\n",
    "    read_data(\"AO:AR\"),\n",
    "]\n",
    "\n",
    "data[0].rename(columns = {'R':'R.0', 'Q':'Q.0', 'U_e':'U_e.0', 'U_str':'U_str.0'}, inplace = True)\n",
    "\n",
    "T = np.array([\n",
    "    22,\n",
    "    30,\n",
    "    40,\n",
    "    50,\n",
    "    60,\n",
    "    70\n",
    "])\n",
    "\n",
    "data\n"
   ]
  },
  {
   "cell_type": "code",
   "execution_count": 15,
   "id": "25b64738",
   "metadata": {},
   "outputs": [],
   "source": [
    "# out = pd.DataFrame({'T' : T_clean, 'q' : q, 'U_F' : U_F})\n",
    "\n",
    "def data_to_latex(out, i):\n",
    "    names = [\n",
    "        'R.'     + str(i),\n",
    "        'Q.'     + str(i),\n",
    "        'U_e.'   + str(i),\n",
    "        'U_str.' + str(i)\n",
    "    ]\n",
    "\n",
    "    captions = {\n",
    "        names[0] : r\"$R, \\text{Ом}$\",\n",
    "        names[1] : r\"$Q, \\text{Вт}$\",\n",
    "        names[2] : r\"$U_{\\text{эт}}, \\text{В}$\",\n",
    "        names[3] : r\"$U_{\\text{нить}}, \\text{В}$\"\n",
    "    }\n",
    "\n",
    "    out_fmt = {\n",
    "        captions[names[0]] : \"{:.4f}\",\n",
    "        captions[names[1]] : \"{:.4f}\",\n",
    "        captions[names[2]] : \"{:.4f}\",\n",
    "        captions[names[3]] : \"{:.4f}\"\n",
    "    }\n",
    "\n",
    "    latex = out.rename(\n",
    "                columns=(captions)\n",
    "            ).style.hide(level=0, axis=0).format(out_fmt).to_latex(\n",
    "                buf = 'UURQ_raw_' + str(i) + '.tex',\n",
    "                # label = 'tab:linear',\n",
    "                # caption = r'$T = ' + str(T[i]) + r' \\; ^{\\circ} C$',\n",
    "                column_format=\"c\" * 4,\n",
    "                # position_float = 'centering',\n",
    "                hrules=True,\n",
    "                multicol_align = 'c',\n",
    "            )\n"
   ]
  },
  {
   "cell_type": "code",
   "execution_count": 16,
   "id": "5a8fcf69",
   "metadata": {},
   "outputs": [],
   "source": [
    "for i in range(0, len(data)):\n",
    "    data_to_latex(data[i], i)"
   ]
  },
  {
   "cell_type": "markdown",
   "id": "59a70202",
   "metadata": {},
   "source": [
    "## R(Q)"
   ]
  },
  {
   "cell_type": "code",
   "execution_count": 17,
   "id": "22d159f5",
   "metadata": {},
   "outputs": [],
   "source": [
    "colour = [\"red\", \"blue\", \"green\", \"yellow\", \"purple\", \"orange\", \"white\", \"black\"]\n",
    "\n",
    "def lin_plot_RQ(x, y, label = None, i = 1):\n",
    "    coeffs = np.polyfit(x, y, 1)\n",
    "    equ = lambda x: coeffs[0] * x + coeffs[1]\n",
    "    \n",
    "    # plt.scatter(x, y, marker='.')\n",
    "    x_space = np.linspace(0, max(x)*1.01, 100)\n",
    "    plt.plot(x_space, equ(x_space), label = label, c = colour[i])\n",
    "    plt.errorbar(x, y, yerr=y*eps_R, xerr=x*eps_Q, fmt='.', c = colour[i])\n",
    "    "
   ]
  },
  {
   "cell_type": "code",
   "execution_count": 18,
   "id": "3a79d1ca",
   "metadata": {},
   "outputs": [],
   "source": [
    "mnk_fmt = {\n",
    "        '$\\overline{x}$' : \"{:.2e}\",\n",
    "        '$\\sigma_x^2$'   : \"{:.2e}\",\n",
    "        '$\\overline{y}$' : \"{:.2f}\",\n",
    "        '$\\sigma_y^2$'   : \"{:.2e}\",\n",
    "        '$r_{xy}$'       : \"{:.2e}\",\n",
    "        '$a$'            : \"{:.2f}\",\n",
    "        '$\\Delta a$'     : \"{:.2f}\",\n",
    "        '$b$'            : \"{:.2f}\",\n",
    "        '$\\Delta b$'     : \"{:.2f}\",\n",
    "}\n",
    "\n",
    "def least_sq(x, y):\n",
    "    sx = (x**2).mean() - (x.mean())**2\n",
    "    sy = (y**2).mean() - (y.mean())**2\n",
    "    rxy = (y*x).mean() - (y.mean() * x.mean())\n",
    "    a = rxy / sx\n",
    "    da = (1/(len(x) - 2) * (sy/sx - a**2))**(0.5)\n",
    "    b = y.mean() - a * x.mean()\n",
    "    db = da*(sx + (x.mean())**2)**(1/2)\n",
    "    dat = pd.DataFrame({\n",
    "        '$\\overline{x}$' : [x.mean()],\n",
    "        '$\\sigma_x^2$'   : [sx],\n",
    "        '$\\overline{y}$' : [y.mean()],\n",
    "        '$\\sigma_y^2$'   : [sy],\n",
    "        '$r_{xy}$'       : [rxy],\n",
    "        '$a$'            : [a],\n",
    "        '$\\Delta a$'     : [da],\n",
    "        '$b$'            : [b],\n",
    "        '$\\Delta b$'     : [db],\n",
    "    })\n",
    "    return dat, [x.mean(), sx, y.mean(), sy, rxy, a, da, b, db]"
   ]
  },
  {
   "cell_type": "code",
   "execution_count": 19,
   "id": "db163f6d",
   "metadata": {
    "scrolled": true
   },
   "outputs": [
    {
     "name": "stdout",
     "output_type": "stream",
     "text": [
      "\\begin{tabular}{rrrrrrrrr}\n",
      "$\\overline{x}$ & $\\sigma_x^2$ & $\\overline{y}$ & $\\sigma_y^2$ & $r_{xy}$ & $a$ & $\\Delta a$ & $b$ & $\\Delta b$ \\\\\n",
      "5.92e-02 & 9.78e-04 & 14.72 & 1.19e-02 & 3.42e-03 & 3.49 & 0.02 & 14.52 & 0.00 \\\\\n",
      "\\end{tabular}\n",
      "\n",
      "\\begin{tabular}{rrrrrrrrr}\n",
      "$\\overline{x}$ & $\\sigma_x^2$ & $\\overline{y}$ & $\\sigma_y^2$ & $r_{xy}$ & $a$ & $\\Delta a$ & $b$ & $\\Delta b$ \\\\\n",
      "5.99e-02 & 9.92e-04 & 15.08 & 1.11e-02 & 3.32e-03 & 3.35 & 0.03 & 14.88 & 0.00 \\\\\n",
      "\\end{tabular}\n",
      "\n",
      "\\begin{tabular}{rrrrrrrrr}\n",
      "$\\overline{x}$ & $\\sigma_x^2$ & $\\overline{y}$ & $\\sigma_y^2$ & $r_{xy}$ & $a$ & $\\Delta a$ & $b$ & $\\Delta b$ \\\\\n",
      "6.06e-02 & 1.01e-03 & 15.53 & 1.10e-02 & 3.33e-03 & 3.31 & 0.01 & 15.33 & 0.00 \\\\\n",
      "\\end{tabular}\n",
      "\n",
      "\\begin{tabular}{rrrrrrrrr}\n",
      "$\\overline{x}$ & $\\sigma_x^2$ & $\\overline{y}$ & $\\sigma_y^2$ & $r_{xy}$ & $a$ & $\\Delta a$ & $b$ & $\\Delta b$ \\\\\n",
      "6.14e-02 & 1.02e-03 & 15.98 & 1.07e-02 & 3.30e-03 & 3.23 & 0.01 & 15.78 & 0.00 \\\\\n",
      "\\end{tabular}\n",
      "\n",
      "\\begin{tabular}{rrrrrrrrr}\n",
      "$\\overline{x}$ & $\\sigma_x^2$ & $\\overline{y}$ & $\\sigma_y^2$ & $r_{xy}$ & $a$ & $\\Delta a$ & $b$ & $\\Delta b$ \\\\\n",
      "6.21e-02 & 1.04e-03 & 16.43 & 1.02e-02 & 3.25e-03 & 3.14 & 0.01 & 16.24 & 0.00 \\\\\n",
      "\\end{tabular}\n",
      "\n",
      "\\begin{tabular}{rrrrrrrrr}\n",
      "$\\overline{x}$ & $\\sigma_x^2$ & $\\overline{y}$ & $\\sigma_y^2$ & $r_{xy}$ & $a$ & $\\Delta a$ & $b$ & $\\Delta b$ \\\\\n",
      "6.29e-02 & 1.05e-03 & 16.88 & 9.54e-03 & 3.16e-03 & 3.02 & 0.01 & 16.69 & 0.00 \\\\\n",
      "\\end{tabular}\n",
      "\n",
      "Coeffs\n",
      "[3.49298764 3.34807249 3.3060698  3.23015229 3.14077552 3.01629884]\n",
      "[0.02339664 0.02774765 0.00689138 0.00642381 0.01039327 0.01279109]\n",
      "[14.51772773 14.88361389 15.32539789 15.77712216 16.23794758 16.69369454]\n",
      "[0.00156635 0.00187682 0.0004717  0.00044471 0.00072741 0.00090433]\n"
     ]
    },
    {
     "data": {
      "image/png": "[encoded data removed]",
      "text/plain": [
       "<Figure size 432x288 with 1 Axes>"
      ]
     },
     "metadata": {
      "needs_background": "light"
     },
     "output_type": "display_data"
    }
   ],
   "source": [
    "dR_dQ     = np.array([])      # dR/dQ\n",
    "err_dR_dQ = np.array([])      # errors dR/dQ\n",
    "R_0       = np.array([])      # R_0\n",
    "err_R_0   = np.array([])      # errors R_0\n",
    "\n",
    "for i in range(0, len(data)):\n",
    "    x = data[i]['Q.' + str(i)]\n",
    "    y = data[i]['R.' + str(i)]\n",
    "    \n",
    "    df, dat = least_sq(x, y)\n",
    "    latex = df.style.hide(level=0, axis=0).format(mnk_fmt).to_latex()\n",
    "    print(latex)\n",
    "    \n",
    "    dR_dQ     = np.append(dR_dQ, dat[5])\n",
    "    err_dR_dQ = np.append(err_dR_dQ, dat[6])\n",
    "    R_0       = np.append(R_0, dat[7])\n",
    "    err_R_0   = np.append(err_R_0, dat[8])\n",
    "    \n",
    "    label = r\"$\" + str(T[i]) + \" \\; ^{\\circ} C$\"\n",
    "    lin_plot_RQ(x, y, label, i)\n",
    "\n",
    "plt.title(\"$R \\; (Q)$\")\n",
    "plt.ylabel(r\"$ R, Ом$\")\n",
    "plt.xlabel(r\"$ Q, Вт$\")\n",
    "plt.grid(True)\n",
    "plt.legend(fontsize = 8, framealpha = 0.1)\n",
    "\n",
    "print(\"Coeffs\")\n",
    "print(dR_dQ)\n",
    "print(err_dR_dQ)\n",
    "print(R_0)\n",
    "print(err_R_0)\n",
    "plt.savefig(\"R_Q.pdf\")"
   ]
  },
  {
   "cell_type": "markdown",
   "id": "6ab01c12",
   "metadata": {},
   "source": [
    "## R(T)"
   ]
  },
  {
   "cell_type": "code",
   "execution_count": 20,
   "id": "0ceab112",
   "metadata": {},
   "outputs": [],
   "source": [
    "def lin_plot(x, y):\n",
    "    coeffs = np.polyfit(x, y, 1)\n",
    "    equ = lambda x: coeffs[0] * x + coeffs[1]\n",
    "    \n",
    "    # plt.scatter(x, y, marker='.')\n",
    "    x_space = np.linspace(min(x)/1.01, max(x)*1.01, 100)\n",
    "    plt.plot(x_space, equ(x_space))\n",
    "    # plt.errorbar(x, y, yerr=0.1, xerr=0.001, fmt='.')\n",
    "    "
   ]
  },
  {
   "cell_type": "code",
   "execution_count": 21,
   "id": "9253b43d",
   "metadata": {
    "scrolled": true
   },
   "outputs": [
    {
     "name": "stdout",
     "output_type": "stream",
     "text": [
      "\\begin{tabular}{rrrrrrrrr}\n",
      "\\toprule\n",
      "$\\overline{x}$ & $\\sigma_x^2$ & $\\overline{y}$ & $\\sigma_y^2$ & $r_{xy}$ & $a$ & $\\Delta a$ & $b$ & $\\Delta b$ \\\\\n",
      "\\midrule\n",
      "4.53e+01 & 2.76e+02 & 15.57 & 5.65e-01 & 1.25e+01 & 0.04528 & 0.00014 & 13.520 & 0.007 \\\\\n",
      "\\bottomrule\n",
      "\\end{tabular}\n",
      "\n"
     ]
    },
    {
     "data": {
      "text/html": [
       "<div>\n",
       "<style scoped>\n",
       "    .dataframe tbody tr th:only-of-type {\n",
       "        vertical-align: middle;\n",
       "    }\n",
       "\n",
       "    .dataframe tbody tr th {\n",
       "        vertical-align: top;\n",
       "    }\n",
       "\n",
       "    .dataframe thead th {\n",
       "        text-align: right;\n",
       "    }\n",
       "</style>\n",
       "<table border=\"1\" class=\"dataframe\">\n",
       "  <thead>\n",
       "    <tr style=\"text-align: right;\">\n",
       "      <th></th>\n",
       "      <th>$\\overline{x}$</th>\n",
       "      <th>$\\sigma_x^2$</th>\n",
       "      <th>$\\overline{y}$</th>\n",
       "      <th>$\\sigma_y^2$</th>\n",
       "      <th>$r_{xy}$</th>\n",
       "      <th>$a$</th>\n",
       "      <th>$\\Delta a$</th>\n",
       "      <th>$b$</th>\n",
       "      <th>$\\Delta b$</th>\n",
       "    </tr>\n",
       "  </thead>\n",
       "  <tbody>\n",
       "    <tr>\n",
       "      <th>0</th>\n",
       "      <td>45.333333</td>\n",
       "      <td>275.555556</td>\n",
       "      <td>15.572584</td>\n",
       "      <td>0.564989</td>\n",
       "      <td>12.477181</td>\n",
       "      <td>0.04528</td>\n",
       "      <td>0.000139</td>\n",
       "      <td>13.519886</td>\n",
       "      <td>0.006733</td>\n",
       "    </tr>\n",
       "  </tbody>\n",
       "</table>\n",
       "</div>"
      ],
      "text/plain": [
       "   $\\overline{x}$  $\\sigma_x^2$  $\\overline{y}$  $\\sigma_y^2$   $r_{xy}$  \\\n",
       "0       45.333333    275.555556       15.572584      0.564989  12.477181   \n",
       "\n",
       "       $a$  $\\Delta a$        $b$  $\\Delta b$  \n",
       "0  0.04528    0.000139  13.519886    0.006733  "
      ]
     },
     "execution_count": 21,
     "metadata": {},
     "output_type": "execute_result"
    }
   ],
   "source": [
    "mnk_fmt = {\n",
    "        '$\\overline{x}$' : \"{:.2e}\",\n",
    "        '$\\sigma_x^2$'   : \"{:.2e}\",\n",
    "        '$\\overline{y}$' : \"{:.2f}\",\n",
    "        '$\\sigma_y^2$'   : \"{:.2e}\",\n",
    "        '$r_{xy}$'       : \"{:.2e}\",\n",
    "        '$a$'            : \"{:.5f}\",\n",
    "        '$\\Delta a$'     : \"{:.5f}\",\n",
    "        '$b$'            : \"{:.3f}\",\n",
    "        '$\\Delta b$'     : \"{:.3f}\",\n",
    "}\n",
    "\n",
    "df, dat = least_sq(T, R_0)\n",
    "dR_dT     = dat[5]    # dR/dT\n",
    "err_dR_dT = dat[6]    # errors dR/dT\n",
    "\n",
    "latex = df.style.hide(level=0, axis=0).format(mnk_fmt).to_latex(hrules = True)\n",
    "print(latex)\n",
    "df"
   ]
  },
  {
   "cell_type": "code",
   "execution_count": 22,
   "id": "5e62ca7a",
   "metadata": {},
   "outputs": [
    {
     "data": {
      "text/plain": [
       "0.0033491473101917102"
      ]
     },
     "execution_count": 22,
     "metadata": {},
     "output_type": "execute_result"
    }
   ],
   "source": [
    "dat[5]/dat[7] # alpha = (dR/dT)/R"
   ]
  },
  {
   "cell_type": "code",
   "execution_count": 23,
   "id": "8a4d251b",
   "metadata": {
    "scrolled": true
   },
   "outputs": [
    {
     "data": {
      "image/png": "[encoded data removed]",
      "text/plain": [
       "<Figure size 432x288 with 1 Axes>"
      ]
     },
     "metadata": {
      "needs_background": "light"
     },
     "output_type": "display_data"
    }
   ],
   "source": [
    "lin_plot(T, R_0)\n",
    "plt.errorbar(T, R_0, xerr=0.1, yerr=err_R_0, fmt='.')\n",
    "\n",
    "plt.title(\"$R_0 \\; (T)$\")\n",
    "plt.ylabel(r\"$R_0, Ом$\")\n",
    "plt.xlabel(r\"$T, \\; K$\")\n",
    "plt.grid(True)\n",
    "# plt.legend()\n",
    "\n",
    "plt.savefig(\"R_0_T.pdf\")"
   ]
  },
  {
   "cell_type": "markdown",
   "id": "8b9bbd24",
   "metadata": {},
   "source": [
    "## dQ/d(delta T)"
   ]
  },
  {
   "cell_type": "code",
   "execution_count": 24,
   "id": "55db061e",
   "metadata": {},
   "outputs": [
    {
     "name": "stdout",
     "output_type": "stream",
     "text": [
      "[0.0006098  0.00065424 0.00061193 0.00062598 0.0006498  0.00068285]\n"
     ]
    }
   ],
   "source": [
    "dQ_dT     = dR_dT/dR_dQ\n",
    "err_dQ_dT = dQ_dT * ((err_dR_dT/dR_dT)**2 + (err_dR_dQ/dR_dQ)**2)**(0.5)\n",
    "\n",
    "kappa     = dQ_dT * ln_r0r1 / (2 * pi * L)\n",
    "err_kappa = kappa * ((err_dQ_dT/dQ_dT)**2 + (err_ln_r0r1/ln_r0r1)**2)**0.5\n",
    "print(err_kappa)\n",
    "\n",
    "ln_kappa  = np.log(kappa)\n",
    "ln_T      = np.log(T + 273)"
   ]
  },
  {
   "cell_type": "code",
   "execution_count": 28,
   "id": "c4629b0e",
   "metadata": {},
   "outputs": [
    {
     "name": "stdout",
     "output_type": "stream",
     "text": [
      "\\begin{tabular}{rrrrrrrrr}\n",
      "$\\overline{x}$ & $\\sigma_x^2$ & $\\overline{y}$ & $\\sigma_y^2$ & $r_{xy}$ & $a$ & $\\Delta a$ & $b$ & $\\Delta b$ \\\\\n",
      "5.76e+00 & 2.72e-03 & -3.44 & 2.19e-03 & 2.41e-03 & 0.88 & 0.08 & -8.53 & 0.43 \\\\\n",
      "\\end{tabular}\n",
      "\n"
     ]
    },
    {
     "data": {
      "text/html": [
       "<div>\n",
       "<style scoped>\n",
       "    .dataframe tbody tr th:only-of-type {\n",
       "        vertical-align: middle;\n",
       "    }\n",
       "\n",
       "    .dataframe tbody tr th {\n",
       "        vertical-align: top;\n",
       "    }\n",
       "\n",
       "    .dataframe thead th {\n",
       "        text-align: right;\n",
       "    }\n",
       "</style>\n",
       "<table border=\"1\" class=\"dataframe\">\n",
       "  <thead>\n",
       "    <tr style=\"text-align: right;\">\n",
       "      <th></th>\n",
       "      <th>$\\overline{x}$</th>\n",
       "      <th>$\\sigma_x^2$</th>\n",
       "      <th>$\\overline{y}$</th>\n",
       "      <th>$\\sigma_y^2$</th>\n",
       "      <th>$r_{xy}$</th>\n",
       "      <th>$a$</th>\n",
       "      <th>$\\Delta a$</th>\n",
       "      <th>$b$</th>\n",
       "      <th>$\\Delta b$</th>\n",
       "    </tr>\n",
       "  </thead>\n",
       "  <tbody>\n",
       "    <tr>\n",
       "      <th>0</th>\n",
       "      <td>5.761739</td>\n",
       "      <td>0.002719</td>\n",
       "      <td>-3.436015</td>\n",
       "      <td>0.002191</td>\n",
       "      <td>0.002406</td>\n",
       "      <td>0.884869</td>\n",
       "      <td>0.075452</td>\n",
       "      <td>-8.534402</td>\n",
       "      <td>0.434755</td>\n",
       "    </tr>\n",
       "  </tbody>\n",
       "</table>\n",
       "</div>"
      ],
      "text/plain": [
       "   $\\overline{x}$  $\\sigma_x^2$  $\\overline{y}$  $\\sigma_y^2$  $r_{xy}$  \\\n",
       "0        5.761739      0.002719       -3.436015      0.002191  0.002406   \n",
       "\n",
       "        $a$  $\\Delta a$       $b$  $\\Delta b$  \n",
       "0  0.884869    0.075452 -8.534402    0.434755  "
      ]
     },
     "execution_count": 28,
     "metadata": {},
     "output_type": "execute_result"
    }
   ],
   "source": [
    "mnk_fmt = {\n",
    "        '$\\overline{x}$' : \"{:.2e}\",\n",
    "        '$\\sigma_x^2$'   : \"{:.2e}\",\n",
    "        '$\\overline{y}$' : \"{:.2f}\",\n",
    "        '$\\sigma_y^2$'   : \"{:.2e}\",\n",
    "        '$r_{xy}$'       : \"{:.2e}\",\n",
    "        '$a$'            : \"{:.2f}\",\n",
    "        '$\\Delta a$'     : \"{:.2f}\",\n",
    "        '$b$'            : \"{:.2f}\",\n",
    "        '$\\Delta b$'     : \"{:.2f}\",\n",
    "}\n",
    "\n",
    "df, dat = least_sq(ln_T, ln_kappa)\n",
    "\n",
    "latex = df.style.hide(level=0, axis=0).format(mnk_fmt).to_latex()\n",
    "print(latex)\n",
    "df"
   ]
  },
  {
   "cell_type": "code",
   "execution_count": 29,
   "id": "c325262d",
   "metadata": {},
   "outputs": [
    {
     "data": {
      "image/png": "[encoded data removed]",
      "text/plain": [
       "<Figure size 432x288 with 1 Axes>"
      ]
     },
     "metadata": {
      "needs_background": "light"
     },
     "output_type": "display_data"
    }
   ],
   "source": [
    "lin_plot(T, 1000 * kappa)\n",
    "plt.errorbar(T, 1000 * kappa, xerr = 0.1, yerr = 1000 * err_kappa, fmt='.')\n",
    "\n",
    "plt.title(\"$\\kappa \\; (T)$\")\n",
    "plt.ylabel(r\"$\\kappa, \\; \\frac{мВт}{м \\cdot K}$\")\n",
    "plt.xlabel(r\"$T, \\; K$\")\n",
    "plt.grid(True)\n",
    "# plt.legend()\n",
    "\n",
    "plt.savefig(\"k_T.pdf\")"
   ]
  },
  {
   "cell_type": "code",
   "execution_count": 30,
   "id": "0a15a524",
   "metadata": {
    "scrolled": true
   },
   "outputs": [
    {
     "data": {
      "image/png": "[encoded data removed]",
      "text/plain": [
       "<Figure size 432x288 with 1 Axes>"
      ]
     },
     "metadata": {
      "needs_background": "light"
     },
     "output_type": "display_data"
    }
   ],
   "source": [
    "lin_plot(ln_T, ln_kappa)\n",
    "plt.errorbar(ln_T, ln_kappa, xerr = 0.1/T, yerr = err_kappa/kappa, fmt='.')\n",
    "\n",
    "plt.title(\"$\\ln \\kappa \\; (\\ln T)$\")\n",
    "plt.ylabel(r\"$\\ln \\kappa$\")\n",
    "plt.xlabel(r\"$\\ln T$\")\n",
    "plt.grid(True)\n",
    "# plt.legend()\n",
    "\n",
    "plt.savefig(\"ln_k_ln_T.pdf\")"
   ]
  },
  {
   "cell_type": "markdown",
   "id": "aeb4a776",
   "metadata": {},
   "source": [
    "## Print result table"
   ]
  },
  {
   "cell_type": "code",
   "execution_count": 31,
   "id": "79d02e9f",
   "metadata": {},
   "outputs": [],
   "source": [
    "out = pd.DataFrame({'T'       : T,\n",
    "                    'dR_dQ'   : dR_dQ,        'err_dR_dQ' : err_dR_dQ,\n",
    "                    'R_0'     : R_0,          'err_R_0'   : err_R_0,\n",
    "                    'dQ_dT'   : 1000 * dQ_dT, 'err_dQ_dT' : 1000 * err_dQ_dT,\n",
    "                    'kappa'   : 1000 * kappa, 'err_kappa' : 1000 * err_kappa\n",
    "                   })\n",
    "\n",
    "names = {\n",
    "    'T'         : r\"$T, ^{\\circ}\\text{C}$\",\n",
    "    \n",
    "    'dR_dQ'     : r\"$\\frac{dR}{dQ}, \\frac{\\text{Ом}}{\\text{Вт}}$\",\n",
    "    'err_dR_dQ' : r\"$\\frac{dR}{dQ}, \\frac{\\text{Ом}}{\\text{Вт}}$\",\n",
    "    \n",
    "    'R_0'       : r\"$R_0, \\text{Ом}$\",\n",
    "    'err_R_0'   : r\"$\\sigma(R_0), \\text{Ом}$\",\n",
    "    \n",
    "    'dQ_dT'     : r\"$\\frac{dQ}{dT}, \\frac{\\text{мВт}}{^{\\circ}\\text{С}}$\",\n",
    "    'err_dQ_dT' : r\"$\\sigma(\\frac{dQ}{dT}), \\frac{\\text{мВт}}{^{\\circ}\\text{С}}$\",\n",
    "    \n",
    "    'kappa'     : r\"$\\kappa, \\; \\frac{\\text{мВт}}{\\text{м} \\cdot \\text{K}}$\",\n",
    "    'err_kappa' : r\"$\\sigma(\\kappa), \\; \\frac{\\text{мВт}}{\\text{м} \\cdot \\text{K}}$\",\n",
    "}\n",
    "\n",
    "out_fmt = {\n",
    "    names['T']         : \"{:.1f}\",\n",
    "    \n",
    "    names['dR_dQ']     : \"{:.3f}\",\n",
    "    names['err_dR_dQ'] : \"{:.3f}\",\n",
    "    \n",
    "    names['R_0']       : \"{:.4f}\",\n",
    "    names['err_R_0']   : \"{:.4f}\",\n",
    "    \n",
    "    names['dQ_dT']     : \"{:.5f}\",\n",
    "    names['err_dQ_dT'] : \"{:.5f}\",\n",
    "    \n",
    "    names['kappa']     : \"{:.1f}\",\n",
    "    names['err_kappa'] : \"{:.1f}\",\n",
    "}\n",
    "\n",
    "latex = out.rename(\n",
    "            columns=(names)\n",
    "        ).style.hide(level=0, axis=0).format(out_fmt).to_latex(\n",
    "            buf = 'result.tex',\n",
    "            # label = 'tab:linear',\n",
    "            # caption = r'Зависимость $\\overline{p}(T)$',\n",
    "            column_format=\"c\" * len(names),\n",
    "            # position_float = 'centering',\n",
    "            hrules=True,\n",
    "            multicol_align = 'c',\n",
    "            environment = ''\n",
    "        )\n"
   ]
  },
  {
   "cell_type": "code",
   "execution_count": null,
   "id": "c89e8272",
   "metadata": {},
   "outputs": [],
   "source": []
  }
 ],
 "metadata": {
  "kernelspec": {
   "display_name": "Python 3 (ipykernel)",
   "language": "python",
   "name": "python3"
  },
  "language_info": {
   "codemirror_mode": {
    "name": "ipython",
    "version": 3
   },
   "file_extension": ".py",
   "mimetype": "text/x-python",
   "name": "python",
   "nbconvert_exporter": "python",
   "pygments_lexer": "ipython3",
   "version": "3.10.2"
  }
 },
 "nbformat": 4,
 "nbformat_minor": 5
}
