{
 "cells": [
  {
   "cell_type": "code",
   "execution_count": 1,
   "id": "42d3de77",
   "metadata": {},
   "outputs": [],
   "source": [
    "import numpy as np\n",
    "import sys\n",
    "import pandas as pd\n",
    "import matplotlib.pyplot as plt\n",
    "import math\n",
    "import scipy as sp\n",
    "import scipy.optimize as op\n",
    "from scipy.interpolate import UnivariateSpline\n",
    "import copy\n",
    "\n",
    "# Adding library directory to python search path\n",
    "import git\n",
    "repo = git.Repo('.', search_parent_directories=True)\n",
    "library_dir = repo.working_tree_dir + '/lib'\n",
    "sys.path.insert(0, library_dir)\n",
    "\n",
    "import miptlib as mipt\n",
    "\n",
    "# Create directory for generated .tex and .pdf\n",
    "if not os.path.exists('gen'):\n",
    "    os.mkdir('gen')"
   ]
  },
  {
   "cell_type": "code",
   "execution_count": 17,
   "id": "15e86412",
   "metadata": {},
   "outputs": [],
   "source": [
    "class consts:\n",
    "    g = 9.81 * 10**2       # cm/s^2\n",
    "\n",
    "class setup:\n",
    "    dummy = 0\n",
    "\n",
    "    m = 16.633 / 20               # g   -- mass of magnet\n",
    "    m_err = 0.001                 # g\n",
    "    r = 6.29 / 2 / 10             # cm  -- radius of magnet\n",
    "    r_err = 0.01 / 10             # cm\n",
    "    r_max = 12.30 / 10  + 2 * r   # cm  -- max distance between holding magnets\n",
    "    r_max_err = 0.05 / 10         # cm\n",
    "    \n",
    "    mm = 0                        # Gauss * cm^3 -- magnetic moment\n",
    "    mm_err = 0                    #\n",
    "    \n",
    "    B_p = 270 * 10         # Gauss -- magnetic field on magnet pole\n",
    "    B_p_eps = 0.06         #\n",
    "\n",
    "    F = 279.172 * consts.g # dyn  -- max force of attraction\n",
    "    F_err = 10 * consts.g  # dyn\n",
    "\n",
    "    T_circle = 92          # s   -- oscillation period of magnet circle\n",
    "    T_err = 0.2            # s   -- time error"
   ]
  },
  {
   "cell_type": "markdown",
   "id": "c05a2d4a",
   "metadata": {},
   "source": [
    "### Method A"
   ]
  },
  {
   "cell_type": "code",
   "execution_count": 18,
   "id": "4b0c2fdc",
   "metadata": {},
   "outputs": [
    {
     "name": "stdout",
     "output_type": "stream",
     "text": [
      "1.859\n",
      "mm = (40.29841397723002 +- 0.2181244130937141) Gauss * cm^3\n",
      "B_p = (2590.931912775755 +- 28.41641957991355) Gauss\n",
      "M = (309.4265819397796 +- 3.3936806823145163) Gauss\n",
      "B_r = (3886.397869163632 +- 42.62462936987033) Gauss\n"
     ]
    }
   ],
   "source": [
    "print(setup.r_max)\n",
    "mm = np.sqrt(setup.m * consts.g * setup.r_max**4 / 6)\n",
    "mm_err = mm * 1/2 * np.sqrt( (4 * setup.r_max_err/setup.r_max)**2 + (setup.m_err/setup.m)**2 )\n",
    "print('mm = ({} +- {}) Gauss * cm^3'.format(mm, mm_err))\n",
    "\n",
    "B_p = 2 * mm / setup.r ** 3 \n",
    "B_p_err = B_p * np.sqrt( (mm_err/mm)**2 + (3 * setup.r_err / setup.r)**2 )\n",
    "print('B_p = ({} +- {}) Gauss'.format(B_p, B_p_err))\n",
    "\n",
    "M = mm / (4/3 * 3.14 * setup.r**3)\n",
    "M_err = M * np.sqrt( (mm_err/mm)**2 + (3 * setup.r_err/setup.r)**2 )\n",
    "print('M = ({} +- {}) Gauss'.format(M, M_err))\n",
    "\n",
    "B_r = 3/2 * B_p\n",
    "B_r_err = B_r * B_p_err/B_p\n",
    "print('B_r = ({} +- {}) Gauss'.format(B_r, B_r_err))\n"
   ]
  },
  {
   "cell_type": "markdown",
   "id": "948628f5",
   "metadata": {},
   "source": [
    "### Method B"
   ]
  },
  {
   "cell_type": "code",
   "execution_count": 19,
   "id": "02f05784",
   "metadata": {},
   "outputs": [
    {
     "name": "stdout",
     "output_type": "stream",
     "text": [
      "mm = (81.33626407625295 +- 1.5458439735532217) Gauss * cm^3\n",
      "B_p = (5229.404868891203 +- 111.20377909360737) Gauss\n",
      "M = (624.5308362529302 +- 13.280706101943554) Gauss\n",
      "B_r = (7844.107303336804 +- 166.80566864041106) Gauss\n"
     ]
    }
   ],
   "source": [
    "mm = np.sqrt(8 * setup.F * setup.r**4 / (3 * 1.08) )\n",
    "mm_err = mm * 1/2 * np.sqrt( (4 * setup.r_err/setup.r)**2 + (setup.F_err/setup.F)**2  )\n",
    "print('mm = ({} +- {}) Gauss * cm^3'.format(mm, mm_err))\n",
    "\n",
    "B_p = 2 * mm / setup.r ** 3 \n",
    "B_p_err = B_p * np.sqrt( (mm_err/mm)**2 + (3 * setup.r_err / setup.r)**2 )\n",
    "print('B_p = ({} +- {}) Gauss'.format(B_p, B_p_err))\n",
    "\n",
    "M = mm / (4/3 * 3.14 * setup.r**3)\n",
    "M_err = M * np.sqrt( (mm_err/mm)**2 + (3 * setup.r_err/setup.r)**2 )\n",
    "print('M = ({} +- {}) Gauss'.format(M, M_err))\n",
    "\n",
    "B_r = 3/2 * B_p\n",
    "B_r_err = B_r * B_p_err/B_p\n",
    "print('B_r = ({} +- {}) Gauss'.format(B_r, B_r_err))\n",
    "\n",
    "# Setting magnetic moment\n",
    "setup.mm = mm\n",
    "setup.mm_err = mm_err"
   ]
  },
  {
   "cell_type": "markdown",
   "id": "4872d585",
   "metadata": {},
   "source": [
    "## Horizontal"
   ]
  },
  {
   "cell_type": "code",
   "execution_count": 20,
   "id": "fb8dcbe6",
   "metadata": {
    "scrolled": true
   },
   "outputs": [
    {
     "data": {
      "text/html": [
       "<div>\n",
       "<style scoped>\n",
       "    .dataframe tbody tr th:only-of-type {\n",
       "        vertical-align: middle;\n",
       "    }\n",
       "\n",
       "    .dataframe tbody tr th {\n",
       "        vertical-align: top;\n",
       "    }\n",
       "\n",
       "    .dataframe thead tr th {\n",
       "        text-align: left;\n",
       "    }\n",
       "</style>\n",
       "<table border=\"1\" class=\"dataframe\">\n",
       "  <thead>\n",
       "    <tr>\n",
       "      <th></th>\n",
       "      <th colspan=\"2\" halign=\"left\">Horizontal</th>\n",
       "    </tr>\n",
       "    <tr>\n",
       "      <th></th>\n",
       "      <th>n</th>\n",
       "      <th>T</th>\n",
       "    </tr>\n",
       "  </thead>\n",
       "  <tbody>\n",
       "    <tr>\n",
       "      <th>0</th>\n",
       "      <td>12</td>\n",
       "      <td>5.268000</td>\n",
       "    </tr>\n",
       "    <tr>\n",
       "      <th>1</th>\n",
       "      <td>11</td>\n",
       "      <td>4.970000</td>\n",
       "    </tr>\n",
       "    <tr>\n",
       "      <th>2</th>\n",
       "      <td>10</td>\n",
       "      <td>4.538000</td>\n",
       "    </tr>\n",
       "    <tr>\n",
       "      <th>3</th>\n",
       "      <td>9</td>\n",
       "      <td>4.100000</td>\n",
       "    </tr>\n",
       "    <tr>\n",
       "      <th>4</th>\n",
       "      <td>8</td>\n",
       "      <td>3.968000</td>\n",
       "    </tr>\n",
       "    <tr>\n",
       "      <th>5</th>\n",
       "      <td>7</td>\n",
       "      <td>3.556000</td>\n",
       "    </tr>\n",
       "    <tr>\n",
       "      <th>6</th>\n",
       "      <td>6</td>\n",
       "      <td>3.374000</td>\n",
       "    </tr>\n",
       "    <tr>\n",
       "      <th>7</th>\n",
       "      <td>5</td>\n",
       "      <td>3.323333</td>\n",
       "    </tr>\n",
       "    <tr>\n",
       "      <th>8</th>\n",
       "      <td>4</td>\n",
       "      <td>3.006000</td>\n",
       "    </tr>\n",
       "  </tbody>\n",
       "</table>\n",
       "</div>"
      ],
      "text/plain": [
       "  Horizontal          \n",
       "           n         T\n",
       "0         12  5.268000\n",
       "1         11  4.970000\n",
       "2         10  4.538000\n",
       "3          9  4.100000\n",
       "4          8  3.968000\n",
       "5          7  3.556000\n",
       "6          6  3.374000\n",
       "7          5  3.323333\n",
       "8          4  3.006000"
      ]
     },
     "execution_count": 20,
     "metadata": {},
     "output_type": "execute_result"
    }
   ],
   "source": [
    "xls = {\n",
    "    'T, s' : 'T'\n",
    "}\n",
    "\n",
    "h_data = mipt.read_excel(\"data/313.ods\", usecols=range(0, 2), header=[0, 1], nrows=10)\n",
    "h_data = mipt.map_excel(h_data, xls)\n",
    "h_data"
   ]
  },
  {
   "cell_type": "code",
   "execution_count": 21,
   "id": "1ff73261",
   "metadata": {},
   "outputs": [
    {
     "data": {
      "text/html": [
       "<div>\n",
       "<style scoped>\n",
       "    .dataframe tbody tr th:only-of-type {\n",
       "        vertical-align: middle;\n",
       "    }\n",
       "\n",
       "    .dataframe tbody tr th {\n",
       "        vertical-align: top;\n",
       "    }\n",
       "\n",
       "    .dataframe thead tr th {\n",
       "        text-align: left;\n",
       "    }\n",
       "</style>\n",
       "<table border=\"1\" class=\"dataframe\">\n",
       "  <thead>\n",
       "    <tr>\n",
       "      <th></th>\n",
       "      <th colspan=\"2\" halign=\"left\">Горизонтальная составляющая</th>\n",
       "    </tr>\n",
       "    <tr>\n",
       "      <th></th>\n",
       "      <th>$n$</th>\n",
       "      <th>$T$, с</th>\n",
       "    </tr>\n",
       "  </thead>\n",
       "  <tbody>\n",
       "    <tr>\n",
       "      <th>0</th>\n",
       "      <td>12</td>\n",
       "      <td>5.268000</td>\n",
       "    </tr>\n",
       "    <tr>\n",
       "      <th>1</th>\n",
       "      <td>11</td>\n",
       "      <td>4.970000</td>\n",
       "    </tr>\n",
       "    <tr>\n",
       "      <th>2</th>\n",
       "      <td>10</td>\n",
       "      <td>4.538000</td>\n",
       "    </tr>\n",
       "    <tr>\n",
       "      <th>3</th>\n",
       "      <td>9</td>\n",
       "      <td>4.100000</td>\n",
       "    </tr>\n",
       "    <tr>\n",
       "      <th>4</th>\n",
       "      <td>8</td>\n",
       "      <td>3.968000</td>\n",
       "    </tr>\n",
       "    <tr>\n",
       "      <th>5</th>\n",
       "      <td>7</td>\n",
       "      <td>3.556000</td>\n",
       "    </tr>\n",
       "    <tr>\n",
       "      <th>6</th>\n",
       "      <td>6</td>\n",
       "      <td>3.374000</td>\n",
       "    </tr>\n",
       "    <tr>\n",
       "      <th>7</th>\n",
       "      <td>5</td>\n",
       "      <td>3.323333</td>\n",
       "    </tr>\n",
       "    <tr>\n",
       "      <th>8</th>\n",
       "      <td>4</td>\n",
       "      <td>3.006000</td>\n",
       "    </tr>\n",
       "  </tbody>\n",
       "</table>\n",
       "</div>"
      ],
      "text/plain": [
       "  Горизонтальная составляющая          \n",
       "                          $n$    $T$, с\n",
       "0                          12  5.268000\n",
       "1                          11  4.970000\n",
       "2                          10  4.538000\n",
       "3                           9  4.100000\n",
       "4                           8  3.968000\n",
       "5                           7  3.556000\n",
       "6                           6  3.374000\n",
       "7                           5  3.323333\n",
       "8                           4  3.006000"
      ]
     },
     "execution_count": 21,
     "metadata": {},
     "output_type": "execute_result"
    }
   ],
   "source": [
    "h_fmt = {\n",
    "    'Horizontal' : ['Горизонтальная составляющая'],\n",
    "    ('Horizontal', 'n') : ['$n$', '{:.0f}', 0],\n",
    "    ('Horizontal', 'T') : ['$T$, с', '{:.2f}', 0]\n",
    "}\n",
    "\n",
    "h_tbl = mipt.table(h_data, h_fmt)\n",
    "h_tbl.rename().to_latex('gen/horizontal.tex')\n",
    "h_tbl.rename().get_data()"
   ]
  },
  {
   "cell_type": "code",
   "execution_count": 22,
   "id": "1825e369",
   "metadata": {},
   "outputs": [
    {
     "data": {
      "image/png": "[encoded data removed]",
      "text/plain": [
       "<Figure size 640x480 with 1 Axes>"
      ]
     },
     "metadata": {},
     "output_type": "display_data"
    }
   ],
   "source": [
    "d = h_tbl.get_data()\n",
    "x, y, equ = mipt.plot(d[('Horizontal', 'n')], d[('Horizontal', 'T')], x_min = 0, yerr = setup.T_err)\n",
    "\n",
    "plt.title(\"$T \\; (n)$\")\n",
    "plt.xlabel(\"$n$\")\n",
    "plt.ylabel(\"$T$, с\")\n",
    "plt.grid(True)\n",
    "\n",
    "plt.savefig(\"gen/horizontal_Tn.pdf\")\n"
   ]
  },
  {
   "cell_type": "code",
   "execution_count": 23,
   "id": "0c015aa2",
   "metadata": {},
   "outputs": [
    {
     "data": {
      "text/html": [
       "<div>\n",
       "<style scoped>\n",
       "    .dataframe tbody tr th:only-of-type {\n",
       "        vertical-align: middle;\n",
       "    }\n",
       "\n",
       "    .dataframe tbody tr th {\n",
       "        vertical-align: top;\n",
       "    }\n",
       "\n",
       "    .dataframe thead th {\n",
       "        text-align: right;\n",
       "    }\n",
       "</style>\n",
       "<table border=\"1\" class=\"dataframe\">\n",
       "  <thead>\n",
       "    <tr style=\"text-align: right;\">\n",
       "      <th></th>\n",
       "      <th>&lt;x&gt;</th>\n",
       "      <th>sx</th>\n",
       "      <th>&lt;y&gt;</th>\n",
       "      <th>sy</th>\n",
       "      <th>rxy</th>\n",
       "      <th>a</th>\n",
       "      <th>da</th>\n",
       "      <th>b</th>\n",
       "      <th>db</th>\n",
       "    </tr>\n",
       "  </thead>\n",
       "  <tbody>\n",
       "    <tr>\n",
       "      <th>0</th>\n",
       "      <td>8.0</td>\n",
       "      <td>6.666667</td>\n",
       "      <td>4.011481</td>\n",
       "      <td>0.542548</td>\n",
       "      <td>1.873333</td>\n",
       "      <td>0.281</td>\n",
       "      <td>0.018598</td>\n",
       "      <td>1.763481</td>\n",
       "      <td>0.156341</td>\n",
       "    </tr>\n",
       "  </tbody>\n",
       "</table>\n",
       "</div>"
      ],
      "text/plain": [
       "   <x>        sx       <y>        sy       rxy      a        da         b  \\\n",
       "0  8.0  6.666667  4.011481  0.542548  1.873333  0.281  0.018598  1.763481   \n",
       "\n",
       "         db  \n",
       "0  0.156341  "
      ]
     },
     "execution_count": 23,
     "metadata": {},
     "output_type": "execute_result"
    }
   ],
   "source": [
    "h_mnk = mipt.mnk(d[('Horizontal', 'n')], d[('Horizontal', 'T')], file = 'gen/horizontal_mnk.tex').get_data()\n",
    "h_mnk"
   ]
  },
  {
   "cell_type": "code",
   "execution_count": 24,
   "id": "12c374a3",
   "metadata": {},
   "outputs": [
    {
     "name": "stdout",
     "output_type": "stream",
     "text": [
      "B_parallel = (1.69e-01 +- 1.17e-02)\n"
     ]
    }
   ],
   "source": [
    "B_par = 3.14159**2 * setup.m * (setup.r * 2)**2 / (3 * setup.mm * float(h_mnk['a'])**2)\n",
    "B_par_err = B_par * np.sqrt( (setup.m_err/setup.m)**2 + (setup.mm_err/setup.mm)**2\n",
    "                             + (2 * setup.r_err/setup.r)**2 + (float(h_mnk['da'])/float(h_mnk['a']))**2 )\n",
    "print('B_parallel = ({:.2e} +- {:.2e})'.format(B_par, B_par_err))"
   ]
  },
  {
   "cell_type": "markdown",
   "id": "89539935",
   "metadata": {},
   "source": [
    "## Vertical"
   ]
  },
  {
   "cell_type": "code",
   "execution_count": 25,
   "id": "c0164236",
   "metadata": {
    "scrolled": true
   },
   "outputs": [
    {
     "data": {
      "text/html": [
       "<div>\n",
       "<style scoped>\n",
       "    .dataframe tbody tr th:only-of-type {\n",
       "        vertical-align: middle;\n",
       "    }\n",
       "\n",
       "    .dataframe tbody tr th {\n",
       "        vertical-align: top;\n",
       "    }\n",
       "\n",
       "    .dataframe thead tr th {\n",
       "        text-align: left;\n",
       "    }\n",
       "</style>\n",
       "<table border=\"1\" class=\"dataframe\">\n",
       "  <thead>\n",
       "    <tr>\n",
       "      <th></th>\n",
       "      <th colspan=\"3\" halign=\"left\">Vertical</th>\n",
       "    </tr>\n",
       "    <tr>\n",
       "      <th></th>\n",
       "      <th>n</th>\n",
       "      <th>m</th>\n",
       "      <th>l</th>\n",
       "    </tr>\n",
       "  </thead>\n",
       "  <tbody>\n",
       "    <tr>\n",
       "      <th>0</th>\n",
       "      <td>12</td>\n",
       "      <td>308</td>\n",
       "      <td>6.0</td>\n",
       "    </tr>\n",
       "    <tr>\n",
       "      <th>1</th>\n",
       "      <td>10</td>\n",
       "      <td>308</td>\n",
       "      <td>4.2</td>\n",
       "    </tr>\n",
       "    <tr>\n",
       "      <th>2</th>\n",
       "      <td>8</td>\n",
       "      <td>308</td>\n",
       "      <td>3.5</td>\n",
       "    </tr>\n",
       "    <tr>\n",
       "      <th>3</th>\n",
       "      <td>6</td>\n",
       "      <td>308</td>\n",
       "      <td>2.8</td>\n",
       "    </tr>\n",
       "    <tr>\n",
       "      <th>4</th>\n",
       "      <td>4</td>\n",
       "      <td>308</td>\n",
       "      <td>1.8</td>\n",
       "    </tr>\n",
       "  </tbody>\n",
       "</table>\n",
       "</div>"
      ],
      "text/plain": [
       "  Vertical          \n",
       "         n    m    l\n",
       "0       12  308  6.0\n",
       "1       10  308  4.2\n",
       "2        8  308  3.5\n",
       "3        6  308  2.8\n",
       "4        4  308  1.8"
      ]
     },
     "execution_count": 25,
     "metadata": {},
     "output_type": "execute_result"
    }
   ],
   "source": [
    "xls = {\n",
    "    'm, mg' : 'm',\n",
    "    'l, balls' : 'l'\n",
    "}\n",
    "\n",
    "v_data = mipt.read_excel(\"data/313.ods\", usecols=range(3, 6), header=[0, 1], nrows=5)\n",
    "v_data = mipt.map_excel(v_data, xls)\n",
    "v_data"
   ]
  },
  {
   "cell_type": "code",
   "execution_count": 26,
   "id": "d431da61",
   "metadata": {},
   "outputs": [
    {
     "name": "stdout",
     "output_type": "stream",
     "text": [
      "0    1140.306552\n",
      "1     798.214586\n",
      "2     665.178822\n",
      "3     532.143058\n",
      "4     342.091966\n",
      "dtype: float64\n"
     ]
    },
    {
     "data": {
      "text/html": [
       "<div>\n",
       "<style scoped>\n",
       "    .dataframe tbody tr th:only-of-type {\n",
       "        vertical-align: middle;\n",
       "    }\n",
       "\n",
       "    .dataframe tbody tr th {\n",
       "        vertical-align: top;\n",
       "    }\n",
       "\n",
       "    .dataframe thead tr th {\n",
       "        text-align: left;\n",
       "    }\n",
       "</style>\n",
       "<table border=\"1\" class=\"dataframe\">\n",
       "  <thead>\n",
       "    <tr>\n",
       "      <th></th>\n",
       "      <th colspan=\"5\" halign=\"left\">Вертикальная составляющая</th>\n",
       "    </tr>\n",
       "    <tr>\n",
       "      <th></th>\n",
       "      <th>$n$</th>\n",
       "      <th>$m$, мг</th>\n",
       "      <th>$l$, шарики</th>\n",
       "      <th>$l$, cм</th>\n",
       "      <th>$M$, дин $\\cdot$ см</th>\n",
       "    </tr>\n",
       "  </thead>\n",
       "  <tbody>\n",
       "    <tr>\n",
       "      <th>0</th>\n",
       "      <td>12</td>\n",
       "      <td>308</td>\n",
       "      <td>6.0</td>\n",
       "      <td>3.7740</td>\n",
       "      <td>1140.306552</td>\n",
       "    </tr>\n",
       "    <tr>\n",
       "      <th>1</th>\n",
       "      <td>10</td>\n",
       "      <td>308</td>\n",
       "      <td>4.2</td>\n",
       "      <td>2.6418</td>\n",
       "      <td>798.214586</td>\n",
       "    </tr>\n",
       "    <tr>\n",
       "      <th>2</th>\n",
       "      <td>8</td>\n",
       "      <td>308</td>\n",
       "      <td>3.5</td>\n",
       "      <td>2.2015</td>\n",
       "      <td>665.178822</td>\n",
       "    </tr>\n",
       "    <tr>\n",
       "      <th>3</th>\n",
       "      <td>6</td>\n",
       "      <td>308</td>\n",
       "      <td>2.8</td>\n",
       "      <td>1.7612</td>\n",
       "      <td>532.143058</td>\n",
       "    </tr>\n",
       "    <tr>\n",
       "      <th>4</th>\n",
       "      <td>4</td>\n",
       "      <td>308</td>\n",
       "      <td>1.8</td>\n",
       "      <td>1.1322</td>\n",
       "      <td>342.091966</td>\n",
       "    </tr>\n",
       "  </tbody>\n",
       "</table>\n",
       "</div>"
      ],
      "text/plain": [
       "  Вертикальная составляющая                                                \n",
       "                        $n$ $m$, мг $l$, шарики $l$, cм $M$, дин $\\cdot$ см\n",
       "0                        12     308         6.0  3.7740         1140.306552\n",
       "1                        10     308         4.2  2.6418          798.214586\n",
       "2                         8     308         3.5  2.2015          665.178822\n",
       "3                         6     308         2.8  1.7612          532.143058\n",
       "4                         4     308         1.8  1.1322          342.091966"
      ]
     },
     "execution_count": 26,
     "metadata": {},
     "output_type": "execute_result"
    }
   ],
   "source": [
    "v_L = v_data[('Vertical', 'l')] * 2 * setup.r\n",
    "v_L_err = setup.r\n",
    "\n",
    "v_M = v_data[('Vertical', 'm')] * v_L * consts.g / 1000\n",
    "v_M_err = v_M * v_L_err/v_L\n",
    "print(v_M)\n",
    "\n",
    "v_fmt = {\n",
    "    'Vertical' : ['Вертикальная составляющая'],\n",
    "    ('Vertical', 'n') : ['$n$', '{:.0f}', 0],\n",
    "    ('Vertical', 'm') : ['$m$, мг', '{:.0f}', 0],\n",
    "    ('Vertical', 'l') : ['$l$, шарики', '{:.1f}', 0],\n",
    "    ('Vertical', 'L') : ['$l$, cм', '{:.2f}', 0],\n",
    "    ('Vertical', 'M') : ['$M$, дин $\\cdot$ см', '{:.0f}', 0]\n",
    "}\n",
    "\n",
    "v_tbl = mipt.table(v_data, v_fmt)\n",
    "v_tbl.insert(3, ('Vertical', 'L'), v_L)\n",
    "v_tbl.insert(4, ('Vertical', 'M'), v_M)\n",
    "v_tbl.rename().to_latex('gen/vertical.tex')\n",
    "v_tbl.rename().get_data()"
   ]
  },
  {
   "cell_type": "code",
   "execution_count": 27,
   "id": "426133c0",
   "metadata": {},
   "outputs": [
    {
     "data": {
      "image/png": "[encoded data removed]",
      "text/plain": [
       "<Figure size 640x480 with 1 Axes>"
      ]
     },
     "metadata": {},
     "output_type": "display_data"
    }
   ],
   "source": [
    "d = v_tbl.get_data()\n",
    "x, y, equ = mipt.plot(d[('Vertical', 'n')], d[('Vertical', 'M')], x_min = 0, yerr = v_M_err)\n",
    "\n",
    "plt.title(\"$M \\; (n)$\")\n",
    "plt.xlabel(\"$n$\")\n",
    "plt.ylabel(\"$M$, дин $\\cdot$ см\")\n",
    "plt.grid(True)\n",
    "\n",
    "plt.savefig(\"gen/vertical_Mn.pdf\")\n"
   ]
  },
  {
   "cell_type": "code",
   "execution_count": 28,
   "id": "ff5eaef9",
   "metadata": {},
   "outputs": [
    {
     "data": {
      "text/html": [
       "<div>\n",
       "<style scoped>\n",
       "    .dataframe tbody tr th:only-of-type {\n",
       "        vertical-align: middle;\n",
       "    }\n",
       "\n",
       "    .dataframe tbody tr th {\n",
       "        vertical-align: top;\n",
       "    }\n",
       "\n",
       "    .dataframe thead th {\n",
       "        text-align: right;\n",
       "    }\n",
       "</style>\n",
       "<table border=\"1\" class=\"dataframe\">\n",
       "  <thead>\n",
       "    <tr style=\"text-align: right;\">\n",
       "      <th></th>\n",
       "      <th>&lt;x&gt;</th>\n",
       "      <th>sx</th>\n",
       "      <th>&lt;y&gt;</th>\n",
       "      <th>sy</th>\n",
       "      <th>rxy</th>\n",
       "      <th>a</th>\n",
       "      <th>da</th>\n",
       "      <th>b</th>\n",
       "      <th>db</th>\n",
       "    </tr>\n",
       "  </thead>\n",
       "  <tbody>\n",
       "    <tr>\n",
       "      <th>0</th>\n",
       "      <td>8.0</td>\n",
       "      <td>8.0</td>\n",
       "      <td>695.586997</td>\n",
       "      <td>72181.044073</td>\n",
       "      <td>745.000281</td>\n",
       "      <td>93.125035</td>\n",
       "      <td>10.806763</td>\n",
       "      <td>-49.413284</td>\n",
       "      <td>91.698421</td>\n",
       "    </tr>\n",
       "  </tbody>\n",
       "</table>\n",
       "</div>"
      ],
      "text/plain": [
       "   <x>   sx         <y>            sy         rxy          a         da  \\\n",
       "0  8.0  8.0  695.586997  72181.044073  745.000281  93.125035  10.806763   \n",
       "\n",
       "           b         db  \n",
       "0 -49.413284  91.698421  "
      ]
     },
     "execution_count": 28,
     "metadata": {},
     "output_type": "execute_result"
    }
   ],
   "source": [
    "v_mnk = mipt.mnk(d[('Vertical', 'n')], d[('Vertical', 'M')], file = 'gen/vertical_mnk.tex').get_data()\n",
    "v_mnk"
   ]
  },
  {
   "cell_type": "code",
   "execution_count": 29,
   "id": "af7541e0",
   "metadata": {},
   "outputs": [
    {
     "name": "stdout",
     "output_type": "stream",
     "text": [
      "B_perp = (1.14e+00 +- 1.35e-01)\n"
     ]
    }
   ],
   "source": [
    "B_perp = float(v_mnk['a']) / setup.mm\n",
    "B_perp_err = B_perp * np.sqrt( (setup.mm_err/setup.mm)**2 + (float(v_mnk['da'])/float(v_mnk['a']))**2 )\n",
    "print('B_perp = ({:.2e} +- {:.2e})'.format(B_perp, B_perp_err))"
   ]
  },
  {
   "cell_type": "code",
   "execution_count": 30,
   "id": "d2fd971f",
   "metadata": {},
   "outputs": [
    {
     "name": "stdout",
     "output_type": "stream",
     "text": [
      "81.62557409363752\n",
      "1.16 Gauss\n",
      "114493.87 nT\n",
      "16854.77 nT\n"
     ]
    }
   ],
   "source": [
    "beta = np.arctan(B_perp/B_par) * 180 / np.pi\n",
    "print(beta)\n",
    "B = (B_par ** 2 + B_perp ** 2) ** 0.5\n",
    "print(\"{:.2f} Gauss\".format(B))\n",
    "print(\"{:.2f} nT\".format(B_perp * 10 ** (-4 + 9)))\n",
    "print(\"{:.2f} nT\".format(B_par * 10 ** (-4 + 9)))\n"
   ]
  },
  {
   "cell_type": "code",
   "execution_count": null,
   "id": "1569a0d3",
   "metadata": {},
   "outputs": [],
   "source": []
  }
 ],
 "metadata": {
  "kernelspec": {
   "display_name": "Python 3 (ipykernel)",
   "language": "python",
   "name": "python3"
  },
  "language_info": {
   "codemirror_mode": {
    "name": "ipython",
    "version": 3
   },
   "file_extension": ".py",
   "mimetype": "text/x-python",
   "name": "python",
   "nbconvert_exporter": "python",
   "pygments_lexer": "ipython3",
   "version": "3.11.5"
  }
 },
 "nbformat": 4,
 "nbformat_minor": 5
}
