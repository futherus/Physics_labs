{
 "cells": [
  {
   "cell_type": "code",
   "execution_count": 138,
   "id": "8ca882d1",
   "metadata": {},
   "outputs": [],
   "source": [
    "import numpy as np\n",
    "import pandas as pd\n",
    "import matplotlib.pyplot as plt\n",
    "import math\n",
    "import scipy as sp\n",
    "import scipy.optimize as op\n",
    "from scipy.interpolate import UnivariateSpline\n",
    "import copy\n",
    "\n",
    "# Adding library directory to python search path\n",
    "import os\n",
    "import sys\n",
    "import git\n",
    "repo = git.Repo('.', search_parent_directories=True)\n",
    "library_dir = repo.working_tree_dir + '/lib'\n",
    "sys.path.insert(0, library_dir)\n",
    "\n",
    "import miptlib as mipt\n",
    "\n",
    "# Create directory for generated .tex and .pdf\n",
    "if not os.path.exists('gen'):\n",
    "    os.mkdir('gen')"
   ]
  },
  {
   "cell_type": "code",
   "execution_count": 139,
   "id": "281809ea",
   "metadata": {},
   "outputs": [],
   "source": [
    "# R&D...\n",
    "import codecs\n",
    "\n",
    "def export(file_name, text):\n",
    "    print(text)\n",
    "    with codecs.open(file_name, 'a', 'utf-8') as f:\n",
    "        f.truncate(0)\n",
    "        f.write(text)"
   ]
  },
  {
   "cell_type": "code",
   "execution_count": 140,
   "id": "3fdec6e6",
   "metadata": {},
   "outputs": [],
   "source": [
    "sig_Li = 0.05"
   ]
  },
  {
   "cell_type": "code",
   "execution_count": 141,
   "id": "49570a02",
   "metadata": {
    "scrolled": false
   },
   "outputs": [
    {
     "data": {
      "text/html": [
       "<div>\n",
       "<style scoped>\n",
       "    .dataframe tbody tr th:only-of-type {\n",
       "        vertical-align: middle;\n",
       "    }\n",
       "\n",
       "    .dataframe tbody tr th {\n",
       "        vertical-align: top;\n",
       "    }\n",
       "\n",
       "    .dataframe thead tr th {\n",
       "        text-align: left;\n",
       "    }\n",
       "</style>\n",
       "<table border=\"1\" class=\"dataframe\">\n",
       "  <thead>\n",
       "    <tr>\n",
       "      <th></th>\n",
       "      <th colspan=\"2\" halign=\"left\">Back</th>\n",
       "      <th colspan=\"4\" halign=\"left\">Pb</th>\n",
       "      <th colspan=\"4\" halign=\"left\">Fe</th>\n",
       "      <th colspan=\"4\" halign=\"left\">Al</th>\n",
       "    </tr>\n",
       "    <tr>\n",
       "      <th></th>\n",
       "      <th>N</th>\n",
       "      <th>T</th>\n",
       "      <th>L</th>\n",
       "      <th>T</th>\n",
       "      <th>N</th>\n",
       "      <th>Li</th>\n",
       "      <th>L</th>\n",
       "      <th>T</th>\n",
       "      <th>N</th>\n",
       "      <th>Li</th>\n",
       "      <th>L</th>\n",
       "      <th>T</th>\n",
       "      <th>N</th>\n",
       "      <th>Li</th>\n",
       "    </tr>\n",
       "  </thead>\n",
       "  <tbody>\n",
       "    <tr>\n",
       "      <th>0</th>\n",
       "      <td>3526.0</td>\n",
       "      <td>60.0</td>\n",
       "      <td>0.00</td>\n",
       "      <td>10</td>\n",
       "      <td>641276</td>\n",
       "      <td>0.00</td>\n",
       "      <td>0.00</td>\n",
       "      <td>10</td>\n",
       "      <td>643507</td>\n",
       "      <td>0.00</td>\n",
       "      <td>0.00</td>\n",
       "      <td>10</td>\n",
       "      <td>646042</td>\n",
       "      <td>0.00</td>\n",
       "    </tr>\n",
       "    <tr>\n",
       "      <th>1</th>\n",
       "      <td>7098.0</td>\n",
       "      <td>120.0</td>\n",
       "      <td>4.65</td>\n",
       "      <td>20</td>\n",
       "      <td>718829</td>\n",
       "      <td>4.65</td>\n",
       "      <td>9.95</td>\n",
       "      <td>20</td>\n",
       "      <td>740734</td>\n",
       "      <td>9.95</td>\n",
       "      <td>20.10</td>\n",
       "      <td>20</td>\n",
       "      <td>878138</td>\n",
       "      <td>20.10</td>\n",
       "    </tr>\n",
       "    <tr>\n",
       "      <th>2</th>\n",
       "      <td>10841.0</td>\n",
       "      <td>180.0</td>\n",
       "      <td>9.55</td>\n",
       "      <td>30</td>\n",
       "      <td>606177</td>\n",
       "      <td>4.90</td>\n",
       "      <td>19.95</td>\n",
       "      <td>30</td>\n",
       "      <td>637471</td>\n",
       "      <td>10.00</td>\n",
       "      <td>39.90</td>\n",
       "      <td>30</td>\n",
       "      <td>883858</td>\n",
       "      <td>19.80</td>\n",
       "    </tr>\n",
       "    <tr>\n",
       "      <th>3</th>\n",
       "      <td>3503.0</td>\n",
       "      <td>60.0</td>\n",
       "      <td>14.05</td>\n",
       "      <td>40</td>\n",
       "      <td>475507</td>\n",
       "      <td>4.50</td>\n",
       "      <td>29.95</td>\n",
       "      <td>40</td>\n",
       "      <td>485600</td>\n",
       "      <td>10.00</td>\n",
       "      <td>59.60</td>\n",
       "      <td>40</td>\n",
       "      <td>788453</td>\n",
       "      <td>19.70</td>\n",
       "    </tr>\n",
       "    <tr>\n",
       "      <th>4</th>\n",
       "      <td>7152.0</td>\n",
       "      <td>120.0</td>\n",
       "      <td>18.40</td>\n",
       "      <td>60</td>\n",
       "      <td>445987</td>\n",
       "      <td>4.35</td>\n",
       "      <td>40.05</td>\n",
       "      <td>60</td>\n",
       "      <td>421336</td>\n",
       "      <td>10.10</td>\n",
       "      <td>79.50</td>\n",
       "      <td>60</td>\n",
       "      <td>792969</td>\n",
       "      <td>19.90</td>\n",
       "    </tr>\n",
       "    <tr>\n",
       "      <th>5</th>\n",
       "      <td>NaN</td>\n",
       "      <td>NaN</td>\n",
       "      <td>23.20</td>\n",
       "      <td>60</td>\n",
       "      <td>263648</td>\n",
       "      <td>4.80</td>\n",
       "      <td>50.05</td>\n",
       "      <td>60</td>\n",
       "      <td>245765</td>\n",
       "      <td>10.00</td>\n",
       "      <td>99.50</td>\n",
       "      <td>60</td>\n",
       "      <td>537202</td>\n",
       "      <td>20.00</td>\n",
       "    </tr>\n",
       "    <tr>\n",
       "      <th>6</th>\n",
       "      <td>NaN</td>\n",
       "      <td>NaN</td>\n",
       "      <td>28.05</td>\n",
       "      <td>70</td>\n",
       "      <td>180240</td>\n",
       "      <td>4.85</td>\n",
       "      <td>60.25</td>\n",
       "      <td>70</td>\n",
       "      <td>165630</td>\n",
       "      <td>10.20</td>\n",
       "      <td>119.15</td>\n",
       "      <td>70</td>\n",
       "      <td>428662</td>\n",
       "      <td>19.65</td>\n",
       "    </tr>\n",
       "    <tr>\n",
       "      <th>7</th>\n",
       "      <td>NaN</td>\n",
       "      <td>NaN</td>\n",
       "      <td>32.85</td>\n",
       "      <td>80</td>\n",
       "      <td>126171</td>\n",
       "      <td>4.80</td>\n",
       "      <td>70.20</td>\n",
       "      <td>80</td>\n",
       "      <td>113871</td>\n",
       "      <td>9.95</td>\n",
       "      <td>139.10</td>\n",
       "      <td>80</td>\n",
       "      <td>335148</td>\n",
       "      <td>19.95</td>\n",
       "    </tr>\n",
       "    <tr>\n",
       "      <th>8</th>\n",
       "      <td>NaN</td>\n",
       "      <td>NaN</td>\n",
       "      <td>37.65</td>\n",
       "      <td>80</td>\n",
       "      <td>80038</td>\n",
       "      <td>4.80</td>\n",
       "      <td>79.90</td>\n",
       "      <td>80</td>\n",
       "      <td>70480</td>\n",
       "      <td>9.70</td>\n",
       "      <td>158.95</td>\n",
       "      <td>80</td>\n",
       "      <td>232567</td>\n",
       "      <td>19.85</td>\n",
       "    </tr>\n",
       "  </tbody>\n",
       "</table>\n",
       "</div>"
      ],
      "text/plain": [
       "      Back            Pb                       Fe                         Al  \\\n",
       "         N      T      L   T       N    Li      L   T       N     Li       L   \n",
       "0   3526.0   60.0   0.00  10  641276  0.00   0.00  10  643507   0.00    0.00   \n",
       "1   7098.0  120.0   4.65  20  718829  4.65   9.95  20  740734   9.95   20.10   \n",
       "2  10841.0  180.0   9.55  30  606177  4.90  19.95  30  637471  10.00   39.90   \n",
       "3   3503.0   60.0  14.05  40  475507  4.50  29.95  40  485600  10.00   59.60   \n",
       "4   7152.0  120.0  18.40  60  445987  4.35  40.05  60  421336  10.10   79.50   \n",
       "5      NaN    NaN  23.20  60  263648  4.80  50.05  60  245765  10.00   99.50   \n",
       "6      NaN    NaN  28.05  70  180240  4.85  60.25  70  165630  10.20  119.15   \n",
       "7      NaN    NaN  32.85  80  126171  4.80  70.20  80  113871   9.95  139.10   \n",
       "8      NaN    NaN  37.65  80   80038  4.80  79.90  80   70480   9.70  158.95   \n",
       "\n",
       "                      \n",
       "    T       N     Li  \n",
       "0  10  646042   0.00  \n",
       "1  20  878138  20.10  \n",
       "2  30  883858  19.80  \n",
       "3  40  788453  19.70  \n",
       "4  60  792969  19.90  \n",
       "5  60  537202  20.00  \n",
       "6  70  428662  19.65  \n",
       "7  80  335148  19.95  \n",
       "8  80  232567  19.85  "
      ]
     },
     "execution_count": 141,
     "metadata": {},
     "output_type": "execute_result"
    }
   ],
   "source": [
    "data = mipt.read_excel('data/5.5.1-stripped.xlsx', usecols=(0, 1, 2, 3, 4, 5, 6, 7, 8, 9, 10, 11, 12, 13), header=(0,1))\n",
    "data"
   ]
  },
  {
   "cell_type": "markdown",
   "id": "9bb84546",
   "metadata": {},
   "source": [
    "## Первичные экспериментальные данные"
   ]
  },
  {
   "cell_type": "code",
   "execution_count": 142,
   "id": "c0bf605c",
   "metadata": {},
   "outputs": [],
   "source": [
    "nfmt  = [r'$N$', '{:.0f}', 0]\n",
    "snfmt  = [r'$\\sigma_{N}$', '{:.0f}', 0]\n",
    "tfmt  = [r'$T$, с', '{:.0f}', 0]\n",
    "lfmt  = [r'$L$, мм', '{:.2f}', 0]\n",
    "lifmt = [r'$L_i$, мм', '{:.2f}', 0]\n",
    "slfmt = [r'$\\sigma_{L}$, мм', '{:.2f}', 0]\n",
    "\n",
    "sL = []\n",
    "for st in range(0, len(data[('Pb', 'L')])):\n",
    "    sL.append(sig_Li * math.sqrt((st + 1)))\n",
    "\n",
    "data1 = pd.DataFrame(data[\"Back\"].dropna())\n",
    "fmt1 = {\n",
    "    'T' : tfmt,\n",
    "    'N' : nfmt,\n",
    "    'sN' : snfmt,\n",
    "}\n",
    "data1.insert(1, 'sN', np.sqrt(data1['N']))\n",
    "data[('Back', 'sN')] = np.sqrt(data1['N'])\n",
    "tab = mipt.table(data1, fmt1)\n",
    "tab.to_latex('gen/tab-fed1.tex')\n",
    "\n",
    "datas = [\n",
    "    pd.DataFrame(data[\"Pb\"]),\n",
    "    pd.DataFrame(data[\"Fe\"]),\n",
    "    pd.DataFrame(data[\"Al\"])\n",
    "]\n",
    "fmt = {\n",
    "    'Li' : lifmt,\n",
    "    'L'  : lfmt,\n",
    "    'N'  : nfmt,\n",
    "    'T'  : tfmt,\n",
    "    'sL' : slfmt,\n",
    "    'sN' : snfmt,\n",
    "}\n",
    "elems = ('Pb', 'Fe', 'Al')\n",
    "for st in range(0, len(datas)):\n",
    "    _data = datas[st]\n",
    "    _data.insert(1, \"sL\", sL)\n",
    "    _data.insert(4, 'sN', np.sqrt(_data['N']))\n",
    "    data[(elems[st], 'sL')] = sL\n",
    "    data[(elems[st], 'sN')] = np.sqrt(_data['N'])\n",
    "    tab = mipt.table(_data, fmt)\n",
    "    tab.to_latex('gen/tab-fed{:d}.tex'.format(st + 2))"
   ]
  },
  {
   "cell_type": "markdown",
   "id": "f16b1e8d",
   "metadata": {},
   "source": [
    "## Определение шума"
   ]
  },
  {
   "cell_type": "code",
   "execution_count": 143,
   "id": "fd7d99d9",
   "metadata": {
    "scrolled": false
   },
   "outputs": [
    {
     "name": "stdout",
     "output_type": "stream",
     "text": [
      "0    58.766667\n",
      "1    59.150000\n",
      "2    60.227778\n",
      "3    58.383333\n",
      "4    59.600000\n",
      "dtype: float64\n",
      "0.719424066635472\n",
      "n_{\\text{шум}} = 59\\pm1,\\;\\;\\varepsilon = 1.2\\%\n"
     ]
    }
   ],
   "source": [
    "noise = data['Back'].dropna()\n",
    "n = noise['N'] / noise['T']## Определение шума\n",
    "print(n)\n",
    "NOISE = n.mean()\n",
    "sig_NOISE = n.std()\n",
    "print(math.sqrt( 1/(len(n) - 1) *np.sum((n - n.mean())**2) ))\n",
    "export('gen/eq-noise.tex', 'n_{{\\\\text{{шум}}}} = {:.0f}\\pm{:.0f},\\\\;\\\\;\\\\varepsilon = {:.1f}\\\\%'.format(n.mean(), n.std(), 100 * n.std() / n.mean()))"
   ]
  },
  {
   "cell_type": "markdown",
   "id": "3e19bd10",
   "metadata": {},
   "source": [
    "## Графики $N(T)$"
   ]
  },
  {
   "cell_type": "code",
   "execution_count": 144,
   "id": "9d444c98",
   "metadata": {},
   "outputs": [
    {
     "data": {
      "image/png": "[encoded data removed]",
      "text/plain": [
       "<Figure size 640x480 with 1 Axes>"
      ]
     },
     "metadata": {},
     "output_type": "display_data"
    }
   ],
   "source": [
    "from scipy.interpolate import make_interp_spline\n",
    "\n",
    "colors = ['red', 'blue', 'green']\n",
    "\n",
    "for st in range(0, len(elems)):\n",
    "    elem = elems[st]\n",
    "    color = colors[st]\n",
    "\n",
    "    nt = data[elem]['N'] / data[elem]['T'] \n",
    "    n = nt - NOISE\n",
    "    eps_nt = data[elem]['sN'] / data[elem]['N']\n",
    "    sig_nt = eps_nt * nt\n",
    "    sig_n = np.sqrt(sig_nt**2 + sig_NOISE**2)\n",
    "\n",
    "    l = data[elem]['L']\n",
    "    sig_l = data[elem]['sL']\n",
    "    \n",
    "    x = np.linspace(l.min(), l.max(), 100)\n",
    "    y = make_interp_spline(l, n)(x)\n",
    "\n",
    "    plt.errorbar(l, n, label=elem, yerr=sig_n, xerr=sig_l, fmt='.', color=color)  \n",
    "    plt.plot(x, y, '-', color=color)\n",
    "\n",
    "\n",
    "plt.xlabel(r\"$l$, мм\")\n",
    "plt.ylabel(r\"$n$, 1/c\")\n",
    "plt.legend()\n",
    "\n",
    "plt.savefig('gen/fig-nl.png')"
   ]
  },
  {
   "cell_type": "code",
   "execution_count": null,
   "id": "67d0116e",
   "metadata": {},
   "outputs": [],
   "source": []
  },
  {
   "cell_type": "code",
   "execution_count": 151,
   "id": "da883223",
   "metadata": {},
   "outputs": [
    {
     "name": "stdout",
     "output_type": "stream",
     "text": [
      "\\mu_{\\text{Pb}} = 1.12\\pm0.012 \\;\\;\\text{см}^{-1}\n",
      "\\mu_{\\text{Fe}} = 0.55\\pm0.002 \\;\\;\\text{см}^{-1}\n",
      "\\mu_{\\text{Al}} = 0.20\\pm0.001 \\;\\;\\text{см}^{-1}\n"
     ]
    },
    {
     "data": {
      "image/png": "[encoded data removed]",
      "text/plain": [
       "<Figure size 640x480 with 1 Axes>"
      ]
     },
     "metadata": {},
     "output_type": "display_data"
    }
   ],
   "source": [
    "mus = {}\n",
    "sig_mus = {}\n",
    "\n",
    "elem = 'Pb'\n",
    "\n",
    "for elem in ('Pb', 'Fe', 'Al'):\n",
    "\n",
    "    nt = data[elem]['N'] / data[elem]['T'] \n",
    "    n = nt - NOISE\n",
    "    eps_nt = data[elem]['sN'] / data[elem]['N']\n",
    "    sig_nt = eps_nt * nt\n",
    "    sig_n = np.sqrt(sig_nt**2 + sig_NOISE**2)\n",
    "\n",
    "    lnn = np.log(n)\n",
    "    sig_lnn = 1 / n * sig_n\n",
    "\n",
    "    l = data[elem]['L']\n",
    "    sig_l = data[elem]['sL']\n",
    "\n",
    "    x, y, equ = mipt.plot(l, lnn, xerr = sig_l, yerr = sig_lnn, label=elem) \n",
    "\n",
    "    mnk = mipt.mnk(x, y)\n",
    "    a = mnk.data['a'][0]\n",
    "    da = mnk.data['da'][0]\n",
    "        \n",
    "    mus[elem] = -a*10\n",
    "    sig_mus[elem] = da * 10\n",
    "\n",
    "    export('gen/eq-{}.tex'.format(elem), '\\\\mu_{{\\\\text{{{}}}}} = {:.2f}\\pm{:.3f} \\\\;\\\\;\\\\text{{см}}^{{-1}}'.format(elem, -a*10, da*10))\n",
    "\n",
    "    \n",
    "plt.xlabel(r\"$l$, мм\")\n",
    "plt.ylabel(r\"$\\ln{n}$\")\n",
    "plt.legend()\n",
    "\n",
    "plt.savefig('gen/fig-lnnl.png')"
   ]
  },
  {
   "cell_type": "markdown",
   "id": "8dc45084",
   "metadata": {},
   "source": [
    "## Коэффициенты $\\rho'$"
   ]
  },
  {
   "cell_type": "code",
   "execution_count": 149,
   "id": "459104e4",
   "metadata": {},
   "outputs": [
    {
     "ename": "SyntaxError",
     "evalue": "invalid syntax (2141327263.py, line 7)",
     "output_type": "error",
     "traceback": [
      "\u001b[0;36m  Cell \u001b[0;32mIn[149], line 7\u001b[0;36m\u001b[0m\n\u001b[0;31m    sig_mu =\u001b[0m\n\u001b[0m             ^\u001b[0m\n\u001b[0;31mSyntaxError\u001b[0m\u001b[0;31m:\u001b[0m invalid syntax\n"
     ]
    }
   ],
   "source": [
    "rho = {\n",
    "    'Pb' : 13.35, \n",
    "    'Fe' : 7.87, \n",
    "    'Al' : 2.7,\n",
    "}"
   ]
  },
  {
   "cell_type": "code",
   "execution_count": 161,
   "id": "039507ba",
   "metadata": {},
   "outputs": [
    {
     "name": "stdout",
     "output_type": "stream",
     "text": [
      "$\\mu'_Pb = 0.0839 \\pm 0.0009 \\; \\frac{см^2}{г}$\\\\\n",
      "$\\mu'_Fe = 0.0695 \\pm 0.0003 \\; \\frac{см^2}{г}$\\\\\n",
      "$\\mu'_Al = 0.0731 \\pm 0.0003 \\; \\frac{см^2}{г}$\\\\\n"
     ]
    }
   ],
   "source": [
    "for elem in ('Pb', 'Fe', 'Al'):\n",
    "    \n",
    "    mus1 = mus[elem] / rho[elem]\n",
    "    eps_mus = sig_mus[elem] / mus[elem]\n",
    "    sig_mus1 = eps_mus * mus1\n",
    "\n",
    "    print(r\"$\\mu'_{:s} = {:.4f} \\pm {:.4f} \\; \\frac{{см^2}}{{г}}$\\\\\".format(elem, mus1, sig_mus1))\n",
    "    "
   ]
  },
  {
   "cell_type": "code",
   "execution_count": null,
   "id": "75ddb408",
   "metadata": {},
   "outputs": [],
   "source": []
  },
  {
   "cell_type": "code",
   "execution_count": null,
   "id": "32210d8d",
   "metadata": {},
   "outputs": [],
   "source": []
  }
 ],
 "metadata": {
  "kernelspec": {
   "display_name": "Python 3 (ipykernel)",
   "language": "python",
   "name": "python3"
  },
  "language_info": {
   "codemirror_mode": {
    "name": "ipython",
    "version": 3
   },
   "file_extension": ".py",
   "mimetype": "text/x-python",
   "name": "python",
   "nbconvert_exporter": "python",
   "pygments_lexer": "ipython3",
   "version": "3.10.12"
  }
 },
 "nbformat": 4,
 "nbformat_minor": 5
}
