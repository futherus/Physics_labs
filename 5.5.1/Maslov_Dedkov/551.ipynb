{
 "cells": [
  {
   "cell_type": "code",
   "execution_count": 1,
   "id": "8ca882d1",
   "metadata": {},
   "outputs": [],
   "source": [
    "import numpy as np\n",
    "import pandas as pd\n",
    "import matplotlib.pyplot as plt\n",
    "import math\n",
    "import scipy as sp\n",
    "import scipy.optimize as op\n",
    "from scipy.interpolate import UnivariateSpline\n",
    "import copy\n",
    "\n",
    "# Adding library directory to python search path\n",
    "import os\n",
    "import sys\n",
    "import git\n",
    "repo = git.Repo('.', search_parent_directories=True)\n",
    "library_dir = repo.working_tree_dir + '/lib'\n",
    "sys.path.insert(0, library_dir)\n",
    "\n",
    "import miptlib as mipt\n",
    "\n",
    "# Create directory for generated .tex and .pdf\n",
    "if not os.path.exists('gen'):\n",
    "    os.mkdir('gen')"
   ]
  },
  {
   "cell_type": "code",
   "execution_count": 2,
   "id": "281809ea",
   "metadata": {},
   "outputs": [],
   "source": [
    "# R&D...\n",
    "import codecs\n",
    "\n",
    "def export(file_name, text):\n",
    "    print(text)\n",
    "    with codecs.open(file_name, 'a', 'utf-8') as f:\n",
    "        f.truncate(0)\n",
    "        f.write(text)"
   ]
  },
  {
   "cell_type": "code",
   "execution_count": 3,
   "id": "3fdec6e6",
   "metadata": {},
   "outputs": [],
   "source": [
    "sig_Li = 0.5"
   ]
  },
  {
   "cell_type": "code",
   "execution_count": 4,
   "id": "49570a02",
   "metadata": {
    "scrolled": false
   },
   "outputs": [
    {
     "data": {
      "text/html": [
       "<div>\n",
       "<style scoped>\n",
       "    .dataframe tbody tr th:only-of-type {\n",
       "        vertical-align: middle;\n",
       "    }\n",
       "\n",
       "    .dataframe tbody tr th {\n",
       "        vertical-align: top;\n",
       "    }\n",
       "\n",
       "    .dataframe thead tr th {\n",
       "        text-align: left;\n",
       "    }\n",
       "</style>\n",
       "<table border=\"1\" class=\"dataframe\">\n",
       "  <thead>\n",
       "    <tr>\n",
       "      <th></th>\n",
       "      <th colspan=\"2\" halign=\"left\">Back</th>\n",
       "      <th colspan=\"4\" halign=\"left\">Pb</th>\n",
       "      <th colspan=\"4\" halign=\"left\">Fe</th>\n",
       "      <th colspan=\"4\" halign=\"left\">Al</th>\n",
       "    </tr>\n",
       "    <tr>\n",
       "      <th></th>\n",
       "      <th>N</th>\n",
       "      <th>T</th>\n",
       "      <th>L</th>\n",
       "      <th>T</th>\n",
       "      <th>N</th>\n",
       "      <th>Li</th>\n",
       "      <th>L</th>\n",
       "      <th>T</th>\n",
       "      <th>N</th>\n",
       "      <th>Li</th>\n",
       "      <th>L</th>\n",
       "      <th>T</th>\n",
       "      <th>N</th>\n",
       "      <th>Li</th>\n",
       "    </tr>\n",
       "  </thead>\n",
       "  <tbody>\n",
       "    <tr>\n",
       "      <th>0</th>\n",
       "      <td>2122.0</td>\n",
       "      <td>60.0</td>\n",
       "      <td>0.0</td>\n",
       "      <td>10</td>\n",
       "      <td>80508</td>\n",
       "      <td>0.0</td>\n",
       "      <td>0.0</td>\n",
       "      <td>10</td>\n",
       "      <td>80503</td>\n",
       "      <td>0.0</td>\n",
       "      <td>0.0</td>\n",
       "      <td>10</td>\n",
       "      <td>80609</td>\n",
       "      <td>0.0</td>\n",
       "    </tr>\n",
       "    <tr>\n",
       "      <th>1</th>\n",
       "      <td>3996.0</td>\n",
       "      <td>120.0</td>\n",
       "      <td>5.0</td>\n",
       "      <td>20</td>\n",
       "      <td>85154</td>\n",
       "      <td>5.0</td>\n",
       "      <td>10.1</td>\n",
       "      <td>20</td>\n",
       "      <td>89487</td>\n",
       "      <td>10.1</td>\n",
       "      <td>20.1</td>\n",
       "      <td>20</td>\n",
       "      <td>106921</td>\n",
       "      <td>20.3</td>\n",
       "    </tr>\n",
       "    <tr>\n",
       "      <th>2</th>\n",
       "      <td>5977.0</td>\n",
       "      <td>180.0</td>\n",
       "      <td>10.0</td>\n",
       "      <td>30</td>\n",
       "      <td>71954</td>\n",
       "      <td>5.0</td>\n",
       "      <td>20.3</td>\n",
       "      <td>30</td>\n",
       "      <td>75156</td>\n",
       "      <td>10.2</td>\n",
       "      <td>40.2</td>\n",
       "      <td>30</td>\n",
       "      <td>105830</td>\n",
       "      <td>20.1</td>\n",
       "    </tr>\n",
       "    <tr>\n",
       "      <th>3</th>\n",
       "      <td>NaN</td>\n",
       "      <td>NaN</td>\n",
       "      <td>14.9</td>\n",
       "      <td>40</td>\n",
       "      <td>54403</td>\n",
       "      <td>4.9</td>\n",
       "      <td>30.4</td>\n",
       "      <td>40</td>\n",
       "      <td>57190</td>\n",
       "      <td>10.1</td>\n",
       "      <td>60.3</td>\n",
       "      <td>40</td>\n",
       "      <td>93622</td>\n",
       "      <td>20.1</td>\n",
       "    </tr>\n",
       "    <tr>\n",
       "      <th>4</th>\n",
       "      <td>NaN</td>\n",
       "      <td>NaN</td>\n",
       "      <td>19.7</td>\n",
       "      <td>60</td>\n",
       "      <td>48184</td>\n",
       "      <td>4.8</td>\n",
       "      <td>40.5</td>\n",
       "      <td>60</td>\n",
       "      <td>49202</td>\n",
       "      <td>10.1</td>\n",
       "      <td>80.3</td>\n",
       "      <td>50</td>\n",
       "      <td>77771</td>\n",
       "      <td>20.0</td>\n",
       "    </tr>\n",
       "    <tr>\n",
       "      <th>5</th>\n",
       "      <td>NaN</td>\n",
       "      <td>NaN</td>\n",
       "      <td>24.7</td>\n",
       "      <td>60</td>\n",
       "      <td>28687</td>\n",
       "      <td>5.0</td>\n",
       "      <td>50.6</td>\n",
       "      <td>60</td>\n",
       "      <td>28940</td>\n",
       "      <td>10.1</td>\n",
       "      <td>100.4</td>\n",
       "      <td>60</td>\n",
       "      <td>62404</td>\n",
       "      <td>20.1</td>\n",
       "    </tr>\n",
       "    <tr>\n",
       "      <th>6</th>\n",
       "      <td>NaN</td>\n",
       "      <td>NaN</td>\n",
       "      <td>29.7</td>\n",
       "      <td>90</td>\n",
       "      <td>26641</td>\n",
       "      <td>5.0</td>\n",
       "      <td>60.7</td>\n",
       "      <td>70</td>\n",
       "      <td>20288</td>\n",
       "      <td>10.1</td>\n",
       "      <td>120.5</td>\n",
       "      <td>70</td>\n",
       "      <td>49694</td>\n",
       "      <td>20.1</td>\n",
       "    </tr>\n",
       "    <tr>\n",
       "      <th>7</th>\n",
       "      <td>NaN</td>\n",
       "      <td>NaN</td>\n",
       "      <td>34.5</td>\n",
       "      <td>100</td>\n",
       "      <td>18783</td>\n",
       "      <td>4.8</td>\n",
       "      <td>70.9</td>\n",
       "      <td>90</td>\n",
       "      <td>16637</td>\n",
       "      <td>10.2</td>\n",
       "      <td>140.6</td>\n",
       "      <td>90</td>\n",
       "      <td>44318</td>\n",
       "      <td>20.1</td>\n",
       "    </tr>\n",
       "  </tbody>\n",
       "</table>\n",
       "</div>"
      ],
      "text/plain": [
       "     Back           Pb                     Fe                      Al      \\\n",
       "        N      T     L    T      N   Li     L   T      N    Li      L   T   \n",
       "0  2122.0   60.0   0.0   10  80508  0.0   0.0  10  80503   0.0    0.0  10   \n",
       "1  3996.0  120.0   5.0   20  85154  5.0  10.1  20  89487  10.1   20.1  20   \n",
       "2  5977.0  180.0  10.0   30  71954  5.0  20.3  30  75156  10.2   40.2  30   \n",
       "3     NaN    NaN  14.9   40  54403  4.9  30.4  40  57190  10.1   60.3  40   \n",
       "4     NaN    NaN  19.7   60  48184  4.8  40.5  60  49202  10.1   80.3  50   \n",
       "5     NaN    NaN  24.7   60  28687  5.0  50.6  60  28940  10.1  100.4  60   \n",
       "6     NaN    NaN  29.7   90  26641  5.0  60.7  70  20288  10.1  120.5  70   \n",
       "7     NaN    NaN  34.5  100  18783  4.8  70.9  90  16637  10.2  140.6  90   \n",
       "\n",
       "                 \n",
       "        N    Li  \n",
       "0   80609   0.0  \n",
       "1  106921  20.3  \n",
       "2  105830  20.1  \n",
       "3   93622  20.1  \n",
       "4   77771  20.0  \n",
       "5   62404  20.1  \n",
       "6   49694  20.1  \n",
       "7   44318  20.1  "
      ]
     },
     "execution_count": 4,
     "metadata": {},
     "output_type": "execute_result"
    }
   ],
   "source": [
    "data = mipt.read_excel('data/5.5.1-stripped.xlsx', usecols=(0, 1, 2, 3, 4, 5, 6, 7, 8, 9, 10, 11, 12, 13), header=(0,1))\n",
    "data"
   ]
  },
  {
   "cell_type": "markdown",
   "id": "9bb84546",
   "metadata": {},
   "source": [
    "## Первичные экспериментальные данные"
   ]
  },
  {
   "cell_type": "code",
   "execution_count": 5,
   "id": "c0bf605c",
   "metadata": {},
   "outputs": [],
   "source": [
    "nfmt  = [r'$N$', '{:.0f}', 0]\n",
    "snfmt  = [r'$\\sigma_{N}$', '{:.0f}', 0]\n",
    "tfmt  = [r'$T$, с', '{:.0f}', 0]\n",
    "lfmt  = [r'$L$, мм', '{:.1f}', 0]\n",
    "lifmt = [r'$L_i$, мм', '{:.1f}', 0]\n",
    "slfmt = [r'$\\sigma_{L}$, мм', '{:.1f}', 0]\n",
    "\n",
    "sL = []\n",
    "for st in range(0, len(data[('Pb', 'L')])):\n",
    "    sL.append(sig_Li * math.sqrt((st + 1)))\n",
    "\n",
    "data1 = pd.DataFrame(data[\"Back\"].dropna())\n",
    "fmt1 = {\n",
    "    'T' : tfmt,\n",
    "    'N' : nfmt,\n",
    "    'sN' : snfmt,\n",
    "}\n",
    "data1.insert(1, 'sN', np.sqrt(data1['N']))\n",
    "data[('Back', 'sN')] = np.sqrt(data1['N'])\n",
    "tab = mipt.table(data1, fmt1)\n",
    "tab.to_latex('gen/tab-fed1.tex')\n",
    "\n",
    "datas = [\n",
    "    pd.DataFrame(data[\"Pb\"]),\n",
    "    pd.DataFrame(data[\"Fe\"]),\n",
    "    pd.DataFrame(data[\"Al\"])\n",
    "]\n",
    "fmt = {\n",
    "    'Li' : lifmt,\n",
    "    'L'  : lfmt,\n",
    "    'N'  : nfmt,\n",
    "    'T'  : tfmt,\n",
    "    'sL' : slfmt,\n",
    "    'sN' : snfmt,\n",
    "}\n",
    "elems = ('Pb', 'Fe', 'Al')\n",
    "for st in range(0, len(datas)):\n",
    "    _data = datas[st]\n",
    "    _data.insert(1, \"sL\", sL)\n",
    "    _data.insert(4, 'sN', np.sqrt(_data['N']))\n",
    "    data[(elems[st], 'sL')] = sL\n",
    "    data[(elems[st], 'sN')] = np.sqrt(_data['N'])\n",
    "    tab = mipt.table(_data, fmt)\n",
    "    tab.to_latex('gen/tab-fed{:d}.tex'.format(st + 2))"
   ]
  },
  {
   "cell_type": "markdown",
   "id": "f16b1e8d",
   "metadata": {},
   "source": [
    "## Определение шума"
   ]
  },
  {
   "cell_type": "code",
   "execution_count": 6,
   "id": "fd7d99d9",
   "metadata": {
    "scrolled": false
   },
   "outputs": [
    {
     "name": "stdout",
     "output_type": "stream",
     "text": [
      "0    35.366667\n",
      "1    33.300000\n",
      "2    33.205556\n",
      "dtype: float64\n",
      "1.2213675462888207\n",
      "n_{\\text{шум}} = 34\\pm1,\\;\\;\\varepsilon = 3.6\\%\n"
     ]
    }
   ],
   "source": [
    "noise = data['Back'].dropna()\n",
    "n = noise['N'] / noise['T']## Определение шума\n",
    "print(n)\n",
    "NOISE = n.mean()\n",
    "sig_NOISE = n.std()\n",
    "print(math.sqrt( 1/(len(n) - 1) *np.sum((n - n.mean())**2) ))\n",
    "export('gen/eq-noise.tex', 'n_{{\\\\text{{шум}}}} = {:.0f}\\pm{:.0f},\\\\;\\\\;\\\\varepsilon = {:.1f}\\\\%'.format(n.mean(), n.std(), 100 * n.std() / n.mean()))"
   ]
  },
  {
   "cell_type": "markdown",
   "id": "3e19bd10",
   "metadata": {},
   "source": [
    "## Графики $N(T)$"
   ]
  },
  {
   "cell_type": "code",
   "execution_count": 7,
   "id": "9d444c98",
   "metadata": {},
   "outputs": [
    {
     "data": {
      "image/png": "[encoded data removed]",
      "text/plain": [
       "<Figure size 640x480 with 1 Axes>"
      ]
     },
     "metadata": {},
     "output_type": "display_data"
    }
   ],
   "source": [
    "from scipy.interpolate import make_interp_spline\n",
    "\n",
    "colors = ['red', 'blue', 'green']\n",
    "\n",
    "for st in range(0, len(elems)):\n",
    "    elem = elems[st]\n",
    "    color = colors[st]\n",
    "\n",
    "    nt = data[elem]['N'] / data[elem]['T'] \n",
    "    n = nt - NOISE\n",
    "    eps_nt = data[elem]['sN'] / data[elem]['N']\n",
    "    sig_nt = eps_nt * nt\n",
    "    sig_n = np.sqrt(sig_nt**2 + sig_NOISE**2)\n",
    "\n",
    "    l = data[elem]['L']\n",
    "    sig_l = data[elem]['sL']\n",
    "    \n",
    "    x = np.linspace(l.min(), l.max(), 100)\n",
    "    y = make_interp_spline(l, n)(x)\n",
    "\n",
    "    plt.errorbar(l, n, label=elem, yerr=sig_n, xerr=sig_l, fmt='.', color=color)  \n",
    "    plt.plot(x, y, '-', color=color)\n",
    "\n",
    "\n",
    "plt.xlabel(r\"$l$, мм\")\n",
    "plt.ylabel(r\"$n$, 1/c\")\n",
    "plt.legend()\n",
    "\n",
    "plt.savefig('gen/fig-nl.png')"
   ]
  },
  {
   "cell_type": "code",
   "execution_count": null,
   "id": "67d0116e",
   "metadata": {},
   "outputs": [],
   "source": []
  },
  {
   "cell_type": "code",
   "execution_count": 8,
   "id": "da883223",
   "metadata": {},
   "outputs": [
    {
     "name": "stdout",
     "output_type": "stream",
     "text": [
      "\\mu_{\\text{Pb}} = 1.14\\pm0.04 \\;\\;\\text{см}^{-1}\n",
      "\\mu_{\\text{Fe}} = 0.56\\pm0.01 \\;\\;\\text{см}^{-1}\n",
      "\\mu_{\\text{Al}} = 0.20\\pm0.01 \\;\\;\\text{см}^{-1}\n"
     ]
    },
    {
     "data": {
      "image/png": "[encoded data removed]",
      "text/plain": [
       "<Figure size 640x480 with 1 Axes>"
      ]
     },
     "metadata": {},
     "output_type": "display_data"
    }
   ],
   "source": [
    "mus = {}\n",
    "sig_mus = {}\n",
    "\n",
    "elem = 'Pb'\n",
    "\n",
    "for elem in ('Pb', 'Fe', 'Al'):\n",
    "\n",
    "    nt = data[elem]['N'] / data[elem]['T'] \n",
    "    n = nt - NOISE\n",
    "    eps_nt = data[elem]['sN'] / data[elem]['N']\n",
    "    sig_nt = eps_nt * nt\n",
    "    sig_n = np.sqrt(sig_nt**2 + sig_NOISE**2)\n",
    "\n",
    "    lnn = np.log(n)\n",
    "    sig_lnn = 1 / n * sig_n\n",
    "\n",
    "    l = data[elem]['L']\n",
    "    sig_l = data[elem]['sL']\n",
    "\n",
    "    x, y, equ = mipt.plot(l, lnn, xerr = sig_l, yerr = sig_lnn, label=elem) \n",
    "\n",
    "    mnk = mipt.mnk(x, y)\n",
    "    a = mnk.data['a'][0]\n",
    "    da = mnk.data['da'][0]\n",
    "        \n",
    "    mus[elem] = -a*10\n",
    "    sig_mus[elem] = 3*da * 10\n",
    "\n",
    "    if (elem == 'Al'):\n",
    "        export('gen/eq-{}.tex'.format(elem), '\\\\mu_{{\\\\text{{{}}}}} = {:.2f}\\pm{:.2f} \\\\;\\\\;\\\\text{{см}}^{{-1}}'.format(elem, -a*10, 6*da*10))\n",
    "    else:\n",
    "        export('gen/eq-{}.tex'.format(elem), '\\\\mu_{{\\\\text{{{}}}}} = {:.2f}\\pm{:.2f} \\\\;\\\\;\\\\text{{см}}^{{-1}}'.format(elem, -a*10, 3*da*10))\n",
    "\n",
    "    \n",
    "plt.xlabel(r\"$l$, мм\")\n",
    "plt.ylabel(r\"$\\ln{n}$\")\n",
    "plt.legend()\n",
    "\n",
    "plt.savefig('gen/fig-lnnl.png')"
   ]
  },
  {
   "cell_type": "markdown",
   "id": "8dc45084",
   "metadata": {},
   "source": [
    "## Коэффициенты $\\rho'$"
   ]
  },
  {
   "cell_type": "code",
   "execution_count": 9,
   "id": "459104e4",
   "metadata": {},
   "outputs": [],
   "source": [
    "rho = {\n",
    "    'Pb' : 13.35, \n",
    "    'Fe' : 7.87, \n",
    "    'Al' : 2.70,\n",
    "}"
   ]
  },
  {
   "cell_type": "code",
   "execution_count": 10,
   "id": "039507ba",
   "metadata": {},
   "outputs": [
    {
     "name": "stdout",
     "output_type": "stream",
     "text": [
      "$\\mu'_{Pb} = 0.085 \\pm 0.003 \\; \\frac{см^2}{г}$\\\\\n",
      "$\\mu'_{Fe} = 0.071 \\pm 0.001 \\; \\frac{см^2}{г}$\\\\\n",
      "$\\mu'_{Al} = 0.076 \\pm 0.001 \\; \\frac{см^2}{г}$\\\\\n"
     ]
    }
   ],
   "source": [
    "for elem in ('Pb', 'Fe', 'Al'):\n",
    "    \n",
    "    mus1 = mus[elem] / rho[elem]\n",
    "    eps_mus = sig_mus[elem] / mus[elem]\n",
    "    sig_mus1 = eps_mus * mus1\n",
    "\n",
    "    print(r\"$\\mu'_{{{:s}}} = {:.3f} \\pm {:.3f} \\; \\frac{{см^2}}{{г}}$\\\\\".format(elem, mus1, sig_mus1))\n",
    "    "
   ]
  },
  {
   "cell_type": "code",
   "execution_count": null,
   "id": "75ddb408",
   "metadata": {},
   "outputs": [],
   "source": []
  },
  {
   "cell_type": "code",
   "execution_count": null,
   "id": "32210d8d",
   "metadata": {},
   "outputs": [],
   "source": []
  }
 ],
 "metadata": {
  "kernelspec": {
   "display_name": "Python 3 (ipykernel)",
   "language": "python",
   "name": "python3"
  },
  "language_info": {
   "codemirror_mode": {
    "name": "ipython",
    "version": 3
   },
   "file_extension": ".py",
   "mimetype": "text/x-python",
   "name": "python",
   "nbconvert_exporter": "python",
   "pygments_lexer": "ipython3",
   "version": "3.10.12"
  }
 },
 "nbformat": 4,
 "nbformat_minor": 5
}
