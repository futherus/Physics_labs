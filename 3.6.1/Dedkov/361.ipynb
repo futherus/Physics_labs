{
 "cells": [
  {
   "cell_type": "code",
   "execution_count": 1,
   "id": "8ca882d1",
   "metadata": {},
   "outputs": [],
   "source": [
    "import numpy as np\n",
    "import pandas as pd\n",
    "import matplotlib.pyplot as plt\n",
    "import math\n",
    "import scipy as sp\n",
    "import scipy.optimize as op\n",
    "from scipy.interpolate import UnivariateSpline\n",
    "import copy\n",
    "\n",
    "# Adding library directory to python search path\n",
    "import sys\n",
    "import git\n",
    "repo = git.Repo('.', search_parent_directories=True)\n",
    "library_dir = repo.working_tree_dir + '/lib'\n",
    "sys.path.insert(0, library_dir)\n",
    "\n",
    "import miptlib as mipt\n",
    "\n",
    "# Create directory for generated .tex and .pdf\n",
    "if not os.path.exists('gen'):\n",
    "    os.mkdir('gen')"
   ]
  },
  {
   "cell_type": "code",
   "execution_count": 2,
   "id": "39f29360",
   "metadata": {},
   "outputs": [],
   "source": [
    "class consts:\n",
    "    pi = 3.141592\n",
    "\n",
    "class setup:\n",
    "    dummy = 0\n",
    "    tau_impulse = 100 #мкс для зависимости a_n от nu_n\n",
    "    T_impulse = 1 #мс для зависимости a_n от nu_n\n",
    "    nu_error = 1 #кГц погрешность определения частоты меньше не видно :)\n",
    "    v_error = 5 #мВ погрешность определения амплитуды"
   ]
  },
  {
   "cell_type": "code",
   "execution_count": 3,
   "id": "943beb0c",
   "metadata": {
    "scrolled": true
   },
   "outputs": [
    {
     "data": {
      "text/html": [
       "<div>\n",
       "<style scoped>\n",
       "    .dataframe tbody tr th:only-of-type {\n",
       "        vertical-align: middle;\n",
       "    }\n",
       "\n",
       "    .dataframe tbody tr th {\n",
       "        vertical-align: top;\n",
       "    }\n",
       "\n",
       "    .dataframe thead th {\n",
       "        text-align: right;\n",
       "    }\n",
       "</style>\n",
       "<table border=\"1\" class=\"dataframe\">\n",
       "  <thead>\n",
       "    <tr style=\"text-align: right;\">\n",
       "      <th></th>\n",
       "      <th>v</th>\n",
       "      <th>u</th>\n",
       "      <th>t</th>\n",
       "      <th>dv</th>\n",
       "      <th>m</th>\n",
       "      <th>ab</th>\n",
       "      <th>ao</th>\n",
       "    </tr>\n",
       "  </thead>\n",
       "  <tbody>\n",
       "    <tr>\n",
       "      <th>0</th>\n",
       "      <td>1.2</td>\n",
       "      <td>137.6</td>\n",
       "      <td>200</td>\n",
       "      <td>5.2</td>\n",
       "      <td>10</td>\n",
       "      <td>28</td>\n",
       "      <td>688</td>\n",
       "    </tr>\n",
       "    <tr>\n",
       "      <th>1</th>\n",
       "      <td>2.2</td>\n",
       "      <td>131.2</td>\n",
       "      <td>180</td>\n",
       "      <td>5.8</td>\n",
       "      <td>20</td>\n",
       "      <td>52</td>\n",
       "      <td>674</td>\n",
       "    </tr>\n",
       "    <tr>\n",
       "      <th>2</th>\n",
       "      <td>3.2</td>\n",
       "      <td>120.4</td>\n",
       "      <td>160</td>\n",
       "      <td>6.2</td>\n",
       "      <td>30</td>\n",
       "      <td>76</td>\n",
       "      <td>664</td>\n",
       "    </tr>\n",
       "    <tr>\n",
       "      <th>3</th>\n",
       "      <td>4.2</td>\n",
       "      <td>106.0</td>\n",
       "      <td>140</td>\n",
       "      <td>7.2</td>\n",
       "      <td>40</td>\n",
       "      <td>96</td>\n",
       "      <td>648</td>\n",
       "    </tr>\n",
       "    <tr>\n",
       "      <th>4</th>\n",
       "      <td>5.2</td>\n",
       "      <td>89.2</td>\n",
       "      <td>120</td>\n",
       "      <td>8.2</td>\n",
       "      <td>50</td>\n",
       "      <td>124</td>\n",
       "      <td>632</td>\n",
       "    </tr>\n",
       "    <tr>\n",
       "      <th>5</th>\n",
       "      <td>6.2</td>\n",
       "      <td>70.8</td>\n",
       "      <td>100</td>\n",
       "      <td>10.2</td>\n",
       "      <td>60</td>\n",
       "      <td>140</td>\n",
       "      <td>608</td>\n",
       "    </tr>\n",
       "    <tr>\n",
       "      <th>6</th>\n",
       "      <td>7.2</td>\n",
       "      <td>51.6</td>\n",
       "      <td>80</td>\n",
       "      <td>12.8</td>\n",
       "      <td>70</td>\n",
       "      <td>164</td>\n",
       "      <td>592</td>\n",
       "    </tr>\n",
       "    <tr>\n",
       "      <th>7</th>\n",
       "      <td>8.2</td>\n",
       "      <td>33.2</td>\n",
       "      <td>60</td>\n",
       "      <td>17.2</td>\n",
       "      <td>80</td>\n",
       "      <td>180</td>\n",
       "      <td>576</td>\n",
       "    </tr>\n",
       "    <tr>\n",
       "      <th>8</th>\n",
       "      <td>9.2</td>\n",
       "      <td>15.2</td>\n",
       "      <td>40</td>\n",
       "      <td>25.2</td>\n",
       "      <td>90</td>\n",
       "      <td>196</td>\n",
       "      <td>552</td>\n",
       "    </tr>\n",
       "    <tr>\n",
       "      <th>9</th>\n",
       "      <td>10.2</td>\n",
       "      <td>0.0</td>\n",
       "      <td>20</td>\n",
       "      <td>50.0</td>\n",
       "      <td>100</td>\n",
       "      <td>220</td>\n",
       "      <td>536</td>\n",
       "    </tr>\n",
       "  </tbody>\n",
       "</table>\n",
       "</div>"
      ],
      "text/plain": [
       "      v      u    t    dv    m   ab   ao\n",
       "0   1.2  137.6  200   5.2   10   28  688\n",
       "1   2.2  131.2  180   5.8   20   52  674\n",
       "2   3.2  120.4  160   6.2   30   76  664\n",
       "3   4.2  106.0  140   7.2   40   96  648\n",
       "4   5.2   89.2  120   8.2   50  124  632\n",
       "5   6.2   70.8  100  10.2   60  140  608\n",
       "6   7.2   51.6   80  12.8   70  164  592\n",
       "7   8.2   33.2   60  17.2   80  180  576\n",
       "8   9.2   15.2   40  25.2   90  196  552\n",
       "9  10.2    0.0   20  50.0  100  220  536"
      ]
     },
     "execution_count": 3,
     "metadata": {},
     "output_type": "execute_result"
    }
   ],
   "source": [
    "data = mipt.read_excel('data/361.xlsx', usecols=(0,1,3,4,6,7,8), header=(0))\n",
    "data"
   ]
  },
  {
   "cell_type": "code",
   "execution_count": 24,
   "id": "363d07bb",
   "metadata": {
    "scrolled": true
   },
   "outputs": [
    {
     "name": "stderr",
     "output_type": "stream",
     "text": [
      "No artists with labels found to put in legend.  Note that artists whose label start with an underscore are ignored when legend() is called with no argument.\n"
     ]
    },
    {
     "data": {
      "image/png": "[encoded data removed]",
      "text/plain": [
       "<Figure size 432x288 with 1 Axes>"
      ]
     },
     "metadata": {
      "needs_background": "light"
     },
     "output_type": "display_data"
    }
   ],
   "source": [
    "from scipy.interpolate import interp1d\n",
    "n = np.arange(1, 11, 1)\n",
    "\n",
    "x = data['u'][3] * 10 * np.sin(n * consts.pi * setup.tau_impulse * 1e-6/(setup.T_impulse*1e-3)) / (n * consts.pi)\n",
    "\n",
    "def interp(x, y):\n",
    "    return interp1d(x, y, kind='cubic')\n",
    "\n",
    "y = data['u'][0] * 10 * np.sin(n * consts.pi * setup.tau_impulse * 1e-6/(setup.T_impulse*1e-3)) / (n * consts.pi)\n",
    "#mipt.plot(n, data['u'], func=None, yerr=setup.v_error)\n",
    "plt.bar(n, data['u'], width = 0.3)\n",
    "mipt.plot(n, y, func=interp, marker_size=0, linestyle='dashed')\n",
    "\n",
    "plt.xlabel(r\"$\\nu_n$, кГц\")\n",
    "plt.ylabel(r\"$a_n$, мВ\")\n",
    "plt.grid(True)\n",
    "plt.legend()\n",
    "plt.savefig('gen/fig-a9.pdf')"
   ]
  },
  {
   "cell_type": "markdown",
   "id": "83a56e7a",
   "metadata": {},
   "source": [
    "#### A11 Постройте график зависимости Δ𝜈(1/𝜏). Проведите наилучшую прямую и по её наклону убедитесь в справедливости соотношения неопределённостей для длительности импульса и ширины спектра. Оцените погрешность данного опыта"
   ]
  },
  {
   "cell_type": "code",
   "execution_count": 5,
   "id": "02bbd095",
   "metadata": {
    "scrolled": false
   },
   "outputs": [
    {
     "name": "stderr",
     "output_type": "stream",
     "text": [
      "No artists with labels found to put in legend.  Note that artists whose label start with an underscore are ignored when legend() is called with no argument.\n"
     ]
    },
    {
     "data": {
      "image/png": "[encoded data removed]",
      "text/plain": [
       "<Figure size 432x288 with 1 Axes>"
      ]
     },
     "metadata": {
      "needs_background": "light"
     },
     "output_type": "display_data"
    }
   ],
   "source": [
    "dv = data['dv']\n",
    "tau = data['t']\n",
    "\n",
    "x, y, equ = mipt.plot(1/tau, dv, yerr = setup.nu_error)\n",
    "mnk = mipt.mnk(x,y)\n",
    "mnk.to_latex('gen/tab-a11-mnk.tex')\n",
    "\n",
    "plt.xlabel(r\"$1/\\tau$, 1/мс\")\n",
    "plt.ylabel(r\"$\\nu$, кГц\")\n",
    "plt.grid(True)\n",
    "plt.legend()\n",
    "plt.savefig('gen/fig-a11.pdf')\n",
    "\n",
    "\n",
    "fmt = {\n",
    "    'dv' : [r'$\\Delta\\nu$, кГц', '{:.1f}', 0],\n",
    "    't' :  [r'$\\tau$, мс', '{:.0f}', 0],\n",
    "    '1/tau' :  [r'$\\frac{1}{\\tau}$, 1/мс', '{:.4f}', 0],\n",
    "}\n",
    "\n",
    "dat = pd.concat([dv, tau, (1/tau).rename('1/tau')],axis=1)\n",
    "tab = mipt.table(dat, fmt)\n",
    "tab.to_latex('gen/tab-a11.tex')\n"
   ]
  },
  {
   "cell_type": "markdown",
   "id": "75071278",
   "metadata": {},
   "source": [
    "#### В21 Постройте график зависимости 𝑎бок/𝑎осн от 𝑚. Проведите наилучшую прямую и сравните результат теоретическим. Оцените погрешность данного опыта.\n"
   ]
  },
  {
   "cell_type": "code",
   "execution_count": 6,
   "id": "d7bd9755",
   "metadata": {
    "scrolled": true
   },
   "outputs": [
    {
     "name": "stderr",
     "output_type": "stream",
     "text": [
      "No artists with labels found to put in legend.  Note that artists whose label start with an underscore are ignored when legend() is called with no argument.\n"
     ]
    },
    {
     "data": {
      "text/html": [
       "<div>\n",
       "<style scoped>\n",
       "    .dataframe tbody tr th:only-of-type {\n",
       "        vertical-align: middle;\n",
       "    }\n",
       "\n",
       "    .dataframe tbody tr th {\n",
       "        vertical-align: top;\n",
       "    }\n",
       "\n",
       "    .dataframe thead th {\n",
       "        text-align: right;\n",
       "    }\n",
       "</style>\n",
       "<table border=\"1\" class=\"dataframe\">\n",
       "  <thead>\n",
       "    <tr style=\"text-align: right;\">\n",
       "      <th></th>\n",
       "      <th>$\\overline{x}$</th>\n",
       "      <th>$\\sigma_x^2$</th>\n",
       "      <th>$\\overline{y}$</th>\n",
       "      <th>$\\sigma_y^2$</th>\n",
       "      <th>$r_{xy}$</th>\n",
       "      <th>$a\\cdot10^3$</th>\n",
       "      <th>$\\Delta a \\cdot10^3$</th>\n",
       "      <th>$b$</th>\n",
       "      <th>$\\Delta b$</th>\n",
       "    </tr>\n",
       "  </thead>\n",
       "  <tbody>\n",
       "    <tr>\n",
       "      <th>0</th>\n",
       "      <td>55.0</td>\n",
       "      <td>825.0</td>\n",
       "      <td>0.216197</td>\n",
       "      <td>0.013571</td>\n",
       "      <td>3.342053</td>\n",
       "      <td>0.004051</td>\n",
       "      <td>0.00007</td>\n",
       "      <td>-0.006607</td>\n",
       "      <td>0.00433</td>\n",
       "    </tr>\n",
       "  </tbody>\n",
       "</table>\n",
       "</div>"
      ],
      "text/plain": [
       "   $\\overline{x}$  $\\sigma_x^2$  $\\overline{y}$  $\\sigma_y^2$  $r_{xy}$  \\\n",
       "0            55.0         825.0        0.216197      0.013571  3.342053   \n",
       "\n",
       "   $a\\cdot10^3$  $\\Delta a \\cdot10^3$       $b$  $\\Delta b$  \n",
       "0      0.004051               0.00007 -0.006607     0.00433  "
      ]
     },
     "execution_count": 6,
     "metadata": {},
     "output_type": "execute_result"
    },
    {
     "data": {
      "image/png": "[encoded data removed]",
      "text/plain": [
       "<Figure size 432x288 with 1 Axes>"
      ]
     },
     "metadata": {
      "needs_background": "light"
     },
     "output_type": "display_data"
    }
   ],
   "source": [
    "dat = dat = pd.concat([\n",
    "    data['m'], \n",
    "    data['ao'],  \n",
    "    data['ab'],\n",
    "    (data['ab']/data['ao']).rename('bo'),\n",
    "],axis=1)\n",
    "\n",
    "x, y, equ = mipt.plot(dat['m'], dat['bo'], yerr = 1.5 * dat['bo'] * setup.v_error / dat['ab'])\n",
    "\n",
    "mnk_fmt = {\n",
    "    '<x>':    ['$\\overline{x}$', '{:.2e}'],\n",
    "    'sx':     ['$\\sigma_x^2$',   '{:.2e}'],\n",
    "    '<y>':    ['$\\overline{y}$', '{:.2e}'],\n",
    "    'sy':     ['$\\sigma_y^2$',   '{:.2e}'],\n",
    "    'rxy':    ['$r_{xy}$',       '{:.2e}'],\n",
    "    'a':      ['$a\\cdot10^3$', '{:.2f}', 3],\n",
    "    'da':     ['$\\Delta a \\cdot10^3$', '{:.2f}', 3],\n",
    "    'b':      ['$b$',            '{:.2e}'],\n",
    "    'db':     ['$\\Delta b$',     '{:.2e}'],\n",
    "}\n",
    "\n",
    "\n",
    "mnk = mipt.mnk(x,y,fmt=mnk_fmt)\n",
    "mnk.to_latex('gen/tab-v21-mnk.tex')\n",
    "\n",
    "plt.xlabel(r\"$m$, %\")\n",
    "plt.ylabel(r\"$a_1/a_2$\")\n",
    "plt.grid(True)\n",
    "plt.legend()\n",
    "plt.savefig('gen/fig-v21.pdf')\n",
    "\n",
    "fmt = {\n",
    "    'm'  : [r'$m$, \\%', '{:.0f}', 0],\n",
    "    'ao' : [r'$a_{\\text{осн}}$, мВ', '{:.1f}', 0],\n",
    "    'ab' : [r'$a_{\\text{бок}}$, мВ', '{:.1f}', 0],\n",
    "    'bo' : [r'$\\frac{a_{\\text{бок}}}{a_{\\text{осн}}}$', '{:.4f}', 0],\n",
    "}\n",
    "\n",
    "tab = mipt.table(dat, fmt)\n",
    "tab.to_latex('gen/tab-v21.tex')\n",
    "mnk.rename().data"
   ]
  },
  {
   "cell_type": "code",
   "execution_count": null,
   "id": "af0ee8d9",
   "metadata": {},
   "outputs": [],
   "source": [
    "x, y, equ = mipt.plot(dat['m'], dat['bo'])\n",
    "mnk = mipt.mnk(x,y)\n",
    "mnk.to_latex('gen/tab-v21-mnk.tex')\n",
    "\n",
    "plt.xlabel(r\"$m$, %\")\n",
    "plt.ylabel(r\"$\\frac{a_{\\text{бок}}}{a_{\\text{осн}}}$\")\n",
    "plt.grid(True)\n",
    "plt.legend()\n",
    "plt.savefig('gen/fig-v21.pdf')\n",
    "\n",
    "\n",
    "fmt = {\n",
    "    'm'  : [r'$m$, %', '{:.0f}', 0],\n",
    "    'ao' : [r'$\\tau$, мВ', '{:.1f}', 0],\n",
    "    'ab' : [r'$\\frac{1}{\\tau}$, мВ', '{:.1f}', 0],\n",
    "    'bo' : [r'$\\frac{a_{\\text{бок}}}{a_{\\text{осн}}}$', '{:.4f}', 0],\n",
    "}\n",
    "\n",
    "tab = mipt.table(dat, fmt)\n",
    "tab.to_latex('gen/tab-v21.tex')"
   ]
  }
 ],
 "metadata": {
  "kernelspec": {
   "display_name": "Python 3 (ipykernel)",
   "language": "python",
   "name": "python3"
  },
  "language_info": {
   "codemirror_mode": {
    "name": "ipython",
    "version": 3
   },
   "file_extension": ".py",
   "mimetype": "text/x-python",
   "name": "python",
   "nbconvert_exporter": "python",
   "pygments_lexer": "ipython3",
   "version": "3.10.2"
  }
 },
 "nbformat": 4,
 "nbformat_minor": 5
}
