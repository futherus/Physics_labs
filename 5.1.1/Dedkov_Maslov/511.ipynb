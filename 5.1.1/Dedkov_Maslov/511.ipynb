{
 "cells": [
  {
   "cell_type": "code",
   "execution_count": 30,
   "id": "8ca882d1",
   "metadata": {},
   "outputs": [],
   "source": [
    "import numpy as np\n",
    "import pandas as pd\n",
    "import matplotlib.pyplot as plt\n",
    "import math\n",
    "import scipy as sp\n",
    "import scipy.optimize as op\n",
    "from scipy.interpolate import UnivariateSpline\n",
    "import copy\n",
    "import re\n",
    "\n",
    "# Adding library directory to python search path\n",
    "import os\n",
    "import sys\n",
    "import git\n",
    "repo = git.Repo('.', search_parent_directories=True)\n",
    "library_dir = repo.working_tree_dir + '/lib'\n",
    "sys.path.insert(0, library_dir)\n",
    "\n",
    "import miptlib as mipt\n",
    "\n",
    "# Create directory for generated .tex and .pdf\n",
    "if not os.path.exists('gen'):\n",
    "    os.mkdir('gen')"
   ]
  },
  {
   "cell_type": "code",
   "execution_count": 31,
   "id": "39f29360",
   "metadata": {},
   "outputs": [],
   "source": [
    "class consts:\n",
    "    pi = 3.141592\n",
    "    c = 3e8\n",
    "    e = 1.6e-19\n",
    "\n",
    "class setup:\n",
    "    dummy = 0"
   ]
  },
  {
   "cell_type": "markdown",
   "id": "a971f67f",
   "metadata": {},
   "source": [
    "### Первичные экспериментальные данные"
   ]
  },
  {
   "cell_type": "code",
   "execution_count": 32,
   "id": "89b91948",
   "metadata": {
    "scrolled": true
   },
   "outputs": [
    {
     "data": {
      "text/html": [
       "<div>\n",
       "<style scoped>\n",
       "    .dataframe tbody tr th:only-of-type {\n",
       "        vertical-align: middle;\n",
       "    }\n",
       "\n",
       "    .dataframe tbody tr th {\n",
       "        vertical-align: top;\n",
       "    }\n",
       "\n",
       "    .dataframe thead th {\n",
       "        text-align: right;\n",
       "    }\n",
       "</style>\n",
       "<table border=\"1\" class=\"dataframe\">\n",
       "  <thead>\n",
       "    <tr style=\"text-align: right;\">\n",
       "      <th></th>\n",
       "      <th>$\\lambda, \\angstrom$</th>\n",
       "      <th>$N, ^{\\circ}$</th>\n",
       "    </tr>\n",
       "  </thead>\n",
       "  <tbody>\n",
       "    <tr>\n",
       "      <th>0</th>\n",
       "      <td>7032.41</td>\n",
       "      <td>2992.0</td>\n",
       "    </tr>\n",
       "    <tr>\n",
       "      <th>1</th>\n",
       "      <td>6929.47</td>\n",
       "      <td>2966.0</td>\n",
       "    </tr>\n",
       "    <tr>\n",
       "      <th>2</th>\n",
       "      <td>6717.04</td>\n",
       "      <td>2895.0</td>\n",
       "    </tr>\n",
       "    <tr>\n",
       "      <th>3</th>\n",
       "      <td>6678.28</td>\n",
       "      <td>2882.0</td>\n",
       "    </tr>\n",
       "    <tr>\n",
       "      <th>4</th>\n",
       "      <td>6598.95</td>\n",
       "      <td>2855.0</td>\n",
       "    </tr>\n",
       "    <tr>\n",
       "      <th>5</th>\n",
       "      <td>6532.88</td>\n",
       "      <td>2832.0</td>\n",
       "    </tr>\n",
       "    <tr>\n",
       "      <th>6</th>\n",
       "      <td>6506.53</td>\n",
       "      <td>2824.0</td>\n",
       "    </tr>\n",
       "    <tr>\n",
       "      <th>7</th>\n",
       "      <td>6402.24</td>\n",
       "      <td>2785.0</td>\n",
       "    </tr>\n",
       "    <tr>\n",
       "      <th>8</th>\n",
       "      <td>6382.99</td>\n",
       "      <td>2778.0</td>\n",
       "    </tr>\n",
       "    <tr>\n",
       "      <th>9</th>\n",
       "      <td>6334.42</td>\n",
       "      <td>2759.0</td>\n",
       "    </tr>\n",
       "    <tr>\n",
       "      <th>10</th>\n",
       "      <td>6304.79</td>\n",
       "      <td>2748.0</td>\n",
       "    </tr>\n",
       "    <tr>\n",
       "      <th>11</th>\n",
       "      <td>6266.49</td>\n",
       "      <td>2732.0</td>\n",
       "    </tr>\n",
       "    <tr>\n",
       "      <th>12</th>\n",
       "      <td>6217.28</td>\n",
       "      <td>2712.0</td>\n",
       "    </tr>\n",
       "    <tr>\n",
       "      <th>13</th>\n",
       "      <td>6163.59</td>\n",
       "      <td>2690.0</td>\n",
       "    </tr>\n",
       "    <tr>\n",
       "      <th>14</th>\n",
       "      <td>6143.06</td>\n",
       "      <td>2681.0</td>\n",
       "    </tr>\n",
       "    <tr>\n",
       "      <th>15</th>\n",
       "      <td>6096.14</td>\n",
       "      <td>2662.0</td>\n",
       "    </tr>\n",
       "    <tr>\n",
       "      <th>16</th>\n",
       "      <td>6074.34</td>\n",
       "      <td>2651.0</td>\n",
       "    </tr>\n",
       "    <tr>\n",
       "      <th>17</th>\n",
       "      <td>6030.00</td>\n",
       "      <td>2632.0</td>\n",
       "    </tr>\n",
       "    <tr>\n",
       "      <th>18</th>\n",
       "      <td>5975.53</td>\n",
       "      <td>2607.0</td>\n",
       "    </tr>\n",
       "    <tr>\n",
       "      <th>19</th>\n",
       "      <td>5944.83</td>\n",
       "      <td>2592.0</td>\n",
       "    </tr>\n",
       "    <tr>\n",
       "      <th>20</th>\n",
       "      <td>5881.89</td>\n",
       "      <td>2562.0</td>\n",
       "    </tr>\n",
       "    <tr>\n",
       "      <th>21</th>\n",
       "      <td>5852.49</td>\n",
       "      <td>2546.0</td>\n",
       "    </tr>\n",
       "    <tr>\n",
       "      <th>22</th>\n",
       "      <td>5400.56</td>\n",
       "      <td>2287.0</td>\n",
       "    </tr>\n",
       "  </tbody>\n",
       "</table>\n",
       "</div>"
      ],
      "text/plain": [
       "    $\\lambda, \\angstrom$  $N, ^{\\circ}$\n",
       "0                7032.41         2992.0\n",
       "1                6929.47         2966.0\n",
       "2                6717.04         2895.0\n",
       "3                6678.28         2882.0\n",
       "4                6598.95         2855.0\n",
       "5                6532.88         2832.0\n",
       "6                6506.53         2824.0\n",
       "7                6402.24         2785.0\n",
       "8                6382.99         2778.0\n",
       "9                6334.42         2759.0\n",
       "10               6304.79         2748.0\n",
       "11               6266.49         2732.0\n",
       "12               6217.28         2712.0\n",
       "13               6163.59         2690.0\n",
       "14               6143.06         2681.0\n",
       "15               6096.14         2662.0\n",
       "16               6074.34         2651.0\n",
       "17               6030.00         2632.0\n",
       "18               5975.53         2607.0\n",
       "19               5944.83         2592.0\n",
       "20               5881.89         2562.0\n",
       "21               5852.49         2546.0\n",
       "22               5400.56         2287.0"
      ]
     },
     "execution_count": 32,
     "metadata": {},
     "output_type": "execute_result"
    }
   ],
   "source": [
    "calibration_data = mipt.read_excel('data/5.1.1-stripped.xlsx', usecols=('A', 'B'), header=(0, 1)).dropna()['Calibration']\n",
    "\n",
    "fmt = {\n",
    "    ('lambda') : [r'$\\lambda, \\angstrom$', '{:.0f}', 0],\n",
    "    ('N') : [r'$N, ^{\\circ}$', '{:.0f}', 0],\n",
    "}\n",
    "\n",
    "tab = mipt.table(calibration_data, fmt)\n",
    "\n",
    "tab.to_latex('gen/tab-calib.tex')\n",
    "tab.rename().data"
   ]
  },
  {
   "cell_type": "code",
   "execution_count": 42,
   "id": "a4e78829",
   "metadata": {},
   "outputs": [],
   "source": [
    "sig_U_close = {}\n",
    "sig_U_i = {}"
   ]
  },
  {
   "cell_type": "code",
   "execution_count": 43,
   "id": "f891a384",
   "metadata": {},
   "outputs": [],
   "source": [
    "def export_region(region):\n",
    "    \n",
    "    data = mipt.read_excel('data/5.1.1-stripped.xlsx', usecols=region, header=(0, 1)).dropna()\n",
    "\n",
    "    m = re.compile(r\"N=(\\d+)\")\n",
    "    result = m.match(data.columns[0][0])\n",
    "    assert result != None, \"Wrong header syntax\"\n",
    "    N = int(result.group(1))\n",
    "\n",
    "    hdr = 'N={}'.format(N)\n",
    "    fmt = {\n",
    "        (hdr, 'U_close') : [r'$U_{\\text{зап}}$, В', '{:.2f}', 0],\n",
    "        (hdr, 'U_i') : [r'$U_{\\text{фт}}$, В', '{:.2f}', 0],\n",
    "        (hdr, 'sU_close') : [r'$\\sigma_{U_{\\text{зап}}}$, В', '{:.2f}', 0],\n",
    "        (hdr, 'sU_i') : [r'$\\sigma_{U_{\\text{фт}}}$, В', '{:.2f}', 0],\n",
    "        (hdr) : [r'$N={}^{{\\circ}}$'.format(N), '{:.2f}', 0],\n",
    "    }\n",
    "    sig_U_close[N] = np.abs(data[(hdr, 'U_close')]) * 0.03 + 0.004\n",
    "    sig_U_i[N] = np.abs(data[(hdr, 'U_i')]) * 0.03 + 0.004\n",
    "    data.insert(1, (hdr, 'sU_close'), sig_U_close[N])\n",
    "    data.insert(3, (hdr, 'sU_i'), sig_U_i[N])\n",
    "\n",
    "    for st in range(0, len(data[(hdr, 'sU_close')])):\n",
    "        if (round(data[(hdr, 'sU_close')][st], 2) == 0):\n",
    "            data[(hdr, 'sU_close')][st] = 0.01\n",
    "\n",
    "    for st in range(0, len(data[(hdr, 'sU_i')])):\n",
    "        if (round(data[(hdr, 'sU_i')][st], 2) == 0):\n",
    "            data[(hdr, 'sU_i')][st] = 0.01\n",
    "\n",
    "    tab = mipt.table(data, fmt)\n",
    "    tab.to_latex('gen/tab-data-{}.tex'.format(N))\n",
    "\n",
    "export_region(('D', 'E'))\n",
    "export_region(('G', 'H'))\n",
    "export_region(('J', 'K'))\n",
    "export_region(('M', 'N'))\n",
    "export_region(('P', 'Q'))\n",
    "export_region(('S', 'T'))\n",
    "export_region(('V', 'W'))\n",
    "export_region(('Y', 'Z'))"
   ]
  },
  {
   "cell_type": "markdown",
   "id": "1904da83",
   "metadata": {},
   "source": [
    "### Градуировочная кривая монохроматора"
   ]
  },
  {
   "cell_type": "code",
   "execution_count": 34,
   "id": "de8dd165",
   "metadata": {},
   "outputs": [
    {
     "data": {
      "text/html": [
       "<div>\n",
       "<style scoped>\n",
       "    .dataframe tbody tr th:only-of-type {\n",
       "        vertical-align: middle;\n",
       "    }\n",
       "\n",
       "    .dataframe tbody tr th {\n",
       "        vertical-align: top;\n",
       "    }\n",
       "\n",
       "    .dataframe thead th {\n",
       "        text-align: right;\n",
       "    }\n",
       "</style>\n",
       "<table border=\"1\" class=\"dataframe\">\n",
       "  <thead>\n",
       "    <tr style=\"text-align: right;\">\n",
       "      <th></th>\n",
       "      <th>lambda</th>\n",
       "      <th>N</th>\n",
       "    </tr>\n",
       "  </thead>\n",
       "  <tbody>\n",
       "    <tr>\n",
       "      <th>0</th>\n",
       "      <td>7032.41</td>\n",
       "      <td>2992.0</td>\n",
       "    </tr>\n",
       "    <tr>\n",
       "      <th>1</th>\n",
       "      <td>6929.47</td>\n",
       "      <td>2966.0</td>\n",
       "    </tr>\n",
       "    <tr>\n",
       "      <th>2</th>\n",
       "      <td>6717.04</td>\n",
       "      <td>2895.0</td>\n",
       "    </tr>\n",
       "    <tr>\n",
       "      <th>3</th>\n",
       "      <td>6678.28</td>\n",
       "      <td>2882.0</td>\n",
       "    </tr>\n",
       "    <tr>\n",
       "      <th>4</th>\n",
       "      <td>6598.95</td>\n",
       "      <td>2855.0</td>\n",
       "    </tr>\n",
       "    <tr>\n",
       "      <th>5</th>\n",
       "      <td>6532.88</td>\n",
       "      <td>2832.0</td>\n",
       "    </tr>\n",
       "    <tr>\n",
       "      <th>6</th>\n",
       "      <td>6506.53</td>\n",
       "      <td>2824.0</td>\n",
       "    </tr>\n",
       "    <tr>\n",
       "      <th>7</th>\n",
       "      <td>6402.24</td>\n",
       "      <td>2785.0</td>\n",
       "    </tr>\n",
       "    <tr>\n",
       "      <th>8</th>\n",
       "      <td>6382.99</td>\n",
       "      <td>2778.0</td>\n",
       "    </tr>\n",
       "    <tr>\n",
       "      <th>9</th>\n",
       "      <td>6334.42</td>\n",
       "      <td>2759.0</td>\n",
       "    </tr>\n",
       "    <tr>\n",
       "      <th>10</th>\n",
       "      <td>6304.79</td>\n",
       "      <td>2748.0</td>\n",
       "    </tr>\n",
       "    <tr>\n",
       "      <th>11</th>\n",
       "      <td>6266.49</td>\n",
       "      <td>2732.0</td>\n",
       "    </tr>\n",
       "    <tr>\n",
       "      <th>12</th>\n",
       "      <td>6217.28</td>\n",
       "      <td>2712.0</td>\n",
       "    </tr>\n",
       "    <tr>\n",
       "      <th>13</th>\n",
       "      <td>6163.59</td>\n",
       "      <td>2690.0</td>\n",
       "    </tr>\n",
       "    <tr>\n",
       "      <th>14</th>\n",
       "      <td>6143.06</td>\n",
       "      <td>2681.0</td>\n",
       "    </tr>\n",
       "    <tr>\n",
       "      <th>15</th>\n",
       "      <td>6096.14</td>\n",
       "      <td>2662.0</td>\n",
       "    </tr>\n",
       "    <tr>\n",
       "      <th>16</th>\n",
       "      <td>6074.34</td>\n",
       "      <td>2651.0</td>\n",
       "    </tr>\n",
       "    <tr>\n",
       "      <th>17</th>\n",
       "      <td>6030.00</td>\n",
       "      <td>2632.0</td>\n",
       "    </tr>\n",
       "    <tr>\n",
       "      <th>18</th>\n",
       "      <td>5975.53</td>\n",
       "      <td>2607.0</td>\n",
       "    </tr>\n",
       "    <tr>\n",
       "      <th>19</th>\n",
       "      <td>5944.83</td>\n",
       "      <td>2592.0</td>\n",
       "    </tr>\n",
       "    <tr>\n",
       "      <th>20</th>\n",
       "      <td>5881.89</td>\n",
       "      <td>2562.0</td>\n",
       "    </tr>\n",
       "    <tr>\n",
       "      <th>21</th>\n",
       "      <td>5852.49</td>\n",
       "      <td>2546.0</td>\n",
       "    </tr>\n",
       "    <tr>\n",
       "      <th>22</th>\n",
       "      <td>5400.56</td>\n",
       "      <td>2287.0</td>\n",
       "    </tr>\n",
       "    <tr>\n",
       "      <th>23</th>\n",
       "      <td>NaN</td>\n",
       "      <td>NaN</td>\n",
       "    </tr>\n",
       "    <tr>\n",
       "      <th>24</th>\n",
       "      <td>NaN</td>\n",
       "      <td>NaN</td>\n",
       "    </tr>\n",
       "    <tr>\n",
       "      <th>25</th>\n",
       "      <td>NaN</td>\n",
       "      <td>NaN</td>\n",
       "    </tr>\n",
       "    <tr>\n",
       "      <th>26</th>\n",
       "      <td>NaN</td>\n",
       "      <td>NaN</td>\n",
       "    </tr>\n",
       "  </tbody>\n",
       "</table>\n",
       "</div>"
      ],
      "text/plain": [
       "     lambda       N\n",
       "0   7032.41  2992.0\n",
       "1   6929.47  2966.0\n",
       "2   6717.04  2895.0\n",
       "3   6678.28  2882.0\n",
       "4   6598.95  2855.0\n",
       "5   6532.88  2832.0\n",
       "6   6506.53  2824.0\n",
       "7   6402.24  2785.0\n",
       "8   6382.99  2778.0\n",
       "9   6334.42  2759.0\n",
       "10  6304.79  2748.0\n",
       "11  6266.49  2732.0\n",
       "12  6217.28  2712.0\n",
       "13  6163.59  2690.0\n",
       "14  6143.06  2681.0\n",
       "15  6096.14  2662.0\n",
       "16  6074.34  2651.0\n",
       "17  6030.00  2632.0\n",
       "18  5975.53  2607.0\n",
       "19  5944.83  2592.0\n",
       "20  5881.89  2562.0\n",
       "21  5852.49  2546.0\n",
       "22  5400.56  2287.0\n",
       "23      NaN     NaN\n",
       "24      NaN     NaN\n",
       "25      NaN     NaN\n",
       "26      NaN     NaN"
      ]
     },
     "execution_count": 34,
     "metadata": {},
     "output_type": "execute_result"
    }
   ],
   "source": [
    "calibration_data = mipt.read_excel('data/5.1.1-stripped.xlsx', usecols=('A', 'B'), header=(0, 1))\n",
    "calibration_data = calibration_data['Calibration']\n",
    "calibration_data"
   ]
  },
  {
   "cell_type": "code",
   "execution_count": 35,
   "id": "66092ffc",
   "metadata": {
    "scrolled": true
   },
   "outputs": [
    {
     "data": {
      "text/plain": [
       "array(5400.56)"
      ]
     },
     "execution_count": 35,
     "metadata": {},
     "output_type": "execute_result"
    },
    {
     "data": {
      "image/png": "[encoded data removed]",
      "text/plain": [
       "<Figure size 640x480 with 1 Axes>"
      ]
     },
     "metadata": {},
     "output_type": "display_data"
    }
   ],
   "source": [
    "def interp(x, y):\n",
    "    return sp.interpolate.interp1d(x, y, kind='linear')\n",
    "\n",
    "_, _, N2wavelen = mipt.plot(calibration_data['N'], calibration_data['lambda'], func=interp, xerr=1)\n",
    "\n",
    "plt.xlabel(r'N')\n",
    "plt.ylabel(r'$\\lambda, \\AA$')\n",
    "plt.savefig('gen/calibration.png')\n",
    "\n",
    "N2wavelen(2287)"
   ]
  },
  {
   "cell_type": "markdown",
   "id": "7ae7078a",
   "metadata": {},
   "source": [
    "### Зависимость $I(V)$"
   ]
  },
  {
   "cell_type": "code",
   "execution_count": 56,
   "id": "943beb0c",
   "metadata": {
    "scrolled": false
   },
   "outputs": [
    {
     "name": "stdout",
     "output_type": "stream",
     "text": [
      "2759\n"
     ]
    },
    {
     "data": {
      "text/html": [
       "<div>\n",
       "<style scoped>\n",
       "    .dataframe tbody tr th:only-of-type {\n",
       "        vertical-align: middle;\n",
       "    }\n",
       "\n",
       "    .dataframe tbody tr th {\n",
       "        vertical-align: top;\n",
       "    }\n",
       "\n",
       "    .dataframe thead th {\n",
       "        text-align: right;\n",
       "    }\n",
       "</style>\n",
       "<table border=\"1\" class=\"dataframe\">\n",
       "  <thead>\n",
       "    <tr style=\"text-align: right;\">\n",
       "      <th></th>\n",
       "      <th>&lt;x&gt;</th>\n",
       "      <th>sx</th>\n",
       "      <th>&lt;y&gt;</th>\n",
       "      <th>sy</th>\n",
       "      <th>rxy</th>\n",
       "      <th>a</th>\n",
       "      <th>da</th>\n",
       "      <th>b</th>\n",
       "      <th>db</th>\n",
       "    </tr>\n",
       "  </thead>\n",
       "  <tbody>\n",
       "    <tr>\n",
       "      <th>0</th>\n",
       "      <td>-0.071818</td>\n",
       "      <td>0.03876</td>\n",
       "      <td>0.228051</td>\n",
       "      <td>0.017265</td>\n",
       "      <td>0.025562</td>\n",
       "      <td>0.659478</td>\n",
       "      <td>0.0342</td>\n",
       "      <td>0.275414</td>\n",
       "      <td>0.007167</td>\n",
       "    </tr>\n",
       "  </tbody>\n",
       "</table>\n",
       "</div>"
      ],
      "text/plain": [
       "        <x>       sx       <y>        sy       rxy         a      da  \\\n",
       "0 -0.071818  0.03876  0.228051  0.017265  0.025562  0.659478  0.0342   \n",
       "\n",
       "          b        db  \n",
       "0  0.275414  0.007167  "
      ]
     },
     "metadata": {},
     "output_type": "display_data"
    },
    {
     "name": "stdout",
     "output_type": "stream",
     "text": [
      "N=2759, lambda = 6334.42, V_0 = (-0.418 +- 0.024) В\n",
      "2882\n"
     ]
    },
    {
     "name": "stderr",
     "output_type": "stream",
     "text": [
      "/tmp/ipykernel_32113/1015905925.py:27: FutureWarning: Calling float on a single element Series is deprecated and will raise a TypeError in the future. Use float(ser.iloc[0]) instead\n",
      "  V_0 = - float(res['b'] / res['a'])\n"
     ]
    },
    {
     "data": {
      "text/html": [
       "<div>\n",
       "<style scoped>\n",
       "    .dataframe tbody tr th:only-of-type {\n",
       "        vertical-align: middle;\n",
       "    }\n",
       "\n",
       "    .dataframe tbody tr th {\n",
       "        vertical-align: top;\n",
       "    }\n",
       "\n",
       "    .dataframe thead th {\n",
       "        text-align: right;\n",
       "    }\n",
       "</style>\n",
       "<table border=\"1\" class=\"dataframe\">\n",
       "  <thead>\n",
       "    <tr style=\"text-align: right;\">\n",
       "      <th></th>\n",
       "      <th>&lt;x&gt;</th>\n",
       "      <th>sx</th>\n",
       "      <th>&lt;y&gt;</th>\n",
       "      <th>sy</th>\n",
       "      <th>rxy</th>\n",
       "      <th>a</th>\n",
       "      <th>da</th>\n",
       "      <th>b</th>\n",
       "      <th>db</th>\n",
       "    </tr>\n",
       "  </thead>\n",
       "  <tbody>\n",
       "    <tr>\n",
       "      <th>0</th>\n",
       "      <td>0.027273</td>\n",
       "      <td>0.039256</td>\n",
       "      <td>0.246763</td>\n",
       "      <td>0.018926</td>\n",
       "      <td>0.026887</td>\n",
       "      <td>0.684911</td>\n",
       "      <td>0.038029</td>\n",
       "      <td>0.228084</td>\n",
       "      <td>0.007606</td>\n",
       "    </tr>\n",
       "  </tbody>\n",
       "</table>\n",
       "</div>"
      ],
      "text/plain": [
       "        <x>        sx       <y>        sy       rxy         a        da  \\\n",
       "0  0.027273  0.039256  0.246763  0.018926  0.026887  0.684911  0.038029   \n",
       "\n",
       "          b        db  \n",
       "0  0.228084  0.007606  "
      ]
     },
     "metadata": {},
     "output_type": "display_data"
    },
    {
     "name": "stdout",
     "output_type": "stream",
     "text": [
      "N=2882, lambda = 6678.28, V_0 = (-0.333 +- 0.022) В\n",
      "2824\n"
     ]
    },
    {
     "name": "stderr",
     "output_type": "stream",
     "text": [
      "/tmp/ipykernel_32113/1015905925.py:27: FutureWarning: Calling float on a single element Series is deprecated and will raise a TypeError in the future. Use float(ser.iloc[0]) instead\n",
      "  V_0 = - float(res['b'] / res['a'])\n"
     ]
    },
    {
     "data": {
      "text/html": [
       "<div>\n",
       "<style scoped>\n",
       "    .dataframe tbody tr th:only-of-type {\n",
       "        vertical-align: middle;\n",
       "    }\n",
       "\n",
       "    .dataframe tbody tr th {\n",
       "        vertical-align: top;\n",
       "    }\n",
       "\n",
       "    .dataframe thead th {\n",
       "        text-align: right;\n",
       "    }\n",
       "</style>\n",
       "<table border=\"1\" class=\"dataframe\">\n",
       "  <thead>\n",
       "    <tr style=\"text-align: right;\">\n",
       "      <th></th>\n",
       "      <th>&lt;x&gt;</th>\n",
       "      <th>sx</th>\n",
       "      <th>&lt;y&gt;</th>\n",
       "      <th>sy</th>\n",
       "      <th>rxy</th>\n",
       "      <th>a</th>\n",
       "      <th>da</th>\n",
       "      <th>b</th>\n",
       "      <th>db</th>\n",
       "    </tr>\n",
       "  </thead>\n",
       "  <tbody>\n",
       "    <tr>\n",
       "      <th>0</th>\n",
       "      <td>-0.036364</td>\n",
       "      <td>0.032314</td>\n",
       "      <td>0.231177</td>\n",
       "      <td>0.016103</td>\n",
       "      <td>0.022565</td>\n",
       "      <td>0.698316</td>\n",
       "      <td>0.03444</td>\n",
       "      <td>0.25657</td>\n",
       "      <td>0.006316</td>\n",
       "    </tr>\n",
       "  </tbody>\n",
       "</table>\n",
       "</div>"
      ],
      "text/plain": [
       "        <x>        sx       <y>        sy       rxy         a       da  \\\n",
       "0 -0.036364  0.032314  0.231177  0.016103  0.022565  0.698316  0.03444   \n",
       "\n",
       "         b        db  \n",
       "0  0.25657  0.006316  "
      ]
     },
     "metadata": {},
     "output_type": "display_data"
    },
    {
     "name": "stdout",
     "output_type": "stream",
     "text": [
      "N=2824, lambda = 6506.53, V_0 = (-0.367 +- 0.020) В\n",
      "2992\n"
     ]
    },
    {
     "name": "stderr",
     "output_type": "stream",
     "text": [
      "/tmp/ipykernel_32113/1015905925.py:27: FutureWarning: Calling float on a single element Series is deprecated and will raise a TypeError in the future. Use float(ser.iloc[0]) instead\n",
      "  V_0 = - float(res['b'] / res['a'])\n"
     ]
    },
    {
     "data": {
      "text/html": [
       "<div>\n",
       "<style scoped>\n",
       "    .dataframe tbody tr th:only-of-type {\n",
       "        vertical-align: middle;\n",
       "    }\n",
       "\n",
       "    .dataframe tbody tr th {\n",
       "        vertical-align: top;\n",
       "    }\n",
       "\n",
       "    .dataframe thead th {\n",
       "        text-align: right;\n",
       "    }\n",
       "</style>\n",
       "<table border=\"1\" class=\"dataframe\">\n",
       "  <thead>\n",
       "    <tr style=\"text-align: right;\">\n",
       "      <th></th>\n",
       "      <th>&lt;x&gt;</th>\n",
       "      <th>sx</th>\n",
       "      <th>&lt;y&gt;</th>\n",
       "      <th>sy</th>\n",
       "      <th>rxy</th>\n",
       "      <th>a</th>\n",
       "      <th>da</th>\n",
       "      <th>b</th>\n",
       "      <th>db</th>\n",
       "    </tr>\n",
       "  </thead>\n",
       "  <tbody>\n",
       "    <tr>\n",
       "      <th>0</th>\n",
       "      <td>0.158333</td>\n",
       "      <td>0.025347</td>\n",
       "      <td>0.277676</td>\n",
       "      <td>0.010396</td>\n",
       "      <td>0.016191</td>\n",
       "      <td>0.638782</td>\n",
       "      <td>0.02297</td>\n",
       "      <td>0.176535</td>\n",
       "      <td>0.005158</td>\n",
       "    </tr>\n",
       "  </tbody>\n",
       "</table>\n",
       "</div>"
      ],
      "text/plain": [
       "        <x>        sx       <y>        sy       rxy         a       da  \\\n",
       "0  0.158333  0.025347  0.277676  0.010396  0.016191  0.638782  0.02297   \n",
       "\n",
       "          b        db  \n",
       "0  0.176535  0.005158  "
      ]
     },
     "metadata": {},
     "output_type": "display_data"
    },
    {
     "name": "stdout",
     "output_type": "stream",
     "text": [
      "N=2992, lambda = 7032.41, V_0 = (-0.276 +- 0.013) В\n"
     ]
    },
    {
     "name": "stderr",
     "output_type": "stream",
     "text": [
      "/tmp/ipykernel_32113/1015905925.py:27: FutureWarning: Calling float on a single element Series is deprecated and will raise a TypeError in the future. Use float(ser.iloc[0]) instead\n",
      "  V_0 = - float(res['b'] / res['a'])\n"
     ]
    },
    {
     "data": {
      "image/png": "[encoded data removed]",
      "text/plain": [
       "<Figure size 640x480 with 1 Axes>"
      ]
     },
     "metadata": {},
     "output_type": "display_data"
    }
   ],
   "source": [
    "output = []\n",
    "def process(cols, begin, end, begin_interp, end_interp, x_min):\n",
    "    data = mipt.read_excel('data/5.1.1-stripped.xlsx', usecols=(cols), header=(0, 1)).dropna()\n",
    "    data = data.iloc[::-1]\n",
    "    # Extract N from header\n",
    "    m = re.compile(r\"N=(\\d+)\")\n",
    "    result = m.match(data.columns[0][0])\n",
    "    assert result != None, \"Wrong header syntax\"\n",
    "    N = int(result.group(1))\n",
    "    print(N)\n",
    "    # Remove top header\n",
    "    data = data[f'N={N}']\n",
    "    U_v = np.array(list(data['U_close'][begin:end]))\n",
    "    U_i = np.array(list(data['U_i'    ][begin:end]))\n",
    "\n",
    "    # Evaluate wavelen according to calibration\n",
    "\n",
    "    wavelen = float(N2wavelen(N))\n",
    "\n",
    "    sig_sUi = sig_U_i[N][begin:end] / (2 * np.sqrt(U_i))\n",
    "    \n",
    "    U_v_clean, U_i_clean, equ = mipt.plot(U_v, np.sqrt(U_i), begin=begin_interp, end=end_interp, x_min=x_min, xerr=sig_U_close[N][begin:end],\n",
    "                                          yerr=sig_sUi, label=\"{:.0f} $\\AA$\".format(wavelen))\n",
    "    \n",
    "    res = mipt.mnk(U_v_clean, U_i_clean).data\n",
    "    display(res)\n",
    "    V_0 = - float(res['b'] / res['a'])\n",
    "    V_0_err = abs(V_0) * float(* np.sqrt((res['db']/res['b'])**2 + (res['da']/res['a'])**2))\n",
    "\n",
    "    output.append([wavelen, V_0, V_0_err])\n",
    "    \n",
    "    print(\"N={}, lambda = {}, V_0 = ({:0.3f} +- {:0.3f}) В\".format(N, wavelen, V_0, V_0_err))\n",
    "\n",
    "process(('P', 'Q'), 0, 13, 0, 10, -0.54)\n",
    "process(('J', 'K'), 0, 14, 0, 10, -0.4)\n",
    "process(('M', 'N'), 0, 15, 0, 10, -0.47)\n",
    "process(('G', 'H'), 1, 14, 1, 6, -0.5)\n",
    "\n",
    "plt.xlabel(r'$V$, В')\n",
    "plt.ylabel(r'$\\sqrt{U_I}$, $\\sqrt{\\mathrm{В}}$')\n",
    "plt.legend()\n",
    "#plt.grid(True)\n",
    "plt.savefig('gen/iv.png')\n"
   ]
  },
  {
   "cell_type": "code",
   "execution_count": null,
   "id": "55d56027",
   "metadata": {},
   "outputs": [],
   "source": []
  },
  {
   "cell_type": "code",
   "execution_count": 57,
   "id": "40533f5a",
   "metadata": {
    "scrolled": false
   },
   "outputs": [
    {
     "name": "stdout",
     "output_type": "stream",
     "text": [
      "2287\n"
     ]
    },
    {
     "data": {
      "text/html": [
       "<div>\n",
       "<style scoped>\n",
       "    .dataframe tbody tr th:only-of-type {\n",
       "        vertical-align: middle;\n",
       "    }\n",
       "\n",
       "    .dataframe tbody tr th {\n",
       "        vertical-align: top;\n",
       "    }\n",
       "\n",
       "    .dataframe thead th {\n",
       "        text-align: right;\n",
       "    }\n",
       "</style>\n",
       "<table border=\"1\" class=\"dataframe\">\n",
       "  <thead>\n",
       "    <tr style=\"text-align: right;\">\n",
       "      <th></th>\n",
       "      <th>&lt;x&gt;</th>\n",
       "      <th>sx</th>\n",
       "      <th>&lt;y&gt;</th>\n",
       "      <th>sy</th>\n",
       "      <th>rxy</th>\n",
       "      <th>a</th>\n",
       "      <th>da</th>\n",
       "      <th>b</th>\n",
       "      <th>db</th>\n",
       "    </tr>\n",
       "  </thead>\n",
       "  <tbody>\n",
       "    <tr>\n",
       "      <th>0</th>\n",
       "      <td>0.1</td>\n",
       "      <td>0.1</td>\n",
       "      <td>0.293568</td>\n",
       "      <td>0.011182</td>\n",
       "      <td>0.033135</td>\n",
       "      <td>0.331351</td>\n",
       "      <td>0.014988</td>\n",
       "      <td>0.260433</td>\n",
       "      <td>0.004971</td>\n",
       "    </tr>\n",
       "  </tbody>\n",
       "</table>\n",
       "</div>"
      ],
      "text/plain": [
       "   <x>   sx       <y>        sy       rxy         a        da         b  \\\n",
       "0  0.1  0.1  0.293568  0.011182  0.033135  0.331351  0.014988  0.260433   \n",
       "\n",
       "         db  \n",
       "0  0.004971  "
      ]
     },
     "metadata": {},
     "output_type": "display_data"
    },
    {
     "name": "stdout",
     "output_type": "stream",
     "text": [
      "N=2287, lambda = 5400.56, V_0 = (-0.786 +- 0.039) В\n",
      "2592\n"
     ]
    },
    {
     "name": "stderr",
     "output_type": "stream",
     "text": [
      "/tmp/ipykernel_32113/1015905925.py:27: FutureWarning: Calling float on a single element Series is deprecated and will raise a TypeError in the future. Use float(ser.iloc[0]) instead\n",
      "  V_0 = - float(res['b'] / res['a'])\n"
     ]
    },
    {
     "data": {
      "text/html": [
       "<div>\n",
       "<style scoped>\n",
       "    .dataframe tbody tr th:only-of-type {\n",
       "        vertical-align: middle;\n",
       "    }\n",
       "\n",
       "    .dataframe tbody tr th {\n",
       "        vertical-align: top;\n",
       "    }\n",
       "\n",
       "    .dataframe thead th {\n",
       "        text-align: right;\n",
       "    }\n",
       "</style>\n",
       "<table border=\"1\" class=\"dataframe\">\n",
       "  <thead>\n",
       "    <tr style=\"text-align: right;\">\n",
       "      <th></th>\n",
       "      <th>&lt;x&gt;</th>\n",
       "      <th>sx</th>\n",
       "      <th>&lt;y&gt;</th>\n",
       "      <th>sy</th>\n",
       "      <th>rxy</th>\n",
       "      <th>a</th>\n",
       "      <th>da</th>\n",
       "      <th>b</th>\n",
       "      <th>db</th>\n",
       "    </tr>\n",
       "  </thead>\n",
       "  <tbody>\n",
       "    <tr>\n",
       "      <th>0</th>\n",
       "      <td>-0.090769</td>\n",
       "      <td>0.068099</td>\n",
       "      <td>0.240131</td>\n",
       "      <td>0.020337</td>\n",
       "      <td>0.036764</td>\n",
       "      <td>0.539864</td>\n",
       "      <td>0.025558</td>\n",
       "      <td>0.289134</td>\n",
       "      <td>0.007061</td>\n",
       "    </tr>\n",
       "  </tbody>\n",
       "</table>\n",
       "</div>"
      ],
      "text/plain": [
       "        <x>        sx       <y>        sy       rxy         a        da  \\\n",
       "0 -0.090769  0.068099  0.240131  0.020337  0.036764  0.539864  0.025558   \n",
       "\n",
       "          b        db  \n",
       "0  0.289134  0.007061  "
      ]
     },
     "metadata": {},
     "output_type": "display_data"
    },
    {
     "name": "stdout",
     "output_type": "stream",
     "text": [
      "N=2592, lambda = 5944.83, V_0 = (-0.536 +- 0.029) В\n",
      "2651\n"
     ]
    },
    {
     "name": "stderr",
     "output_type": "stream",
     "text": [
      "/tmp/ipykernel_32113/1015905925.py:27: FutureWarning: Calling float on a single element Series is deprecated and will raise a TypeError in the future. Use float(ser.iloc[0]) instead\n",
      "  V_0 = - float(res['b'] / res['a'])\n"
     ]
    },
    {
     "data": {
      "text/html": [
       "<div>\n",
       "<style scoped>\n",
       "    .dataframe tbody tr th:only-of-type {\n",
       "        vertical-align: middle;\n",
       "    }\n",
       "\n",
       "    .dataframe tbody tr th {\n",
       "        vertical-align: top;\n",
       "    }\n",
       "\n",
       "    .dataframe thead th {\n",
       "        text-align: right;\n",
       "    }\n",
       "</style>\n",
       "<table border=\"1\" class=\"dataframe\">\n",
       "  <thead>\n",
       "    <tr style=\"text-align: right;\">\n",
       "      <th></th>\n",
       "      <th>&lt;x&gt;</th>\n",
       "      <th>sx</th>\n",
       "      <th>&lt;y&gt;</th>\n",
       "      <th>sy</th>\n",
       "      <th>rxy</th>\n",
       "      <th>a</th>\n",
       "      <th>da</th>\n",
       "      <th>b</th>\n",
       "      <th>db</th>\n",
       "    </tr>\n",
       "  </thead>\n",
       "  <tbody>\n",
       "    <tr>\n",
       "      <th>0</th>\n",
       "      <td>0.024286</td>\n",
       "      <td>0.101239</td>\n",
       "      <td>0.2906</td>\n",
       "      <td>0.027552</td>\n",
       "      <td>0.052205</td>\n",
       "      <td>0.515661</td>\n",
       "      <td>0.022799</td>\n",
       "      <td>0.278077</td>\n",
       "      <td>0.007275</td>\n",
       "    </tr>\n",
       "  </tbody>\n",
       "</table>\n",
       "</div>"
      ],
      "text/plain": [
       "        <x>        sx     <y>        sy       rxy         a        da  \\\n",
       "0  0.024286  0.101239  0.2906  0.027552  0.052205  0.515661  0.022799   \n",
       "\n",
       "          b        db  \n",
       "0  0.278077  0.007275  "
      ]
     },
     "metadata": {},
     "output_type": "display_data"
    },
    {
     "name": "stdout",
     "output_type": "stream",
     "text": [
      "N=2651, lambda = 6074.34, V_0 = (-0.539 +- 0.028) В\n",
      "2712\n"
     ]
    },
    {
     "name": "stderr",
     "output_type": "stream",
     "text": [
      "/tmp/ipykernel_32113/1015905925.py:27: FutureWarning: Calling float on a single element Series is deprecated and will raise a TypeError in the future. Use float(ser.iloc[0]) instead\n",
      "  V_0 = - float(res['b'] / res['a'])\n"
     ]
    },
    {
     "data": {
      "text/html": [
       "<div>\n",
       "<style scoped>\n",
       "    .dataframe tbody tr th:only-of-type {\n",
       "        vertical-align: middle;\n",
       "    }\n",
       "\n",
       "    .dataframe tbody tr th {\n",
       "        vertical-align: top;\n",
       "    }\n",
       "\n",
       "    .dataframe thead th {\n",
       "        text-align: right;\n",
       "    }\n",
       "</style>\n",
       "<table border=\"1\" class=\"dataframe\">\n",
       "  <thead>\n",
       "    <tr style=\"text-align: right;\">\n",
       "      <th></th>\n",
       "      <th>&lt;x&gt;</th>\n",
       "      <th>sx</th>\n",
       "      <th>&lt;y&gt;</th>\n",
       "      <th>sy</th>\n",
       "      <th>rxy</th>\n",
       "      <th>a</th>\n",
       "      <th>da</th>\n",
       "      <th>b</th>\n",
       "      <th>db</th>\n",
       "    </tr>\n",
       "  </thead>\n",
       "  <tbody>\n",
       "    <tr>\n",
       "      <th>0</th>\n",
       "      <td>-0.102273</td>\n",
       "      <td>0.046643</td>\n",
       "      <td>0.21843</td>\n",
       "      <td>0.019107</td>\n",
       "      <td>0.029574</td>\n",
       "      <td>0.634062</td>\n",
       "      <td>0.029072</td>\n",
       "      <td>0.283277</td>\n",
       "      <td>0.006947</td>\n",
       "    </tr>\n",
       "  </tbody>\n",
       "</table>\n",
       "</div>"
      ],
      "text/plain": [
       "        <x>        sx      <y>        sy       rxy         a        da  \\\n",
       "0 -0.102273  0.046643  0.21843  0.019107  0.029574  0.634062  0.029072   \n",
       "\n",
       "          b        db  \n",
       "0  0.283277  0.006947  "
      ]
     },
     "metadata": {},
     "output_type": "display_data"
    },
    {
     "name": "stdout",
     "output_type": "stream",
     "text": [
      "N=2712, lambda = 6217.28, V_0 = (-0.447 +- 0.023) В\n"
     ]
    },
    {
     "name": "stderr",
     "output_type": "stream",
     "text": [
      "/tmp/ipykernel_32113/1015905925.py:27: FutureWarning: Calling float on a single element Series is deprecated and will raise a TypeError in the future. Use float(ser.iloc[0]) instead\n",
      "  V_0 = - float(res['b'] / res['a'])\n"
     ]
    },
    {
     "data": {
      "image/png": "[encoded data removed]",
      "text/plain": [
       "<Figure size 640x480 with 1 Axes>"
      ]
     },
     "metadata": {},
     "output_type": "display_data"
    }
   ],
   "source": [
    "\n",
    "\n",
    "process(('D', 'E'), 1, 14, 0, 10, -0.8)\n",
    "process(('Y', 'Z'), 0, 15, 0, 12, -0.63)\n",
    "process(('V', 'W'), 0, 15, 0, 13, -0.63)\n",
    "process(('S', 'T'), 0, 15, 0, 10, -0.63)\n",
    "\n",
    "plt.xlabel(r'$V$, В')\n",
    "plt.ylabel(r'$\\sqrt{U_I}$, $\\sqrt{\\mathrm{В}}$')\n",
    "plt.legend()\n",
    "#plt.grid(True)\n",
    "plt.savefig('gen/iv2.png')"
   ]
  },
  {
   "cell_type": "code",
   "execution_count": 49,
   "id": "b5c1e888",
   "metadata": {},
   "outputs": [
    {
     "data": {
      "text/plain": [
       "[[6334.42, -0.41762373989154067, 0.024231710945449854],\n",
       " [6678.28, -0.3330122704054367, 0.021568318705126644],\n",
       " [6506.53, -0.3674127289936253, 0.020252299779044705],\n",
       " [7032.41, -0.27636240492228287, 0.012804298367952485],\n",
       " [5400.56, -0.7859712295489698, 0.03858736884158641],\n",
       " [5944.83, -0.535568242119411, 0.028529497783429843],\n",
       " [6074.34, -0.5392631868947207, 0.02770460743511058],\n",
       " [6217.28, -0.4467654886281772, 0.02323049250301083]]"
      ]
     },
     "execution_count": 49,
     "metadata": {},
     "output_type": "execute_result"
    }
   ],
   "source": [
    "output"
   ]
  },
  {
   "cell_type": "markdown",
   "id": "751acf14",
   "metadata": {},
   "source": [
    "### V_0(omega)"
   ]
  },
  {
   "cell_type": "code",
   "execution_count": 60,
   "id": "e15785e5",
   "metadata": {
    "scrolled": true
   },
   "outputs": [
    {
     "data": {
      "text/html": [
       "<div>\n",
       "<style scoped>\n",
       "    .dataframe tbody tr th:only-of-type {\n",
       "        vertical-align: middle;\n",
       "    }\n",
       "\n",
       "    .dataframe tbody tr th {\n",
       "        vertical-align: top;\n",
       "    }\n",
       "\n",
       "    .dataframe thead th {\n",
       "        text-align: right;\n",
       "    }\n",
       "</style>\n",
       "<table border=\"1\" class=\"dataframe\">\n",
       "  <thead>\n",
       "    <tr style=\"text-align: right;\">\n",
       "      <th></th>\n",
       "      <th>&lt;x&gt;</th>\n",
       "      <th>sx</th>\n",
       "      <th>&lt;y&gt;</th>\n",
       "      <th>sy</th>\n",
       "      <th>rxy</th>\n",
       "      <th>a</th>\n",
       "      <th>da</th>\n",
       "      <th>b</th>\n",
       "      <th>db</th>\n",
       "    </tr>\n",
       "  </thead>\n",
       "  <tbody>\n",
       "    <tr>\n",
       "      <th>0</th>\n",
       "      <td>3.021456e+15</td>\n",
       "      <td>5.279516e+28</td>\n",
       "      <td>0.462747</td>\n",
       "      <td>0.022323</td>\n",
       "      <td>3.397542e+13</td>\n",
       "      <td>6.435330e-16</td>\n",
       "      <td>3.804280e-17</td>\n",
       "      <td>-1.481659</td>\n",
       "      <td>0.115277</td>\n",
       "    </tr>\n",
       "  </tbody>\n",
       "</table>\n",
       "</div>"
      ],
      "text/plain": [
       "            <x>            sx       <y>        sy           rxy             a  \\\n",
       "0  3.021456e+15  5.279516e+28  0.462747  0.022323  3.397542e+13  6.435330e-16   \n",
       "\n",
       "             da         b        db  \n",
       "0  3.804280e-17 -1.481659  0.115277  "
      ]
     },
     "metadata": {},
     "output_type": "display_data"
    },
    {
     "name": "stdout",
     "output_type": "stream",
     "text": [
      "W ~ 1.48 эВ, hbar = (1.03 +- 0.06)e-34 Дж*с\n"
     ]
    },
    {
     "name": "stderr",
     "output_type": "stream",
     "text": [
      "/tmp/ipykernel_32113/529612908.py:19: FutureWarning: Calling float on a single element Series is deprecated and will raise a TypeError in the future. Use float(ser.iloc[0]) instead\n",
      "  hbar = float(mnk['a']) * consts.e\n",
      "/tmp/ipykernel_32113/529612908.py:20: FutureWarning: Calling float on a single element Series is deprecated and will raise a TypeError in the future. Use float(ser.iloc[0]) instead\n",
      "  hbar_err = float(mnk['da']/mnk['a']) * hbar\n",
      "/tmp/ipykernel_32113/529612908.py:21: FutureWarning: Calling float on a single element Series is deprecated and will raise a TypeError in the future. Use float(ser.iloc[0]) instead\n",
      "  W = - float(mnk['b']) # эВ\n"
     ]
    },
    {
     "data": {
      "image/png": "[encoded data removed]",
      "text/plain": [
       "<Figure size 640x480 with 1 Axes>"
      ]
     },
     "metadata": {},
     "output_type": "display_data"
    }
   ],
   "source": [
    "# Unzip output\n",
    "wavelen, V_0, V_0_err = [np.array(i) for i in zip(*output)]\n",
    "\n",
    "omega = (2 * np.pi * consts.c) / (wavelen / 1.0e10)\n",
    "\n",
    "# 2 * sigma\n",
    "# sigma = 2\n",
    "# 2000 - мин знач отсчётов.\n",
    "wavelen_clean, V_0_clean, _ = mipt.plot(omega, abs(V_0), yerr=V_0_err, xerr=4/2000*omega)\n",
    "\n",
    "plt.xlabel(r\"$\\omega$, Гц\")\n",
    "plt.ylabel(r\"$V_0$, В\")\n",
    "#plt.grid(True)\n",
    "plt.savefig('gen/v0_omega.png')\n",
    "\n",
    "mnk = mipt.mnk(wavelen_clean, V_0_clean).data\n",
    "display(mnk)\n",
    "\n",
    "hbar = float(mnk['a']) * consts.e\n",
    "hbar_err = float(mnk['da']/mnk['a']) * hbar\n",
    "W = - float(mnk['b']) # эВ\n",
    "\n",
    "print(\"W ~ {:.2f} эВ, hbar = ({:.2f} +- {:.2f})e-34 Дж*с\".format(W, hbar*1e34, hbar_err*1e34))"
   ]
  },
  {
   "cell_type": "code",
   "execution_count": 65,
   "id": "0aa8b006",
   "metadata": {},
   "outputs": [
    {
     "data": {
      "image/png": "[encoded data removed]",
      "text/plain": [
       "<Figure size 640x480 with 1 Axes>"
      ]
     },
     "metadata": {},
     "output_type": "display_data"
    }
   ],
   "source": [
    "\n",
    "def interp(x, y):\n",
    "    return sp.interpolate.interp1d(x, y, kind='cubic')\n",
    "\n",
    "def process(cols, begin, end, begin_interp, end_interp, x_min, color):\n",
    "    data = mipt.read_excel('data/5.1.1-stripped.xlsx', usecols=(cols), header=(0, 1))\n",
    "    # Extract N from header\n",
    "    \n",
    "    m = re.compile(r\"N=(\\d+)\")\n",
    "    result = m.match(data.columns[0][0])\n",
    "    assert result != None, \"Wrong header syntax\"\n",
    "    N = int(result.group(1))\n",
    "\n",
    "    # Remove top header\n",
    "    data = data[f'N={N}']\n",
    "    U_v = list(data['U_close'][begin:end])\n",
    "    U_i = list(data['U_i'    ][begin:end])\n",
    "\n",
    "    # Evaluate wavelen according to calibration\n",
    "    wavelen = float(N2wavelen(N))\n",
    "    \n",
    "    U_v_clean, U_i_clean, equ = mipt.plot(U_v, U_i, begin=begin_interp, end=end_interp, x_min=x_min, #color= color,\n",
    "                                          label=\"{:.0f} $\\AA$\".format(wavelen), func=interp)\n",
    "\n",
    "process(('G', 'H'), 0, None, 0, None, None, 'green')\n",
    "process(('J', 'K'), 0, None, 0, None, None, 'orange')\n",
    "process(('M', 'N'), 0, None, 0, None, None, 'blue')\n",
    "process(('P', 'Q'), 0, None, 0, None, None, 'black')\n",
    "process(('S', 'T'), 0, None, 0, None, None, 'brown')\n",
    "process(('V', 'W'), 0, None, 0, None, None, 'magenta')\n",
    "process(('Y', 'Z'), 0, None, 0, None, None, 'lime')\n",
    "process(('D', 'E'), 0, None, 0, None, None, 'red')\n",
    "\n",
    "plt.xlabel(r'$V$, В')\n",
    "plt.ylabel(r'$U_I$, $В$')\n",
    "\n",
    "plt.legend()\n",
    "plt.savefig('gen/iv_full.png')\n",
    "plt.show()\n",
    "#plt.grid(True)"
   ]
  },
  {
   "cell_type": "code",
   "execution_count": null,
   "id": "85000362",
   "metadata": {},
   "outputs": [],
   "source": []
  },
  {
   "cell_type": "code",
   "execution_count": null,
   "id": "d1940fa3",
   "metadata": {},
   "outputs": [],
   "source": []
  }
 ],
 "metadata": {
  "kernelspec": {
   "display_name": "Python 3 (ipykernel)",
   "language": "python",
   "name": "python3"
  },
  "language_info": {
   "codemirror_mode": {
    "name": "ipython",
    "version": 3
   },
   "file_extension": ".py",
   "mimetype": "text/x-python",
   "name": "python",
   "nbconvert_exporter": "python",
   "pygments_lexer": "ipython3",
   "version": "3.10.12"
  }
 },
 "nbformat": 4,
 "nbformat_minor": 5
}
