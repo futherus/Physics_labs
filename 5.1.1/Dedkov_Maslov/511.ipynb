{
 "cells": [
  {
   "cell_type": "code",
   "execution_count": 1,
   "id": "8ca882d1",
   "metadata": {},
   "outputs": [],
   "source": [
    "import numpy as np\n",
    "import pandas as pd\n",
    "import matplotlib.pyplot as plt\n",
    "import math\n",
    "import scipy as sp\n",
    "import scipy.optimize as op\n",
    "from scipy.interpolate import UnivariateSpline\n",
    "import copy\n",
    "import re\n",
    "\n",
    "# Adding library directory to python search path\n",
    "import os\n",
    "import sys\n",
    "import git\n",
    "repo = git.Repo('.', search_parent_directories=True)\n",
    "library_dir = repo.working_tree_dir + '/lib'\n",
    "sys.path.insert(0, library_dir)\n",
    "\n",
    "import miptlib as mipt\n",
    "\n",
    "# Create directory for generated .tex and .pdf\n",
    "if not os.path.exists('gen'):\n",
    "    os.mkdir('gen')"
   ]
  },
  {
   "cell_type": "code",
   "execution_count": 2,
   "id": "39f29360",
   "metadata": {},
   "outputs": [],
   "source": [
    "class consts:\n",
    "    pi = 3.141592\n",
    "    c = 3e8\n",
    "    e = 1.6e-19\n",
    "\n",
    "class setup:\n",
    "    dummy = 0"
   ]
  },
  {
   "cell_type": "markdown",
   "id": "76d539a1",
   "metadata": {},
   "source": [
    "### Первичные экспериментальные данные"
   ]
  },
  {
   "cell_type": "code",
   "execution_count": null,
   "id": "bed1eb6c",
   "metadata": {},
   "outputs": [],
   "source": []
  },
  {
   "cell_type": "markdown",
   "id": "1904da83",
   "metadata": {},
   "source": [
    "### Аппаратная функция монохроматора"
   ]
  },
  {
   "cell_type": "code",
   "execution_count": 3,
   "id": "de8dd165",
   "metadata": {},
   "outputs": [
    {
     "data": {
      "text/html": [
       "<div>\n",
       "<style scoped>\n",
       "    .dataframe tbody tr th:only-of-type {\n",
       "        vertical-align: middle;\n",
       "    }\n",
       "\n",
       "    .dataframe tbody tr th {\n",
       "        vertical-align: top;\n",
       "    }\n",
       "\n",
       "    .dataframe thead th {\n",
       "        text-align: right;\n",
       "    }\n",
       "</style>\n",
       "<table border=\"1\" class=\"dataframe\">\n",
       "  <thead>\n",
       "    <tr style=\"text-align: right;\">\n",
       "      <th></th>\n",
       "      <th>lambda</th>\n",
       "      <th>N</th>\n",
       "    </tr>\n",
       "  </thead>\n",
       "  <tbody>\n",
       "    <tr>\n",
       "      <th>0</th>\n",
       "      <td>7032.41</td>\n",
       "      <td>2992.0</td>\n",
       "    </tr>\n",
       "    <tr>\n",
       "      <th>1</th>\n",
       "      <td>6929.47</td>\n",
       "      <td>2966.0</td>\n",
       "    </tr>\n",
       "    <tr>\n",
       "      <th>2</th>\n",
       "      <td>6717.04</td>\n",
       "      <td>2895.0</td>\n",
       "    </tr>\n",
       "    <tr>\n",
       "      <th>3</th>\n",
       "      <td>6678.28</td>\n",
       "      <td>2882.0</td>\n",
       "    </tr>\n",
       "    <tr>\n",
       "      <th>4</th>\n",
       "      <td>6598.95</td>\n",
       "      <td>2855.0</td>\n",
       "    </tr>\n",
       "    <tr>\n",
       "      <th>5</th>\n",
       "      <td>6532.88</td>\n",
       "      <td>2832.0</td>\n",
       "    </tr>\n",
       "    <tr>\n",
       "      <th>6</th>\n",
       "      <td>6506.53</td>\n",
       "      <td>2824.0</td>\n",
       "    </tr>\n",
       "    <tr>\n",
       "      <th>7</th>\n",
       "      <td>6402.24</td>\n",
       "      <td>2785.0</td>\n",
       "    </tr>\n",
       "    <tr>\n",
       "      <th>8</th>\n",
       "      <td>6382.99</td>\n",
       "      <td>2778.0</td>\n",
       "    </tr>\n",
       "    <tr>\n",
       "      <th>9</th>\n",
       "      <td>6334.42</td>\n",
       "      <td>2759.0</td>\n",
       "    </tr>\n",
       "    <tr>\n",
       "      <th>10</th>\n",
       "      <td>6304.79</td>\n",
       "      <td>2748.0</td>\n",
       "    </tr>\n",
       "    <tr>\n",
       "      <th>11</th>\n",
       "      <td>6266.49</td>\n",
       "      <td>2732.0</td>\n",
       "    </tr>\n",
       "    <tr>\n",
       "      <th>12</th>\n",
       "      <td>6217.28</td>\n",
       "      <td>2712.0</td>\n",
       "    </tr>\n",
       "    <tr>\n",
       "      <th>13</th>\n",
       "      <td>6163.59</td>\n",
       "      <td>2690.0</td>\n",
       "    </tr>\n",
       "    <tr>\n",
       "      <th>14</th>\n",
       "      <td>6143.06</td>\n",
       "      <td>2681.0</td>\n",
       "    </tr>\n",
       "    <tr>\n",
       "      <th>15</th>\n",
       "      <td>6096.14</td>\n",
       "      <td>2662.0</td>\n",
       "    </tr>\n",
       "    <tr>\n",
       "      <th>16</th>\n",
       "      <td>6074.34</td>\n",
       "      <td>2651.0</td>\n",
       "    </tr>\n",
       "    <tr>\n",
       "      <th>17</th>\n",
       "      <td>6030.00</td>\n",
       "      <td>2632.0</td>\n",
       "    </tr>\n",
       "    <tr>\n",
       "      <th>18</th>\n",
       "      <td>5975.53</td>\n",
       "      <td>2607.0</td>\n",
       "    </tr>\n",
       "    <tr>\n",
       "      <th>19</th>\n",
       "      <td>5944.83</td>\n",
       "      <td>2592.0</td>\n",
       "    </tr>\n",
       "    <tr>\n",
       "      <th>20</th>\n",
       "      <td>5881.89</td>\n",
       "      <td>2562.0</td>\n",
       "    </tr>\n",
       "    <tr>\n",
       "      <th>21</th>\n",
       "      <td>5852.49</td>\n",
       "      <td>2546.0</td>\n",
       "    </tr>\n",
       "    <tr>\n",
       "      <th>22</th>\n",
       "      <td>5400.56</td>\n",
       "      <td>2287.0</td>\n",
       "    </tr>\n",
       "    <tr>\n",
       "      <th>23</th>\n",
       "      <td>NaN</td>\n",
       "      <td>NaN</td>\n",
       "    </tr>\n",
       "    <tr>\n",
       "      <th>24</th>\n",
       "      <td>NaN</td>\n",
       "      <td>NaN</td>\n",
       "    </tr>\n",
       "    <tr>\n",
       "      <th>25</th>\n",
       "      <td>NaN</td>\n",
       "      <td>NaN</td>\n",
       "    </tr>\n",
       "    <tr>\n",
       "      <th>26</th>\n",
       "      <td>NaN</td>\n",
       "      <td>NaN</td>\n",
       "    </tr>\n",
       "  </tbody>\n",
       "</table>\n",
       "</div>"
      ],
      "text/plain": [
       "     lambda       N\n",
       "0   7032.41  2992.0\n",
       "1   6929.47  2966.0\n",
       "2   6717.04  2895.0\n",
       "3   6678.28  2882.0\n",
       "4   6598.95  2855.0\n",
       "5   6532.88  2832.0\n",
       "6   6506.53  2824.0\n",
       "7   6402.24  2785.0\n",
       "8   6382.99  2778.0\n",
       "9   6334.42  2759.0\n",
       "10  6304.79  2748.0\n",
       "11  6266.49  2732.0\n",
       "12  6217.28  2712.0\n",
       "13  6163.59  2690.0\n",
       "14  6143.06  2681.0\n",
       "15  6096.14  2662.0\n",
       "16  6074.34  2651.0\n",
       "17  6030.00  2632.0\n",
       "18  5975.53  2607.0\n",
       "19  5944.83  2592.0\n",
       "20  5881.89  2562.0\n",
       "21  5852.49  2546.0\n",
       "22  5400.56  2287.0\n",
       "23      NaN     NaN\n",
       "24      NaN     NaN\n",
       "25      NaN     NaN\n",
       "26      NaN     NaN"
      ]
     },
     "execution_count": 3,
     "metadata": {},
     "output_type": "execute_result"
    }
   ],
   "source": [
    "calibration_data = mipt.read_excel('data/5.1.1-stripped.xlsx', usecols=('A', 'B'), header=(0, 1))\n",
    "calibration_data = calibration_data['Calibration']\n",
    "calibration_data"
   ]
  },
  {
   "cell_type": "code",
   "execution_count": 138,
   "id": "66092ffc",
   "metadata": {
    "scrolled": true
   },
   "outputs": [
    {
     "name": "stderr",
     "output_type": "stream",
     "text": [
      "C:\\Users\\Quark\\AppData\\Roaming\\Python\\Python310\\site-packages\\numpy\\core\\_methods.py:44: RuntimeWarning: invalid value encountered in reduce\n",
      "  return umr_minimum(a, axis, None, out, keepdims, initial, where)\n",
      "C:\\Users\\Quark\\AppData\\Roaming\\Python\\Python310\\site-packages\\numpy\\core\\_methods.py:40: RuntimeWarning: invalid value encountered in reduce\n",
      "  return umr_maximum(a, axis, None, out, keepdims, initial, where)\n"
     ]
    },
    {
     "data": {
      "text/plain": [
       "array(5400.56)"
      ]
     },
     "execution_count": 138,
     "metadata": {},
     "output_type": "execute_result"
    },
    {
     "data": {
      "image/png": "[encoded data removed]",
      "text/plain": [
       "<Figure size 432x288 with 1 Axes>"
      ]
     },
     "metadata": {
      "needs_background": "light"
     },
     "output_type": "display_data"
    }
   ],
   "source": [
    "def interp(x, y):\n",
    "    return sp.interpolate.interp1d(x, y, kind='linear')\n",
    "\n",
    "_, _, N2wavelen = mipt.plot(calibration_data['N'], calibration_data['lambda'], func=interp, xerr=10)\n",
    "\n",
    "plt.xlabel(r'N')\n",
    "plt.ylabel(r'$\\lambda, \\AA$')\n",
    "plt.savefig('gen/calibration.pdf')\n",
    "\n",
    "N2wavelen(2287)"
   ]
  },
  {
   "cell_type": "markdown",
   "id": "7ae7078a",
   "metadata": {},
   "source": [
    "### Зависимость $I(V)$"
   ]
  },
  {
   "cell_type": "code",
   "execution_count": 139,
   "id": "943beb0c",
   "metadata": {
    "scrolled": false
   },
   "outputs": [
    {
     "name": "stdout",
     "output_type": "stream",
     "text": [
      "2759\n"
     ]
    },
    {
     "data": {
      "text/html": [
       "<div>\n",
       "<style scoped>\n",
       "    .dataframe tbody tr th:only-of-type {\n",
       "        vertical-align: middle;\n",
       "    }\n",
       "\n",
       "    .dataframe tbody tr th {\n",
       "        vertical-align: top;\n",
       "    }\n",
       "\n",
       "    .dataframe thead th {\n",
       "        text-align: right;\n",
       "    }\n",
       "</style>\n",
       "<table border=\"1\" class=\"dataframe\">\n",
       "  <thead>\n",
       "    <tr style=\"text-align: right;\">\n",
       "      <th></th>\n",
       "      <th>&lt;x&gt;</th>\n",
       "      <th>sx</th>\n",
       "      <th>&lt;y&gt;</th>\n",
       "      <th>sy</th>\n",
       "      <th>rxy</th>\n",
       "      <th>a</th>\n",
       "      <th>da</th>\n",
       "      <th>b</th>\n",
       "      <th>db</th>\n",
       "    </tr>\n",
       "  </thead>\n",
       "  <tbody>\n",
       "    <tr>\n",
       "      <th>0</th>\n",
       "      <td>-0.071818</td>\n",
       "      <td>0.03876</td>\n",
       "      <td>0.228051</td>\n",
       "      <td>0.017265</td>\n",
       "      <td>0.025562</td>\n",
       "      <td>0.659478</td>\n",
       "      <td>0.0342</td>\n",
       "      <td>0.275414</td>\n",
       "      <td>0.007167</td>\n",
       "    </tr>\n",
       "  </tbody>\n",
       "</table>\n",
       "</div>"
      ],
      "text/plain": [
       "        <x>       sx       <y>        sy       rxy         a      da  \\\n",
       "0 -0.071818  0.03876  0.228051  0.017265  0.025562  0.659478  0.0342   \n",
       "\n",
       "          b        db  \n",
       "0  0.275414  0.007167  "
      ]
     },
     "metadata": {},
     "output_type": "display_data"
    },
    {
     "name": "stdout",
     "output_type": "stream",
     "text": [
      "N=2759, V_0 = (-0.418 +- 0.024) В\n",
      "2882\n"
     ]
    },
    {
     "data": {
      "text/html": [
       "<div>\n",
       "<style scoped>\n",
       "    .dataframe tbody tr th:only-of-type {\n",
       "        vertical-align: middle;\n",
       "    }\n",
       "\n",
       "    .dataframe tbody tr th {\n",
       "        vertical-align: top;\n",
       "    }\n",
       "\n",
       "    .dataframe thead th {\n",
       "        text-align: right;\n",
       "    }\n",
       "</style>\n",
       "<table border=\"1\" class=\"dataframe\">\n",
       "  <thead>\n",
       "    <tr style=\"text-align: right;\">\n",
       "      <th></th>\n",
       "      <th>&lt;x&gt;</th>\n",
       "      <th>sx</th>\n",
       "      <th>&lt;y&gt;</th>\n",
       "      <th>sy</th>\n",
       "      <th>rxy</th>\n",
       "      <th>a</th>\n",
       "      <th>da</th>\n",
       "      <th>b</th>\n",
       "      <th>db</th>\n",
       "    </tr>\n",
       "  </thead>\n",
       "  <tbody>\n",
       "    <tr>\n",
       "      <th>0</th>\n",
       "      <td>0.027273</td>\n",
       "      <td>0.039256</td>\n",
       "      <td>0.246763</td>\n",
       "      <td>0.018926</td>\n",
       "      <td>0.026887</td>\n",
       "      <td>0.684911</td>\n",
       "      <td>0.038029</td>\n",
       "      <td>0.228084</td>\n",
       "      <td>0.007606</td>\n",
       "    </tr>\n",
       "  </tbody>\n",
       "</table>\n",
       "</div>"
      ],
      "text/plain": [
       "        <x>        sx       <y>        sy       rxy         a        da  \\\n",
       "0  0.027273  0.039256  0.246763  0.018926  0.026887  0.684911  0.038029   \n",
       "\n",
       "          b        db  \n",
       "0  0.228084  0.007606  "
      ]
     },
     "metadata": {},
     "output_type": "display_data"
    },
    {
     "name": "stdout",
     "output_type": "stream",
     "text": [
      "N=2882, V_0 = (-0.333 +- 0.022) В\n",
      "2824\n"
     ]
    },
    {
     "data": {
      "text/html": [
       "<div>\n",
       "<style scoped>\n",
       "    .dataframe tbody tr th:only-of-type {\n",
       "        vertical-align: middle;\n",
       "    }\n",
       "\n",
       "    .dataframe tbody tr th {\n",
       "        vertical-align: top;\n",
       "    }\n",
       "\n",
       "    .dataframe thead th {\n",
       "        text-align: right;\n",
       "    }\n",
       "</style>\n",
       "<table border=\"1\" class=\"dataframe\">\n",
       "  <thead>\n",
       "    <tr style=\"text-align: right;\">\n",
       "      <th></th>\n",
       "      <th>&lt;x&gt;</th>\n",
       "      <th>sx</th>\n",
       "      <th>&lt;y&gt;</th>\n",
       "      <th>sy</th>\n",
       "      <th>rxy</th>\n",
       "      <th>a</th>\n",
       "      <th>da</th>\n",
       "      <th>b</th>\n",
       "      <th>db</th>\n",
       "    </tr>\n",
       "  </thead>\n",
       "  <tbody>\n",
       "    <tr>\n",
       "      <th>0</th>\n",
       "      <td>-0.036364</td>\n",
       "      <td>0.032314</td>\n",
       "      <td>0.231177</td>\n",
       "      <td>0.016103</td>\n",
       "      <td>0.022565</td>\n",
       "      <td>0.698316</td>\n",
       "      <td>0.03444</td>\n",
       "      <td>0.25657</td>\n",
       "      <td>0.006316</td>\n",
       "    </tr>\n",
       "  </tbody>\n",
       "</table>\n",
       "</div>"
      ],
      "text/plain": [
       "        <x>        sx       <y>        sy       rxy         a       da  \\\n",
       "0 -0.036364  0.032314  0.231177  0.016103  0.022565  0.698316  0.03444   \n",
       "\n",
       "         b        db  \n",
       "0  0.25657  0.006316  "
      ]
     },
     "metadata": {},
     "output_type": "display_data"
    },
    {
     "name": "stdout",
     "output_type": "stream",
     "text": [
      "N=2824, V_0 = (-0.367 +- 0.020) В\n",
      "2992\n"
     ]
    },
    {
     "data": {
      "text/html": [
       "<div>\n",
       "<style scoped>\n",
       "    .dataframe tbody tr th:only-of-type {\n",
       "        vertical-align: middle;\n",
       "    }\n",
       "\n",
       "    .dataframe tbody tr th {\n",
       "        vertical-align: top;\n",
       "    }\n",
       "\n",
       "    .dataframe thead th {\n",
       "        text-align: right;\n",
       "    }\n",
       "</style>\n",
       "<table border=\"1\" class=\"dataframe\">\n",
       "  <thead>\n",
       "    <tr style=\"text-align: right;\">\n",
       "      <th></th>\n",
       "      <th>&lt;x&gt;</th>\n",
       "      <th>sx</th>\n",
       "      <th>&lt;y&gt;</th>\n",
       "      <th>sy</th>\n",
       "      <th>rxy</th>\n",
       "      <th>a</th>\n",
       "      <th>da</th>\n",
       "      <th>b</th>\n",
       "      <th>db</th>\n",
       "    </tr>\n",
       "  </thead>\n",
       "  <tbody>\n",
       "    <tr>\n",
       "      <th>0</th>\n",
       "      <td>0.158333</td>\n",
       "      <td>0.025347</td>\n",
       "      <td>0.277676</td>\n",
       "      <td>0.010396</td>\n",
       "      <td>0.016191</td>\n",
       "      <td>0.638782</td>\n",
       "      <td>0.02297</td>\n",
       "      <td>0.176535</td>\n",
       "      <td>0.005158</td>\n",
       "    </tr>\n",
       "  </tbody>\n",
       "</table>\n",
       "</div>"
      ],
      "text/plain": [
       "        <x>        sx       <y>        sy       rxy         a       da  \\\n",
       "0  0.158333  0.025347  0.277676  0.010396  0.016191  0.638782  0.02297   \n",
       "\n",
       "          b        db  \n",
       "0  0.176535  0.005158  "
      ]
     },
     "metadata": {},
     "output_type": "display_data"
    },
    {
     "name": "stdout",
     "output_type": "stream",
     "text": [
      "N=2992, V_0 = (-0.276 +- 0.013) В\n"
     ]
    },
    {
     "data": {
      "image/png": "[encoded data removed]",
      "text/plain": [
       "<Figure size 432x288 with 1 Axes>"
      ]
     },
     "metadata": {
      "needs_background": "light"
     },
     "output_type": "display_data"
    }
   ],
   "source": [
    "\n",
    "output = []\n",
    "def process(cols, begin, end, begin_interp, end_interp, x_min):\n",
    "    data = mipt.read_excel('data/5.1.1-stripped.xlsx', usecols=(cols), header=(0, 1)).dropna()\n",
    "    data = data.iloc[::-1]\n",
    "    # Extract N from header\n",
    "    m = re.compile(r\"N=(\\d+)\")\n",
    "    result = m.match(data.columns[0][0])\n",
    "    assert result != None, \"Wrong header syntax\"\n",
    "    N = int(result.group(1))\n",
    "    print(N)\n",
    "    # Remove top header\n",
    "    data = data[f'N={N}']\n",
    "    U_v = list(data['U_close'][begin:end])\n",
    "    U_i = list(data['U_i'    ][begin:end])\n",
    "\n",
    "    # Evaluate wavelen according to calibration\n",
    "\n",
    "    wavelen = float(N2wavelen(N))\n",
    "    \n",
    "    U_v_clean, U_i_clean, equ = mipt.plot(U_v, np.sqrt(U_i), begin=begin_interp, end=end_interp, x_min=x_min,\n",
    "                                          label=\"{:.0f} $\\AA$\".format(wavelen))\n",
    "    \n",
    "    res = mipt.mnk(U_v_clean, U_i_clean).data\n",
    "    display(res)\n",
    "    V_0 = - float(res['b'] / res['a'])\n",
    "    V_0_err = abs(V_0) * float(* np.sqrt((res['db']/res['b'])**2 + (res['da']/res['a'])**2))\n",
    "\n",
    "    output.append([wavelen, V_0, V_0_err])\n",
    "\n",
    "    print(\"N={}, V_0 = ({:0.3f} +- {:0.3f}) В\".format(N, V_0, V_0_err))\n",
    "\n",
    "\n",
    "process(('P', 'Q'), 0, 13, 0, 10, -0.54)\n",
    "process(('J', 'K'), 0, 14, 0, 10, -0.4)\n",
    "process(('M', 'N'), 0, 15, 0, 10, -0.47)\n",
    "process(('G', 'H'), 1, 14, 1, 6, -0.5)\n",
    "\n",
    "plt.xlabel(r'$V$, В')\n",
    "plt.ylabel(r'$\\sqrt{U_I}$, $\\sqrt{\\mathrm{В}}$')\n",
    "plt.legend()\n",
    "#plt.grid(True)\n",
    "plt.savefig('gen/iv.pdf')\n"
   ]
  },
  {
   "cell_type": "code",
   "execution_count": 157,
   "id": "a3cc8c81",
   "metadata": {
    "scrolled": false
   },
   "outputs": [
    {
     "ename": "ValueError",
     "evalue": "A value in x_new is below the interpolation range.",
     "output_type": "error",
     "traceback": [
      "\u001b[1;31m---------------------------------------------------------------------------\u001b[0m",
      "\u001b[1;31mValueError\u001b[0m                                Traceback (most recent call last)",
      "Input \u001b[1;32mIn [157]\u001b[0m, in \u001b[0;36m<module>\u001b[1;34m\u001b[0m\n\u001b[1;32m----> 1\u001b[0m \u001b[43mprocess\u001b[49m\u001b[43m(\u001b[49m\u001b[43m(\u001b[49m\u001b[38;5;124;43m'\u001b[39;49m\u001b[38;5;124;43mD\u001b[39;49m\u001b[38;5;124;43m'\u001b[39;49m\u001b[43m,\u001b[49m\u001b[43m \u001b[49m\u001b[38;5;124;43m'\u001b[39;49m\u001b[38;5;124;43mE\u001b[39;49m\u001b[38;5;124;43m'\u001b[39;49m\u001b[43m)\u001b[49m\u001b[43m,\u001b[49m\u001b[43m \u001b[49m\u001b[38;5;241;43m1\u001b[39;49m\u001b[43m,\u001b[49m\u001b[43m \u001b[49m\u001b[38;5;241;43m14\u001b[39;49m\u001b[43m,\u001b[49m\u001b[43m \u001b[49m\u001b[38;5;241;43m0\u001b[39;49m\u001b[43m,\u001b[49m\u001b[43m \u001b[49m\u001b[38;5;241;43m10\u001b[39;49m\u001b[43m,\u001b[49m\u001b[43m \u001b[49m\u001b[38;5;241;43m-\u001b[39;49m\u001b[38;5;241;43m0.8\u001b[39;49m\u001b[43m)\u001b[49m\n\u001b[0;32m      2\u001b[0m process((\u001b[38;5;124m'\u001b[39m\u001b[38;5;124mY\u001b[39m\u001b[38;5;124m'\u001b[39m, \u001b[38;5;124m'\u001b[39m\u001b[38;5;124mZ\u001b[39m\u001b[38;5;124m'\u001b[39m), \u001b[38;5;241m0\u001b[39m, \u001b[38;5;241m15\u001b[39m, \u001b[38;5;241m0\u001b[39m, \u001b[38;5;241m12\u001b[39m, \u001b[38;5;241m-\u001b[39m\u001b[38;5;241m0.63\u001b[39m)\n\u001b[0;32m      3\u001b[0m process((\u001b[38;5;124m'\u001b[39m\u001b[38;5;124mV\u001b[39m\u001b[38;5;124m'\u001b[39m, \u001b[38;5;124m'\u001b[39m\u001b[38;5;124mW\u001b[39m\u001b[38;5;124m'\u001b[39m), \u001b[38;5;241m0\u001b[39m, \u001b[38;5;241m15\u001b[39m, \u001b[38;5;241m0\u001b[39m, \u001b[38;5;241m13\u001b[39m, \u001b[38;5;241m-\u001b[39m\u001b[38;5;241m0.63\u001b[39m)\n",
      "Input \u001b[1;32mIn [156]\u001b[0m, in \u001b[0;36mprocess\u001b[1;34m(cols, begin, end, begin_interp, end_interp, x_min)\u001b[0m\n\u001b[0;32m     17\u001b[0m \u001b[38;5;66;03m# Evaluate wavelen according to calibration\u001b[39;00m\n\u001b[0;32m     18\u001b[0m wavelen \u001b[38;5;241m=\u001b[39m \u001b[38;5;28mfloat\u001b[39m(N2wavelen(N))\n\u001b[1;32m---> 20\u001b[0m U_v_clean, U_i_clean, equ \u001b[38;5;241m=\u001b[39m \u001b[43mmipt\u001b[49m\u001b[38;5;241;43m.\u001b[39;49m\u001b[43mplot\u001b[49m\u001b[43m(\u001b[49m\u001b[43mU_v\u001b[49m\u001b[43m,\u001b[49m\u001b[43m \u001b[49m\u001b[43mU_i\u001b[49m\u001b[43m,\u001b[49m\u001b[43m \u001b[49m\u001b[43mbegin\u001b[49m\u001b[38;5;241;43m=\u001b[39;49m\u001b[43mbegin_interp\u001b[49m\u001b[43m,\u001b[49m\u001b[43m \u001b[49m\u001b[43mend\u001b[49m\u001b[38;5;241;43m=\u001b[39;49m\u001b[43mend_interp\u001b[49m\u001b[43m,\u001b[49m\u001b[43m \u001b[49m\u001b[43mx_min\u001b[49m\u001b[38;5;241;43m=\u001b[39;49m\u001b[43mx_min\u001b[49m\u001b[43m,\u001b[49m\n\u001b[0;32m     21\u001b[0m \u001b[43m                                      \u001b[49m\u001b[43mlabel\u001b[49m\u001b[38;5;241;43m=\u001b[39;49m\u001b[38;5;124;43m\"\u001b[39;49m\u001b[38;5;132;43;01m{:.0f}\u001b[39;49;00m\u001b[38;5;124;43m $\u001b[39;49m\u001b[38;5;124;43m\\\u001b[39;49m\u001b[38;5;124;43mAA$\u001b[39;49m\u001b[38;5;124;43m\"\u001b[39;49m\u001b[38;5;241;43m.\u001b[39;49m\u001b[43mformat\u001b[49m\u001b[43m(\u001b[49m\u001b[43mwavelen\u001b[49m\u001b[43m)\u001b[49m\u001b[43m,\u001b[49m\u001b[43m \u001b[49m\u001b[43mfunc\u001b[49m\u001b[38;5;241;43m=\u001b[39;49m\u001b[43minterp\u001b[49m\u001b[43m)\u001b[49m\n\u001b[0;32m     24\u001b[0m plt\u001b[38;5;241m.\u001b[39mxlabel(\u001b[38;5;124mr\u001b[39m\u001b[38;5;124m'\u001b[39m\u001b[38;5;124m$V$, В\u001b[39m\u001b[38;5;124m'\u001b[39m)\n\u001b[0;32m     25\u001b[0m plt\u001b[38;5;241m.\u001b[39mylabel(\u001b[38;5;124mr\u001b[39m\u001b[38;5;124m'\u001b[39m\u001b[38;5;124m$\u001b[39m\u001b[38;5;124m\\\u001b[39m\u001b[38;5;124msqrt\u001b[39m\u001b[38;5;132;01m{U_I}\u001b[39;00m\u001b[38;5;124m$, $\u001b[39m\u001b[38;5;124m\\\u001b[39m\u001b[38;5;124msqrt\u001b[39m\u001b[38;5;124m{\u001b[39m\u001b[38;5;124m\\\u001b[39m\u001b[38;5;124mmathrm\u001b[39m\u001b[38;5;132;01m{В}\u001b[39;00m\u001b[38;5;124m}$\u001b[39m\u001b[38;5;124m'\u001b[39m)\n",
      "File \u001b[1;32mH:\\mipt_lab/lib\\miptlib.py:166\u001b[0m, in \u001b[0;36mplot\u001b[1;34m(x, y, label, color, xerr, yerr, begin, end, exclude, x_min, x_max, marker_size, linestyle, linewidth, func, unique_marker)\u001b[0m\n\u001b[0;32m    164\u001b[0m \u001b[38;5;28;01mif\u001b[39;00m (func \u001b[38;5;241m!=\u001b[39m \u001b[38;5;28;01mNone\u001b[39;00m \u001b[38;5;129;01mand\u001b[39;00m end \u001b[38;5;241m-\u001b[39m begin \u001b[38;5;241m+\u001b[39m \u001b[38;5;241m1\u001b[39m \u001b[38;5;241m>\u001b[39m\u001b[38;5;241m=\u001b[39m \u001b[38;5;241m2\u001b[39m):\n\u001b[0;32m    165\u001b[0m     equ \u001b[38;5;241m=\u001b[39m func(x_clean, y_clean)\n\u001b[1;32m--> 166\u001b[0m     p \u001b[38;5;241m=\u001b[39m plt\u001b[38;5;241m.\u001b[39mplot(x_space, \u001b[43mequ\u001b[49m\u001b[43m(\u001b[49m\u001b[43mx_space\u001b[49m\u001b[43m)\u001b[49m, label \u001b[38;5;241m=\u001b[39m label, c \u001b[38;5;241m=\u001b[39m color, linestyle \u001b[38;5;241m=\u001b[39m linestyle, linewidth \u001b[38;5;241m=\u001b[39m linewidth)\n\u001b[0;32m    167\u001b[0m \u001b[38;5;28;01melse\u001b[39;00m:\n\u001b[0;32m    168\u001b[0m     p \u001b[38;5;241m=\u001b[39m plt\u001b[38;5;241m.\u001b[39mplot([], [], label \u001b[38;5;241m=\u001b[39m label, c \u001b[38;5;241m=\u001b[39m color, linestyle \u001b[38;5;241m=\u001b[39m linestyle, linewidth \u001b[38;5;241m=\u001b[39m linewidth)\n",
      "File \u001b[1;32m~\\AppData\\Roaming\\Python\\Python310\\site-packages\\scipy\\interpolate\\polyint.py:78\u001b[0m, in \u001b[0;36m_Interpolator1D.__call__\u001b[1;34m(self, x)\u001b[0m\n\u001b[0;32m     57\u001b[0m \u001b[38;5;124;03m\"\"\"\u001b[39;00m\n\u001b[0;32m     58\u001b[0m \u001b[38;5;124;03mEvaluate the interpolant\u001b[39;00m\n\u001b[0;32m     59\u001b[0m \n\u001b[1;32m   (...)\u001b[0m\n\u001b[0;32m     75\u001b[0m \n\u001b[0;32m     76\u001b[0m \u001b[38;5;124;03m\"\"\"\u001b[39;00m\n\u001b[0;32m     77\u001b[0m x, x_shape \u001b[38;5;241m=\u001b[39m \u001b[38;5;28mself\u001b[39m\u001b[38;5;241m.\u001b[39m_prepare_x(x)\n\u001b[1;32m---> 78\u001b[0m y \u001b[38;5;241m=\u001b[39m \u001b[38;5;28;43mself\u001b[39;49m\u001b[38;5;241;43m.\u001b[39;49m\u001b[43m_evaluate\u001b[49m\u001b[43m(\u001b[49m\u001b[43mx\u001b[49m\u001b[43m)\u001b[49m\n\u001b[0;32m     79\u001b[0m \u001b[38;5;28;01mreturn\u001b[39;00m \u001b[38;5;28mself\u001b[39m\u001b[38;5;241m.\u001b[39m_finish_y(y, x_shape)\n",
      "File \u001b[1;32m~\\AppData\\Roaming\\Python\\Python310\\site-packages\\scipy\\interpolate\\interpolate.py:684\u001b[0m, in \u001b[0;36minterp1d._evaluate\u001b[1;34m(self, x_new)\u001b[0m\n\u001b[0;32m    682\u001b[0m y_new \u001b[38;5;241m=\u001b[39m \u001b[38;5;28mself\u001b[39m\u001b[38;5;241m.\u001b[39m_call(\u001b[38;5;28mself\u001b[39m, x_new)\n\u001b[0;32m    683\u001b[0m \u001b[38;5;28;01mif\u001b[39;00m \u001b[38;5;129;01mnot\u001b[39;00m \u001b[38;5;28mself\u001b[39m\u001b[38;5;241m.\u001b[39m_extrapolate:\n\u001b[1;32m--> 684\u001b[0m     below_bounds, above_bounds \u001b[38;5;241m=\u001b[39m \u001b[38;5;28;43mself\u001b[39;49m\u001b[38;5;241;43m.\u001b[39;49m\u001b[43m_check_bounds\u001b[49m\u001b[43m(\u001b[49m\u001b[43mx_new\u001b[49m\u001b[43m)\u001b[49m\n\u001b[0;32m    685\u001b[0m     \u001b[38;5;28;01mif\u001b[39;00m \u001b[38;5;28mlen\u001b[39m(y_new) \u001b[38;5;241m>\u001b[39m \u001b[38;5;241m0\u001b[39m:\n\u001b[0;32m    686\u001b[0m         \u001b[38;5;66;03m# Note fill_value must be broadcast up to the proper size\u001b[39;00m\n\u001b[0;32m    687\u001b[0m         \u001b[38;5;66;03m# and flattened to work here\u001b[39;00m\n\u001b[0;32m    688\u001b[0m         y_new[below_bounds] \u001b[38;5;241m=\u001b[39m \u001b[38;5;28mself\u001b[39m\u001b[38;5;241m.\u001b[39m_fill_value_below\n",
      "File \u001b[1;32m~\\AppData\\Roaming\\Python\\Python310\\site-packages\\scipy\\interpolate\\interpolate.py:713\u001b[0m, in \u001b[0;36minterp1d._check_bounds\u001b[1;34m(self, x_new)\u001b[0m\n\u001b[0;32m    711\u001b[0m \u001b[38;5;66;03m# !! Could provide more information about which values are out of bounds\u001b[39;00m\n\u001b[0;32m    712\u001b[0m \u001b[38;5;28;01mif\u001b[39;00m \u001b[38;5;28mself\u001b[39m\u001b[38;5;241m.\u001b[39mbounds_error \u001b[38;5;129;01mand\u001b[39;00m below_bounds\u001b[38;5;241m.\u001b[39many():\n\u001b[1;32m--> 713\u001b[0m     \u001b[38;5;28;01mraise\u001b[39;00m \u001b[38;5;167;01mValueError\u001b[39;00m(\u001b[38;5;124m\"\u001b[39m\u001b[38;5;124mA value in x_new is below the interpolation \u001b[39m\u001b[38;5;124m\"\u001b[39m\n\u001b[0;32m    714\u001b[0m                      \u001b[38;5;124m\"\u001b[39m\u001b[38;5;124mrange.\u001b[39m\u001b[38;5;124m\"\u001b[39m)\n\u001b[0;32m    715\u001b[0m \u001b[38;5;28;01mif\u001b[39;00m \u001b[38;5;28mself\u001b[39m\u001b[38;5;241m.\u001b[39mbounds_error \u001b[38;5;129;01mand\u001b[39;00m above_bounds\u001b[38;5;241m.\u001b[39many():\n\u001b[0;32m    716\u001b[0m     \u001b[38;5;28;01mraise\u001b[39;00m \u001b[38;5;167;01mValueError\u001b[39;00m(\u001b[38;5;124m\"\u001b[39m\u001b[38;5;124mA value in x_new is above the interpolation \u001b[39m\u001b[38;5;124m\"\u001b[39m\n\u001b[0;32m    717\u001b[0m                      \u001b[38;5;124m\"\u001b[39m\u001b[38;5;124mrange.\u001b[39m\u001b[38;5;124m\"\u001b[39m)\n",
      "\u001b[1;31mValueError\u001b[0m: A value in x_new is below the interpolation range."
     ]
    }
   ],
   "source": [
    "\n",
    "\n",
    "process(('D', 'E'), 1, 14, 0, 10, -0.8)\n",
    "process(('Y', 'Z'), 0, 15, 0, 12, -0.63)\n",
    "process(('V', 'W'), 0, 15, 0, 13, -0.63)\n",
    "process(('S', 'T'), 0, 15, 0, 10, -0.63)\n",
    "\n",
    "plt.xlabel(r'$V$, В')\n",
    "plt.ylabel(r'$\\sqrt{U_I}$, $\\sqrt{\\mathrm{В}}$')\n",
    "plt.legend()\n",
    "#plt.grid(True)\n",
    "plt.savefig('gen/iv2.pdf')"
   ]
  },
  {
   "cell_type": "code",
   "execution_count": 141,
   "id": "9de38b74",
   "metadata": {},
   "outputs": [
    {
     "data": {
      "text/plain": [
       "[[6334.42, -0.41762373989154067, 0.024231710945449854],\n",
       " [6678.28, -0.3330122704054367, 0.021568318705126644],\n",
       " [6506.53, -0.3674127289936253, 0.020252299779044705],\n",
       " [7032.41, -0.27636240492228287, 0.012804298367952485],\n",
       " [5400.56, -0.7859712295489698, 0.03858736884158641],\n",
       " [5944.83, -0.535568242119411, 0.028529497783429843],\n",
       " [6074.34, -0.4950199336218488, 0.027394881249857332],\n",
       " [6217.28, -0.4467654886281772, 0.02323049250301083]]"
      ]
     },
     "execution_count": 141,
     "metadata": {},
     "output_type": "execute_result"
    }
   ],
   "source": [
    "output"
   ]
  },
  {
   "cell_type": "markdown",
   "id": "751acf14",
   "metadata": {},
   "source": [
    "### V_0(omega)"
   ]
  },
  {
   "cell_type": "code",
   "execution_count": 144,
   "id": "e15785e5",
   "metadata": {
    "scrolled": true
   },
   "outputs": [
    {
     "data": {
      "text/html": [
       "<div>\n",
       "<style scoped>\n",
       "    .dataframe tbody tr th:only-of-type {\n",
       "        vertical-align: middle;\n",
       "    }\n",
       "\n",
       "    .dataframe tbody tr th {\n",
       "        vertical-align: top;\n",
       "    }\n",
       "\n",
       "    .dataframe thead th {\n",
       "        text-align: right;\n",
       "    }\n",
       "</style>\n",
       "<table border=\"1\" class=\"dataframe\">\n",
       "  <thead>\n",
       "    <tr style=\"text-align: right;\">\n",
       "      <th></th>\n",
       "      <th>&lt;x&gt;</th>\n",
       "      <th>sx</th>\n",
       "      <th>&lt;y&gt;</th>\n",
       "      <th>sy</th>\n",
       "      <th>rxy</th>\n",
       "      <th>a</th>\n",
       "      <th>da</th>\n",
       "      <th>b</th>\n",
       "      <th>db</th>\n",
       "    </tr>\n",
       "  </thead>\n",
       "  <tbody>\n",
       "    <tr>\n",
       "      <th>0</th>\n",
       "      <td>3.021456e+15</td>\n",
       "      <td>5.279516e+28</td>\n",
       "      <td>0.457217</td>\n",
       "      <td>0.021691</td>\n",
       "      <td>3.352365e+13</td>\n",
       "      <td>6.349759e-16</td>\n",
       "      <td>3.570413e-17</td>\n",
       "      <td>-1.461335</td>\n",
       "      <td>0.10819</td>\n",
       "    </tr>\n",
       "  </tbody>\n",
       "</table>\n",
       "</div>"
      ],
      "text/plain": [
       "            <x>            sx       <y>        sy           rxy             a  \\\n",
       "0  3.021456e+15  5.279516e+28  0.457217  0.021691  3.352365e+13  6.349759e-16   \n",
       "\n",
       "             da         b       db  \n",
       "0  3.570413e-17 -1.461335  0.10819  "
      ]
     },
     "metadata": {},
     "output_type": "display_data"
    },
    {
     "name": "stdout",
     "output_type": "stream",
     "text": [
      "W ~ 1.46 эВ, hbar = (1.02 +- 0.06)e-34 Дж*с\n"
     ]
    },
    {
     "data": {
      "image/png": "[encoded data removed]",
      "text/plain": [
       "<Figure size 432x288 with 1 Axes>"
      ]
     },
     "metadata": {
      "needs_background": "light"
     },
     "output_type": "display_data"
    }
   ],
   "source": [
    "# Unzip output\n",
    "wavelen, V_0, V_0_err = [np.array(i) for i in zip(*output)]\n",
    "\n",
    "omega = (2 * np.pi * consts.c) / (wavelen / 1.0e10)\n",
    "\n",
    "wavelen_clean, V_0_clean, _ = mipt.plot(omega, abs(V_0), yerr=V_0_err, xerr=10/2500*omega)\n",
    "\n",
    "plt.xlabel(r\"$\\omega$, Гц\")\n",
    "plt.ylabel(r\"$V_0$, В\")\n",
    "#plt.grid(True)\n",
    "plt.savefig('gen/v0_omega.pdf')\n",
    "\n",
    "mnk = mipt.mnk(wavelen_clean, V_0_clean).data\n",
    "display(mnk)\n",
    "\n",
    "hbar = float(mnk['a']) * consts.e\n",
    "hbar_err = float(mnk['da']/mnk['a']) * hbar\n",
    "W = - float(mnk['b']) # эВ\n",
    "\n",
    "print(\"W ~ {:.2f} эВ, hbar = ({:.2f} +- {:.2f})e-34 Дж*с\".format(W, hbar*1e34, hbar_err*1e34))"
   ]
  },
  {
   "cell_type": "code",
   "execution_count": 156,
   "id": "0aa8b006",
   "metadata": {},
   "outputs": [
    {
     "name": "stderr",
     "output_type": "stream",
     "text": [
      "C:\\Users\\Quark\\AppData\\Roaming\\Python\\Python310\\site-packages\\numpy\\core\\_methods.py:44: RuntimeWarning: invalid value encountered in reduce\n",
      "  return umr_minimum(a, axis, None, out, keepdims, initial, where)\n",
      "C:\\Users\\Quark\\AppData\\Roaming\\Python\\Python310\\site-packages\\numpy\\core\\_methods.py:40: RuntimeWarning: invalid value encountered in reduce\n",
      "  return umr_maximum(a, axis, None, out, keepdims, initial, where)\n"
     ]
    },
    {
     "data": {
      "image/png": "[encoded data removed]",
      "text/plain": [
       "<Figure size 432x288 with 1 Axes>"
      ]
     },
     "metadata": {
      "needs_background": "light"
     },
     "output_type": "display_data"
    },
    {
     "name": "stderr",
     "output_type": "stream",
     "text": [
      "C:\\Users\\Quark\\AppData\\Roaming\\Python\\Python310\\site-packages\\numpy\\core\\_methods.py:44: RuntimeWarning: invalid value encountered in reduce\n",
      "  return umr_minimum(a, axis, None, out, keepdims, initial, where)\n",
      "C:\\Users\\Quark\\AppData\\Roaming\\Python\\Python310\\site-packages\\numpy\\core\\_methods.py:40: RuntimeWarning: invalid value encountered in reduce\n",
      "  return umr_maximum(a, axis, None, out, keepdims, initial, where)\n"
     ]
    },
    {
     "data": {
      "image/png": "[encoded data removed]",
      "text/plain": [
       "<Figure size 432x288 with 1 Axes>"
      ]
     },
     "metadata": {
      "needs_background": "light"
     },
     "output_type": "display_data"
    },
    {
     "name": "stderr",
     "output_type": "stream",
     "text": [
      "C:\\Users\\Quark\\AppData\\Roaming\\Python\\Python310\\site-packages\\numpy\\core\\_methods.py:44: RuntimeWarning: invalid value encountered in reduce\n",
      "  return umr_minimum(a, axis, None, out, keepdims, initial, where)\n",
      "C:\\Users\\Quark\\AppData\\Roaming\\Python\\Python310\\site-packages\\numpy\\core\\_methods.py:40: RuntimeWarning: invalid value encountered in reduce\n",
      "  return umr_maximum(a, axis, None, out, keepdims, initial, where)\n"
     ]
    },
    {
     "data": {
      "image/png": "[encoded data removed]",
      "text/plain": [
       "<Figure size 432x288 with 1 Axes>"
      ]
     },
     "metadata": {
      "needs_background": "light"
     },
     "output_type": "display_data"
    },
    {
     "name": "stderr",
     "output_type": "stream",
     "text": [
      "C:\\Users\\Quark\\AppData\\Roaming\\Python\\Python310\\site-packages\\numpy\\core\\_methods.py:44: RuntimeWarning: invalid value encountered in reduce\n",
      "  return umr_minimum(a, axis, None, out, keepdims, initial, where)\n",
      "C:\\Users\\Quark\\AppData\\Roaming\\Python\\Python310\\site-packages\\numpy\\core\\_methods.py:40: RuntimeWarning: invalid value encountered in reduce\n",
      "  return umr_maximum(a, axis, None, out, keepdims, initial, where)\n"
     ]
    },
    {
     "data": {
      "image/png": "[encoded data removed]",
      "text/plain": [
       "<Figure size 432x288 with 1 Axes>"
      ]
     },
     "metadata": {
      "needs_background": "light"
     },
     "output_type": "display_data"
    },
    {
     "name": "stderr",
     "output_type": "stream",
     "text": [
      "C:\\Users\\Quark\\AppData\\Roaming\\Python\\Python310\\site-packages\\numpy\\core\\_methods.py:44: RuntimeWarning: invalid value encountered in reduce\n",
      "  return umr_minimum(a, axis, None, out, keepdims, initial, where)\n",
      "C:\\Users\\Quark\\AppData\\Roaming\\Python\\Python310\\site-packages\\numpy\\core\\_methods.py:40: RuntimeWarning: invalid value encountered in reduce\n",
      "  return umr_maximum(a, axis, None, out, keepdims, initial, where)\n"
     ]
    },
    {
     "data": {
      "image/png": "[encoded data removed]",
      "text/plain": [
       "<Figure size 432x288 with 1 Axes>"
      ]
     },
     "metadata": {
      "needs_background": "light"
     },
     "output_type": "display_data"
    },
    {
     "name": "stderr",
     "output_type": "stream",
     "text": [
      "C:\\Users\\Quark\\AppData\\Roaming\\Python\\Python310\\site-packages\\numpy\\core\\_methods.py:44: RuntimeWarning: invalid value encountered in reduce\n",
      "  return umr_minimum(a, axis, None, out, keepdims, initial, where)\n",
      "C:\\Users\\Quark\\AppData\\Roaming\\Python\\Python310\\site-packages\\numpy\\core\\_methods.py:40: RuntimeWarning: invalid value encountered in reduce\n",
      "  return umr_maximum(a, axis, None, out, keepdims, initial, where)\n"
     ]
    },
    {
     "data": {
      "image/png": "[encoded data removed]",
      "text/plain": [
       "<Figure size 432x288 with 1 Axes>"
      ]
     },
     "metadata": {
      "needs_background": "light"
     },
     "output_type": "display_data"
    },
    {
     "name": "stderr",
     "output_type": "stream",
     "text": [
      "C:\\Users\\Quark\\AppData\\Roaming\\Python\\Python310\\site-packages\\numpy\\core\\_methods.py:44: RuntimeWarning: invalid value encountered in reduce\n",
      "  return umr_minimum(a, axis, None, out, keepdims, initial, where)\n",
      "C:\\Users\\Quark\\AppData\\Roaming\\Python\\Python310\\site-packages\\numpy\\core\\_methods.py:40: RuntimeWarning: invalid value encountered in reduce\n",
      "  return umr_maximum(a, axis, None, out, keepdims, initial, where)\n"
     ]
    },
    {
     "data": {
      "image/png": "[encoded data removed]",
      "text/plain": [
       "<Figure size 432x288 with 1 Axes>"
      ]
     },
     "metadata": {
      "needs_background": "light"
     },
     "output_type": "display_data"
    },
    {
     "data": {
      "image/png": "[encoded data removed]",
      "text/plain": [
       "<Figure size 432x288 with 1 Axes>"
      ]
     },
     "metadata": {
      "needs_background": "light"
     },
     "output_type": "display_data"
    }
   ],
   "source": [
    "\n",
    "def interp(x, y):\n",
    "    return sp.interpolate.interp1d(x, y, kind='cubic')\n",
    "\n",
    "def process(cols, begin, end, begin_interp, end_interp, x_min):\n",
    "    data = mipt.read_excel('data/5.1.1-stripped.xlsx', usecols=(cols), header=(0, 1))\n",
    "    # Extract N from header\n",
    "    m = re.compile(r\"N=(\\d+)\")\n",
    "    result = m.match(data.columns[0][0])\n",
    "    assert result != None, \"Wrong header syntax\"\n",
    "    N = int(result.group(1))\n",
    "\n",
    "    # Remove top header\n",
    "    data = data[f'N={N}']\n",
    "    U_v = list(data['U_close'][begin:end])\n",
    "    U_i = list(data['U_i'    ][begin:end])\n",
    "\n",
    "    # Evaluate wavelen according to calibration\n",
    "    wavelen = float(N2wavelen(N))\n",
    "    \n",
    "    U_v_clean, U_i_clean, equ = mipt.plot(U_v, U_i, begin=begin_interp, end=end_interp, x_min=x_min,\n",
    "                                          label=\"{:.0f} $\\AA$\".format(wavelen), func=interp)\n",
    "    \n",
    "   \n",
    "    plt.xlabel(r'$V$, В')\n",
    "    plt.ylabel(r'$\\sqrt{U_I}$, $\\sqrt{\\mathrm{В}}$')\n",
    "    plt.legend()\n",
    "\n",
    "    plt.savefig('gen/iv_full_{}.pdf'.format(N))\n",
    "    plt.show()\n",
    "\n",
    "process(('D', 'E'), 0, None, 0, None, None)\n",
    "process(('G', 'H'), 0, None, 0, None, None)\n",
    "process(('J', 'K'), 0, None, 0, None, None)\n",
    "process(('M', 'N'), 0, None, 0, None, None)\n",
    "process(('P', 'Q'), 0, None, 0, None, None)\n",
    "process(('S', 'T'), 0, None, 0, None, None)\n",
    "process(('V', 'W'), 0, None, 0, None, None)\n",
    "process(('Y', 'Z'), 0, None, 0, None, None)\n",
    "\n",
    "#plt.grid(True)\n",
    "\n"
   ]
  },
  {
   "cell_type": "code",
   "execution_count": null,
   "id": "85000362",
   "metadata": {},
   "outputs": [],
   "source": []
  },
  {
   "cell_type": "code",
   "execution_count": null,
   "id": "c389bb9c",
   "metadata": {},
   "outputs": [],
   "source": []
  }
 ],
 "metadata": {
  "kernelspec": {
   "display_name": "Python 3 (ipykernel)",
   "language": "python",
   "name": "python3"
  },
  "language_info": {
   "codemirror_mode": {
    "name": "ipython",
    "version": 3
   },
   "file_extension": ".py",
   "mimetype": "text/x-python",
   "name": "python",
   "nbconvert_exporter": "python",
   "pygments_lexer": "ipython3",
   "version": "3.10.2"
  }
 },
 "nbformat": 4,
 "nbformat_minor": 5
}
