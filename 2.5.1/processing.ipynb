{
 "cells": [
  {
   "cell_type": "code",
   "execution_count": 143,
   "id": "7cd15581",
   "metadata": {},
   "outputs": [],
   "source": [
    "import numpy as np\n",
    "import pandas as pd\n",
    "import matplotlib.pyplot as plt\n",
    "import scipy as sp\n",
    "import scipy.optimize as op\n",
    "from scipy.interpolate import UnivariateSpline\n",
    "import copy "
   ]
  },
  {
   "cell_type": "code",
   "execution_count": 144,
   "id": "41868543",
   "metadata": {
    "scrolled": true
   },
   "outputs": [
    {
     "data": {
      "text/html": [
       "<div>\n",
       "<style scoped>\n",
       "    .dataframe tbody tr th:only-of-type {\n",
       "        vertical-align: middle;\n",
       "    }\n",
       "\n",
       "    .dataframe tbody tr th {\n",
       "        vertical-align: top;\n",
       "    }\n",
       "\n",
       "    .dataframe thead th {\n",
       "        text-align: right;\n",
       "    }\n",
       "</style>\n",
       "<table border=\"1\" class=\"dataframe\">\n",
       "  <thead>\n",
       "    <tr style=\"text-align: right;\">\n",
       "      <th></th>\n",
       "      <th>T</th>\n",
       "      <th>p_av</th>\n",
       "    </tr>\n",
       "  </thead>\n",
       "  <tbody>\n",
       "    <tr>\n",
       "      <th>0</th>\n",
       "      <td>20.7</td>\n",
       "      <td>153.027171</td>\n",
       "    </tr>\n",
       "    <tr>\n",
       "      <th>1</th>\n",
       "      <td>25.0</td>\n",
       "      <td>151.121284</td>\n",
       "    </tr>\n",
       "    <tr>\n",
       "      <th>2</th>\n",
       "      <td>30.0</td>\n",
       "      <td>156.044825</td>\n",
       "    </tr>\n",
       "    <tr>\n",
       "      <th>3</th>\n",
       "      <td>35.0</td>\n",
       "      <td>162.397781</td>\n",
       "    </tr>\n",
       "    <tr>\n",
       "      <th>4</th>\n",
       "      <td>40.0</td>\n",
       "      <td>161.921309</td>\n",
       "    </tr>\n",
       "    <tr>\n",
       "      <th>5</th>\n",
       "      <td>50.0</td>\n",
       "      <td>159.380127</td>\n",
       "    </tr>\n",
       "    <tr>\n",
       "      <th>6</th>\n",
       "      <td>60.0</td>\n",
       "      <td>153.980114</td>\n",
       "    </tr>\n",
       "  </tbody>\n",
       "</table>\n",
       "</div>"
      ],
      "text/plain": [
       "      T        p_av\n",
       "0  20.7  153.027171\n",
       "1  25.0  151.121284\n",
       "2  30.0  156.044825\n",
       "3  35.0  162.397781\n",
       "4  40.0  161.921309\n",
       "5  50.0  159.380127\n",
       "6  60.0  153.980114"
      ]
     },
     "execution_count": 144,
     "metadata": {},
     "output_type": "execute_result"
    }
   ],
   "source": [
    "data = pd.read_excel(\"251.ods\", engine='odf', usecols=\"I, J\", nrows = 7)\n",
    "data.head(10)"
   ]
  },
  {
   "cell_type": "code",
   "execution_count": 145,
   "id": "1381ddbf",
   "metadata": {},
   "outputs": [],
   "source": [
    "def lin_plot(x, y, color, marker = '.'):\n",
    "    coeffs = np.polyfit(x, y, 1)\n",
    "    equ = lambda x: coeffs[0] * x + coeffs[1]\n",
    "    \n",
    "    # plt.scatter(x, y, marker=marker, color = color)\n",
    "    x_space = np.linspace(min(x)/1.01, max(x)*1.01, 100)\n",
    "    plt.plot(x_space, equ(x_space), color = color)"
   ]
  },
  {
   "cell_type": "code",
   "execution_count": 146,
   "id": "5c267504",
   "metadata": {},
   "outputs": [],
   "source": [
    "def least_sq(x, y):\n",
    "    sx = (x**2).mean() - (x.mean())**2\n",
    "    sy = (y**2).mean() - (y.mean())**2\n",
    "    rxy = (y*x).mean() - (y.mean() * x.mean())\n",
    "    a = rxy / sx\n",
    "    da = (1/(len(x) - 2) * (sy/sx - a**2))**(0.5)\n",
    "    b = y.mean() - a * x.mean()\n",
    "    db = da*(sx + (x.mean())**2)**(1/2)\n",
    "    dat = pd.DataFrame({\n",
    "        '$\\overline{x}$' : [x.mean()],\n",
    "        '$\\sigma_x^2$'   : [sx],\n",
    "        '$\\overline{y}$' : [y.mean()],\n",
    "        '$\\sigma_y^2$'   : [sy],\n",
    "        '$r_{xy}$'       : [rxy],\n",
    "        '$a$'            : [a],\n",
    "        '$\\Delta a$'     : [da],\n",
    "        '$b$'            : [b],\n",
    "        '$\\Delta b$'     : [db],\n",
    "    })\n",
    "    return dat, [x.mean(), sx, y.mean(), sy, rxy, a, da, b, db]"
   ]
  },
  {
   "cell_type": "code",
   "execution_count": 147,
   "id": "1f31a2a4",
   "metadata": {},
   "outputs": [
    {
     "name": "stdout",
     "output_type": "stream",
     "text": [
      "0    46.673287\n",
      "1    46.091992\n",
      "2    47.593672\n",
      "3    49.531323\n",
      "4    49.385999\n",
      "5    48.610939\n",
      "6    46.963935\n",
      "Name: p_av, dtype: float64\n"
     ]
    }
   ],
   "source": [
    "T = data['T'].dropna()\n",
    "p = data['p_av'].dropna()\n",
    "r = 0.61                  # mm\n",
    "sgm = p*r/2               # Pa * mm = mN\n",
    "print(sgm)\n",
    "\n",
    "sgm_clean = sgm.drop([0, 1, 2])\n",
    "T_clean   =   T.drop([0, 1, 2])\n"
   ]
  },
  {
   "cell_type": "code",
   "execution_count": 148,
   "id": "9fa31fba",
   "metadata": {},
   "outputs": [],
   "source": [
    "out = pd.read_excel(\"251.ods\", engine = 'odf', usecols=\"I:T\")\n",
    "out = out.dropna()\n",
    "\n",
    "# array for replacing names for latex document\n",
    "rng = np.arange(1, 15)\n",
    "names = dict([\n",
    "    (\"P_{}\".format(i), r\"$p_{{{0}}}, \\text{{Па}}$\".format(i)) for i in rng\n",
    "])\n",
    "names['p_av'] = r\"$p_{av}, \\text{Па}$\"\n",
    "names['T']    = r\"$T, ^{\\circ}\\text{C}$\"\n",
    "\n",
    "# set number format for latex document\n",
    "out_fmt = dict([\n",
    "    (names[\"P_{}\".format(i)], \"{:.1f}\") for i in rng\n",
    "])\n",
    "out_fmt[names['T']]    = \"{:.1f}\"\n",
    "out_fmt[names['p_av']] = \"{:.1f}\"\n",
    "\n",
    "# convert to latex\n",
    "latex = out.rename(\n",
    "            columns=(names)\n",
    "        ).style.hide(level=0, axis=0).format(out_fmt).to_latex(\n",
    "            buf = 'T_p_raw.tex',\n",
    "            # label = 'tab:linear',\n",
    "            # caption = r'Зависимость $p(T)$',\n",
    "            column_format=\"c\" * rng.size,\n",
    "            # position_float = 'centering',\n",
    "            hrules=True,\n",
    "            multicol_align = 'c',\n",
    "            environment = ''\n",
    "        )\n"
   ]
  },
  {
   "cell_type": "code",
   "execution_count": 149,
   "id": "db163f6d",
   "metadata": {
    "scrolled": true
   },
   "outputs": [
    {
     "data": {
      "image/png": "[encoded data removed]",
      "text/plain": [
       "<Figure size 432x288 with 1 Axes>"
      ]
     },
     "metadata": {
      "needs_background": "light"
     },
     "output_type": "display_data"
    }
   ],
   "source": [
    "# x_spc = np.linspace(T_up.min(), T_up.max(), 100)\n",
    "# spline = UnivariateSpline(T_up, p_up, s=1000000)\n",
    "# plt.plot(x_spc, spline(x_spc), c='orange')\n",
    "\n",
    "# plt.errorbar(T_up, p_up, yerr=100, xerr=0.2, fmt='none', c='orange', label='Нагрев', )\n",
    "plt.errorbar(T, sgm, xerr=0.2, yerr=0.05*sgm, fmt='.', c='blue')\n",
    "\n",
    "lin_plot(T_clean, sgm_clean, 'blue')\n",
    "\n",
    "plt.title(\"$\\sigma \\; (T)$\")\n",
    "plt.ylabel(r\"$ \\sigma, мН/м^2$\")\n",
    "plt.xlabel(r\"$ T, ^{\\circ} C$\")\n",
    "plt.grid(True)\n",
    "\n",
    "plt.savefig(\"sgm_T.pdf\")"
   ]
  },
  {
   "cell_type": "code",
   "execution_count": 150,
   "id": "816528d8",
   "metadata": {},
   "outputs": [],
   "source": [
    "out = pd.DataFrame({'T' : T, 'p' : p, 'sgm' : sgm})\n",
    "\n",
    "names = {\n",
    "    'T'   : r\"$T, ^{\\circ}\\text{C}$\",\n",
    "    'p'   : r\"$p, \\text{Па}$\",\n",
    "    'sgm' : r\"$\\sigma, \\text{мН}/\\text{м}$\"\n",
    "}\n",
    "\n",
    "out_fmt = {\n",
    "    names['T']   : \"{:.1f}\",\n",
    "    names['p']   : \"{:.1f}\",\n",
    "    names['sgm'] : \"{:.1f}\",\n",
    "}\n",
    "\n",
    "latex = out.rename(\n",
    "            columns=(names)\n",
    "        ).style.hide(level=0, axis=0).format(out_fmt).to_latex(\n",
    "            buf = 'T_p_sgm.tex',\n",
    "            # label = 'tab:linear',\n",
    "            # caption = r'Зависимость $\\overline{p}(T)$',\n",
    "            column_format=\"c\" * 3 ,\n",
    "            # position_float = 'centering',\n",
    "            hrules=True,\n",
    "            multicol_align = 'c',\n",
    "            environment = ''\n",
    "        )\n"
   ]
  },
  {
   "cell_type": "code",
   "execution_count": 151,
   "id": "03ca9d7b",
   "metadata": {
    "scrolled": true
   },
   "outputs": [
    {
     "name": "stdout",
     "output_type": "stream",
     "text": [
      "\\begin{tabular}{rrrrrrrrr}\n",
      "$\\overline{x}$ & $\\sigma_x^2$ & $\\overline{y}$ & $\\sigma_y^2$ & $r_{xy}$ & $a$ & $\\Delta a$ & $b$ & $\\Delta b$ \\\\\n",
      "4.62e+01 & 9.22e+01 & 48.62 & 1.04e+00 & -9.46e+00 & -0.10 & 0.02 & 53.37 & 0.91 \\\\\n",
      "\\end{tabular}\n",
      "\n"
     ]
    },
    {
     "data": {
      "text/html": [
       "<div>\n",
       "<style scoped>\n",
       "    .dataframe tbody tr th:only-of-type {\n",
       "        vertical-align: middle;\n",
       "    }\n",
       "\n",
       "    .dataframe tbody tr th {\n",
       "        vertical-align: top;\n",
       "    }\n",
       "\n",
       "    .dataframe thead th {\n",
       "        text-align: right;\n",
       "    }\n",
       "</style>\n",
       "<table border=\"1\" class=\"dataframe\">\n",
       "  <thead>\n",
       "    <tr style=\"text-align: right;\">\n",
       "      <th></th>\n",
       "      <th>$\\overline{x}$</th>\n",
       "      <th>$\\sigma_x^2$</th>\n",
       "      <th>$\\overline{y}$</th>\n",
       "      <th>$\\sigma_y^2$</th>\n",
       "      <th>$r_{xy}$</th>\n",
       "      <th>$a$</th>\n",
       "      <th>$\\Delta a$</th>\n",
       "      <th>$b$</th>\n",
       "      <th>$\\Delta b$</th>\n",
       "    </tr>\n",
       "  </thead>\n",
       "  <tbody>\n",
       "    <tr>\n",
       "      <th>0</th>\n",
       "      <td>46.25</td>\n",
       "      <td>92.1875</td>\n",
       "      <td>48.623049</td>\n",
       "      <td>1.039965</td>\n",
       "      <td>-9.461189</td>\n",
       "      <td>-0.10263</td>\n",
       "      <td>0.01934</td>\n",
       "      <td>53.36968</td>\n",
       "      <td>0.913561</td>\n",
       "    </tr>\n",
       "  </tbody>\n",
       "</table>\n",
       "</div>"
      ],
      "text/plain": [
       "   $\\overline{x}$  $\\sigma_x^2$  $\\overline{y}$  $\\sigma_y^2$  $r_{xy}$  \\\n",
       "0           46.25       92.1875       48.623049      1.039965 -9.461189   \n",
       "\n",
       "       $a$  $\\Delta a$       $b$  $\\Delta b$  \n",
       "0 -0.10263     0.01934  53.36968    0.913561  "
      ]
     },
     "execution_count": 151,
     "metadata": {},
     "output_type": "execute_result"
    }
   ],
   "source": [
    "mnk_fmt = {\n",
    "        '$\\overline{x}$' : \"{:.2e}\",\n",
    "        '$\\sigma_x^2$'   : \"{:.2e}\",\n",
    "        '$\\overline{y}$' : \"{:.2f}\",\n",
    "        '$\\sigma_y^2$'   : \"{:.2e}\",\n",
    "        '$r_{xy}$'       : \"{:.2e}\",\n",
    "        '$a$'            : \"{:.2f}\",\n",
    "        '$\\Delta a$'     : \"{:.2f}\",\n",
    "        '$b$'            : \"{:.2f}\",\n",
    "        '$\\Delta b$'     : \"{:.2f}\",\n",
    "}\n",
    "\n",
    "df, dat = least_sq(T_clean, sgm_clean)\n",
    "\n",
    "dsgmdT = dat[5] # 'a' coeff\n",
    "\n",
    "latex = df.style.hide(level=0, axis=0).format(mnk_fmt).to_latex()\n",
    "print(latex)\n",
    "df"
   ]
  },
  {
   "cell_type": "markdown",
   "id": "4f191ef4",
   "metadata": {},
   "source": [
    "## Графики q(T) и U/F(T)"
   ]
  },
  {
   "cell_type": "code",
   "execution_count": 152,
   "id": "bf9ea3e9",
   "metadata": {},
   "outputs": [],
   "source": [
    "q = -T_clean*dsgmdT\n",
    "U_F = sgm_clean - T_clean*dsgmdT"
   ]
  },
  {
   "cell_type": "code",
   "execution_count": 153,
   "id": "e078554b",
   "metadata": {
    "scrolled": true
   },
   "outputs": [
    {
     "data": {
      "image/png": "[encoded data removed]",
      "text/plain": [
       "<Figure size 432x288 with 1 Axes>"
      ]
     },
     "metadata": {
      "needs_background": "light"
     },
     "output_type": "display_data"
    }
   ],
   "source": [
    "lin_plot(T_clean, q, 'blue')\n",
    "plt.errorbar(T_clean, q, xerr=0.2, yerr=0.2*q, fmt='.', c='blue')\n",
    "\n",
    "plt.title(\"$q \\; (T)$\")\n",
    "plt.ylabel(r\"$ q, мДж/м^2$\")\n",
    "plt.xlabel(r\"$ T, ^{\\circ} C$\")\n",
    "plt.grid(True)\n",
    "\n",
    "plt.savefig(\"q_T.pdf\")"
   ]
  },
  {
   "cell_type": "code",
   "execution_count": 154,
   "id": "45130132",
   "metadata": {
    "scrolled": false
   },
   "outputs": [
    {
     "data": {
      "image/png": "[encoded data removed]",
      "text/plain": [
       "<Figure size 432x288 with 1 Axes>"
      ]
     },
     "metadata": {
      "needs_background": "light"
     },
     "output_type": "display_data"
    }
   ],
   "source": [
    "lin_plot(T_clean, U_F, 'blue')\n",
    "plt.errorbar(T_clean, U_F, xerr=0.2, yerr=0.2*U_F, fmt='.', c='blue')\n",
    "\n",
    "plt.title(\"$U/F \\; (T)$\")\n",
    "plt.ylabel(r\"$ U/F, мДж/м^2$\")\n",
    "plt.xlabel(r\"$ T, ^{\\circ} C$\")\n",
    "plt.grid(True)\n",
    "\n",
    "plt.savefig(\"U_F_T.pdf\")"
   ]
  },
  {
   "cell_type": "code",
   "execution_count": 155,
   "id": "513e48e7",
   "metadata": {},
   "outputs": [],
   "source": [
    "out = pd.DataFrame({'T' : T_clean, 'q' : q, 'U_F' : U_F})\n",
    "\n",
    "names = {\n",
    "    'T'   : r\"$T, ^{\\circ}\\text{C}$\",\n",
    "    'q'   : r\"$q, \\text{мДж}/\\text{м}^2$\",\n",
    "    'U_F' : r\"$U/F, \\text{мДж}/\\text{м}^2$\"\n",
    "}\n",
    "\n",
    "out_fmt = {\n",
    "    names['T']   : \"{:.1f}\",\n",
    "    names['q']   : \"{:.2f}\",\n",
    "    names['U_F'] : \"{:.1f}\",\n",
    "}\n",
    "\n",
    "latex = out.rename(\n",
    "            columns=(names)\n",
    "        ).style.hide(level=0, axis=0).format(out_fmt).to_latex(\n",
    "            buf = 'T_q_U_F.tex',\n",
    "            # label = 'tab:linear',\n",
    "            # caption = r'Зависимости $q(T), \\; U/F(T)$',\n",
    "            column_format=\"c\" * 3,\n",
    "            # position_float = 'centering',\n",
    "            hrules=True,\n",
    "            multicol_align = 'c',\n",
    "            environment = ''\n",
    "        )\n"
   ]
  },
  {
   "cell_type": "code",
   "execution_count": null,
   "id": "7bbd4d85",
   "metadata": {},
   "outputs": [],
   "source": []
  }
 ],
 "metadata": {
  "kernelspec": {
   "display_name": "Python 3 (ipykernel)",
   "language": "python",
   "name": "python3"
  },
  "language_info": {
   "codemirror_mode": {
    "name": "ipython",
    "version": 3
   },
   "file_extension": ".py",
   "mimetype": "text/x-python",
   "name": "python",
   "nbconvert_exporter": "python",
   "pygments_lexer": "ipython3",
   "version": "3.10.2"
  }
 },
 "nbformat": 4,
 "nbformat_minor": 5
}
