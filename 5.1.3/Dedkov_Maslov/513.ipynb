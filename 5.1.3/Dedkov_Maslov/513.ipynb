{
 "cells": [
  {
   "cell_type": "code",
   "execution_count": 1,
   "id": "8ca882d1",
   "metadata": {},
   "outputs": [],
   "source": [
    "import numpy as np\n",
    "import pandas as pd\n",
    "import matplotlib.pyplot as plt\n",
    "import math\n",
    "import scipy as sp\n",
    "import scipy.optimize as op\n",
    "from scipy.interpolate import UnivariateSpline\n",
    "import copy\n",
    "import re\n",
    "\n",
    "# Adding library directory to python search path\n",
    "import os\n",
    "import sys\n",
    "import git\n",
    "repo = git.Repo('.', search_parent_directories=True)\n",
    "library_dir = repo.working_tree_dir + '/lib'\n",
    "sys.path.insert(0, library_dir)\n",
    "\n",
    "import miptlib as mipt\n",
    "\n",
    "# Create directory for generated .tex and .pdf\n",
    "if not os.path.exists('gen'):\n",
    "    os.mkdir('gen')\n"
   ]
  },
  {
   "cell_type": "code",
   "execution_count": 13,
   "id": "39f29360",
   "metadata": {},
   "outputs": [],
   "source": [
    "class consts:\n",
    "    c = 3e8\n",
    "    e = 1.6e-19\n",
    "    m_e = 9.1e-31 # kg\n",
    "    h = 6.626e-34 # J * s\n",
    "    hbar = 1.054e-34 # J * s\n",
    "class setup:\n",
    "    dummy = 0\n"
   ]
  },
  {
   "cell_type": "markdown",
   "id": "9dfb3430",
   "metadata": {},
   "source": [
    "### Dynamic"
   ]
  },
  {
   "cell_type": "code",
   "execution_count": 247,
   "id": "878267b6",
   "metadata": {},
   "outputs": [
    {
     "name": "stdout",
     "output_type": "stream",
     "text": [
      "l = (3.2 +- 0.57) Angstrem\n",
      "l = (3.1 +- 0.54) Angstrem\n",
      "l = (3.2 +- 0.61) Angstrem\n"
     ]
    }
   ],
   "source": [
    "# Из фоток (см. ms_2.51 и тд.)\n",
    "\n",
    "dyn = {\n",
    "    'V' : (2.51,    2.77,    2.97),\n",
    "    'V_min' : (6.8,     7.1,     6.5),\n",
    "    'V_max' : (2.1,     2.2,     2),\n",
    "    'V_br'  : (13.1,    12.3,    11.0),\n",
    "}\n",
    "\n",
    "def get_l_U0(V_max, V_min, V_max_err = 0, V_min_err = 0):\n",
    "    l = consts.h * np.sqrt(5/32) / np.sqrt(consts.m_e * consts.e * (V_min - V_max)) # лабник формула (10)\n",
    "    epsilon_diff = np.sqrt(V_max_err**2 + V_min_err**2) / abs(V_max - V_min)\n",
    "    l_err = l * 0.5 * epsilon_diff\n",
    "    print(f\"l = ({l * 1e10:.1f} +- {l_err * 1e10:.2f}) Angstrem\")\n",
    "\n",
    "    #U0 = 4/5 * V_min - 9/5 * V_max\n",
    "    #print(f\"U0 = {U0} eV\")\n",
    "    return l * 1e10, l_err * 1e10\n",
    "\n",
    "def export_MMM( data, V_error, name):\n",
    "\n",
    "    arr_l = []\n",
    "    arr_l_err = []\n",
    "    arr_V_err = []\n",
    "\n",
    "    for i in range(len(data)):\n",
    "        __l, __l_err = get_l_U0(data['V_max'][i], data['V_min'][i], V_error, V_error)\n",
    "\n",
    "        arr_V_err.append(V_error)\n",
    "        arr_l.append(__l)\n",
    "        arr_l_err.append(__l_err)\n",
    "\n",
    "    data.insert(4, 'dV', arr_V_err)\n",
    "    data.insert(5, 'l', arr_l)\n",
    "    data.insert(6, 'dl', arr_l_err)\n",
    "\n",
    "    fmt = {\n",
    "        ('V') : [r'$V, В$', '{:.1f}', 0],\n",
    "        ('V_min') : [r'$V_{\\text{min}}, В$', '{:.1f}', 0],\n",
    "        ('V_max') : [r'$V_{\\text{max}}, В$', '{:.1f}', 0],\n",
    "        ('V_br') : [r'$V_{\\text{break}}, В$', '{:.1f}', 0],\n",
    "        ('dV') : [r'$\\sigma_V, В$', '{:.1f}', 0],\n",
    "        ('l') : [r'$l$, А', '{:.1f}', 0],\n",
    "        ('dl') : [r'$\\sigma_l$, А', '{:.1f}', 0],\n",
    "    }\n",
    "\n",
    "    tab = mipt.table(data, fmt)\n",
    "    tab.to_latex(name)\n",
    "    return data, tab\n",
    "\n",
    "\n",
    "error = 3 / 5 * 2 #В, возьмем пару цен\n",
    "dyn_data = pd.DataFrame(dyn)\n",
    "d, tab = export_MMM(dyn_data, error, 'gen/tab-dyn.tex')\n"
   ]
  },
  {
   "cell_type": "markdown",
   "id": "b48a4278",
   "metadata": {},
   "source": [
    "### Static"
   ]
  },
  {
   "cell_type": "code",
   "execution_count": 248,
   "id": "7de1ea26",
   "metadata": {},
   "outputs": [],
   "source": [
    "R = 100 # kOm\n",
    "\n",
    "def get_data(filename):\n",
    "    data = pd.read_excel(filename)\n",
    "    fmt = {\n",
    "        'V_ks(V)' : 'V_k',\n",
    "        'V_a(mV)' : 'V_a',\n",
    "    }\n",
    "\n",
    "    data = mipt.map_excel(data, fmt)\n",
    "    data['I'] = data['V_a'] / 100 # mkA\n",
    "    return data\n",
    "\n",
    "data1 = get_data('data/2.52V.xlsx').sort_values(by=\"V_k\")\n",
    "data2 = get_data('data/2.75V.xlsx').sort_values(by=\"V_k\")\n",
    "\n",
    "data1\n",
    "\n",
    "# Для погрешностей используем последнюю цифру разряда. Т.к. там у нас значение скакало\n",
    "\n",
    "df = data1\n",
    "\n",
    "def export_df(df, name, costil):\n",
    "    df.insert(1, 'dV_k', df['V_k'] * 0.0003 + 0.01)\n",
    "    df.insert(3, 'dV_a', df['V_a'] * 0.0003 + 0.1)\n",
    "    df.insert(5, 'dI', df['dV_a'] / 100)\n",
    "\n",
    "    keys = [r'$V=2.52$, В', r'$V=2.75$, В']\n",
    "\n",
    "    df = pd.concat([df], axis='columns', keys=[keys[costil]])\n",
    "\n",
    "    fmt = {(key, 'V_k')  : [r'$V_{\\text{катод}}$, В',  '{:.3f}'] for key in keys} \\\n",
    "        | {(key, 'dV_k') : [r'$\\sigma_{V_{\\text{катод}}}$, В',  '{:.3f}'] for key in keys} \\\n",
    "        | {(key, 'V_a')  : [r'$V_{\\text{анод}}$, мВ',  '{:.2f}'] for key in keys} \\\n",
    "        | {(key, 'dV_a') : [r'$\\sigma_{V_{\\text{анод}}}$, мВ',  '{:.2f}'] for key in keys} \\\n",
    "        | {(key, 'I')    : [r'$I_{\\text{анод}}$, мкА', '{:.4f}'] for key in keys} \\\n",
    "        | {(key, 'dI')   : [r'$\\sigma_{I_{\\text{анод}}}$, мкА',  '{:.4f}'] for key in keys}\n",
    "\n",
    "\n",
    "    tab = mipt.table(df, fmt)\n",
    "    tab.to_latex(name)\n",
    "    \n",
    "    \n",
    "export_df(data1, 'gen/tab-2.52V.tex', costil=0)\n",
    "export_df(data2, 'gen/tab-2.75V.tex', costil=1)"
   ]
  },
  {
   "cell_type": "code",
   "execution_count": 249,
   "id": "d9ad3827",
   "metadata": {
    "scrolled": true
   },
   "outputs": [
    {
     "name": "stdout",
     "output_type": "stream",
     "text": [
      "$V_{накала} = 2.52$ В\n",
      "$V_{накала} = 2.75$ В\n"
     ]
    },
    {
     "data": {
      "image/png": "[encoded data removed]",
      "text/plain": [
       "<Figure size 432x288 with 1 Axes>"
      ]
     },
     "metadata": {
      "needs_background": "light"
     },
     "output_type": "display_data"
    }
   ],
   "source": [
    "def process(data, label, color, drawmax=False, drawmin=False):\n",
    "    print(label)\n",
    "    x = np.array(data['V_k']) # V\n",
    "    y = np.array(data['I'])   # mkA\n",
    "    mipt.plot(x, y, func=None, color=color)\n",
    "\n",
    "    plt.scatter(x, y, label=label, c = color, s=10)\n",
    "\n",
    "    maxV = np.argmax(y[:len(y)//2])\n",
    "    minV = np.argmin(y[len(y)//2:]) + len(y)//2\n",
    "    if drawmax: plt.axvline(x[maxV], linestyle=':', c=color)\n",
    "    if drawmin: plt.axvline(x[minV], linestyle=':', c=color)\n",
    "\n",
    "    #print(f\"V_max = {x[maxV]} V, V_min = {x[minV]} V\")\n",
    "    #print(f\"I_max = {y[maxV]} mkA, I_min = {y[minV]} mkA\")\n",
    "\n",
    "    return x[maxV], x[minV]\n",
    "\n",
    "V_max, V_min = process(data1, \"$V_{накала} = 2.52$ В\", 'blue')\n",
    "#V_max_err = 0.1\n",
    "#V_min_err = 0.2\n",
    "#l, U0 = get_l_U0(V_max, V_min, V_max_err, V_min_err)\n",
    "\n",
    "process(data2, \"$V_{накала} = 2.75$ В\", 'orange', drawmin=False)\n",
    "\n",
    "plt.xlabel(r'$V_{катод}$, В')\n",
    "plt.ylabel(r'$I_{анод}$, мкА')\n",
    "plt.legend()\n",
    "plt.grid()\n",
    "plt.savefig('gen/static.pdf')\n"
   ]
  },
  {
   "cell_type": "code",
   "execution_count": 250,
   "id": "23e09c64",
   "metadata": {
    "scrolled": true
   },
   "outputs": [
    {
     "name": "stdout",
     "output_type": "stream",
     "text": [
      "l = (3.0 +- 0.42) Angstrem\n",
      "l = (3.0 +- 0.42) Angstrem\n"
     ]
    }
   ],
   "source": [
    "st = {\n",
    "    'V' :     (2.52,    2.75),\n",
    "    'V_min' : (7.1,     7.2),\n",
    "    'V_max' : (2.0,     2.1),\n",
    "    'V_br'  : (10,      11),\n",
    "}\n",
    "\n",
    "error = 1 #В\n",
    "st_data = pd.DataFrame(st)\n",
    "d, tab = export_MMM(st_data, error, 'gen/tab-st.tex')"
   ]
  },
  {
   "cell_type": "code",
   "execution_count": 251,
   "id": "27d6055b",
   "metadata": {},
   "outputs": [
    {
     "data": {
      "text/plain": [
       "12.5"
      ]
     },
     "execution_count": 251,
     "metadata": {},
     "output_type": "execute_result"
    }
   ],
   "source": [
    "# Потенциал ионизации\n",
    "I = 10 + 2.5 # U_break + U_0 (=2.5 В по методичке)\n",
    "I"
   ]
  },
  {
   "cell_type": "code",
   "execution_count": 252,
   "id": "1574bbaf",
   "metadata": {},
   "outputs": [
    {
     "data": {
      "image/png": "[encoded data removed]",
      "text/plain": [
       "<Figure size 432x288 with 1 Axes>"
      ]
     },
     "metadata": {
      "needs_background": "light"
     },
     "output_type": "display_data"
    }
   ],
   "source": [
    "def probability(data, label, color, start, end=None):\n",
    "    x = np.array(data['V_k'])\n",
    "    y = np.array(data['I'])\n",
    "    if end == None: end = len(x)\n",
    "    x = np.array(x[start:end])    # V\n",
    "    y = -np.log(0.6 * y[start:end]) # Этот 0.6 вообще никакого смысла не имеет (это я выбрал I_0). \n",
    "                                    # Просто, чтобы не проходило через отрицательные значения\n",
    "    y = y / max(y)\n",
    "\n",
    "    mipt.plot(x, y, func=None, color=color)\n",
    "    plt.scatter(x, y, label=label, c = color, s=10)\n",
    "    return None\n",
    "\n",
    "probability(data1, \"$V_{накала} = 2.52$ В\", 'blue', start=0)\n",
    "probability(data2, \"$V_{накала} = 2.75$ В\", 'orange', start=0)\n",
    "plt.legend()\n",
    "plt.grid()\n",
    "plt.xlabel(r'$V_{катод}$, В')\n",
    "plt.ylabel(r'$w$, усл. ед.')\n",
    "plt.savefig(f'gen/probability.pdf')\n",
    "plt.show()\n"
   ]
  },
  {
   "cell_type": "code",
   "execution_count": null,
   "id": "b97831b9",
   "metadata": {},
   "outputs": [],
   "source": []
  },
  {
   "cell_type": "code",
   "execution_count": null,
   "id": "6c7499cb",
   "metadata": {},
   "outputs": [],
   "source": []
  }
 ],
 "metadata": {
  "kernelspec": {
   "display_name": "Python 3 (ipykernel)",
   "language": "python",
   "name": "python3"
  },
  "language_info": {
   "codemirror_mode": {
    "name": "ipython",
    "version": 3
   },
   "file_extension": ".py",
   "mimetype": "text/x-python",
   "name": "python",
   "nbconvert_exporter": "python",
   "pygments_lexer": "ipython3",
   "version": "3.10.2"
  }
 },
 "nbformat": 4,
 "nbformat_minor": 5
}
